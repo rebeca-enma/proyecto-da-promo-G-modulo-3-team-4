{
 "cells": [
  {
   "cell_type": "markdown",
   "metadata": {},
   "source": [
    "## Fase 4: Problema de A/B Testing"
   ]
  },
  {
   "cell_type": "code",
   "execution_count": 1,
   "metadata": {},
   "outputs": [],
   "source": [
    "# Importaciones necesarias\n",
    "import pandas as pd\n",
    "from scipy.stats import chi2_contingency"
   ]
  },
  {
   "cell_type": "code",
   "execution_count": 5,
   "metadata": {},
   "outputs": [],
   "source": [
    "# Cargar el conjunto de datos\n",
    "dfab = pd.read_csv(\"DATA/df_clean_sin_duplicados.csv\",index_col=0)"
   ]
  },
  {
   "cell_type": "code",
   "execution_count": 8,
   "metadata": {},
   "outputs": [],
   "source": [
    "# Crear grupos A y B\n",
    "grupo_A = dfab[dfab[\"JOBSATISFACTION\"] >= 3]  # Grupo A: satisfacción en el trabajo igual o superior a 3\n",
    "grupo_B = dfab[dfab[\"JOBSATISFACTION\"] < 3]   # Grupo B: satisfacción en el trabajo inferior a 3"
   ]
  },
  {
   "cell_type": "code",
   "execution_count": 9,
   "metadata": {},
   "outputs": [
    {
     "name": "stdout",
     "output_type": "stream",
     "text": [
      "Tasa de rotación en el grupo A: 0.0 %\n",
      "Tasa de rotación en el grupo B: 0.0 %\n"
     ]
    }
   ],
   "source": [
    "# Calcular la tasa de rotación en cada grupo\n",
    "tasa_rotacion_A = (grupo_A[\"ATTRITION\"] == \"Yes\").mean() * 100\n",
    "tasa_rotacion_B = (grupo_B[\"ATTRITION\"] == \"Yes\").mean() * 100\n",
    "\n",
    "print(\"Tasa de rotación en el grupo A:\", tasa_rotacion_A, \"%\")\n",
    "print(\"Tasa de rotación en el grupo B:\", tasa_rotacion_B, \"%\")"
   ]
  },
  {
   "cell_type": "code",
   "execution_count": 12,
   "metadata": {},
   "outputs": [
    {
     "data": {
      "text/html": [
       "<div>\n",
       "<style scoped>\n",
       "    .dataframe tbody tr th:only-of-type {\n",
       "        vertical-align: middle;\n",
       "    }\n",
       "\n",
       "    .dataframe tbody tr th {\n",
       "        vertical-align: top;\n",
       "    }\n",
       "\n",
       "    .dataframe thead th {\n",
       "        text-align: right;\n",
       "    }\n",
       "</style>\n",
       "<table border=\"1\" class=\"dataframe\">\n",
       "  <thead>\n",
       "    <tr style=\"text-align: right;\">\n",
       "      <th>JOBSATISFACTION</th>\n",
       "      <th>1</th>\n",
       "      <th>2</th>\n",
       "      <th>3</th>\n",
       "      <th>4</th>\n",
       "    </tr>\n",
       "    <tr>\n",
       "      <th>ATTRITION</th>\n",
       "      <th></th>\n",
       "      <th></th>\n",
       "      <th></th>\n",
       "      <th></th>\n",
       "    </tr>\n",
       "  </thead>\n",
       "  <tbody>\n",
       "    <tr>\n",
       "      <th>0</th>\n",
       "      <td>237</td>\n",
       "      <td>247</td>\n",
       "      <td>390</td>\n",
       "      <td>433</td>\n",
       "    </tr>\n",
       "    <tr>\n",
       "      <th>1</th>\n",
       "      <td>69</td>\n",
       "      <td>52</td>\n",
       "      <td>76</td>\n",
       "      <td>57</td>\n",
       "    </tr>\n",
       "  </tbody>\n",
       "</table>\n",
       "</div>"
      ],
      "text/plain": [
       "JOBSATISFACTION    1    2    3    4\n",
       "ATTRITION                          \n",
       "0                237  247  390  433\n",
       "1                 69   52   76   57"
      ]
     },
     "execution_count": 12,
     "metadata": {},
     "output_type": "execute_result"
    }
   ],
   "source": [
    "# Crear una tabla de contingencia\n",
    "tabla_contingencia = pd.crosstab(dfab[\"ATTRITION\"], dfab[\"JOBSATISFACTION\"])\n",
    "tabla_contingencia"
   ]
  },
  {
   "cell_type": "code",
   "execution_count": 13,
   "metadata": {},
   "outputs": [
    {
     "name": "stdout",
     "output_type": "stream",
     "text": [
      "Valor p de la prueba de chi-cuadrado: 0.0007529570519802747\n"
     ]
    }
   ],
   "source": [
    "# Realizar la prueba de chi-cuadrado\n",
    "chi2, p, dof, expected = chi2_contingency(tabla_contingencia)\n",
    "\n",
    "print(\"Valor p de la prueba de chi-cuadrado:\", p)"
   ]
  },
  {
   "cell_type": "code",
   "execution_count": null,
   "metadata": {},
   "outputs": [],
   "source": [
    "# Analizar los resultados\n",
    "# El valor p obtenido de la prueba de chi-cuadrado nos indicará si hay una asociación significativa entre el nivel de satisfacción en el trabajo y la rotación de empleados.\n",
    "# Si el valor p es menor que un umbral de significancia (por ejemplo, 0.05), podemos concluir que hay una asociación significativa."
   ]
  }
 ],
 "metadata": {
  "kernelspec": {
   "display_name": "base",
   "language": "python",
   "name": "python3"
  },
  "language_info": {
   "codemirror_mode": {
    "name": "ipython",
    "version": 3
   },
   "file_extension": ".py",
   "mimetype": "text/x-python",
   "name": "python",
   "nbconvert_exporter": "python",
   "pygments_lexer": "ipython3",
   "version": "3.9.12"
  }
 },
 "nbformat": 4,
 "nbformat_minor": 2
}
