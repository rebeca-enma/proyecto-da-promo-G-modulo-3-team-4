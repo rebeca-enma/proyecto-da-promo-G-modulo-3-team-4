{
 "cells": [
  {
   "cell_type": "code",
   "execution_count": 73,
   "metadata": {},
   "outputs": [],
   "source": [
    "# Importar librería para la conexión con MySQL\n",
    "# -----------------------------------------------------------------------\n",
    "import mysql.connector\n",
    "from mysql.connector import errorcode\n",
    "\n",
    "\n",
    "# Importar librerías para manipulación y análisis de datos\n",
    "# -----------------------------------------------------------------------\n",
    "import pandas as pd\n",
    "import numpy as np\n",
    "\n",
    "from tqdm import tqdm"
   ]
  },
  {
   "cell_type": "markdown",
   "metadata": {},
   "source": [
    "----\n",
    "**Registro**"
   ]
  },
  {
   "cell_type": "code",
   "execution_count": 74,
   "metadata": {},
   "outputs": [],
   "source": [
    "df = pd.read_csv(\"../DATA/df_clean_sin_duplicados.csv\",index_col=0)"
   ]
  },
  {
   "cell_type": "code",
   "execution_count": 75,
   "metadata": {},
   "outputs": [
    {
     "data": {
      "text/html": [
       "<div>\n",
       "<style scoped>\n",
       "    .dataframe tbody tr th:only-of-type {\n",
       "        vertical-align: middle;\n",
       "    }\n",
       "\n",
       "    .dataframe tbody tr th {\n",
       "        vertical-align: top;\n",
       "    }\n",
       "\n",
       "    .dataframe thead th {\n",
       "        text-align: right;\n",
       "    }\n",
       "</style>\n",
       "<table border=\"1\" class=\"dataframe\">\n",
       "  <thead>\n",
       "    <tr style=\"text-align: right;\">\n",
       "      <th></th>\n",
       "      <th>AGE</th>\n",
       "      <th>ATTRITION</th>\n",
       "      <th>BUSINESSTRAVEL</th>\n",
       "      <th>DEPARTMENT</th>\n",
       "      <th>DISTANCEFROMHOME</th>\n",
       "      <th>EDUCATION</th>\n",
       "      <th>EDUCATIONFIELD</th>\n",
       "      <th>EMPLOYEENUMBER</th>\n",
       "      <th>ENVIRONMENTSATISFACTION</th>\n",
       "      <th>GENDER</th>\n",
       "      <th>...</th>\n",
       "      <th>STOCKOPTIONLEVEL</th>\n",
       "      <th>TRAININGTIMESLASTYEAR</th>\n",
       "      <th>WORKLIFEBALANCE</th>\n",
       "      <th>YEARSATCOMPANY</th>\n",
       "      <th>YEARSSINCELASTPROMOTION</th>\n",
       "      <th>YEARSWITHCURRMANAGER</th>\n",
       "      <th>REMOTEWORK</th>\n",
       "      <th>DAILYRATE</th>\n",
       "      <th>PERFORMANCERATING</th>\n",
       "      <th>TOTALWORKINGYEARS</th>\n",
       "    </tr>\n",
       "  </thead>\n",
       "  <tbody>\n",
       "    <tr>\n",
       "      <th>0</th>\n",
       "      <td>51.0</td>\n",
       "      <td>0</td>\n",
       "      <td>Unknown</td>\n",
       "      <td>Unknown</td>\n",
       "      <td>6</td>\n",
       "      <td>3</td>\n",
       "      <td>Unknown</td>\n",
       "      <td>162.0</td>\n",
       "      <td>1</td>\n",
       "      <td>male</td>\n",
       "      <td>...</td>\n",
       "      <td>0</td>\n",
       "      <td>5</td>\n",
       "      <td>3.0</td>\n",
       "      <td>20</td>\n",
       "      <td>15</td>\n",
       "      <td>15</td>\n",
       "      <td>1</td>\n",
       "      <td>684.0</td>\n",
       "      <td>3.0</td>\n",
       "      <td>11.223167</td>\n",
       "    </tr>\n",
       "    <tr>\n",
       "      <th>1</th>\n",
       "      <td>52.0</td>\n",
       "      <td>0</td>\n",
       "      <td>Unknown</td>\n",
       "      <td>Unknown</td>\n",
       "      <td>1</td>\n",
       "      <td>4</td>\n",
       "      <td>life sciences</td>\n",
       "      <td>259.0</td>\n",
       "      <td>3</td>\n",
       "      <td>male</td>\n",
       "      <td>...</td>\n",
       "      <td>1</td>\n",
       "      <td>5</td>\n",
       "      <td>3.0</td>\n",
       "      <td>33</td>\n",
       "      <td>11</td>\n",
       "      <td>9</td>\n",
       "      <td>1</td>\n",
       "      <td>699.0</td>\n",
       "      <td>3.0</td>\n",
       "      <td>34.000000</td>\n",
       "    </tr>\n",
       "    <tr>\n",
       "      <th>2</th>\n",
       "      <td>42.0</td>\n",
       "      <td>0</td>\n",
       "      <td>travel rarely</td>\n",
       "      <td>research &amp; development</td>\n",
       "      <td>4</td>\n",
       "      <td>2</td>\n",
       "      <td>technical degree</td>\n",
       "      <td>319.0</td>\n",
       "      <td>3</td>\n",
       "      <td>male</td>\n",
       "      <td>...</td>\n",
       "      <td>0</td>\n",
       "      <td>3</td>\n",
       "      <td>3.0</td>\n",
       "      <td>22</td>\n",
       "      <td>11</td>\n",
       "      <td>15</td>\n",
       "      <td>1</td>\n",
       "      <td>532.0</td>\n",
       "      <td>3.0</td>\n",
       "      <td>22.000000</td>\n",
       "    </tr>\n",
       "    <tr>\n",
       "      <th>3</th>\n",
       "      <td>47.0</td>\n",
       "      <td>0</td>\n",
       "      <td>travel rarely</td>\n",
       "      <td>Unknown</td>\n",
       "      <td>2</td>\n",
       "      <td>4</td>\n",
       "      <td>medical</td>\n",
       "      <td>Unknown</td>\n",
       "      <td>1</td>\n",
       "      <td>female</td>\n",
       "      <td>...</td>\n",
       "      <td>2</td>\n",
       "      <td>2</td>\n",
       "      <td>3.0</td>\n",
       "      <td>20</td>\n",
       "      <td>5</td>\n",
       "      <td>6</td>\n",
       "      <td>0</td>\n",
       "      <td>359.0</td>\n",
       "      <td>3.0</td>\n",
       "      <td>10.971828</td>\n",
       "    </tr>\n",
       "    <tr>\n",
       "      <th>4</th>\n",
       "      <td>46.0</td>\n",
       "      <td>0</td>\n",
       "      <td>Unknown</td>\n",
       "      <td>Unknown</td>\n",
       "      <td>3</td>\n",
       "      <td>3</td>\n",
       "      <td>technical degree</td>\n",
       "      <td>Unknown</td>\n",
       "      <td>1</td>\n",
       "      <td>female</td>\n",
       "      <td>...</td>\n",
       "      <td>1</td>\n",
       "      <td>5</td>\n",
       "      <td>3.0</td>\n",
       "      <td>19</td>\n",
       "      <td>2</td>\n",
       "      <td>8</td>\n",
       "      <td>0</td>\n",
       "      <td>1319.0</td>\n",
       "      <td>3.0</td>\n",
       "      <td>11.714245</td>\n",
       "    </tr>\n",
       "  </tbody>\n",
       "</table>\n",
       "<p>5 rows × 32 columns</p>\n",
       "</div>"
      ],
      "text/plain": [
       "    AGE  ATTRITION BUSINESSTRAVEL              DEPARTMENT  DISTANCEFROMHOME  \\\n",
       "0  51.0          0        Unknown                 Unknown                 6   \n",
       "1  52.0          0        Unknown                 Unknown                 1   \n",
       "2  42.0          0  travel rarely  research & development                 4   \n",
       "3  47.0          0  travel rarely                 Unknown                 2   \n",
       "4  46.0          0        Unknown                 Unknown                 3   \n",
       "\n",
       "   EDUCATION    EDUCATIONFIELD EMPLOYEENUMBER  ENVIRONMENTSATISFACTION  \\\n",
       "0          3           Unknown          162.0                        1   \n",
       "1          4     life sciences          259.0                        3   \n",
       "2          2  technical degree          319.0                        3   \n",
       "3          4           medical        Unknown                        1   \n",
       "4          3  technical degree        Unknown                        1   \n",
       "\n",
       "   GENDER  ...  STOCKOPTIONLEVEL  TRAININGTIMESLASTYEAR  WORKLIFEBALANCE  \\\n",
       "0    male  ...                 0                      5              3.0   \n",
       "1    male  ...                 1                      5              3.0   \n",
       "2    male  ...                 0                      3              3.0   \n",
       "3  female  ...                 2                      2              3.0   \n",
       "4  female  ...                 1                      5              3.0   \n",
       "\n",
       "  YEARSATCOMPANY  YEARSSINCELASTPROMOTION YEARSWITHCURRMANAGER  REMOTEWORK  \\\n",
       "0             20                       15                   15           1   \n",
       "1             33                       11                    9           1   \n",
       "2             22                       11                   15           1   \n",
       "3             20                        5                    6           0   \n",
       "4             19                        2                    8           0   \n",
       "\n",
       "   DAILYRATE  PERFORMANCERATING  TOTALWORKINGYEARS  \n",
       "0      684.0                3.0          11.223167  \n",
       "1      699.0                3.0          34.000000  \n",
       "2      532.0                3.0          22.000000  \n",
       "3      359.0                3.0          10.971828  \n",
       "4     1319.0                3.0          11.714245  \n",
       "\n",
       "[5 rows x 32 columns]"
      ]
     },
     "execution_count": 75,
     "metadata": {},
     "output_type": "execute_result"
    }
   ],
   "source": [
    "df.head()"
   ]
  },
  {
   "cell_type": "code",
   "execution_count": 77,
   "metadata": {},
   "outputs": [],
   "source": [
    "def ejecutar_query(query,valores):\n",
    "    cnx = mysql.connector.connect(\n",
    "    user='root', password='AlumnaAdalab',\n",
    "    host='127.0.0.1', database='RAW_DATA')\n",
    "\n",
    "    mycursor = cnx.cursor()\n",
    "\n",
    "    \n",
    "    try:\n",
    "        mycursor.execute(query,valores)\n",
    "        cnx.commit()  # Confirma la transacción\n",
    "        print(\"Query ejecutada correctamente.\")\n",
    "\n",
    "    except mysql.connector.Error as err:\n",
    "        cnx.rollback()  # Revierte la transacción si hay un error\n",
    "        print(\"Error al ejecutar la query:\", err)\n",
    "\n",
    "    # Cierra el cursor y la conexión a la base de datos\n",
    "    mycursor.close()\n",
    "    cnx.close()"
   ]
  },
  {
   "cell_type": "code",
   "execution_count": 78,
   "metadata": {},
   "outputs": [],
   "source": [
    "def procesamiento_valor(row,nombre_columna):\n",
    "    tipo_columna =  df[nombre_columna].dtype\n",
    "\n",
    "    if nombre_columna == \"EMPLOYEENUMBER\" and row[nombre_columna] == \"Unknown\":\n",
    "        return 0\n",
    "    \n",
    "    if tipo_columna == \"int64\":\n",
    "        return int(row[nombre_columna])\n",
    "    \n",
    "    elif tipo_columna == \"float64\":\n",
    "        return float(row[nombre_columna])\n",
    "    \n",
    "    return row[nombre_columna]"
   ]
  },
  {
   "cell_type": "code",
   "execution_count": 79,
   "metadata": {},
   "outputs": [
    {
     "name": "stderr",
     "output_type": "stream",
     "text": [
      "Insertando registros:   0%|          | 0/1560 [00:00<?, ?it/s]"
     ]
    },
    {
     "name": "stdout",
     "output_type": "stream",
     "text": [
      "Query ejecutada correctamente.\n",
      "Query ejecutada correctamente.\n"
     ]
    },
    {
     "name": "stderr",
     "output_type": "stream",
     "text": [
      "Insertando registros:   0%|          | 1/1560 [00:02<1:02:37,  2.41s/it]"
     ]
    },
    {
     "name": "stdout",
     "output_type": "stream",
     "text": [
      "Query ejecutada correctamente.\n",
      "Query ejecutada correctamente.\n",
      "Query ejecutada correctamente.\n"
     ]
    },
    {
     "name": "stderr",
     "output_type": "stream",
     "text": [
      "Insertando registros:   0%|          | 2/1560 [00:04<1:01:48,  2.38s/it]"
     ]
    },
    {
     "name": "stdout",
     "output_type": "stream",
     "text": [
      "Query ejecutada correctamente.\n",
      "Query ejecutada correctamente.\n",
      "Query ejecutada correctamente.\n"
     ]
    },
    {
     "name": "stderr",
     "output_type": "stream",
     "text": [
      "Insertando registros:   0%|          | 3/1560 [00:07<1:01:20,  2.36s/it]"
     ]
    },
    {
     "name": "stdout",
     "output_type": "stream",
     "text": [
      "Query ejecutada correctamente.\n",
      "Query ejecutada correctamente.\n",
      "Query ejecutada correctamente.\n"
     ]
    },
    {
     "name": "stderr",
     "output_type": "stream",
     "text": [
      "Insertando registros:   0%|          | 4/1560 [00:09<1:01:19,  2.36s/it]"
     ]
    },
    {
     "name": "stdout",
     "output_type": "stream",
     "text": [
      "Query ejecutada correctamente.\n"
     ]
    },
    {
     "name": "stderr",
     "output_type": "stream",
     "text": [
      "Insertando registros:   0%|          | 5/1560 [00:10<46:35,  1.80s/it]  "
     ]
    },
    {
     "name": "stdout",
     "output_type": "stream",
     "text": [
      "Query ejecutada correctamente.\n",
      "Query ejecutada correctamente.\n",
      "Query ejecutada correctamente.\n"
     ]
    },
    {
     "name": "stderr",
     "output_type": "stream",
     "text": [
      "Insertando registros:   0%|          | 6/1560 [00:12<51:27,  1.99s/it]"
     ]
    },
    {
     "name": "stdout",
     "output_type": "stream",
     "text": [
      "Query ejecutada correctamente.\n",
      "Query ejecutada correctamente.\n",
      "Query ejecutada correctamente.\n"
     ]
    },
    {
     "name": "stderr",
     "output_type": "stream",
     "text": [
      "Insertando registros:   0%|          | 7/1560 [00:14<54:41,  2.11s/it]"
     ]
    },
    {
     "name": "stdout",
     "output_type": "stream",
     "text": [
      "Query ejecutada correctamente.\n",
      "Query ejecutada correctamente.\n",
      "Query ejecutada correctamente.\n"
     ]
    },
    {
     "name": "stderr",
     "output_type": "stream",
     "text": [
      "Insertando registros:   1%|          | 8/1560 [00:17<56:10,  2.17s/it]"
     ]
    },
    {
     "name": "stdout",
     "output_type": "stream",
     "text": [
      "Query ejecutada correctamente.\n"
     ]
    },
    {
     "name": "stderr",
     "output_type": "stream",
     "text": [
      "Insertando registros:   1%|          | 9/1560 [00:18<45:00,  1.74s/it]"
     ]
    },
    {
     "name": "stdout",
     "output_type": "stream",
     "text": [
      "Query ejecutada correctamente.\n",
      "Query ejecutada correctamente.\n",
      "Query ejecutada correctamente.\n"
     ]
    },
    {
     "name": "stderr",
     "output_type": "stream",
     "text": [
      "Insertando registros:   1%|          | 10/1560 [00:20<50:30,  1.96s/it]"
     ]
    },
    {
     "name": "stdout",
     "output_type": "stream",
     "text": [
      "Query ejecutada correctamente.\n",
      "Query ejecutada correctamente.\n",
      "Query ejecutada correctamente.\n"
     ]
    },
    {
     "name": "stderr",
     "output_type": "stream",
     "text": [
      "Insertando registros:   1%|          | 11/1560 [00:22<53:25,  2.07s/it]"
     ]
    },
    {
     "name": "stdout",
     "output_type": "stream",
     "text": [
      "Query ejecutada correctamente.\n"
     ]
    },
    {
     "name": "stderr",
     "output_type": "stream",
     "text": [
      "Insertando registros:   1%|          | 12/1560 [00:23<43:24,  1.68s/it]"
     ]
    },
    {
     "name": "stdout",
     "output_type": "stream",
     "text": [
      "Query ejecutada correctamente.\n"
     ]
    },
    {
     "name": "stderr",
     "output_type": "stream",
     "text": [
      "Insertando registros:   1%|          | 13/1560 [00:24<36:24,  1.41s/it]"
     ]
    },
    {
     "name": "stdout",
     "output_type": "stream",
     "text": [
      "Query ejecutada correctamente.\n",
      "Query ejecutada correctamente.\n",
      "Query ejecutada correctamente.\n"
     ]
    },
    {
     "name": "stderr",
     "output_type": "stream",
     "text": [
      "Insertando registros:   1%|          | 14/1560 [00:26<43:55,  1.70s/it]"
     ]
    },
    {
     "name": "stdout",
     "output_type": "stream",
     "text": [
      "Query ejecutada correctamente.\n"
     ]
    },
    {
     "name": "stderr",
     "output_type": "stream",
     "text": [
      "Insertando registros:   1%|          | 15/1560 [00:27<36:47,  1.43s/it]"
     ]
    },
    {
     "name": "stdout",
     "output_type": "stream",
     "text": [
      "Query ejecutada correctamente.\n",
      "Query ejecutada correctamente.\n",
      "Query ejecutada correctamente.\n"
     ]
    },
    {
     "name": "stderr",
     "output_type": "stream",
     "text": [
      "Insertando registros:   1%|          | 16/1560 [00:29<43:58,  1.71s/it]"
     ]
    },
    {
     "name": "stdout",
     "output_type": "stream",
     "text": [
      "Query ejecutada correctamente.\n",
      "Query ejecutada correctamente.\n",
      "Query ejecutada correctamente.\n"
     ]
    },
    {
     "name": "stderr",
     "output_type": "stream",
     "text": [
      "Insertando registros:   1%|          | 17/1560 [00:32<49:00,  1.91s/it]"
     ]
    },
    {
     "name": "stdout",
     "output_type": "stream",
     "text": [
      "Query ejecutada correctamente.\n"
     ]
    },
    {
     "name": "stderr",
     "output_type": "stream",
     "text": [
      "Insertando registros:   1%|          | 18/1560 [00:33<40:41,  1.58s/it]"
     ]
    },
    {
     "name": "stdout",
     "output_type": "stream",
     "text": [
      "Query ejecutada correctamente.\n"
     ]
    },
    {
     "name": "stderr",
     "output_type": "stream",
     "text": [
      "Insertando registros:   1%|          | 19/1560 [00:33<34:28,  1.34s/it]"
     ]
    },
    {
     "name": "stdout",
     "output_type": "stream",
     "text": [
      "Query ejecutada correctamente.\n"
     ]
    },
    {
     "name": "stderr",
     "output_type": "stream",
     "text": [
      "Insertando registros:   1%|▏         | 20/1560 [00:34<30:10,  1.18s/it]"
     ]
    },
    {
     "name": "stdout",
     "output_type": "stream",
     "text": [
      "Query ejecutada correctamente.\n",
      "Query ejecutada correctamente.\n",
      "Query ejecutada correctamente.\n"
     ]
    },
    {
     "name": "stderr",
     "output_type": "stream",
     "text": [
      "Insertando registros:   1%|▏         | 21/1560 [00:37<39:13,  1.53s/it]"
     ]
    },
    {
     "name": "stdout",
     "output_type": "stream",
     "text": [
      "Query ejecutada correctamente.\n",
      "Query ejecutada correctamente.\n",
      "Query ejecutada correctamente.\n"
     ]
    },
    {
     "name": "stderr",
     "output_type": "stream",
     "text": [
      "Insertando registros:   1%|▏         | 22/1560 [00:39<46:22,  1.81s/it]"
     ]
    },
    {
     "name": "stdout",
     "output_type": "stream",
     "text": [
      "Query ejecutada correctamente.\n"
     ]
    },
    {
     "name": "stderr",
     "output_type": "stream",
     "text": [
      "Insertando registros:   1%|▏         | 23/1560 [00:40<38:36,  1.51s/it]"
     ]
    },
    {
     "name": "stdout",
     "output_type": "stream",
     "text": [
      "Query ejecutada correctamente.\n",
      "Query ejecutada correctamente.\n",
      "Query ejecutada correctamente.\n"
     ]
    },
    {
     "name": "stderr",
     "output_type": "stream",
     "text": [
      "Insertando registros:   2%|▏         | 24/1560 [00:42<45:18,  1.77s/it]"
     ]
    },
    {
     "name": "stdout",
     "output_type": "stream",
     "text": [
      "Query ejecutada correctamente.\n"
     ]
    },
    {
     "name": "stderr",
     "output_type": "stream",
     "text": [
      "Insertando registros:   2%|▏         | 25/1560 [00:43<38:57,  1.52s/it]"
     ]
    },
    {
     "name": "stdout",
     "output_type": "stream",
     "text": [
      "Query ejecutada correctamente.\n"
     ]
    },
    {
     "name": "stderr",
     "output_type": "stream",
     "text": [
      "Insertando registros:   2%|▏         | 26/1560 [00:44<33:42,  1.32s/it]"
     ]
    },
    {
     "name": "stdout",
     "output_type": "stream",
     "text": [
      "Query ejecutada correctamente.\n"
     ]
    },
    {
     "name": "stderr",
     "output_type": "stream",
     "text": [
      "Insertando registros:   2%|▏         | 27/1560 [00:45<30:04,  1.18s/it]"
     ]
    },
    {
     "name": "stdout",
     "output_type": "stream",
     "text": [
      "Query ejecutada correctamente.\n",
      "Query ejecutada correctamente.\n",
      "Query ejecutada correctamente.\n"
     ]
    },
    {
     "name": "stderr",
     "output_type": "stream",
     "text": [
      "Insertando registros:   2%|▏         | 28/1560 [00:47<39:30,  1.55s/it]"
     ]
    },
    {
     "name": "stdout",
     "output_type": "stream",
     "text": [
      "Query ejecutada correctamente.\n"
     ]
    },
    {
     "name": "stderr",
     "output_type": "stream",
     "text": [
      "Insertando registros:   2%|▏         | 29/1560 [00:48<33:34,  1.32s/it]"
     ]
    },
    {
     "name": "stdout",
     "output_type": "stream",
     "text": [
      "Query ejecutada correctamente.\n",
      "Query ejecutada correctamente.\n",
      "Query ejecutada correctamente.\n"
     ]
    },
    {
     "name": "stderr",
     "output_type": "stream",
     "text": [
      "Insertando registros:   2%|▏         | 30/1560 [00:50<41:56,  1.64s/it]"
     ]
    },
    {
     "name": "stdout",
     "output_type": "stream",
     "text": [
      "Query ejecutada correctamente.\n",
      "Query ejecutada correctamente.\n",
      "Query ejecutada correctamente.\n"
     ]
    },
    {
     "name": "stderr",
     "output_type": "stream",
     "text": [
      "Insertando registros:   2%|▏         | 31/1560 [00:53<47:32,  1.87s/it]"
     ]
    },
    {
     "name": "stdout",
     "output_type": "stream",
     "text": [
      "Query ejecutada correctamente.\n",
      "Query ejecutada correctamente.\n",
      "Query ejecutada correctamente.\n"
     ]
    },
    {
     "name": "stderr",
     "output_type": "stream",
     "text": [
      "Insertando registros:   2%|▏         | 32/1560 [00:55<51:15,  2.01s/it]"
     ]
    },
    {
     "name": "stdout",
     "output_type": "stream",
     "text": [
      "Query ejecutada correctamente.\n",
      "Query ejecutada correctamente.\n",
      "Query ejecutada correctamente.\n"
     ]
    },
    {
     "name": "stderr",
     "output_type": "stream",
     "text": [
      "Insertando registros:   2%|▏         | 33/1560 [00:58<54:33,  2.14s/it]"
     ]
    },
    {
     "name": "stdout",
     "output_type": "stream",
     "text": [
      "Query ejecutada correctamente.\n",
      "Query ejecutada correctamente.\n",
      "Query ejecutada correctamente.\n"
     ]
    },
    {
     "name": "stderr",
     "output_type": "stream",
     "text": [
      "Insertando registros:   2%|▏         | 34/1560 [01:00<56:37,  2.23s/it]"
     ]
    },
    {
     "name": "stdout",
     "output_type": "stream",
     "text": [
      "Query ejecutada correctamente.\n"
     ]
    },
    {
     "name": "stderr",
     "output_type": "stream",
     "text": [
      "Insertando registros:   2%|▏         | 35/1560 [01:01<45:27,  1.79s/it]"
     ]
    },
    {
     "name": "stdout",
     "output_type": "stream",
     "text": [
      "Query ejecutada correctamente.\n",
      "Query ejecutada correctamente.\n",
      "Query ejecutada correctamente.\n"
     ]
    },
    {
     "name": "stderr",
     "output_type": "stream",
     "text": [
      "Insertando registros:   2%|▏         | 36/1560 [01:03<49:46,  1.96s/it]"
     ]
    },
    {
     "name": "stdout",
     "output_type": "stream",
     "text": [
      "Query ejecutada correctamente.\n",
      "Query ejecutada correctamente.\n",
      "Query ejecutada correctamente.\n"
     ]
    },
    {
     "name": "stderr",
     "output_type": "stream",
     "text": [
      "Insertando registros:   2%|▏         | 37/1560 [01:06<52:39,  2.07s/it]"
     ]
    },
    {
     "name": "stdout",
     "output_type": "stream",
     "text": [
      "Query ejecutada correctamente.\n",
      "Query ejecutada correctamente.\n",
      "Query ejecutada correctamente.\n"
     ]
    },
    {
     "name": "stderr",
     "output_type": "stream",
     "text": [
      "Insertando registros:   2%|▏         | 38/1560 [01:08<54:56,  2.17s/it]"
     ]
    },
    {
     "name": "stdout",
     "output_type": "stream",
     "text": [
      "Query ejecutada correctamente.\n"
     ]
    },
    {
     "name": "stderr",
     "output_type": "stream",
     "text": [
      "Insertando registros:   2%|▎         | 39/1560 [01:09<44:28,  1.75s/it]"
     ]
    },
    {
     "name": "stdout",
     "output_type": "stream",
     "text": [
      "Query ejecutada correctamente.\n",
      "Query ejecutada correctamente.\n",
      "Query ejecutada correctamente.\n"
     ]
    },
    {
     "name": "stderr",
     "output_type": "stream",
     "text": [
      "Insertando registros:   3%|▎         | 40/1560 [01:11<49:34,  1.96s/it]"
     ]
    },
    {
     "name": "stdout",
     "output_type": "stream",
     "text": [
      "Query ejecutada correctamente.\n",
      "Query ejecutada correctamente.\n",
      "Query ejecutada correctamente.\n"
     ]
    },
    {
     "name": "stderr",
     "output_type": "stream",
     "text": [
      "Insertando registros:   3%|▎         | 41/1560 [01:14<52:50,  2.09s/it]"
     ]
    },
    {
     "name": "stdout",
     "output_type": "stream",
     "text": [
      "Query ejecutada correctamente.\n"
     ]
    },
    {
     "name": "stderr",
     "output_type": "stream",
     "text": [
      "Insertando registros:   3%|▎         | 42/1560 [01:14<42:59,  1.70s/it]"
     ]
    },
    {
     "name": "stdout",
     "output_type": "stream",
     "text": [
      "Query ejecutada correctamente.\n",
      "Query ejecutada correctamente.\n",
      "Query ejecutada correctamente.\n"
     ]
    },
    {
     "name": "stderr",
     "output_type": "stream",
     "text": [
      "Insertando registros:   3%|▎         | 43/1560 [01:17<48:08,  1.90s/it]"
     ]
    },
    {
     "name": "stdout",
     "output_type": "stream",
     "text": [
      "Query ejecutada correctamente.\n",
      "Query ejecutada correctamente.\n",
      "Query ejecutada correctamente.\n"
     ]
    },
    {
     "name": "stderr",
     "output_type": "stream",
     "text": [
      "Insertando registros:   3%|▎         | 44/1560 [01:19<51:37,  2.04s/it]"
     ]
    },
    {
     "name": "stdout",
     "output_type": "stream",
     "text": [
      "Query ejecutada correctamente.\n",
      "Query ejecutada correctamente.\n",
      "Query ejecutada correctamente.\n"
     ]
    },
    {
     "name": "stderr",
     "output_type": "stream",
     "text": [
      "Insertando registros:   3%|▎         | 45/1560 [01:21<54:24,  2.15s/it]"
     ]
    },
    {
     "name": "stdout",
     "output_type": "stream",
     "text": [
      "Query ejecutada correctamente.\n",
      "Query ejecutada correctamente.\n",
      "Query ejecutada correctamente.\n"
     ]
    },
    {
     "name": "stderr",
     "output_type": "stream",
     "text": [
      "Insertando registros:   3%|▎         | 46/1560 [01:24<55:57,  2.22s/it]"
     ]
    },
    {
     "name": "stdout",
     "output_type": "stream",
     "text": [
      "Query ejecutada correctamente.\n",
      "Query ejecutada correctamente.\n",
      "Query ejecutada correctamente.\n"
     ]
    },
    {
     "name": "stderr",
     "output_type": "stream",
     "text": [
      "Insertando registros:   3%|▎         | 47/1560 [01:26<57:16,  2.27s/it]"
     ]
    },
    {
     "name": "stdout",
     "output_type": "stream",
     "text": [
      "Query ejecutada correctamente.\n",
      "Query ejecutada correctamente.\n",
      "Query ejecutada correctamente.\n"
     ]
    },
    {
     "name": "stderr",
     "output_type": "stream",
     "text": [
      "Insertando registros:   3%|▎         | 48/1560 [01:29<58:06,  2.31s/it]"
     ]
    },
    {
     "name": "stdout",
     "output_type": "stream",
     "text": [
      "Query ejecutada correctamente.\n",
      "Query ejecutada correctamente.\n",
      "Query ejecutada correctamente.\n"
     ]
    },
    {
     "name": "stderr",
     "output_type": "stream",
     "text": [
      "Insertando registros:   3%|▎         | 49/1560 [01:31<58:33,  2.33s/it]"
     ]
    },
    {
     "name": "stdout",
     "output_type": "stream",
     "text": [
      "Query ejecutada correctamente.\n",
      "Query ejecutada correctamente.\n",
      "Query ejecutada correctamente.\n"
     ]
    },
    {
     "name": "stderr",
     "output_type": "stream",
     "text": [
      "Insertando registros:   3%|▎         | 50/1560 [01:33<58:54,  2.34s/it]"
     ]
    },
    {
     "name": "stdout",
     "output_type": "stream",
     "text": [
      "Query ejecutada correctamente.\n"
     ]
    },
    {
     "name": "stderr",
     "output_type": "stream",
     "text": [
      "Insertando registros:   3%|▎         | 51/1560 [01:34<47:14,  1.88s/it]"
     ]
    },
    {
     "name": "stdout",
     "output_type": "stream",
     "text": [
      "Query ejecutada correctamente.\n",
      "Query ejecutada correctamente.\n",
      "Query ejecutada correctamente.\n"
     ]
    },
    {
     "name": "stderr",
     "output_type": "stream",
     "text": [
      "Insertando registros:   3%|▎         | 52/1560 [01:37<51:07,  2.03s/it]"
     ]
    },
    {
     "name": "stdout",
     "output_type": "stream",
     "text": [
      "Query ejecutada correctamente.\n"
     ]
    },
    {
     "name": "stderr",
     "output_type": "stream",
     "text": [
      "Insertando registros:   3%|▎         | 53/1560 [01:37<41:45,  1.66s/it]"
     ]
    },
    {
     "name": "stdout",
     "output_type": "stream",
     "text": [
      "Query ejecutada correctamente.\n",
      "Query ejecutada correctamente.\n",
      "Query ejecutada correctamente.\n"
     ]
    },
    {
     "name": "stderr",
     "output_type": "stream",
     "text": [
      "Insertando registros:   3%|▎         | 54/1560 [01:40<47:07,  1.88s/it]"
     ]
    },
    {
     "name": "stdout",
     "output_type": "stream",
     "text": [
      "Query ejecutada correctamente.\n",
      "Query ejecutada correctamente.\n",
      "Query ejecutada correctamente.\n"
     ]
    },
    {
     "name": "stderr",
     "output_type": "stream",
     "text": [
      "Insertando registros:   4%|▎         | 55/1560 [01:42<50:54,  2.03s/it]"
     ]
    },
    {
     "name": "stdout",
     "output_type": "stream",
     "text": [
      "Query ejecutada correctamente.\n"
     ]
    },
    {
     "name": "stderr",
     "output_type": "stream",
     "text": [
      "Insertando registros:   4%|▎         | 56/1560 [01:43<41:37,  1.66s/it]"
     ]
    },
    {
     "name": "stdout",
     "output_type": "stream",
     "text": [
      "Query ejecutada correctamente.\n",
      "Query ejecutada correctamente.\n",
      "Query ejecutada correctamente.\n"
     ]
    },
    {
     "name": "stderr",
     "output_type": "stream",
     "text": [
      "Insertando registros:   4%|▎         | 57/1560 [01:45<47:01,  1.88s/it]"
     ]
    },
    {
     "name": "stdout",
     "output_type": "stream",
     "text": [
      "Query ejecutada correctamente.\n",
      "Query ejecutada correctamente.\n",
      "Query ejecutada correctamente.\n"
     ]
    },
    {
     "name": "stderr",
     "output_type": "stream",
     "text": [
      "Insertando registros:   4%|▎         | 58/1560 [01:48<50:47,  2.03s/it]"
     ]
    },
    {
     "name": "stdout",
     "output_type": "stream",
     "text": [
      "Query ejecutada correctamente.\n"
     ]
    },
    {
     "name": "stderr",
     "output_type": "stream",
     "text": [
      "Insertando registros:   4%|▍         | 59/1560 [01:49<41:37,  1.66s/it]"
     ]
    },
    {
     "name": "stdout",
     "output_type": "stream",
     "text": [
      "Query ejecutada correctamente.\n",
      "Query ejecutada correctamente.\n",
      "Query ejecutada correctamente.\n"
     ]
    },
    {
     "name": "stderr",
     "output_type": "stream",
     "text": [
      "Insertando registros:   4%|▍         | 60/1560 [01:51<46:52,  1.87s/it]"
     ]
    },
    {
     "name": "stdout",
     "output_type": "stream",
     "text": [
      "Query ejecutada correctamente.\n",
      "Query ejecutada correctamente.\n",
      "Query ejecutada correctamente.\n"
     ]
    },
    {
     "name": "stderr",
     "output_type": "stream",
     "text": [
      "Insertando registros:   4%|▍         | 61/1560 [01:53<50:29,  2.02s/it]"
     ]
    },
    {
     "name": "stdout",
     "output_type": "stream",
     "text": [
      "Query ejecutada correctamente.\n",
      "Query ejecutada correctamente.\n",
      "Query ejecutada correctamente.\n"
     ]
    },
    {
     "name": "stderr",
     "output_type": "stream",
     "text": [
      "Insertando registros:   4%|▍         | 62/1560 [01:56<53:27,  2.14s/it]"
     ]
    },
    {
     "name": "stdout",
     "output_type": "stream",
     "text": [
      "Query ejecutada correctamente.\n",
      "Query ejecutada correctamente.\n",
      "Query ejecutada correctamente.\n"
     ]
    },
    {
     "name": "stderr",
     "output_type": "stream",
     "text": [
      "Insertando registros:   4%|▍         | 63/1560 [01:58<55:19,  2.22s/it]"
     ]
    },
    {
     "name": "stdout",
     "output_type": "stream",
     "text": [
      "Query ejecutada correctamente.\n",
      "Query ejecutada correctamente.\n",
      "Query ejecutada correctamente.\n"
     ]
    },
    {
     "name": "stderr",
     "output_type": "stream",
     "text": [
      "Insertando registros:   4%|▍         | 64/1560 [02:00<56:24,  2.26s/it]"
     ]
    },
    {
     "name": "stdout",
     "output_type": "stream",
     "text": [
      "Query ejecutada correctamente.\n",
      "Query ejecutada correctamente.\n",
      "Query ejecutada correctamente.\n"
     ]
    },
    {
     "name": "stderr",
     "output_type": "stream",
     "text": [
      "Insertando registros:   4%|▍         | 65/1560 [02:03<57:09,  2.29s/it]"
     ]
    },
    {
     "name": "stdout",
     "output_type": "stream",
     "text": [
      "Query ejecutada correctamente.\n",
      "Query ejecutada correctamente.\n",
      "Query ejecutada correctamente.\n"
     ]
    },
    {
     "name": "stderr",
     "output_type": "stream",
     "text": [
      "Insertando registros:   4%|▍         | 66/1560 [02:05<57:55,  2.33s/it]"
     ]
    },
    {
     "name": "stdout",
     "output_type": "stream",
     "text": [
      "Query ejecutada correctamente.\n",
      "Query ejecutada correctamente.\n",
      "Query ejecutada correctamente.\n"
     ]
    },
    {
     "name": "stderr",
     "output_type": "stream",
     "text": [
      "Insertando registros:   4%|▍         | 67/1560 [02:08<58:12,  2.34s/it]"
     ]
    },
    {
     "name": "stdout",
     "output_type": "stream",
     "text": [
      "Query ejecutada correctamente.\n",
      "Query ejecutada correctamente.\n",
      "Query ejecutada correctamente.\n"
     ]
    },
    {
     "name": "stderr",
     "output_type": "stream",
     "text": [
      "Insertando registros:   4%|▍         | 68/1560 [02:10<58:25,  2.35s/it]"
     ]
    },
    {
     "name": "stdout",
     "output_type": "stream",
     "text": [
      "Query ejecutada correctamente.\n",
      "Query ejecutada correctamente.\n",
      "Query ejecutada correctamente.\n"
     ]
    },
    {
     "name": "stderr",
     "output_type": "stream",
     "text": [
      "Insertando registros:   4%|▍         | 69/1560 [02:12<58:36,  2.36s/it]"
     ]
    },
    {
     "name": "stdout",
     "output_type": "stream",
     "text": [
      "Query ejecutada correctamente.\n"
     ]
    },
    {
     "name": "stderr",
     "output_type": "stream",
     "text": [
      "Insertando registros:   4%|▍         | 70/1560 [02:13<47:00,  1.89s/it]"
     ]
    },
    {
     "name": "stdout",
     "output_type": "stream",
     "text": [
      "Query ejecutada correctamente.\n"
     ]
    },
    {
     "name": "stderr",
     "output_type": "stream",
     "text": [
      "Insertando registros:   5%|▍         | 71/1560 [02:14<39:06,  1.58s/it]"
     ]
    },
    {
     "name": "stdout",
     "output_type": "stream",
     "text": [
      "Query ejecutada correctamente.\n"
     ]
    },
    {
     "name": "stderr",
     "output_type": "stream",
     "text": [
      "Insertando registros:   5%|▍         | 72/1560 [02:15<33:30,  1.35s/it]"
     ]
    },
    {
     "name": "stdout",
     "output_type": "stream",
     "text": [
      "Query ejecutada correctamente.\n",
      "Query ejecutada correctamente.\n",
      "Query ejecutada correctamente.\n"
     ]
    },
    {
     "name": "stderr",
     "output_type": "stream",
     "text": [
      "Insertando registros:   5%|▍         | 73/1560 [02:17<40:58,  1.65s/it]"
     ]
    },
    {
     "name": "stdout",
     "output_type": "stream",
     "text": [
      "Query ejecutada correctamente.\n",
      "Query ejecutada correctamente.\n",
      "Query ejecutada correctamente.\n"
     ]
    },
    {
     "name": "stderr",
     "output_type": "stream",
     "text": [
      "Insertando registros:   5%|▍         | 74/1560 [02:20<46:29,  1.88s/it]"
     ]
    },
    {
     "name": "stdout",
     "output_type": "stream",
     "text": [
      "Query ejecutada correctamente.\n",
      "Query ejecutada correctamente.\n",
      "Query ejecutada correctamente.\n"
     ]
    },
    {
     "name": "stderr",
     "output_type": "stream",
     "text": [
      "Insertando registros:   5%|▍         | 75/1560 [02:22<49:58,  2.02s/it]"
     ]
    },
    {
     "name": "stdout",
     "output_type": "stream",
     "text": [
      "Query ejecutada correctamente.\n"
     ]
    },
    {
     "name": "stderr",
     "output_type": "stream",
     "text": [
      "Insertando registros:   5%|▍         | 76/1560 [02:23<40:53,  1.65s/it]"
     ]
    },
    {
     "name": "stdout",
     "output_type": "stream",
     "text": [
      "Query ejecutada correctamente.\n",
      "Query ejecutada correctamente.\n",
      "Query ejecutada correctamente.\n"
     ]
    },
    {
     "name": "stderr",
     "output_type": "stream",
     "text": [
      "Insertando registros:   5%|▍         | 77/1560 [02:25<46:21,  1.88s/it]"
     ]
    },
    {
     "name": "stdout",
     "output_type": "stream",
     "text": [
      "Query ejecutada correctamente.\n",
      "Query ejecutada correctamente.\n",
      "Query ejecutada correctamente.\n"
     ]
    },
    {
     "name": "stderr",
     "output_type": "stream",
     "text": [
      "Insertando registros:   5%|▌         | 78/1560 [02:28<50:49,  2.06s/it]"
     ]
    },
    {
     "name": "stdout",
     "output_type": "stream",
     "text": [
      "Query ejecutada correctamente.\n",
      "Query ejecutada correctamente.\n",
      "Query ejecutada correctamente.\n"
     ]
    },
    {
     "name": "stderr",
     "output_type": "stream",
     "text": [
      "Insertando registros:   5%|▌         | 79/1560 [02:30<53:05,  2.15s/it]"
     ]
    },
    {
     "name": "stdout",
     "output_type": "stream",
     "text": [
      "Query ejecutada correctamente.\n",
      "Query ejecutada correctamente.\n",
      "Query ejecutada correctamente.\n"
     ]
    },
    {
     "name": "stderr",
     "output_type": "stream",
     "text": [
      "Insertando registros:   5%|▌         | 80/1560 [02:32<55:03,  2.23s/it]"
     ]
    },
    {
     "name": "stdout",
     "output_type": "stream",
     "text": [
      "Query ejecutada correctamente.\n",
      "Query ejecutada correctamente.\n",
      "Query ejecutada correctamente.\n"
     ]
    },
    {
     "name": "stderr",
     "output_type": "stream",
     "text": [
      "Insertando registros:   5%|▌         | 81/1560 [02:35<56:03,  2.27s/it]"
     ]
    },
    {
     "name": "stdout",
     "output_type": "stream",
     "text": [
      "Query ejecutada correctamente.\n"
     ]
    },
    {
     "name": "stderr",
     "output_type": "stream",
     "text": [
      "Insertando registros:   5%|▌         | 82/1560 [02:36<45:01,  1.83s/it]"
     ]
    },
    {
     "name": "stdout",
     "output_type": "stream",
     "text": [
      "Query ejecutada correctamente.\n",
      "Query ejecutada correctamente.\n",
      "Query ejecutada correctamente.\n"
     ]
    },
    {
     "name": "stderr",
     "output_type": "stream",
     "text": [
      "Insertando registros:   5%|▌         | 83/1560 [02:38<48:59,  1.99s/it]"
     ]
    },
    {
     "name": "stdout",
     "output_type": "stream",
     "text": [
      "Query ejecutada correctamente.\n"
     ]
    },
    {
     "name": "stderr",
     "output_type": "stream",
     "text": [
      "Insertando registros:   5%|▌         | 84/1560 [02:39<40:20,  1.64s/it]"
     ]
    },
    {
     "name": "stdout",
     "output_type": "stream",
     "text": [
      "Query ejecutada correctamente.\n",
      "Query ejecutada correctamente.\n",
      "Query ejecutada correctamente.\n"
     ]
    },
    {
     "name": "stderr",
     "output_type": "stream",
     "text": [
      "Insertando registros:   5%|▌         | 85/1560 [02:41<45:40,  1.86s/it]"
     ]
    },
    {
     "name": "stdout",
     "output_type": "stream",
     "text": [
      "Query ejecutada correctamente.\n"
     ]
    },
    {
     "name": "stderr",
     "output_type": "stream",
     "text": [
      "Insertando registros:   6%|▌         | 86/1560 [02:42<37:49,  1.54s/it]"
     ]
    },
    {
     "name": "stdout",
     "output_type": "stream",
     "text": [
      "Query ejecutada correctamente.\n"
     ]
    },
    {
     "name": "stderr",
     "output_type": "stream",
     "text": [
      "Insertando registros:   6%|▌         | 87/1560 [02:43<32:26,  1.32s/it]"
     ]
    },
    {
     "name": "stdout",
     "output_type": "stream",
     "text": [
      "Query ejecutada correctamente.\n"
     ]
    },
    {
     "name": "stderr",
     "output_type": "stream",
     "text": [
      "Insertando registros:   6%|▌         | 88/1560 [02:43<28:32,  1.16s/it]"
     ]
    },
    {
     "name": "stdout",
     "output_type": "stream",
     "text": [
      "Query ejecutada correctamente.\n"
     ]
    },
    {
     "name": "stderr",
     "output_type": "stream",
     "text": [
      "Insertando registros:   6%|▌         | 89/1560 [02:44<25:48,  1.05s/it]"
     ]
    },
    {
     "name": "stdout",
     "output_type": "stream",
     "text": [
      "Query ejecutada correctamente.\n",
      "Query ejecutada correctamente.\n",
      "Query ejecutada correctamente.\n"
     ]
    },
    {
     "name": "stderr",
     "output_type": "stream",
     "text": [
      "Insertando registros:   6%|▌         | 90/1560 [02:47<35:24,  1.45s/it]"
     ]
    },
    {
     "name": "stdout",
     "output_type": "stream",
     "text": [
      "Query ejecutada correctamente.\n",
      "Query ejecutada correctamente.\n",
      "Query ejecutada correctamente.\n"
     ]
    },
    {
     "name": "stderr",
     "output_type": "stream",
     "text": [
      "Insertando registros:   6%|▌         | 91/1560 [02:49<42:46,  1.75s/it]"
     ]
    },
    {
     "name": "stdout",
     "output_type": "stream",
     "text": [
      "Query ejecutada correctamente.\n",
      "Query ejecutada correctamente.\n",
      "Query ejecutada correctamente.\n"
     ]
    },
    {
     "name": "stderr",
     "output_type": "stream",
     "text": [
      "Insertando registros:   6%|▌         | 92/1560 [02:52<47:36,  1.95s/it]"
     ]
    },
    {
     "name": "stdout",
     "output_type": "stream",
     "text": [
      "Query ejecutada correctamente.\n"
     ]
    },
    {
     "name": "stderr",
     "output_type": "stream",
     "text": [
      "Insertando registros:   6%|▌         | 93/1560 [02:52<38:58,  1.59s/it]"
     ]
    },
    {
     "name": "stdout",
     "output_type": "stream",
     "text": [
      "Query ejecutada correctamente.\n",
      "Query ejecutada correctamente.\n",
      "Query ejecutada correctamente.\n"
     ]
    },
    {
     "name": "stderr",
     "output_type": "stream",
     "text": [
      "Insertando registros:   6%|▌         | 94/1560 [02:55<45:06,  1.85s/it]"
     ]
    },
    {
     "name": "stdout",
     "output_type": "stream",
     "text": [
      "Query ejecutada correctamente.\n"
     ]
    },
    {
     "name": "stderr",
     "output_type": "stream",
     "text": [
      "Insertando registros:   6%|▌         | 95/1560 [02:56<37:26,  1.53s/it]"
     ]
    },
    {
     "name": "stdout",
     "output_type": "stream",
     "text": [
      "Query ejecutada correctamente.\n",
      "Query ejecutada correctamente.\n",
      "Query ejecutada correctamente.\n"
     ]
    },
    {
     "name": "stderr",
     "output_type": "stream",
     "text": [
      "Insertando registros:   6%|▌         | 96/1560 [02:58<43:32,  1.78s/it]"
     ]
    },
    {
     "name": "stdout",
     "output_type": "stream",
     "text": [
      "Query ejecutada correctamente.\n",
      "Query ejecutada correctamente.\n",
      "Query ejecutada correctamente.\n"
     ]
    },
    {
     "name": "stderr",
     "output_type": "stream",
     "text": [
      "Insertando registros:   6%|▌         | 97/1560 [03:00<48:00,  1.97s/it]"
     ]
    },
    {
     "name": "stdout",
     "output_type": "stream",
     "text": [
      "Query ejecutada correctamente.\n"
     ]
    },
    {
     "name": "stderr",
     "output_type": "stream",
     "text": [
      "Insertando registros:   6%|▋         | 98/1560 [03:01<39:29,  1.62s/it]"
     ]
    },
    {
     "name": "stdout",
     "output_type": "stream",
     "text": [
      "Query ejecutada correctamente.\n",
      "Query ejecutada correctamente.\n",
      "Query ejecutada correctamente.\n"
     ]
    },
    {
     "name": "stderr",
     "output_type": "stream",
     "text": [
      "Insertando registros:   6%|▋         | 99/1560 [03:03<45:02,  1.85s/it]"
     ]
    },
    {
     "name": "stdout",
     "output_type": "stream",
     "text": [
      "Query ejecutada correctamente.\n"
     ]
    },
    {
     "name": "stderr",
     "output_type": "stream",
     "text": [
      "Insertando registros:   6%|▋         | 100/1560 [03:04<38:06,  1.57s/it]"
     ]
    },
    {
     "name": "stdout",
     "output_type": "stream",
     "text": [
      "Query ejecutada correctamente.\n",
      "Query ejecutada correctamente.\n",
      "Query ejecutada correctamente.\n"
     ]
    },
    {
     "name": "stderr",
     "output_type": "stream",
     "text": [
      "Insertando registros:   6%|▋         | 101/1560 [03:07<44:23,  1.83s/it]"
     ]
    },
    {
     "name": "stdout",
     "output_type": "stream",
     "text": [
      "Query ejecutada correctamente.\n",
      "Query ejecutada correctamente.\n",
      "Query ejecutada correctamente.\n"
     ]
    },
    {
     "name": "stderr",
     "output_type": "stream",
     "text": [
      "Insertando registros:   7%|▋         | 102/1560 [03:09<48:09,  1.98s/it]"
     ]
    },
    {
     "name": "stdout",
     "output_type": "stream",
     "text": [
      "Query ejecutada correctamente.\n",
      "Query ejecutada correctamente.\n",
      "Query ejecutada correctamente.\n"
     ]
    },
    {
     "name": "stderr",
     "output_type": "stream",
     "text": [
      "Insertando registros:   7%|▋         | 103/1560 [03:12<51:46,  2.13s/it]"
     ]
    },
    {
     "name": "stdout",
     "output_type": "stream",
     "text": [
      "Query ejecutada correctamente.\n",
      "Query ejecutada correctamente.\n",
      "Query ejecutada correctamente.\n"
     ]
    },
    {
     "name": "stderr",
     "output_type": "stream",
     "text": [
      "Insertando registros:   7%|▋         | 104/1560 [03:14<53:43,  2.21s/it]"
     ]
    },
    {
     "name": "stdout",
     "output_type": "stream",
     "text": [
      "Query ejecutada correctamente.\n"
     ]
    },
    {
     "name": "stderr",
     "output_type": "stream",
     "text": [
      "Insertando registros:   7%|▋         | 105/1560 [03:15<43:29,  1.79s/it]"
     ]
    },
    {
     "name": "stdout",
     "output_type": "stream",
     "text": [
      "Query ejecutada correctamente.\n",
      "Query ejecutada correctamente.\n",
      "Query ejecutada correctamente.\n"
     ]
    },
    {
     "name": "stderr",
     "output_type": "stream",
     "text": [
      "Insertando registros:   7%|▋         | 106/1560 [03:17<47:42,  1.97s/it]"
     ]
    },
    {
     "name": "stdout",
     "output_type": "stream",
     "text": [
      "Query ejecutada correctamente.\n",
      "Query ejecutada correctamente.\n",
      "Query ejecutada correctamente.\n"
     ]
    },
    {
     "name": "stderr",
     "output_type": "stream",
     "text": [
      "Insertando registros:   7%|▋         | 107/1560 [03:20<50:44,  2.10s/it]"
     ]
    },
    {
     "name": "stdout",
     "output_type": "stream",
     "text": [
      "Query ejecutada correctamente.\n",
      "Query ejecutada correctamente.\n",
      "Query ejecutada correctamente.\n"
     ]
    },
    {
     "name": "stderr",
     "output_type": "stream",
     "text": [
      "Insertando registros:   7%|▋         | 108/1560 [03:22<52:49,  2.18s/it]"
     ]
    },
    {
     "name": "stdout",
     "output_type": "stream",
     "text": [
      "Query ejecutada correctamente.\n"
     ]
    },
    {
     "name": "stderr",
     "output_type": "stream",
     "text": [
      "Insertando registros:   7%|▋         | 109/1560 [03:23<42:50,  1.77s/it]"
     ]
    },
    {
     "name": "stdout",
     "output_type": "stream",
     "text": [
      "Query ejecutada correctamente.\n",
      "Query ejecutada correctamente.\n",
      "Query ejecutada correctamente.\n"
     ]
    },
    {
     "name": "stderr",
     "output_type": "stream",
     "text": [
      "Insertando registros:   7%|▋         | 110/1560 [03:25<47:07,  1.95s/it]"
     ]
    },
    {
     "name": "stdout",
     "output_type": "stream",
     "text": [
      "Query ejecutada correctamente.\n",
      "Query ejecutada correctamente.\n",
      "Query ejecutada correctamente.\n"
     ]
    },
    {
     "name": "stderr",
     "output_type": "stream",
     "text": [
      "Insertando registros:   7%|▋         | 111/1560 [03:28<50:08,  2.08s/it]"
     ]
    },
    {
     "name": "stdout",
     "output_type": "stream",
     "text": [
      "Query ejecutada correctamente.\n",
      "Query ejecutada correctamente.\n",
      "Query ejecutada correctamente.\n"
     ]
    },
    {
     "name": "stderr",
     "output_type": "stream",
     "text": [
      "Insertando registros:   7%|▋         | 112/1560 [03:30<52:12,  2.16s/it]"
     ]
    },
    {
     "name": "stdout",
     "output_type": "stream",
     "text": [
      "Query ejecutada correctamente.\n",
      "Query ejecutada correctamente.\n",
      "Query ejecutada correctamente.\n"
     ]
    },
    {
     "name": "stderr",
     "output_type": "stream",
     "text": [
      "Insertando registros:   7%|▋         | 113/1560 [03:32<54:10,  2.25s/it]"
     ]
    },
    {
     "name": "stdout",
     "output_type": "stream",
     "text": [
      "Query ejecutada correctamente.\n",
      "Query ejecutada correctamente.\n",
      "Query ejecutada correctamente.\n"
     ]
    },
    {
     "name": "stderr",
     "output_type": "stream",
     "text": [
      "Insertando registros:   7%|▋         | 114/1560 [03:35<55:02,  2.28s/it]"
     ]
    },
    {
     "name": "stdout",
     "output_type": "stream",
     "text": [
      "Query ejecutada correctamente.\n"
     ]
    },
    {
     "name": "stderr",
     "output_type": "stream",
     "text": [
      "Insertando registros:   7%|▋         | 115/1560 [03:36<44:17,  1.84s/it]"
     ]
    },
    {
     "name": "stdout",
     "output_type": "stream",
     "text": [
      "Query ejecutada correctamente.\n",
      "Query ejecutada correctamente.\n",
      "Query ejecutada correctamente.\n"
     ]
    },
    {
     "name": "stderr",
     "output_type": "stream",
     "text": [
      "Insertando registros:   7%|▋         | 116/1560 [03:38<48:15,  2.00s/it]"
     ]
    },
    {
     "name": "stdout",
     "output_type": "stream",
     "text": [
      "Query ejecutada correctamente.\n",
      "Query ejecutada correctamente.\n",
      "Query ejecutada correctamente.\n"
     ]
    },
    {
     "name": "stderr",
     "output_type": "stream",
     "text": [
      "Insertando registros:   8%|▊         | 117/1560 [03:40<50:51,  2.11s/it]"
     ]
    },
    {
     "name": "stdout",
     "output_type": "stream",
     "text": [
      "Query ejecutada correctamente.\n"
     ]
    },
    {
     "name": "stderr",
     "output_type": "stream",
     "text": [
      "Insertando registros:   8%|▊         | 118/1560 [03:41<41:20,  1.72s/it]"
     ]
    },
    {
     "name": "stdout",
     "output_type": "stream",
     "text": [
      "Query ejecutada correctamente.\n",
      "Query ejecutada correctamente.\n",
      "Query ejecutada correctamente.\n"
     ]
    },
    {
     "name": "stderr",
     "output_type": "stream",
     "text": [
      "Insertando registros:   8%|▊         | 119/1560 [03:43<46:07,  1.92s/it]"
     ]
    },
    {
     "name": "stdout",
     "output_type": "stream",
     "text": [
      "Query ejecutada correctamente.\n"
     ]
    },
    {
     "name": "stderr",
     "output_type": "stream",
     "text": [
      "Insertando registros:   8%|▊         | 120/1560 [03:44<38:05,  1.59s/it]"
     ]
    },
    {
     "name": "stdout",
     "output_type": "stream",
     "text": [
      "Query ejecutada correctamente.\n",
      "Query ejecutada correctamente.\n",
      "Query ejecutada correctamente.\n"
     ]
    },
    {
     "name": "stderr",
     "output_type": "stream",
     "text": [
      "Insertando registros:   8%|▊         | 121/1560 [03:47<43:29,  1.81s/it]"
     ]
    },
    {
     "name": "stdout",
     "output_type": "stream",
     "text": [
      "Query ejecutada correctamente.\n",
      "Query ejecutada correctamente.\n",
      "Query ejecutada correctamente.\n"
     ]
    },
    {
     "name": "stderr",
     "output_type": "stream",
     "text": [
      "Insertando registros:   8%|▊         | 122/1560 [03:49<47:28,  1.98s/it]"
     ]
    },
    {
     "name": "stdout",
     "output_type": "stream",
     "text": [
      "Query ejecutada correctamente.\n",
      "Query ejecutada correctamente.\n",
      "Query ejecutada correctamente.\n"
     ]
    },
    {
     "name": "stderr",
     "output_type": "stream",
     "text": [
      "Insertando registros:   8%|▊         | 123/1560 [03:51<50:24,  2.10s/it]"
     ]
    },
    {
     "name": "stdout",
     "output_type": "stream",
     "text": [
      "Query ejecutada correctamente.\n"
     ]
    },
    {
     "name": "stderr",
     "output_type": "stream",
     "text": [
      "Insertando registros:   8%|▊         | 124/1560 [03:52<40:54,  1.71s/it]"
     ]
    },
    {
     "name": "stdout",
     "output_type": "stream",
     "text": [
      "Query ejecutada correctamente.\n",
      "Query ejecutada correctamente.\n",
      "Query ejecutada correctamente.\n"
     ]
    },
    {
     "name": "stderr",
     "output_type": "stream",
     "text": [
      "Insertando registros:   8%|▊         | 125/1560 [03:55<45:44,  1.91s/it]"
     ]
    },
    {
     "name": "stdout",
     "output_type": "stream",
     "text": [
      "Query ejecutada correctamente.\n",
      "Query ejecutada correctamente.\n",
      "Query ejecutada correctamente.\n"
     ]
    },
    {
     "name": "stderr",
     "output_type": "stream",
     "text": [
      "Insertando registros:   8%|▊         | 126/1560 [03:57<49:16,  2.06s/it]"
     ]
    },
    {
     "name": "stdout",
     "output_type": "stream",
     "text": [
      "Query ejecutada correctamente.\n",
      "Query ejecutada correctamente.\n",
      "Query ejecutada correctamente.\n"
     ]
    },
    {
     "name": "stderr",
     "output_type": "stream",
     "text": [
      "Insertando registros:   8%|▊         | 127/1560 [03:59<51:37,  2.16s/it]"
     ]
    },
    {
     "name": "stdout",
     "output_type": "stream",
     "text": [
      "Query ejecutada correctamente.\n",
      "Query ejecutada correctamente.\n",
      "Query ejecutada correctamente.\n"
     ]
    },
    {
     "name": "stderr",
     "output_type": "stream",
     "text": [
      "Insertando registros:   8%|▊         | 128/1560 [04:02<53:06,  2.23s/it]"
     ]
    },
    {
     "name": "stdout",
     "output_type": "stream",
     "text": [
      "Query ejecutada correctamente.\n"
     ]
    },
    {
     "name": "stderr",
     "output_type": "stream",
     "text": [
      "Insertando registros:   8%|▊         | 129/1560 [04:03<43:13,  1.81s/it]"
     ]
    },
    {
     "name": "stdout",
     "output_type": "stream",
     "text": [
      "Query ejecutada correctamente.\n",
      "Query ejecutada correctamente.\n",
      "Query ejecutada correctamente.\n"
     ]
    },
    {
     "name": "stderr",
     "output_type": "stream",
     "text": [
      "Insertando registros:   8%|▊         | 130/1560 [04:05<47:25,  1.99s/it]"
     ]
    },
    {
     "name": "stdout",
     "output_type": "stream",
     "text": [
      "Query ejecutada correctamente.\n",
      "Query ejecutada correctamente.\n",
      "Query ejecutada correctamente.\n"
     ]
    },
    {
     "name": "stderr",
     "output_type": "stream",
     "text": [
      "Insertando registros:   8%|▊         | 131/1560 [04:07<50:38,  2.13s/it]"
     ]
    },
    {
     "name": "stdout",
     "output_type": "stream",
     "text": [
      "Query ejecutada correctamente.\n",
      "Query ejecutada correctamente.\n",
      "Query ejecutada correctamente.\n"
     ]
    },
    {
     "name": "stderr",
     "output_type": "stream",
     "text": [
      "Insertando registros:   8%|▊         | 132/1560 [04:10<52:05,  2.19s/it]"
     ]
    },
    {
     "name": "stdout",
     "output_type": "stream",
     "text": [
      "Query ejecutada correctamente.\n",
      "Query ejecutada correctamente.\n",
      "Query ejecutada correctamente.\n"
     ]
    },
    {
     "name": "stderr",
     "output_type": "stream",
     "text": [
      "Insertando registros:   9%|▊         | 133/1560 [04:12<53:23,  2.24s/it]"
     ]
    },
    {
     "name": "stdout",
     "output_type": "stream",
     "text": [
      "Query ejecutada correctamente.\n",
      "Query ejecutada correctamente.\n",
      "Query ejecutada correctamente.\n"
     ]
    },
    {
     "name": "stderr",
     "output_type": "stream",
     "text": [
      "Insertando registros:   9%|▊         | 134/1560 [04:15<54:17,  2.28s/it]"
     ]
    },
    {
     "name": "stdout",
     "output_type": "stream",
     "text": [
      "Query ejecutada correctamente.\n",
      "Query ejecutada correctamente.\n",
      "Query ejecutada correctamente.\n"
     ]
    },
    {
     "name": "stderr",
     "output_type": "stream",
     "text": [
      "Insertando registros:   9%|▊         | 135/1560 [04:17<54:51,  2.31s/it]"
     ]
    },
    {
     "name": "stdout",
     "output_type": "stream",
     "text": [
      "Query ejecutada correctamente.\n",
      "Query ejecutada correctamente.\n",
      "Query ejecutada correctamente.\n"
     ]
    },
    {
     "name": "stderr",
     "output_type": "stream",
     "text": [
      "Insertando registros:   9%|▊         | 136/1560 [04:19<55:06,  2.32s/it]"
     ]
    },
    {
     "name": "stdout",
     "output_type": "stream",
     "text": [
      "Query ejecutada correctamente.\n",
      "Query ejecutada correctamente.\n",
      "Query ejecutada correctamente.\n"
     ]
    },
    {
     "name": "stderr",
     "output_type": "stream",
     "text": [
      "Insertando registros:   9%|▉         | 137/1560 [04:22<55:24,  2.34s/it]"
     ]
    },
    {
     "name": "stdout",
     "output_type": "stream",
     "text": [
      "Query ejecutada correctamente.\n",
      "Query ejecutada correctamente.\n",
      "Query ejecutada correctamente.\n"
     ]
    },
    {
     "name": "stderr",
     "output_type": "stream",
     "text": [
      "Insertando registros:   9%|▉         | 138/1560 [04:24<55:32,  2.34s/it]"
     ]
    },
    {
     "name": "stdout",
     "output_type": "stream",
     "text": [
      "Query ejecutada correctamente.\n",
      "Query ejecutada correctamente.\n",
      "Query ejecutada correctamente.\n"
     ]
    },
    {
     "name": "stderr",
     "output_type": "stream",
     "text": [
      "Insertando registros:   9%|▉         | 139/1560 [04:26<56:12,  2.37s/it]"
     ]
    },
    {
     "name": "stdout",
     "output_type": "stream",
     "text": [
      "Query ejecutada correctamente.\n"
     ]
    },
    {
     "name": "stderr",
     "output_type": "stream",
     "text": [
      "Insertando registros:   9%|▉         | 140/1560 [04:27<44:57,  1.90s/it]"
     ]
    },
    {
     "name": "stdout",
     "output_type": "stream",
     "text": [
      "Query ejecutada correctamente.\n",
      "Query ejecutada correctamente.\n",
      "Query ejecutada correctamente.\n"
     ]
    },
    {
     "name": "stderr",
     "output_type": "stream",
     "text": [
      "Insertando registros:   9%|▉         | 141/1560 [04:30<48:18,  2.04s/it]"
     ]
    },
    {
     "name": "stdout",
     "output_type": "stream",
     "text": [
      "Query ejecutada correctamente.\n",
      "Query ejecutada correctamente.\n",
      "Query ejecutada correctamente.\n"
     ]
    },
    {
     "name": "stderr",
     "output_type": "stream",
     "text": [
      "Insertando registros:   9%|▉         | 142/1560 [04:32<50:42,  2.15s/it]"
     ]
    },
    {
     "name": "stdout",
     "output_type": "stream",
     "text": [
      "Query ejecutada correctamente.\n"
     ]
    },
    {
     "name": "stderr",
     "output_type": "stream",
     "text": [
      "Insertando registros:   9%|▉         | 143/1560 [04:33<41:46,  1.77s/it]"
     ]
    },
    {
     "name": "stdout",
     "output_type": "stream",
     "text": [
      "Query ejecutada correctamente.\n"
     ]
    },
    {
     "name": "stderr",
     "output_type": "stream",
     "text": [
      "Insertando registros:   9%|▉         | 144/1560 [04:34<34:51,  1.48s/it]"
     ]
    },
    {
     "name": "stdout",
     "output_type": "stream",
     "text": [
      "Query ejecutada correctamente.\n",
      "Query ejecutada correctamente.\n",
      "Query ejecutada correctamente.\n"
     ]
    },
    {
     "name": "stderr",
     "output_type": "stream",
     "text": [
      "Insertando registros:   9%|▉         | 145/1560 [04:36<41:10,  1.75s/it]"
     ]
    },
    {
     "name": "stdout",
     "output_type": "stream",
     "text": [
      "Query ejecutada correctamente.\n",
      "Query ejecutada correctamente.\n",
      "Query ejecutada correctamente.\n"
     ]
    },
    {
     "name": "stderr",
     "output_type": "stream",
     "text": [
      "Insertando registros:   9%|▉         | 146/1560 [04:38<45:41,  1.94s/it]"
     ]
    },
    {
     "name": "stdout",
     "output_type": "stream",
     "text": [
      "Query ejecutada correctamente.\n",
      "Query ejecutada correctamente.\n",
      "Query ejecutada correctamente.\n"
     ]
    },
    {
     "name": "stderr",
     "output_type": "stream",
     "text": [
      "Insertando registros:   9%|▉         | 147/1560 [04:41<49:21,  2.10s/it]"
     ]
    },
    {
     "name": "stdout",
     "output_type": "stream",
     "text": [
      "Query ejecutada correctamente.\n",
      "Query ejecutada correctamente.\n",
      "Query ejecutada correctamente.\n"
     ]
    },
    {
     "name": "stderr",
     "output_type": "stream",
     "text": [
      "Insertando registros:   9%|▉         | 148/1560 [04:43<51:14,  2.18s/it]"
     ]
    },
    {
     "name": "stdout",
     "output_type": "stream",
     "text": [
      "Query ejecutada correctamente.\n"
     ]
    },
    {
     "name": "stderr",
     "output_type": "stream",
     "text": [
      "Insertando registros:  10%|▉         | 149/1560 [04:44<41:29,  1.76s/it]"
     ]
    },
    {
     "name": "stdout",
     "output_type": "stream",
     "text": [
      "Query ejecutada correctamente.\n",
      "Query ejecutada correctamente.\n",
      "Query ejecutada correctamente.\n"
     ]
    },
    {
     "name": "stderr",
     "output_type": "stream",
     "text": [
      "Insertando registros:  10%|▉         | 150/1560 [04:46<45:46,  1.95s/it]"
     ]
    },
    {
     "name": "stdout",
     "output_type": "stream",
     "text": [
      "Query ejecutada correctamente.\n",
      "Query ejecutada correctamente.\n",
      "Query ejecutada correctamente.\n"
     ]
    },
    {
     "name": "stderr",
     "output_type": "stream",
     "text": [
      "Insertando registros:  10%|▉         | 151/1560 [04:49<49:44,  2.12s/it]"
     ]
    },
    {
     "name": "stdout",
     "output_type": "stream",
     "text": [
      "Query ejecutada correctamente.\n",
      "Query ejecutada correctamente.\n",
      "Query ejecutada correctamente.\n"
     ]
    },
    {
     "name": "stderr",
     "output_type": "stream",
     "text": [
      "Insertando registros:  10%|▉         | 152/1560 [04:51<51:56,  2.21s/it]"
     ]
    },
    {
     "name": "stdout",
     "output_type": "stream",
     "text": [
      "Query ejecutada correctamente.\n",
      "Query ejecutada correctamente.\n",
      "Query ejecutada correctamente.\n"
     ]
    },
    {
     "name": "stderr",
     "output_type": "stream",
     "text": [
      "Insertando registros:  10%|▉         | 153/1560 [04:54<53:17,  2.27s/it]"
     ]
    },
    {
     "name": "stdout",
     "output_type": "stream",
     "text": [
      "Query ejecutada correctamente.\n"
     ]
    },
    {
     "name": "stderr",
     "output_type": "stream",
     "text": [
      "Insertando registros:  10%|▉         | 154/1560 [04:55<42:50,  1.83s/it]"
     ]
    },
    {
     "name": "stdout",
     "output_type": "stream",
     "text": [
      "Query ejecutada correctamente.\n",
      "Query ejecutada correctamente.\n",
      "Query ejecutada correctamente.\n"
     ]
    },
    {
     "name": "stderr",
     "output_type": "stream",
     "text": [
      "Insertando registros:  10%|▉         | 155/1560 [04:57<47:20,  2.02s/it]"
     ]
    },
    {
     "name": "stdout",
     "output_type": "stream",
     "text": [
      "Query ejecutada correctamente.\n",
      "Query ejecutada correctamente.\n",
      "Query ejecutada correctamente.\n"
     ]
    },
    {
     "name": "stderr",
     "output_type": "stream",
     "text": [
      "Insertando registros:  10%|█         | 156/1560 [04:59<49:49,  2.13s/it]"
     ]
    },
    {
     "name": "stdout",
     "output_type": "stream",
     "text": [
      "Query ejecutada correctamente.\n",
      "Query ejecutada correctamente.\n",
      "Query ejecutada correctamente.\n"
     ]
    },
    {
     "name": "stderr",
     "output_type": "stream",
     "text": [
      "Insertando registros:  10%|█         | 157/1560 [05:02<52:17,  2.24s/it]"
     ]
    },
    {
     "name": "stdout",
     "output_type": "stream",
     "text": [
      "Query ejecutada correctamente.\n"
     ]
    },
    {
     "name": "stderr",
     "output_type": "stream",
     "text": [
      "Insertando registros:  10%|█         | 158/1560 [05:03<42:00,  1.80s/it]"
     ]
    },
    {
     "name": "stdout",
     "output_type": "stream",
     "text": [
      "Query ejecutada correctamente.\n",
      "Query ejecutada correctamente.\n",
      "Query ejecutada correctamente.\n"
     ]
    },
    {
     "name": "stderr",
     "output_type": "stream",
     "text": [
      "Insertando registros:  10%|█         | 159/1560 [05:05<45:44,  1.96s/it]"
     ]
    },
    {
     "name": "stdout",
     "output_type": "stream",
     "text": [
      "Query ejecutada correctamente.\n",
      "Query ejecutada correctamente.\n",
      "Query ejecutada correctamente.\n"
     ]
    },
    {
     "name": "stderr",
     "output_type": "stream",
     "text": [
      "Insertando registros:  10%|█         | 160/1560 [05:08<49:56,  2.14s/it]"
     ]
    },
    {
     "name": "stdout",
     "output_type": "stream",
     "text": [
      "Query ejecutada correctamente.\n",
      "Query ejecutada correctamente.\n",
      "Query ejecutada correctamente.\n"
     ]
    },
    {
     "name": "stderr",
     "output_type": "stream",
     "text": [
      "Insertando registros:  10%|█         | 161/1560 [05:10<54:46,  2.35s/it]"
     ]
    },
    {
     "name": "stdout",
     "output_type": "stream",
     "text": [
      "Query ejecutada correctamente.\n",
      "Query ejecutada correctamente.\n",
      "Query ejecutada correctamente.\n"
     ]
    },
    {
     "name": "stderr",
     "output_type": "stream",
     "text": [
      "Insertando registros:  10%|█         | 162/1560 [05:13<56:41,  2.43s/it]"
     ]
    },
    {
     "name": "stdout",
     "output_type": "stream",
     "text": [
      "Query ejecutada correctamente.\n",
      "Query ejecutada correctamente.\n",
      "Query ejecutada correctamente.\n"
     ]
    },
    {
     "name": "stderr",
     "output_type": "stream",
     "text": [
      "Insertando registros:  10%|█         | 163/1560 [05:16<57:53,  2.49s/it]"
     ]
    },
    {
     "name": "stdout",
     "output_type": "stream",
     "text": [
      "Query ejecutada correctamente.\n",
      "Query ejecutada correctamente.\n",
      "Query ejecutada correctamente.\n"
     ]
    },
    {
     "name": "stderr",
     "output_type": "stream",
     "text": [
      "Insertando registros:  11%|█         | 164/1560 [05:18<57:38,  2.48s/it]"
     ]
    },
    {
     "name": "stdout",
     "output_type": "stream",
     "text": [
      "Query ejecutada correctamente.\n",
      "Query ejecutada correctamente.\n",
      "Query ejecutada correctamente.\n"
     ]
    },
    {
     "name": "stderr",
     "output_type": "stream",
     "text": [
      "Insertando registros:  11%|█         | 165/1560 [05:21<57:08,  2.46s/it]"
     ]
    },
    {
     "name": "stdout",
     "output_type": "stream",
     "text": [
      "Query ejecutada correctamente.\n",
      "Query ejecutada correctamente.\n",
      "Query ejecutada correctamente.\n"
     ]
    },
    {
     "name": "stderr",
     "output_type": "stream",
     "text": [
      "Insertando registros:  11%|█         | 166/1560 [05:23<59:13,  2.55s/it]"
     ]
    },
    {
     "name": "stdout",
     "output_type": "stream",
     "text": [
      "Query ejecutada correctamente.\n"
     ]
    },
    {
     "name": "stderr",
     "output_type": "stream",
     "text": [
      "Insertando registros:  11%|█         | 167/1560 [05:24<47:09,  2.03s/it]"
     ]
    },
    {
     "name": "stdout",
     "output_type": "stream",
     "text": [
      "Query ejecutada correctamente.\n"
     ]
    },
    {
     "name": "stderr",
     "output_type": "stream",
     "text": [
      "Insertando registros:  11%|█         | 168/1560 [05:25<38:30,  1.66s/it]"
     ]
    },
    {
     "name": "stdout",
     "output_type": "stream",
     "text": [
      "Query ejecutada correctamente.\n",
      "Query ejecutada correctamente.\n",
      "Query ejecutada correctamente.\n"
     ]
    },
    {
     "name": "stderr",
     "output_type": "stream",
     "text": [
      "Insertando registros:  11%|█         | 169/1560 [05:28<44:44,  1.93s/it]"
     ]
    },
    {
     "name": "stdout",
     "output_type": "stream",
     "text": [
      "Query ejecutada correctamente.\n"
     ]
    },
    {
     "name": "stderr",
     "output_type": "stream",
     "text": [
      "Insertando registros:  11%|█         | 170/1560 [05:28<37:12,  1.61s/it]"
     ]
    },
    {
     "name": "stdout",
     "output_type": "stream",
     "text": [
      "Query ejecutada correctamente.\n",
      "Query ejecutada correctamente.\n",
      "Query ejecutada correctamente.\n"
     ]
    },
    {
     "name": "stderr",
     "output_type": "stream",
     "text": [
      "Insertando registros:  11%|█         | 171/1560 [05:31<43:02,  1.86s/it]"
     ]
    },
    {
     "name": "stdout",
     "output_type": "stream",
     "text": [
      "Query ejecutada correctamente.\n",
      "Query ejecutada correctamente.\n",
      "Query ejecutada correctamente.\n"
     ]
    },
    {
     "name": "stderr",
     "output_type": "stream",
     "text": [
      "Insertando registros:  11%|█         | 172/1560 [05:33<46:47,  2.02s/it]"
     ]
    },
    {
     "name": "stdout",
     "output_type": "stream",
     "text": [
      "Query ejecutada correctamente.\n",
      "Query ejecutada correctamente.\n",
      "Query ejecutada correctamente.\n"
     ]
    },
    {
     "name": "stderr",
     "output_type": "stream",
     "text": [
      "Insertando registros:  11%|█         | 173/1560 [05:36<49:02,  2.12s/it]"
     ]
    },
    {
     "name": "stdout",
     "output_type": "stream",
     "text": [
      "Query ejecutada correctamente.\n",
      "Query ejecutada correctamente.\n",
      "Query ejecutada correctamente.\n"
     ]
    },
    {
     "name": "stderr",
     "output_type": "stream",
     "text": [
      "Insertando registros:  11%|█         | 174/1560 [05:38<52:39,  2.28s/it]"
     ]
    },
    {
     "name": "stdout",
     "output_type": "stream",
     "text": [
      "Query ejecutada correctamente.\n"
     ]
    },
    {
     "name": "stderr",
     "output_type": "stream",
     "text": [
      "Insertando registros:  11%|█         | 175/1560 [05:39<43:00,  1.86s/it]"
     ]
    },
    {
     "name": "stdout",
     "output_type": "stream",
     "text": [
      "Query ejecutada correctamente.\n"
     ]
    },
    {
     "name": "stderr",
     "output_type": "stream",
     "text": [
      "Insertando registros:  11%|█▏        | 176/1560 [05:40<35:38,  1.55s/it]"
     ]
    },
    {
     "name": "stdout",
     "output_type": "stream",
     "text": [
      "Query ejecutada correctamente.\n",
      "Query ejecutada correctamente.\n",
      "Query ejecutada correctamente.\n"
     ]
    },
    {
     "name": "stderr",
     "output_type": "stream",
     "text": [
      "Insertando registros:  11%|█▏        | 177/1560 [05:42<41:34,  1.80s/it]"
     ]
    },
    {
     "name": "stdout",
     "output_type": "stream",
     "text": [
      "Query ejecutada correctamente.\n"
     ]
    },
    {
     "name": "stderr",
     "output_type": "stream",
     "text": [
      "Insertando registros:  11%|█▏        | 178/1560 [05:43<34:51,  1.51s/it]"
     ]
    },
    {
     "name": "stdout",
     "output_type": "stream",
     "text": [
      "Query ejecutada correctamente.\n",
      "Query ejecutada correctamente.\n",
      "Query ejecutada correctamente.\n"
     ]
    },
    {
     "name": "stderr",
     "output_type": "stream",
     "text": [
      "Insertando registros:  11%|█▏        | 179/1560 [05:46<41:10,  1.79s/it]"
     ]
    },
    {
     "name": "stdout",
     "output_type": "stream",
     "text": [
      "Query ejecutada correctamente.\n",
      "Query ejecutada correctamente.\n",
      "Query ejecutada correctamente.\n"
     ]
    },
    {
     "name": "stderr",
     "output_type": "stream",
     "text": [
      "Insertando registros:  12%|█▏        | 180/1560 [05:48<45:15,  1.97s/it]"
     ]
    },
    {
     "name": "stdout",
     "output_type": "stream",
     "text": [
      "Query ejecutada correctamente.\n",
      "Query ejecutada correctamente.\n",
      "Query ejecutada correctamente.\n"
     ]
    },
    {
     "name": "stderr",
     "output_type": "stream",
     "text": [
      "Insertando registros:  12%|█▏        | 181/1560 [05:50<48:50,  2.13s/it]"
     ]
    },
    {
     "name": "stdout",
     "output_type": "stream",
     "text": [
      "Query ejecutada correctamente.\n",
      "Query ejecutada correctamente.\n",
      "Query ejecutada correctamente.\n"
     ]
    },
    {
     "name": "stderr",
     "output_type": "stream",
     "text": [
      "Insertando registros:  12%|█▏        | 182/1560 [05:53<50:50,  2.21s/it]"
     ]
    },
    {
     "name": "stdout",
     "output_type": "stream",
     "text": [
      "Query ejecutada correctamente.\n",
      "Query ejecutada correctamente.\n",
      "Query ejecutada correctamente.\n"
     ]
    },
    {
     "name": "stderr",
     "output_type": "stream",
     "text": [
      "Insertando registros:  12%|█▏        | 183/1560 [05:55<52:25,  2.28s/it]"
     ]
    },
    {
     "name": "stdout",
     "output_type": "stream",
     "text": [
      "Query ejecutada correctamente.\n"
     ]
    },
    {
     "name": "stderr",
     "output_type": "stream",
     "text": [
      "Insertando registros:  12%|█▏        | 184/1560 [05:56<42:21,  1.85s/it]"
     ]
    },
    {
     "name": "stdout",
     "output_type": "stream",
     "text": [
      "Query ejecutada correctamente.\n",
      "Query ejecutada correctamente.\n",
      "Query ejecutada correctamente.\n"
     ]
    },
    {
     "name": "stderr",
     "output_type": "stream",
     "text": [
      "Insertando registros:  12%|█▏        | 185/1560 [05:59<46:52,  2.05s/it]"
     ]
    },
    {
     "name": "stdout",
     "output_type": "stream",
     "text": [
      "Query ejecutada correctamente.\n",
      "Query ejecutada correctamente.\n",
      "Query ejecutada correctamente.\n"
     ]
    },
    {
     "name": "stderr",
     "output_type": "stream",
     "text": [
      "Insertando registros:  12%|█▏        | 186/1560 [06:01<49:41,  2.17s/it]"
     ]
    },
    {
     "name": "stdout",
     "output_type": "stream",
     "text": [
      "Query ejecutada correctamente.\n",
      "Query ejecutada correctamente.\n",
      "Query ejecutada correctamente.\n"
     ]
    },
    {
     "name": "stderr",
     "output_type": "stream",
     "text": [
      "Insertando registros:  12%|█▏        | 187/1560 [06:04<52:43,  2.30s/it]"
     ]
    },
    {
     "name": "stdout",
     "output_type": "stream",
     "text": [
      "Query ejecutada correctamente.\n",
      "Query ejecutada correctamente.\n",
      "Query ejecutada correctamente.\n"
     ]
    },
    {
     "name": "stderr",
     "output_type": "stream",
     "text": [
      "Insertando registros:  12%|█▏        | 188/1560 [06:06<54:14,  2.37s/it]"
     ]
    },
    {
     "name": "stdout",
     "output_type": "stream",
     "text": [
      "Query ejecutada correctamente.\n",
      "Query ejecutada correctamente.\n",
      "Query ejecutada correctamente.\n"
     ]
    },
    {
     "name": "stderr",
     "output_type": "stream",
     "text": [
      "Insertando registros:  12%|█▏        | 189/1560 [06:09<54:43,  2.39s/it]"
     ]
    },
    {
     "name": "stdout",
     "output_type": "stream",
     "text": [
      "Query ejecutada correctamente.\n",
      "Query ejecutada correctamente.\n",
      "Query ejecutada correctamente.\n"
     ]
    },
    {
     "name": "stderr",
     "output_type": "stream",
     "text": [
      "Insertando registros:  12%|█▏        | 190/1560 [06:11<55:04,  2.41s/it]"
     ]
    },
    {
     "name": "stdout",
     "output_type": "stream",
     "text": [
      "Query ejecutada correctamente.\n",
      "Query ejecutada correctamente.\n",
      "Query ejecutada correctamente.\n"
     ]
    },
    {
     "name": "stderr",
     "output_type": "stream",
     "text": [
      "Insertando registros:  12%|█▏        | 191/1560 [06:14<55:05,  2.41s/it]"
     ]
    },
    {
     "name": "stdout",
     "output_type": "stream",
     "text": [
      "Query ejecutada correctamente.\n"
     ]
    },
    {
     "name": "stderr",
     "output_type": "stream",
     "text": [
      "Insertando registros:  12%|█▏        | 192/1560 [06:14<44:31,  1.95s/it]"
     ]
    },
    {
     "name": "stdout",
     "output_type": "stream",
     "text": [
      "Query ejecutada correctamente.\n",
      "Query ejecutada correctamente.\n",
      "Query ejecutada correctamente.\n"
     ]
    },
    {
     "name": "stderr",
     "output_type": "stream",
     "text": [
      "Insertando registros:  12%|█▏        | 193/1560 [06:17<47:47,  2.10s/it]"
     ]
    },
    {
     "name": "stdout",
     "output_type": "stream",
     "text": [
      "Query ejecutada correctamente.\n"
     ]
    },
    {
     "name": "stderr",
     "output_type": "stream",
     "text": [
      "Insertando registros:  12%|█▏        | 194/1560 [06:18<38:58,  1.71s/it]"
     ]
    },
    {
     "name": "stdout",
     "output_type": "stream",
     "text": [
      "Query ejecutada correctamente.\n",
      "Query ejecutada correctamente.\n",
      "Query ejecutada correctamente.\n"
     ]
    },
    {
     "name": "stderr",
     "output_type": "stream",
     "text": [
      "Insertando registros:  12%|█▎        | 195/1560 [06:20<43:53,  1.93s/it]"
     ]
    },
    {
     "name": "stdout",
     "output_type": "stream",
     "text": [
      "Query ejecutada correctamente.\n",
      "Query ejecutada correctamente.\n",
      "Query ejecutada correctamente.\n"
     ]
    },
    {
     "name": "stderr",
     "output_type": "stream",
     "text": [
      "Insertando registros:  13%|█▎        | 196/1560 [06:23<47:28,  2.09s/it]"
     ]
    },
    {
     "name": "stdout",
     "output_type": "stream",
     "text": [
      "Query ejecutada correctamente.\n",
      "Query ejecutada correctamente.\n",
      "Query ejecutada correctamente.\n"
     ]
    },
    {
     "name": "stderr",
     "output_type": "stream",
     "text": [
      "Insertando registros:  13%|█▎        | 197/1560 [06:25<49:38,  2.19s/it]"
     ]
    },
    {
     "name": "stdout",
     "output_type": "stream",
     "text": [
      "Query ejecutada correctamente.\n",
      "Query ejecutada correctamente.\n",
      "Query ejecutada correctamente.\n"
     ]
    },
    {
     "name": "stderr",
     "output_type": "stream",
     "text": [
      "Insertando registros:  13%|█▎        | 198/1560 [06:27<50:47,  2.24s/it]"
     ]
    },
    {
     "name": "stdout",
     "output_type": "stream",
     "text": [
      "Query ejecutada correctamente.\n",
      "Query ejecutada correctamente.\n",
      "Query ejecutada correctamente.\n"
     ]
    },
    {
     "name": "stderr",
     "output_type": "stream",
     "text": [
      "Insertando registros:  13%|█▎        | 199/1560 [06:30<52:19,  2.31s/it]"
     ]
    },
    {
     "name": "stdout",
     "output_type": "stream",
     "text": [
      "Query ejecutada correctamente.\n",
      "Query ejecutada correctamente.\n",
      "Query ejecutada correctamente.\n"
     ]
    },
    {
     "name": "stderr",
     "output_type": "stream",
     "text": [
      "Insertando registros:  13%|█▎        | 200/1560 [06:32<53:33,  2.36s/it]"
     ]
    },
    {
     "name": "stdout",
     "output_type": "stream",
     "text": [
      "Query ejecutada correctamente.\n",
      "Query ejecutada correctamente.\n",
      "Query ejecutada correctamente.\n"
     ]
    },
    {
     "name": "stderr",
     "output_type": "stream",
     "text": [
      "Insertando registros:  13%|█▎        | 201/1560 [06:35<54:34,  2.41s/it]"
     ]
    },
    {
     "name": "stdout",
     "output_type": "stream",
     "text": [
      "Query ejecutada correctamente.\n",
      "Query ejecutada correctamente.\n",
      "Query ejecutada correctamente.\n"
     ]
    },
    {
     "name": "stderr",
     "output_type": "stream",
     "text": [
      "Insertando registros:  13%|█▎        | 202/1560 [06:37<55:31,  2.45s/it]"
     ]
    },
    {
     "name": "stdout",
     "output_type": "stream",
     "text": [
      "Query ejecutada correctamente.\n",
      "Query ejecutada correctamente.\n",
      "Query ejecutada correctamente.\n"
     ]
    },
    {
     "name": "stderr",
     "output_type": "stream",
     "text": [
      "Insertando registros:  13%|█▎        | 203/1560 [06:40<55:28,  2.45s/it]"
     ]
    },
    {
     "name": "stdout",
     "output_type": "stream",
     "text": [
      "Query ejecutada correctamente.\n",
      "Query ejecutada correctamente.\n",
      "Query ejecutada correctamente.\n"
     ]
    },
    {
     "name": "stderr",
     "output_type": "stream",
     "text": [
      "Insertando registros:  13%|█▎        | 204/1560 [06:42<55:36,  2.46s/it]"
     ]
    },
    {
     "name": "stdout",
     "output_type": "stream",
     "text": [
      "Query ejecutada correctamente.\n",
      "Query ejecutada correctamente.\n",
      "Query ejecutada correctamente.\n"
     ]
    },
    {
     "name": "stderr",
     "output_type": "stream",
     "text": [
      "Insertando registros:  13%|█▎        | 205/1560 [06:45<55:37,  2.46s/it]"
     ]
    },
    {
     "name": "stdout",
     "output_type": "stream",
     "text": [
      "Query ejecutada correctamente.\n",
      "Query ejecutada correctamente.\n",
      "Query ejecutada correctamente.\n"
     ]
    },
    {
     "name": "stderr",
     "output_type": "stream",
     "text": [
      "Insertando registros:  13%|█▎        | 206/1560 [06:47<55:20,  2.45s/it]"
     ]
    },
    {
     "name": "stdout",
     "output_type": "stream",
     "text": [
      "Query ejecutada correctamente.\n",
      "Query ejecutada correctamente.\n",
      "Query ejecutada correctamente.\n"
     ]
    },
    {
     "name": "stderr",
     "output_type": "stream",
     "text": [
      "Insertando registros:  13%|█▎        | 207/1560 [06:50<55:01,  2.44s/it]"
     ]
    },
    {
     "name": "stdout",
     "output_type": "stream",
     "text": [
      "Query ejecutada correctamente.\n"
     ]
    },
    {
     "name": "stderr",
     "output_type": "stream",
     "text": [
      "Insertando registros:  13%|█▎        | 208/1560 [06:50<44:08,  1.96s/it]"
     ]
    },
    {
     "name": "stdout",
     "output_type": "stream",
     "text": [
      "Query ejecutada correctamente.\n",
      "Query ejecutada correctamente.\n",
      "Query ejecutada correctamente.\n"
     ]
    },
    {
     "name": "stderr",
     "output_type": "stream",
     "text": [
      "Insertando registros:  13%|█▎        | 209/1560 [06:53<47:18,  2.10s/it]"
     ]
    },
    {
     "name": "stdout",
     "output_type": "stream",
     "text": [
      "Query ejecutada correctamente.\n",
      "Query ejecutada correctamente.\n",
      "Query ejecutada correctamente.\n"
     ]
    },
    {
     "name": "stderr",
     "output_type": "stream",
     "text": [
      "Insertando registros:  13%|█▎        | 210/1560 [06:55<49:23,  2.19s/it]"
     ]
    },
    {
     "name": "stdout",
     "output_type": "stream",
     "text": [
      "Query ejecutada correctamente.\n",
      "Query ejecutada correctamente.\n",
      "Query ejecutada correctamente.\n"
     ]
    },
    {
     "name": "stderr",
     "output_type": "stream",
     "text": [
      "Insertando registros:  14%|█▎        | 211/1560 [06:58<51:36,  2.30s/it]"
     ]
    },
    {
     "name": "stdout",
     "output_type": "stream",
     "text": [
      "Query ejecutada correctamente.\n"
     ]
    },
    {
     "name": "stderr",
     "output_type": "stream",
     "text": [
      "Insertando registros:  14%|█▎        | 212/1560 [06:59<41:42,  1.86s/it]"
     ]
    },
    {
     "name": "stdout",
     "output_type": "stream",
     "text": [
      "Query ejecutada correctamente.\n"
     ]
    },
    {
     "name": "stderr",
     "output_type": "stream",
     "text": [
      "Insertando registros:  14%|█▎        | 213/1560 [07:00<34:37,  1.54s/it]"
     ]
    },
    {
     "name": "stdout",
     "output_type": "stream",
     "text": [
      "Query ejecutada correctamente.\n",
      "Query ejecutada correctamente.\n",
      "Query ejecutada correctamente.\n"
     ]
    },
    {
     "name": "stderr",
     "output_type": "stream",
     "text": [
      "Insertando registros:  14%|█▎        | 214/1560 [07:02<39:42,  1.77s/it]"
     ]
    },
    {
     "name": "stdout",
     "output_type": "stream",
     "text": [
      "Query ejecutada correctamente.\n",
      "Query ejecutada correctamente.\n",
      "Query ejecutada correctamente.\n"
     ]
    },
    {
     "name": "stderr",
     "output_type": "stream",
     "text": [
      "Insertando registros:  14%|█▍        | 215/1560 [07:04<43:41,  1.95s/it]"
     ]
    },
    {
     "name": "stdout",
     "output_type": "stream",
     "text": [
      "Query ejecutada correctamente.\n",
      "Query ejecutada correctamente.\n",
      "Query ejecutada correctamente.\n"
     ]
    },
    {
     "name": "stderr",
     "output_type": "stream",
     "text": [
      "Insertando registros:  14%|█▍        | 216/1560 [07:07<46:11,  2.06s/it]"
     ]
    },
    {
     "name": "stdout",
     "output_type": "stream",
     "text": [
      "Query ejecutada correctamente.\n",
      "Query ejecutada correctamente.\n",
      "Query ejecutada correctamente.\n"
     ]
    },
    {
     "name": "stderr",
     "output_type": "stream",
     "text": [
      "Insertando registros:  14%|█▍        | 217/1560 [07:09<49:45,  2.22s/it]"
     ]
    },
    {
     "name": "stdout",
     "output_type": "stream",
     "text": [
      "Query ejecutada correctamente.\n",
      "Query ejecutada correctamente.\n",
      "Query ejecutada correctamente.\n"
     ]
    },
    {
     "name": "stderr",
     "output_type": "stream",
     "text": [
      "Insertando registros:  14%|█▍        | 218/1560 [07:11<50:31,  2.26s/it]"
     ]
    },
    {
     "name": "stdout",
     "output_type": "stream",
     "text": [
      "Query ejecutada correctamente.\n"
     ]
    },
    {
     "name": "stderr",
     "output_type": "stream",
     "text": [
      "Insertando registros:  14%|█▍        | 219/1560 [07:12<40:29,  1.81s/it]"
     ]
    },
    {
     "name": "stdout",
     "output_type": "stream",
     "text": [
      "Query ejecutada correctamente.\n",
      "Query ejecutada correctamente.\n",
      "Query ejecutada correctamente.\n"
     ]
    },
    {
     "name": "stderr",
     "output_type": "stream",
     "text": [
      "Insertando registros:  14%|█▍        | 220/1560 [07:15<43:39,  1.96s/it]"
     ]
    },
    {
     "name": "stdout",
     "output_type": "stream",
     "text": [
      "Query ejecutada correctamente.\n",
      "Query ejecutada correctamente.\n",
      "Query ejecutada correctamente.\n"
     ]
    },
    {
     "name": "stderr",
     "output_type": "stream",
     "text": [
      "Insertando registros:  14%|█▍        | 221/1560 [07:17<46:06,  2.07s/it]"
     ]
    },
    {
     "name": "stdout",
     "output_type": "stream",
     "text": [
      "Query ejecutada correctamente.\n"
     ]
    },
    {
     "name": "stderr",
     "output_type": "stream",
     "text": [
      "Insertando registros:  14%|█▍        | 222/1560 [07:18<37:35,  1.69s/it]"
     ]
    },
    {
     "name": "stdout",
     "output_type": "stream",
     "text": [
      "Query ejecutada correctamente.\n"
     ]
    },
    {
     "name": "stderr",
     "output_type": "stream",
     "text": [
      "Insertando registros:  14%|█▍        | 223/1560 [07:18<31:28,  1.41s/it]"
     ]
    },
    {
     "name": "stdout",
     "output_type": "stream",
     "text": [
      "Query ejecutada correctamente.\n",
      "Query ejecutada correctamente.\n",
      "Query ejecutada correctamente.\n"
     ]
    },
    {
     "name": "stderr",
     "output_type": "stream",
     "text": [
      "Insertando registros:  14%|█▍        | 224/1560 [07:21<37:24,  1.68s/it]"
     ]
    },
    {
     "name": "stdout",
     "output_type": "stream",
     "text": [
      "Query ejecutada correctamente.\n",
      "Query ejecutada correctamente.\n",
      "Query ejecutada correctamente.\n"
     ]
    },
    {
     "name": "stderr",
     "output_type": "stream",
     "text": [
      "Insertando registros:  14%|█▍        | 225/1560 [07:23<41:36,  1.87s/it]"
     ]
    },
    {
     "name": "stdout",
     "output_type": "stream",
     "text": [
      "Query ejecutada correctamente.\n",
      "Query ejecutada correctamente.\n",
      "Query ejecutada correctamente.\n"
     ]
    },
    {
     "name": "stderr",
     "output_type": "stream",
     "text": [
      "Insertando registros:  14%|█▍        | 226/1560 [07:25<44:35,  2.01s/it]"
     ]
    },
    {
     "name": "stdout",
     "output_type": "stream",
     "text": [
      "Query ejecutada correctamente.\n",
      "Query ejecutada correctamente.\n",
      "Query ejecutada correctamente.\n"
     ]
    },
    {
     "name": "stderr",
     "output_type": "stream",
     "text": [
      "Insertando registros:  15%|█▍        | 227/1560 [07:28<46:38,  2.10s/it]"
     ]
    },
    {
     "name": "stdout",
     "output_type": "stream",
     "text": [
      "Query ejecutada correctamente.\n",
      "Query ejecutada correctamente.\n",
      "Query ejecutada correctamente.\n"
     ]
    },
    {
     "name": "stderr",
     "output_type": "stream",
     "text": [
      "Insertando registros:  15%|█▍        | 228/1560 [07:30<47:59,  2.16s/it]"
     ]
    },
    {
     "name": "stdout",
     "output_type": "stream",
     "text": [
      "Query ejecutada correctamente.\n",
      "Query ejecutada correctamente.\n",
      "Query ejecutada correctamente.\n"
     ]
    },
    {
     "name": "stderr",
     "output_type": "stream",
     "text": [
      "Insertando registros:  15%|█▍        | 229/1560 [07:32<48:53,  2.20s/it]"
     ]
    },
    {
     "name": "stdout",
     "output_type": "stream",
     "text": [
      "Query ejecutada correctamente.\n",
      "Query ejecutada correctamente.\n",
      "Query ejecutada correctamente.\n"
     ]
    },
    {
     "name": "stderr",
     "output_type": "stream",
     "text": [
      "Insertando registros:  15%|█▍        | 230/1560 [07:35<49:37,  2.24s/it]"
     ]
    },
    {
     "name": "stdout",
     "output_type": "stream",
     "text": [
      "Query ejecutada correctamente.\n"
     ]
    },
    {
     "name": "stderr",
     "output_type": "stream",
     "text": [
      "Insertando registros:  15%|█▍        | 231/1560 [07:35<39:49,  1.80s/it]"
     ]
    },
    {
     "name": "stdout",
     "output_type": "stream",
     "text": [
      "Query ejecutada correctamente.\n",
      "Query ejecutada correctamente.\n",
      "Query ejecutada correctamente.\n"
     ]
    },
    {
     "name": "stderr",
     "output_type": "stream",
     "text": [
      "Insertando registros:  15%|█▍        | 232/1560 [07:38<43:16,  1.96s/it]"
     ]
    },
    {
     "name": "stdout",
     "output_type": "stream",
     "text": [
      "Query ejecutada correctamente.\n",
      "Query ejecutada correctamente.\n",
      "Query ejecutada correctamente.\n"
     ]
    },
    {
     "name": "stderr",
     "output_type": "stream",
     "text": [
      "Insertando registros:  15%|█▍        | 233/1560 [07:40<46:02,  2.08s/it]"
     ]
    },
    {
     "name": "stdout",
     "output_type": "stream",
     "text": [
      "Query ejecutada correctamente.\n"
     ]
    },
    {
     "name": "stderr",
     "output_type": "stream",
     "text": [
      "Insertando registros:  15%|█▌        | 234/1560 [07:41<37:30,  1.70s/it]"
     ]
    },
    {
     "name": "stdout",
     "output_type": "stream",
     "text": [
      "Query ejecutada correctamente.\n",
      "Query ejecutada correctamente.\n",
      "Query ejecutada correctamente.\n"
     ]
    },
    {
     "name": "stderr",
     "output_type": "stream",
     "text": [
      "Insertando registros:  15%|█▌        | 235/1560 [07:43<41:32,  1.88s/it]"
     ]
    },
    {
     "name": "stdout",
     "output_type": "stream",
     "text": [
      "Query ejecutada correctamente.\n",
      "Query ejecutada correctamente.\n",
      "Query ejecutada correctamente.\n"
     ]
    },
    {
     "name": "stderr",
     "output_type": "stream",
     "text": [
      "Insertando registros:  15%|█▌        | 236/1560 [07:46<44:30,  2.02s/it]"
     ]
    },
    {
     "name": "stdout",
     "output_type": "stream",
     "text": [
      "Query ejecutada correctamente.\n",
      "Query ejecutada correctamente.\n",
      "Query ejecutada correctamente.\n"
     ]
    },
    {
     "name": "stderr",
     "output_type": "stream",
     "text": [
      "Insertando registros:  15%|█▌        | 237/1560 [07:48<46:38,  2.12s/it]"
     ]
    },
    {
     "name": "stdout",
     "output_type": "stream",
     "text": [
      "Query ejecutada correctamente.\n",
      "Query ejecutada correctamente.\n",
      "Query ejecutada correctamente.\n"
     ]
    },
    {
     "name": "stderr",
     "output_type": "stream",
     "text": [
      "Insertando registros:  15%|█▌        | 238/1560 [07:50<48:40,  2.21s/it]"
     ]
    },
    {
     "name": "stdout",
     "output_type": "stream",
     "text": [
      "Query ejecutada correctamente.\n",
      "Query ejecutada correctamente.\n",
      "Query ejecutada correctamente.\n"
     ]
    },
    {
     "name": "stderr",
     "output_type": "stream",
     "text": [
      "Insertando registros:  15%|█▌        | 239/1560 [07:53<49:08,  2.23s/it]"
     ]
    },
    {
     "name": "stdout",
     "output_type": "stream",
     "text": [
      "Query ejecutada correctamente.\n",
      "Query ejecutada correctamente.\n",
      "Query ejecutada correctamente.\n"
     ]
    },
    {
     "name": "stderr",
     "output_type": "stream",
     "text": [
      "Insertando registros:  15%|█▌        | 240/1560 [07:55<49:37,  2.26s/it]"
     ]
    },
    {
     "name": "stdout",
     "output_type": "stream",
     "text": [
      "Query ejecutada correctamente.\n"
     ]
    },
    {
     "name": "stderr",
     "output_type": "stream",
     "text": [
      "Insertando registros:  15%|█▌        | 241/1560 [07:56<39:53,  1.81s/it]"
     ]
    },
    {
     "name": "stdout",
     "output_type": "stream",
     "text": [
      "Query ejecutada correctamente.\n",
      "Query ejecutada correctamente.\n",
      "Query ejecutada correctamente.\n"
     ]
    },
    {
     "name": "stderr",
     "output_type": "stream",
     "text": [
      "Insertando registros:  16%|█▌        | 242/1560 [07:58<43:02,  1.96s/it]"
     ]
    },
    {
     "name": "stdout",
     "output_type": "stream",
     "text": [
      "Query ejecutada correctamente.\n",
      "Query ejecutada correctamente.\n",
      "Query ejecutada correctamente.\n"
     ]
    },
    {
     "name": "stderr",
     "output_type": "stream",
     "text": [
      "Insertando registros:  16%|█▌        | 243/1560 [08:00<45:19,  2.06s/it]"
     ]
    },
    {
     "name": "stdout",
     "output_type": "stream",
     "text": [
      "Query ejecutada correctamente.\n"
     ]
    },
    {
     "name": "stderr",
     "output_type": "stream",
     "text": [
      "Insertando registros:  16%|█▌        | 244/1560 [08:01<36:49,  1.68s/it]"
     ]
    },
    {
     "name": "stdout",
     "output_type": "stream",
     "text": [
      "Query ejecutada correctamente.\n",
      "Query ejecutada correctamente.\n",
      "Query ejecutada correctamente.\n"
     ]
    },
    {
     "name": "stderr",
     "output_type": "stream",
     "text": [
      "Insertando registros:  16%|█▌        | 245/1560 [08:03<40:53,  1.87s/it]"
     ]
    },
    {
     "name": "stdout",
     "output_type": "stream",
     "text": [
      "Query ejecutada correctamente.\n"
     ]
    },
    {
     "name": "stderr",
     "output_type": "stream",
     "text": [
      "Insertando registros:  16%|█▌        | 246/1560 [08:04<33:40,  1.54s/it]"
     ]
    },
    {
     "name": "stdout",
     "output_type": "stream",
     "text": [
      "Query ejecutada correctamente.\n"
     ]
    },
    {
     "name": "stderr",
     "output_type": "stream",
     "text": [
      "Insertando registros:  16%|█▌        | 247/1560 [08:05<28:41,  1.31s/it]"
     ]
    },
    {
     "name": "stdout",
     "output_type": "stream",
     "text": [
      "Query ejecutada correctamente.\n",
      "Query ejecutada correctamente.\n",
      "Query ejecutada correctamente.\n"
     ]
    },
    {
     "name": "stderr",
     "output_type": "stream",
     "text": [
      "Insertando registros:  16%|█▌        | 248/1560 [08:07<35:07,  1.61s/it]"
     ]
    },
    {
     "name": "stdout",
     "output_type": "stream",
     "text": [
      "Query ejecutada correctamente.\n"
     ]
    },
    {
     "name": "stderr",
     "output_type": "stream",
     "text": [
      "Insertando registros:  16%|█▌        | 249/1560 [08:08<29:42,  1.36s/it]"
     ]
    },
    {
     "name": "stdout",
     "output_type": "stream",
     "text": [
      "Query ejecutada correctamente.\n",
      "Query ejecutada correctamente.\n",
      "Query ejecutada correctamente.\n"
     ]
    },
    {
     "name": "stderr",
     "output_type": "stream",
     "text": [
      "Insertando registros:  16%|█▌        | 250/1560 [08:10<35:58,  1.65s/it]"
     ]
    },
    {
     "name": "stdout",
     "output_type": "stream",
     "text": [
      "Query ejecutada correctamente.\n"
     ]
    },
    {
     "name": "stderr",
     "output_type": "stream",
     "text": [
      "Insertando registros:  16%|█▌        | 251/1560 [08:11<30:18,  1.39s/it]"
     ]
    },
    {
     "name": "stdout",
     "output_type": "stream",
     "text": [
      "Query ejecutada correctamente.\n",
      "Query ejecutada correctamente.\n",
      "Query ejecutada correctamente.\n"
     ]
    },
    {
     "name": "stderr",
     "output_type": "stream",
     "text": [
      "Insertando registros:  16%|█▌        | 252/1560 [08:13<36:09,  1.66s/it]"
     ]
    },
    {
     "name": "stdout",
     "output_type": "stream",
     "text": [
      "Query ejecutada correctamente.\n",
      "Query ejecutada correctamente.\n",
      "Query ejecutada correctamente.\n"
     ]
    },
    {
     "name": "stderr",
     "output_type": "stream",
     "text": [
      "Insertando registros:  16%|█▌        | 253/1560 [08:16<40:21,  1.85s/it]"
     ]
    },
    {
     "name": "stdout",
     "output_type": "stream",
     "text": [
      "Query ejecutada correctamente.\n",
      "Query ejecutada correctamente.\n",
      "Query ejecutada correctamente.\n"
     ]
    },
    {
     "name": "stderr",
     "output_type": "stream",
     "text": [
      "Insertando registros:  16%|█▋        | 254/1560 [08:18<43:21,  1.99s/it]"
     ]
    },
    {
     "name": "stdout",
     "output_type": "stream",
     "text": [
      "Query ejecutada correctamente.\n",
      "Query ejecutada correctamente.\n",
      "Query ejecutada correctamente.\n"
     ]
    },
    {
     "name": "stderr",
     "output_type": "stream",
     "text": [
      "Insertando registros:  16%|█▋        | 255/1560 [08:20<45:24,  2.09s/it]"
     ]
    },
    {
     "name": "stdout",
     "output_type": "stream",
     "text": [
      "Query ejecutada correctamente.\n",
      "Query ejecutada correctamente.\n",
      "Query ejecutada correctamente.\n"
     ]
    },
    {
     "name": "stderr",
     "output_type": "stream",
     "text": [
      "Insertando registros:  16%|█▋        | 256/1560 [08:23<46:59,  2.16s/it]"
     ]
    },
    {
     "name": "stdout",
     "output_type": "stream",
     "text": [
      "Query ejecutada correctamente.\n"
     ]
    },
    {
     "name": "stderr",
     "output_type": "stream",
     "text": [
      "Insertando registros:  16%|█▋        | 257/1560 [08:23<37:53,  1.74s/it]"
     ]
    },
    {
     "name": "stdout",
     "output_type": "stream",
     "text": [
      "Query ejecutada correctamente.\n",
      "Query ejecutada correctamente.\n",
      "Query ejecutada correctamente.\n"
     ]
    },
    {
     "name": "stderr",
     "output_type": "stream",
     "text": [
      "Insertando registros:  17%|█▋        | 258/1560 [08:26<42:02,  1.94s/it]"
     ]
    },
    {
     "name": "stdout",
     "output_type": "stream",
     "text": [
      "Query ejecutada correctamente.\n",
      "Query ejecutada correctamente.\n",
      "Query ejecutada correctamente.\n"
     ]
    },
    {
     "name": "stderr",
     "output_type": "stream",
     "text": [
      "Insertando registros:  17%|█▋        | 259/1560 [08:28<44:45,  2.06s/it]"
     ]
    },
    {
     "name": "stdout",
     "output_type": "stream",
     "text": [
      "Query ejecutada correctamente.\n",
      "Query ejecutada correctamente.\n",
      "Query ejecutada correctamente.\n"
     ]
    },
    {
     "name": "stderr",
     "output_type": "stream",
     "text": [
      "Insertando registros:  17%|█▋        | 260/1560 [08:30<46:18,  2.14s/it]"
     ]
    },
    {
     "name": "stdout",
     "output_type": "stream",
     "text": [
      "Query ejecutada correctamente.\n"
     ]
    },
    {
     "name": "stderr",
     "output_type": "stream",
     "text": [
      "Insertando registros:  17%|█▋        | 261/1560 [08:31<37:23,  1.73s/it]"
     ]
    },
    {
     "name": "stdout",
     "output_type": "stream",
     "text": [
      "Query ejecutada correctamente.\n",
      "Query ejecutada correctamente.\n",
      "Query ejecutada correctamente.\n"
     ]
    },
    {
     "name": "stderr",
     "output_type": "stream",
     "text": [
      "Insertando registros:  17%|█▋        | 262/1560 [08:34<41:08,  1.90s/it]"
     ]
    },
    {
     "name": "stdout",
     "output_type": "stream",
     "text": [
      "Query ejecutada correctamente.\n"
     ]
    },
    {
     "name": "stderr",
     "output_type": "stream",
     "text": [
      "Insertando registros:  17%|█▋        | 263/1560 [08:34<33:49,  1.56s/it]"
     ]
    },
    {
     "name": "stdout",
     "output_type": "stream",
     "text": [
      "Query ejecutada correctamente.\n",
      "Query ejecutada correctamente.\n",
      "Query ejecutada correctamente.\n"
     ]
    },
    {
     "name": "stderr",
     "output_type": "stream",
     "text": [
      "Insertando registros:  17%|█▋        | 264/1560 [08:37<39:36,  1.83s/it]"
     ]
    },
    {
     "name": "stdout",
     "output_type": "stream",
     "text": [
      "Query ejecutada correctamente.\n",
      "Query ejecutada correctamente.\n",
      "Query ejecutada correctamente.\n"
     ]
    },
    {
     "name": "stderr",
     "output_type": "stream",
     "text": [
      "Insertando registros:  17%|█▋        | 265/1560 [08:39<42:42,  1.98s/it]"
     ]
    },
    {
     "name": "stdout",
     "output_type": "stream",
     "text": [
      "Query ejecutada correctamente.\n"
     ]
    },
    {
     "name": "stderr",
     "output_type": "stream",
     "text": [
      "Insertando registros:  17%|█▋        | 266/1560 [08:40<34:57,  1.62s/it]"
     ]
    },
    {
     "name": "stdout",
     "output_type": "stream",
     "text": [
      "Query ejecutada correctamente.\n"
     ]
    },
    {
     "name": "stderr",
     "output_type": "stream",
     "text": [
      "Insertando registros:  17%|█▋        | 267/1560 [08:41<29:27,  1.37s/it]"
     ]
    },
    {
     "name": "stdout",
     "output_type": "stream",
     "text": [
      "Query ejecutada correctamente.\n"
     ]
    },
    {
     "name": "stderr",
     "output_type": "stream",
     "text": [
      "Insertando registros:  17%|█▋        | 268/1560 [08:41<25:37,  1.19s/it]"
     ]
    },
    {
     "name": "stdout",
     "output_type": "stream",
     "text": [
      "Query ejecutada correctamente.\n",
      "Query ejecutada correctamente.\n",
      "Query ejecutada correctamente.\n"
     ]
    },
    {
     "name": "stderr",
     "output_type": "stream",
     "text": [
      "Insertando registros:  17%|█▋        | 269/1560 [08:44<33:34,  1.56s/it]"
     ]
    },
    {
     "name": "stdout",
     "output_type": "stream",
     "text": [
      "Query ejecutada correctamente.\n",
      "Query ejecutada correctamente.\n",
      "Query ejecutada correctamente.\n"
     ]
    },
    {
     "name": "stderr",
     "output_type": "stream",
     "text": [
      "Insertando registros:  17%|█▋        | 270/1560 [08:46<39:16,  1.83s/it]"
     ]
    },
    {
     "name": "stdout",
     "output_type": "stream",
     "text": [
      "Query ejecutada correctamente.\n",
      "Query ejecutada correctamente.\n",
      "Query ejecutada correctamente.\n"
     ]
    },
    {
     "name": "stderr",
     "output_type": "stream",
     "text": [
      "Insertando registros:  17%|█▋        | 271/1560 [08:49<42:38,  1.98s/it]"
     ]
    },
    {
     "name": "stdout",
     "output_type": "stream",
     "text": [
      "Query ejecutada correctamente.\n",
      "Query ejecutada correctamente.\n",
      "Query ejecutada correctamente.\n"
     ]
    },
    {
     "name": "stderr",
     "output_type": "stream",
     "text": [
      "Insertando registros:  17%|█▋        | 272/1560 [08:51<44:57,  2.09s/it]"
     ]
    },
    {
     "name": "stdout",
     "output_type": "stream",
     "text": [
      "Query ejecutada correctamente.\n",
      "Query ejecutada correctamente.\n",
      "Query ejecutada correctamente.\n"
     ]
    },
    {
     "name": "stderr",
     "output_type": "stream",
     "text": [
      "Insertando registros:  18%|█▊        | 273/1560 [08:53<46:39,  2.17s/it]"
     ]
    },
    {
     "name": "stdout",
     "output_type": "stream",
     "text": [
      "Query ejecutada correctamente.\n",
      "Query ejecutada correctamente.\n",
      "Query ejecutada correctamente.\n"
     ]
    },
    {
     "name": "stderr",
     "output_type": "stream",
     "text": [
      "Insertando registros:  18%|█▊        | 274/1560 [08:56<47:51,  2.23s/it]"
     ]
    },
    {
     "name": "stdout",
     "output_type": "stream",
     "text": [
      "Query ejecutada correctamente.\n",
      "Query ejecutada correctamente.\n",
      "Query ejecutada correctamente.\n"
     ]
    },
    {
     "name": "stderr",
     "output_type": "stream",
     "text": [
      "Insertando registros:  18%|█▊        | 275/1560 [08:58<48:41,  2.27s/it]"
     ]
    },
    {
     "name": "stdout",
     "output_type": "stream",
     "text": [
      "Query ejecutada correctamente.\n",
      "Query ejecutada correctamente.\n",
      "Query ejecutada correctamente.\n"
     ]
    },
    {
     "name": "stderr",
     "output_type": "stream",
     "text": [
      "Insertando registros:  18%|█▊        | 276/1560 [09:00<49:15,  2.30s/it]"
     ]
    },
    {
     "name": "stdout",
     "output_type": "stream",
     "text": [
      "Query ejecutada correctamente.\n",
      "Query ejecutada correctamente.\n",
      "Query ejecutada correctamente.\n"
     ]
    },
    {
     "name": "stderr",
     "output_type": "stream",
     "text": [
      "Insertando registros:  18%|█▊        | 277/1560 [09:03<49:35,  2.32s/it]"
     ]
    },
    {
     "name": "stdout",
     "output_type": "stream",
     "text": [
      "Query ejecutada correctamente.\n",
      "Query ejecutada correctamente.\n",
      "Query ejecutada correctamente.\n"
     ]
    },
    {
     "name": "stderr",
     "output_type": "stream",
     "text": [
      "Insertando registros:  18%|█▊        | 278/1560 [09:05<49:49,  2.33s/it]"
     ]
    },
    {
     "name": "stdout",
     "output_type": "stream",
     "text": [
      "Query ejecutada correctamente.\n",
      "Query ejecutada correctamente.\n",
      "Query ejecutada correctamente.\n"
     ]
    },
    {
     "name": "stderr",
     "output_type": "stream",
     "text": [
      "Insertando registros:  18%|█▊        | 279/1560 [09:08<49:54,  2.34s/it]"
     ]
    },
    {
     "name": "stdout",
     "output_type": "stream",
     "text": [
      "Query ejecutada correctamente.\n",
      "Query ejecutada correctamente.\n",
      "Query ejecutada correctamente.\n"
     ]
    },
    {
     "name": "stderr",
     "output_type": "stream",
     "text": [
      "Insertando registros:  18%|█▊        | 280/1560 [09:10<52:18,  2.45s/it]"
     ]
    },
    {
     "name": "stdout",
     "output_type": "stream",
     "text": [
      "Query ejecutada correctamente.\n",
      "Query ejecutada correctamente.\n",
      "Query ejecutada correctamente.\n"
     ]
    },
    {
     "name": "stderr",
     "output_type": "stream",
     "text": [
      "Insertando registros:  18%|█▊        | 281/1560 [09:13<54:00,  2.53s/it]"
     ]
    },
    {
     "name": "stdout",
     "output_type": "stream",
     "text": [
      "Query ejecutada correctamente.\n",
      "Query ejecutada correctamente.\n",
      "Query ejecutada correctamente.\n"
     ]
    },
    {
     "name": "stderr",
     "output_type": "stream",
     "text": [
      "Insertando registros:  18%|█▊        | 282/1560 [09:16<55:34,  2.61s/it]"
     ]
    },
    {
     "name": "stdout",
     "output_type": "stream",
     "text": [
      "Query ejecutada correctamente.\n"
     ]
    },
    {
     "name": "stderr",
     "output_type": "stream",
     "text": [
      "Insertando registros:  18%|█▊        | 283/1560 [09:17<45:51,  2.15s/it]"
     ]
    },
    {
     "name": "stdout",
     "output_type": "stream",
     "text": [
      "Query ejecutada correctamente.\n"
     ]
    },
    {
     "name": "stderr",
     "output_type": "stream",
     "text": [
      "Insertando registros:  18%|█▊        | 284/1560 [09:18<37:10,  1.75s/it]"
     ]
    },
    {
     "name": "stdout",
     "output_type": "stream",
     "text": [
      "Query ejecutada correctamente.\n",
      "Query ejecutada correctamente.\n",
      "Query ejecutada correctamente.\n"
     ]
    },
    {
     "name": "stderr",
     "output_type": "stream",
     "text": [
      "Insertando registros:  18%|█▊        | 285/1560 [09:20<40:50,  1.92s/it]"
     ]
    },
    {
     "name": "stdout",
     "output_type": "stream",
     "text": [
      "Query ejecutada correctamente.\n",
      "Query ejecutada correctamente.\n",
      "Query ejecutada correctamente.\n"
     ]
    },
    {
     "name": "stderr",
     "output_type": "stream",
     "text": [
      "Insertando registros:  18%|█▊        | 286/1560 [09:22<43:23,  2.04s/it]"
     ]
    },
    {
     "name": "stdout",
     "output_type": "stream",
     "text": [
      "Query ejecutada correctamente.\n",
      "Query ejecutada correctamente.\n",
      "Query ejecutada correctamente.\n"
     ]
    },
    {
     "name": "stderr",
     "output_type": "stream",
     "text": [
      "Insertando registros:  18%|█▊        | 287/1560 [09:25<45:13,  2.13s/it]"
     ]
    },
    {
     "name": "stdout",
     "output_type": "stream",
     "text": [
      "Query ejecutada correctamente.\n",
      "Query ejecutada correctamente.\n",
      "Query ejecutada correctamente.\n"
     ]
    },
    {
     "name": "stderr",
     "output_type": "stream",
     "text": [
      "Insertando registros:  18%|█▊        | 288/1560 [09:27<46:30,  2.19s/it]"
     ]
    },
    {
     "name": "stdout",
     "output_type": "stream",
     "text": [
      "Query ejecutada correctamente.\n"
     ]
    },
    {
     "name": "stderr",
     "output_type": "stream",
     "text": [
      "Insertando registros:  19%|█▊        | 289/1560 [09:28<37:58,  1.79s/it]"
     ]
    },
    {
     "name": "stdout",
     "output_type": "stream",
     "text": [
      "Query ejecutada correctamente.\n",
      "Query ejecutada correctamente.\n",
      "Query ejecutada correctamente.\n"
     ]
    },
    {
     "name": "stderr",
     "output_type": "stream",
     "text": [
      "Insertando registros:  19%|█▊        | 290/1560 [09:30<42:58,  2.03s/it]"
     ]
    },
    {
     "name": "stdout",
     "output_type": "stream",
     "text": [
      "Query ejecutada correctamente.\n",
      "Query ejecutada correctamente.\n",
      "Query ejecutada correctamente.\n"
     ]
    },
    {
     "name": "stderr",
     "output_type": "stream",
     "text": [
      "Insertando registros:  19%|█▊        | 291/1560 [09:33<46:29,  2.20s/it]"
     ]
    },
    {
     "name": "stdout",
     "output_type": "stream",
     "text": [
      "Query ejecutada correctamente.\n",
      "Query ejecutada correctamente.\n",
      "Query ejecutada correctamente.\n"
     ]
    },
    {
     "name": "stderr",
     "output_type": "stream",
     "text": [
      "Insertando registros:  19%|█▊        | 292/1560 [09:36<50:14,  2.38s/it]"
     ]
    },
    {
     "name": "stdout",
     "output_type": "stream",
     "text": [
      "Query ejecutada correctamente.\n",
      "Query ejecutada correctamente.\n",
      "Query ejecutada correctamente.\n"
     ]
    },
    {
     "name": "stderr",
     "output_type": "stream",
     "text": [
      "Insertando registros:  19%|█▉        | 293/1560 [09:38<51:26,  2.44s/it]"
     ]
    },
    {
     "name": "stdout",
     "output_type": "stream",
     "text": [
      "Query ejecutada correctamente.\n"
     ]
    },
    {
     "name": "stderr",
     "output_type": "stream",
     "text": [
      "Insertando registros:  19%|█▉        | 294/1560 [09:39<41:05,  1.95s/it]"
     ]
    },
    {
     "name": "stdout",
     "output_type": "stream",
     "text": [
      "Query ejecutada correctamente.\n",
      "Query ejecutada correctamente.\n",
      "Query ejecutada correctamente.\n"
     ]
    },
    {
     "name": "stderr",
     "output_type": "stream",
     "text": [
      "Insertando registros:  19%|█▉        | 295/1560 [09:42<43:34,  2.07s/it]"
     ]
    },
    {
     "name": "stdout",
     "output_type": "stream",
     "text": [
      "Query ejecutada correctamente.\n"
     ]
    },
    {
     "name": "stderr",
     "output_type": "stream",
     "text": [
      "Insertando registros:  19%|█▉        | 296/1560 [09:42<35:24,  1.68s/it]"
     ]
    },
    {
     "name": "stdout",
     "output_type": "stream",
     "text": [
      "Query ejecutada correctamente.\n",
      "Query ejecutada correctamente.\n",
      "Query ejecutada correctamente.\n"
     ]
    },
    {
     "name": "stderr",
     "output_type": "stream",
     "text": [
      "Insertando registros:  19%|█▉        | 297/1560 [09:45<39:48,  1.89s/it]"
     ]
    },
    {
     "name": "stdout",
     "output_type": "stream",
     "text": [
      "Query ejecutada correctamente.\n",
      "Query ejecutada correctamente.\n",
      "Query ejecutada correctamente.\n"
     ]
    },
    {
     "name": "stderr",
     "output_type": "stream",
     "text": [
      "Insertando registros:  19%|█▉        | 298/1560 [09:47<42:54,  2.04s/it]"
     ]
    },
    {
     "name": "stdout",
     "output_type": "stream",
     "text": [
      "Query ejecutada correctamente.\n"
     ]
    },
    {
     "name": "stderr",
     "output_type": "stream",
     "text": [
      "Insertando registros:  19%|█▉        | 299/1560 [09:48<35:04,  1.67s/it]"
     ]
    },
    {
     "name": "stdout",
     "output_type": "stream",
     "text": [
      "Query ejecutada correctamente.\n",
      "Query ejecutada correctamente.\n",
      "Query ejecutada correctamente.\n"
     ]
    },
    {
     "name": "stderr",
     "output_type": "stream",
     "text": [
      "Insertando registros:  19%|█▉        | 300/1560 [09:50<39:15,  1.87s/it]"
     ]
    },
    {
     "name": "stdout",
     "output_type": "stream",
     "text": [
      "Query ejecutada correctamente.\n",
      "Query ejecutada correctamente.\n",
      "Query ejecutada correctamente.\n"
     ]
    },
    {
     "name": "stderr",
     "output_type": "stream",
     "text": [
      "Insertando registros:  19%|█▉        | 301/1560 [09:53<42:52,  2.04s/it]"
     ]
    },
    {
     "name": "stdout",
     "output_type": "stream",
     "text": [
      "Query ejecutada correctamente.\n",
      "Query ejecutada correctamente.\n",
      "Query ejecutada correctamente.\n"
     ]
    },
    {
     "name": "stderr",
     "output_type": "stream",
     "text": [
      "Insertando registros:  19%|█▉        | 302/1560 [09:55<44:58,  2.14s/it]"
     ]
    },
    {
     "name": "stdout",
     "output_type": "stream",
     "text": [
      "Query ejecutada correctamente.\n",
      "Query ejecutada correctamente.\n",
      "Query ejecutada correctamente.\n"
     ]
    },
    {
     "name": "stderr",
     "output_type": "stream",
     "text": [
      "Insertando registros:  19%|█▉        | 303/1560 [09:57<46:22,  2.21s/it]"
     ]
    },
    {
     "name": "stdout",
     "output_type": "stream",
     "text": [
      "Query ejecutada correctamente.\n",
      "Query ejecutada correctamente.\n",
      "Query ejecutada correctamente.\n"
     ]
    },
    {
     "name": "stderr",
     "output_type": "stream",
     "text": [
      "Insertando registros:  19%|█▉        | 304/1560 [10:00<46:59,  2.25s/it]"
     ]
    },
    {
     "name": "stdout",
     "output_type": "stream",
     "text": [
      "Query ejecutada correctamente.\n",
      "Query ejecutada correctamente.\n",
      "Query ejecutada correctamente.\n"
     ]
    },
    {
     "name": "stderr",
     "output_type": "stream",
     "text": [
      "Insertando registros:  20%|█▉        | 305/1560 [10:02<47:33,  2.27s/it]"
     ]
    },
    {
     "name": "stdout",
     "output_type": "stream",
     "text": [
      "Query ejecutada correctamente.\n",
      "Query ejecutada correctamente.\n",
      "Query ejecutada correctamente.\n"
     ]
    },
    {
     "name": "stderr",
     "output_type": "stream",
     "text": [
      "Insertando registros:  20%|█▉        | 306/1560 [10:05<48:13,  2.31s/it]"
     ]
    },
    {
     "name": "stdout",
     "output_type": "stream",
     "text": [
      "Query ejecutada correctamente.\n",
      "Query ejecutada correctamente.\n",
      "Query ejecutada correctamente.\n"
     ]
    },
    {
     "name": "stderr",
     "output_type": "stream",
     "text": [
      "Insertando registros:  20%|█▉        | 307/1560 [10:07<48:56,  2.34s/it]"
     ]
    },
    {
     "name": "stdout",
     "output_type": "stream",
     "text": [
      "Query ejecutada correctamente.\n"
     ]
    },
    {
     "name": "stderr",
     "output_type": "stream",
     "text": [
      "Insertando registros:  20%|█▉        | 308/1560 [10:08<39:07,  1.87s/it]"
     ]
    },
    {
     "name": "stdout",
     "output_type": "stream",
     "text": [
      "Query ejecutada correctamente.\n",
      "Query ejecutada correctamente.\n",
      "Query ejecutada correctamente.\n"
     ]
    },
    {
     "name": "stderr",
     "output_type": "stream",
     "text": [
      "Insertando registros:  20%|█▉        | 309/1560 [10:10<42:02,  2.02s/it]"
     ]
    },
    {
     "name": "stdout",
     "output_type": "stream",
     "text": [
      "Query ejecutada correctamente.\n",
      "Query ejecutada correctamente.\n",
      "Query ejecutada correctamente.\n"
     ]
    },
    {
     "name": "stderr",
     "output_type": "stream",
     "text": [
      "Insertando registros:  20%|█▉        | 310/1560 [10:12<44:06,  2.12s/it]"
     ]
    },
    {
     "name": "stdout",
     "output_type": "stream",
     "text": [
      "Query ejecutada correctamente.\n",
      "Query ejecutada correctamente.\n",
      "Query ejecutada correctamente.\n"
     ]
    },
    {
     "name": "stderr",
     "output_type": "stream",
     "text": [
      "Insertando registros:  20%|█▉        | 311/1560 [10:15<45:36,  2.19s/it]"
     ]
    },
    {
     "name": "stdout",
     "output_type": "stream",
     "text": [
      "Query ejecutada correctamente.\n",
      "Query ejecutada correctamente.\n",
      "Query ejecutada correctamente.\n"
     ]
    },
    {
     "name": "stderr",
     "output_type": "stream",
     "text": [
      "Insertando registros:  20%|██        | 312/1560 [10:17<46:22,  2.23s/it]"
     ]
    },
    {
     "name": "stdout",
     "output_type": "stream",
     "text": [
      "Query ejecutada correctamente.\n"
     ]
    },
    {
     "name": "stderr",
     "output_type": "stream",
     "text": [
      "Insertando registros:  20%|██        | 313/1560 [10:18<37:16,  1.79s/it]"
     ]
    },
    {
     "name": "stdout",
     "output_type": "stream",
     "text": [
      "Query ejecutada correctamente.\n"
     ]
    },
    {
     "name": "stderr",
     "output_type": "stream",
     "text": [
      "Insertando registros:  20%|██        | 314/1560 [10:19<30:53,  1.49s/it]"
     ]
    },
    {
     "name": "stdout",
     "output_type": "stream",
     "text": [
      "Query ejecutada correctamente.\n",
      "Query ejecutada correctamente.\n",
      "Query ejecutada correctamente.\n"
     ]
    },
    {
     "name": "stderr",
     "output_type": "stream",
     "text": [
      "Insertando registros:  20%|██        | 315/1560 [10:21<36:22,  1.75s/it]"
     ]
    },
    {
     "name": "stdout",
     "output_type": "stream",
     "text": [
      "Query ejecutada correctamente.\n",
      "Query ejecutada correctamente.\n",
      "Query ejecutada correctamente.\n"
     ]
    },
    {
     "name": "stderr",
     "output_type": "stream",
     "text": [
      "Insertando registros:  20%|██        | 316/1560 [10:23<39:46,  1.92s/it]"
     ]
    },
    {
     "name": "stdout",
     "output_type": "stream",
     "text": [
      "Query ejecutada correctamente.\n",
      "Query ejecutada correctamente.\n",
      "Query ejecutada correctamente.\n"
     ]
    },
    {
     "name": "stderr",
     "output_type": "stream",
     "text": [
      "Insertando registros:  20%|██        | 317/1560 [10:26<42:35,  2.06s/it]"
     ]
    },
    {
     "name": "stdout",
     "output_type": "stream",
     "text": [
      "Query ejecutada correctamente.\n",
      "Query ejecutada correctamente.\n",
      "Query ejecutada correctamente.\n"
     ]
    },
    {
     "name": "stderr",
     "output_type": "stream",
     "text": [
      "Insertando registros:  20%|██        | 318/1560 [10:28<44:24,  2.14s/it]"
     ]
    },
    {
     "name": "stdout",
     "output_type": "stream",
     "text": [
      "Query ejecutada correctamente.\n"
     ]
    },
    {
     "name": "stderr",
     "output_type": "stream",
     "text": [
      "Insertando registros:  20%|██        | 319/1560 [10:29<36:18,  1.76s/it]"
     ]
    },
    {
     "name": "stdout",
     "output_type": "stream",
     "text": [
      "Query ejecutada correctamente.\n"
     ]
    },
    {
     "name": "stderr",
     "output_type": "stream",
     "text": [
      "Insertando registros:  21%|██        | 320/1560 [10:30<30:28,  1.47s/it]"
     ]
    },
    {
     "name": "stdout",
     "output_type": "stream",
     "text": [
      "Query ejecutada correctamente.\n",
      "Query ejecutada correctamente.\n",
      "Query ejecutada correctamente.\n"
     ]
    },
    {
     "name": "stderr",
     "output_type": "stream",
     "text": [
      "Insertando registros:  21%|██        | 321/1560 [10:32<36:37,  1.77s/it]"
     ]
    },
    {
     "name": "stdout",
     "output_type": "stream",
     "text": [
      "Query ejecutada correctamente.\n"
     ]
    },
    {
     "name": "stderr",
     "output_type": "stream",
     "text": [
      "Insertando registros:  21%|██        | 322/1560 [10:33<30:31,  1.48s/it]"
     ]
    },
    {
     "name": "stdout",
     "output_type": "stream",
     "text": [
      "Query ejecutada correctamente.\n"
     ]
    },
    {
     "name": "stderr",
     "output_type": "stream",
     "text": [
      "Insertando registros:  21%|██        | 323/1560 [10:34<26:11,  1.27s/it]"
     ]
    },
    {
     "name": "stdout",
     "output_type": "stream",
     "text": [
      "Query ejecutada correctamente.\n",
      "Query ejecutada correctamente.\n",
      "Query ejecutada correctamente.\n"
     ]
    },
    {
     "name": "stderr",
     "output_type": "stream",
     "text": [
      "Insertando registros:  21%|██        | 324/1560 [10:36<32:47,  1.59s/it]"
     ]
    },
    {
     "name": "stdout",
     "output_type": "stream",
     "text": [
      "Query ejecutada correctamente.\n",
      "Query ejecutada correctamente.\n",
      "Query ejecutada correctamente.\n"
     ]
    },
    {
     "name": "stderr",
     "output_type": "stream",
     "text": [
      "Insertando registros:  21%|██        | 325/1560 [10:38<37:20,  1.81s/it]"
     ]
    },
    {
     "name": "stdout",
     "output_type": "stream",
     "text": [
      "Query ejecutada correctamente.\n"
     ]
    },
    {
     "name": "stderr",
     "output_type": "stream",
     "text": [
      "Insertando registros:  21%|██        | 326/1560 [10:39<31:06,  1.51s/it]"
     ]
    },
    {
     "name": "stdout",
     "output_type": "stream",
     "text": [
      "Query ejecutada correctamente.\n",
      "Query ejecutada correctamente.\n",
      "Query ejecutada correctamente.\n"
     ]
    },
    {
     "name": "stderr",
     "output_type": "stream",
     "text": [
      "Insertando registros:  21%|██        | 327/1560 [10:42<36:10,  1.76s/it]"
     ]
    },
    {
     "name": "stdout",
     "output_type": "stream",
     "text": [
      "Query ejecutada correctamente.\n",
      "Query ejecutada correctamente.\n",
      "Query ejecutada correctamente.\n"
     ]
    },
    {
     "name": "stderr",
     "output_type": "stream",
     "text": [
      "Insertando registros:  21%|██        | 328/1560 [10:44<39:48,  1.94s/it]"
     ]
    },
    {
     "name": "stdout",
     "output_type": "stream",
     "text": [
      "Query ejecutada correctamente.\n",
      "Query ejecutada correctamente.\n",
      "Query ejecutada correctamente.\n"
     ]
    },
    {
     "name": "stderr",
     "output_type": "stream",
     "text": [
      "Insertando registros:  21%|██        | 329/1560 [10:46<42:21,  2.06s/it]"
     ]
    },
    {
     "name": "stdout",
     "output_type": "stream",
     "text": [
      "Query ejecutada correctamente.\n",
      "Query ejecutada correctamente.\n",
      "Query ejecutada correctamente.\n"
     ]
    },
    {
     "name": "stderr",
     "output_type": "stream",
     "text": [
      "Insertando registros:  21%|██        | 330/1560 [10:49<44:25,  2.17s/it]"
     ]
    },
    {
     "name": "stdout",
     "output_type": "stream",
     "text": [
      "Query ejecutada correctamente.\n",
      "Query ejecutada correctamente.\n",
      "Query ejecutada correctamente.\n"
     ]
    },
    {
     "name": "stderr",
     "output_type": "stream",
     "text": [
      "Insertando registros:  21%|██        | 331/1560 [10:51<45:44,  2.23s/it]"
     ]
    },
    {
     "name": "stdout",
     "output_type": "stream",
     "text": [
      "Query ejecutada correctamente.\n",
      "Query ejecutada correctamente.\n",
      "Query ejecutada correctamente.\n"
     ]
    },
    {
     "name": "stderr",
     "output_type": "stream",
     "text": [
      "Insertando registros:  21%|██▏       | 332/1560 [10:53<46:37,  2.28s/it]"
     ]
    },
    {
     "name": "stdout",
     "output_type": "stream",
     "text": [
      "Query ejecutada correctamente.\n"
     ]
    },
    {
     "name": "stderr",
     "output_type": "stream",
     "text": [
      "Insertando registros:  21%|██▏       | 333/1560 [10:54<37:25,  1.83s/it]"
     ]
    },
    {
     "name": "stdout",
     "output_type": "stream",
     "text": [
      "Query ejecutada correctamente.\n"
     ]
    },
    {
     "name": "stderr",
     "output_type": "stream",
     "text": [
      "Insertando registros:  21%|██▏       | 334/1560 [10:55<31:04,  1.52s/it]"
     ]
    },
    {
     "name": "stdout",
     "output_type": "stream",
     "text": [
      "Query ejecutada correctamente.\n"
     ]
    },
    {
     "name": "stderr",
     "output_type": "stream",
     "text": [
      "Insertando registros:  21%|██▏       | 335/1560 [10:56<26:35,  1.30s/it]"
     ]
    },
    {
     "name": "stdout",
     "output_type": "stream",
     "text": [
      "Query ejecutada correctamente.\n",
      "Query ejecutada correctamente.\n",
      "Query ejecutada correctamente.\n"
     ]
    },
    {
     "name": "stderr",
     "output_type": "stream",
     "text": [
      "Insertando registros:  22%|██▏       | 336/1560 [10:58<32:50,  1.61s/it]"
     ]
    },
    {
     "name": "stdout",
     "output_type": "stream",
     "text": [
      "Query ejecutada correctamente.\n",
      "Query ejecutada correctamente.\n",
      "Query ejecutada correctamente.\n"
     ]
    },
    {
     "name": "stderr",
     "output_type": "stream",
     "text": [
      "Insertando registros:  22%|██▏       | 337/1560 [11:01<37:12,  1.83s/it]"
     ]
    },
    {
     "name": "stdout",
     "output_type": "stream",
     "text": [
      "Query ejecutada correctamente.\n",
      "Query ejecutada correctamente.\n",
      "Query ejecutada correctamente.\n"
     ]
    },
    {
     "name": "stderr",
     "output_type": "stream",
     "text": [
      "Insertando registros:  22%|██▏       | 338/1560 [11:03<40:28,  1.99s/it]"
     ]
    },
    {
     "name": "stdout",
     "output_type": "stream",
     "text": [
      "Query ejecutada correctamente.\n",
      "Query ejecutada correctamente.\n",
      "Query ejecutada correctamente.\n"
     ]
    },
    {
     "name": "stderr",
     "output_type": "stream",
     "text": [
      "Insertando registros:  22%|██▏       | 339/1560 [11:05<42:45,  2.10s/it]"
     ]
    },
    {
     "name": "stdout",
     "output_type": "stream",
     "text": [
      "Query ejecutada correctamente.\n",
      "Query ejecutada correctamente.\n",
      "Query ejecutada correctamente.\n"
     ]
    },
    {
     "name": "stderr",
     "output_type": "stream",
     "text": [
      "Insertando registros:  22%|██▏       | 340/1560 [11:08<44:11,  2.17s/it]"
     ]
    },
    {
     "name": "stdout",
     "output_type": "stream",
     "text": [
      "Query ejecutada correctamente.\n",
      "Query ejecutada correctamente.\n",
      "Query ejecutada correctamente.\n"
     ]
    },
    {
     "name": "stderr",
     "output_type": "stream",
     "text": [
      "Insertando registros:  22%|██▏       | 341/1560 [11:10<45:17,  2.23s/it]"
     ]
    },
    {
     "name": "stdout",
     "output_type": "stream",
     "text": [
      "Query ejecutada correctamente.\n"
     ]
    },
    {
     "name": "stderr",
     "output_type": "stream",
     "text": [
      "Insertando registros:  22%|██▏       | 342/1560 [11:11<36:27,  1.80s/it]"
     ]
    },
    {
     "name": "stdout",
     "output_type": "stream",
     "text": [
      "Query ejecutada correctamente.\n",
      "Query ejecutada correctamente.\n",
      "Query ejecutada correctamente.\n"
     ]
    },
    {
     "name": "stderr",
     "output_type": "stream",
     "text": [
      "Insertando registros:  22%|██▏       | 343/1560 [11:13<39:43,  1.96s/it]"
     ]
    },
    {
     "name": "stdout",
     "output_type": "stream",
     "text": [
      "Query ejecutada correctamente.\n",
      "Query ejecutada correctamente.\n",
      "Query ejecutada correctamente.\n"
     ]
    },
    {
     "name": "stderr",
     "output_type": "stream",
     "text": [
      "Insertando registros:  22%|██▏       | 344/1560 [11:15<42:22,  2.09s/it]"
     ]
    },
    {
     "name": "stdout",
     "output_type": "stream",
     "text": [
      "Query ejecutada correctamente.\n",
      "Query ejecutada correctamente.\n",
      "Query ejecutada correctamente.\n"
     ]
    },
    {
     "name": "stderr",
     "output_type": "stream",
     "text": [
      "Insertando registros:  22%|██▏       | 345/1560 [11:18<43:53,  2.17s/it]"
     ]
    },
    {
     "name": "stdout",
     "output_type": "stream",
     "text": [
      "Query ejecutada correctamente.\n"
     ]
    },
    {
     "name": "stderr",
     "output_type": "stream",
     "text": [
      "Insertando registros:  22%|██▏       | 346/1560 [11:19<35:25,  1.75s/it]"
     ]
    },
    {
     "name": "stdout",
     "output_type": "stream",
     "text": [
      "Query ejecutada correctamente.\n",
      "Query ejecutada correctamente.\n",
      "Query ejecutada correctamente.\n"
     ]
    },
    {
     "name": "stderr",
     "output_type": "stream",
     "text": [
      "Insertando registros:  22%|██▏       | 347/1560 [11:21<39:03,  1.93s/it]"
     ]
    },
    {
     "name": "stdout",
     "output_type": "stream",
     "text": [
      "Query ejecutada correctamente.\n",
      "Query ejecutada correctamente.\n",
      "Query ejecutada correctamente.\n"
     ]
    },
    {
     "name": "stderr",
     "output_type": "stream",
     "text": [
      "Insertando registros:  22%|██▏       | 348/1560 [11:23<41:46,  2.07s/it]"
     ]
    },
    {
     "name": "stdout",
     "output_type": "stream",
     "text": [
      "Query ejecutada correctamente.\n",
      "Query ejecutada correctamente.\n",
      "Query ejecutada correctamente.\n"
     ]
    },
    {
     "name": "stderr",
     "output_type": "stream",
     "text": [
      "Insertando registros:  22%|██▏       | 349/1560 [11:26<43:29,  2.15s/it]"
     ]
    },
    {
     "name": "stdout",
     "output_type": "stream",
     "text": [
      "Query ejecutada correctamente.\n",
      "Query ejecutada correctamente.\n",
      "Query ejecutada correctamente.\n"
     ]
    },
    {
     "name": "stderr",
     "output_type": "stream",
     "text": [
      "Insertando registros:  22%|██▏       | 350/1560 [11:28<44:28,  2.21s/it]"
     ]
    },
    {
     "name": "stdout",
     "output_type": "stream",
     "text": [
      "Query ejecutada correctamente.\n",
      "Query ejecutada correctamente.\n",
      "Query ejecutada correctamente.\n"
     ]
    },
    {
     "name": "stderr",
     "output_type": "stream",
     "text": [
      "Insertando registros:  22%|██▎       | 351/1560 [11:30<45:17,  2.25s/it]"
     ]
    },
    {
     "name": "stdout",
     "output_type": "stream",
     "text": [
      "Query ejecutada correctamente.\n",
      "Query ejecutada correctamente.\n",
      "Query ejecutada correctamente.\n"
     ]
    },
    {
     "name": "stderr",
     "output_type": "stream",
     "text": [
      "Insertando registros:  23%|██▎       | 352/1560 [11:33<46:19,  2.30s/it]"
     ]
    },
    {
     "name": "stdout",
     "output_type": "stream",
     "text": [
      "Query ejecutada correctamente.\n",
      "Query ejecutada correctamente.\n",
      "Query ejecutada correctamente.\n"
     ]
    },
    {
     "name": "stderr",
     "output_type": "stream",
     "text": [
      "Insertando registros:  23%|██▎       | 353/1560 [11:35<46:40,  2.32s/it]"
     ]
    },
    {
     "name": "stdout",
     "output_type": "stream",
     "text": [
      "Query ejecutada correctamente.\n"
     ]
    },
    {
     "name": "stderr",
     "output_type": "stream",
     "text": [
      "Insertando registros:  23%|██▎       | 354/1560 [11:36<37:26,  1.86s/it]"
     ]
    },
    {
     "name": "stdout",
     "output_type": "stream",
     "text": [
      "Query ejecutada correctamente.\n",
      "Query ejecutada correctamente.\n",
      "Query ejecutada correctamente.\n"
     ]
    },
    {
     "name": "stderr",
     "output_type": "stream",
     "text": [
      "Insertando registros:  23%|██▎       | 355/1560 [11:38<40:20,  2.01s/it]"
     ]
    },
    {
     "name": "stdout",
     "output_type": "stream",
     "text": [
      "Query ejecutada correctamente.\n",
      "Query ejecutada correctamente.\n",
      "Query ejecutada correctamente.\n"
     ]
    },
    {
     "name": "stderr",
     "output_type": "stream",
     "text": [
      "Insertando registros:  23%|██▎       | 356/1560 [11:41<42:27,  2.12s/it]"
     ]
    },
    {
     "name": "stdout",
     "output_type": "stream",
     "text": [
      "Query ejecutada correctamente.\n"
     ]
    },
    {
     "name": "stderr",
     "output_type": "stream",
     "text": [
      "Insertando registros:  23%|██▎       | 357/1560 [11:41<34:26,  1.72s/it]"
     ]
    },
    {
     "name": "stdout",
     "output_type": "stream",
     "text": [
      "Query ejecutada correctamente.\n",
      "Query ejecutada correctamente.\n",
      "Query ejecutada correctamente.\n"
     ]
    },
    {
     "name": "stderr",
     "output_type": "stream",
     "text": [
      "Insertando registros:  23%|██▎       | 358/1560 [11:44<38:04,  1.90s/it]"
     ]
    },
    {
     "name": "stdout",
     "output_type": "stream",
     "text": [
      "Query ejecutada correctamente.\n"
     ]
    },
    {
     "name": "stderr",
     "output_type": "stream",
     "text": [
      "Insertando registros:  23%|██▎       | 359/1560 [11:45<31:20,  1.57s/it]"
     ]
    },
    {
     "name": "stdout",
     "output_type": "stream",
     "text": [
      "Query ejecutada correctamente.\n"
     ]
    },
    {
     "name": "stderr",
     "output_type": "stream",
     "text": [
      "Insertando registros:  23%|██▎       | 360/1560 [11:45<26:34,  1.33s/it]"
     ]
    },
    {
     "name": "stdout",
     "output_type": "stream",
     "text": [
      "Query ejecutada correctamente.\n",
      "Query ejecutada correctamente.\n",
      "Query ejecutada correctamente.\n"
     ]
    },
    {
     "name": "stderr",
     "output_type": "stream",
     "text": [
      "Insertando registros:  23%|██▎       | 361/1560 [11:48<32:33,  1.63s/it]"
     ]
    },
    {
     "name": "stdout",
     "output_type": "stream",
     "text": [
      "Query ejecutada correctamente.\n",
      "Query ejecutada correctamente.\n",
      "Query ejecutada correctamente.\n"
     ]
    },
    {
     "name": "stderr",
     "output_type": "stream",
     "text": [
      "Insertando registros:  23%|██▎       | 362/1560 [11:50<36:40,  1.84s/it]"
     ]
    },
    {
     "name": "stdout",
     "output_type": "stream",
     "text": [
      "Query ejecutada correctamente.\n",
      "Query ejecutada correctamente.\n",
      "Query ejecutada correctamente.\n"
     ]
    },
    {
     "name": "stderr",
     "output_type": "stream",
     "text": [
      "Insertando registros:  23%|██▎       | 363/1560 [11:52<39:43,  1.99s/it]"
     ]
    },
    {
     "name": "stdout",
     "output_type": "stream",
     "text": [
      "Query ejecutada correctamente.\n",
      "Query ejecutada correctamente.\n",
      "Query ejecutada correctamente.\n"
     ]
    },
    {
     "name": "stderr",
     "output_type": "stream",
     "text": [
      "Insertando registros:  23%|██▎       | 364/1560 [11:55<41:46,  2.10s/it]"
     ]
    },
    {
     "name": "stdout",
     "output_type": "stream",
     "text": [
      "Query ejecutada correctamente.\n"
     ]
    },
    {
     "name": "stderr",
     "output_type": "stream",
     "text": [
      "Insertando registros:  23%|██▎       | 365/1560 [11:56<34:34,  1.74s/it]"
     ]
    },
    {
     "name": "stdout",
     "output_type": "stream",
     "text": [
      "Query ejecutada correctamente.\n",
      "Query ejecutada correctamente.\n",
      "Query ejecutada correctamente.\n"
     ]
    },
    {
     "name": "stderr",
     "output_type": "stream",
     "text": [
      "Insertando registros:  23%|██▎       | 366/1560 [11:58<39:14,  1.97s/it]"
     ]
    },
    {
     "name": "stdout",
     "output_type": "stream",
     "text": [
      "Query ejecutada correctamente.\n",
      "Query ejecutada correctamente.\n",
      "Query ejecutada correctamente.\n"
     ]
    },
    {
     "name": "stderr",
     "output_type": "stream",
     "text": [
      "Insertando registros:  24%|██▎       | 367/1560 [12:00<41:28,  2.09s/it]"
     ]
    },
    {
     "name": "stdout",
     "output_type": "stream",
     "text": [
      "Query ejecutada correctamente.\n",
      "Query ejecutada correctamente.\n",
      "Query ejecutada correctamente.\n"
     ]
    },
    {
     "name": "stderr",
     "output_type": "stream",
     "text": [
      "Insertando registros:  24%|██▎       | 368/1560 [12:03<43:07,  2.17s/it]"
     ]
    },
    {
     "name": "stdout",
     "output_type": "stream",
     "text": [
      "Query ejecutada correctamente.\n"
     ]
    },
    {
     "name": "stderr",
     "output_type": "stream",
     "text": [
      "Insertando registros:  24%|██▎       | 369/1560 [12:04<34:50,  1.76s/it]"
     ]
    },
    {
     "name": "stdout",
     "output_type": "stream",
     "text": [
      "Query ejecutada correctamente.\n",
      "Query ejecutada correctamente.\n",
      "Query ejecutada correctamente.\n"
     ]
    },
    {
     "name": "stderr",
     "output_type": "stream",
     "text": [
      "Insertando registros:  24%|██▎       | 370/1560 [12:06<38:22,  1.94s/it]"
     ]
    },
    {
     "name": "stdout",
     "output_type": "stream",
     "text": [
      "Query ejecutada correctamente.\n"
     ]
    },
    {
     "name": "stderr",
     "output_type": "stream",
     "text": [
      "Insertando registros:  24%|██▍       | 371/1560 [12:07<31:32,  1.59s/it]"
     ]
    },
    {
     "name": "stdout",
     "output_type": "stream",
     "text": [
      "Query ejecutada correctamente.\n",
      "Query ejecutada correctamente.\n",
      "Query ejecutada correctamente.\n"
     ]
    },
    {
     "name": "stderr",
     "output_type": "stream",
     "text": [
      "Insertando registros:  24%|██▍       | 372/1560 [12:09<36:34,  1.85s/it]"
     ]
    },
    {
     "name": "stdout",
     "output_type": "stream",
     "text": [
      "Query ejecutada correctamente.\n",
      "Query ejecutada correctamente.\n",
      "Query ejecutada correctamente.\n"
     ]
    },
    {
     "name": "stderr",
     "output_type": "stream",
     "text": [
      "Insertando registros:  24%|██▍       | 373/1560 [12:12<39:46,  2.01s/it]"
     ]
    },
    {
     "name": "stdout",
     "output_type": "stream",
     "text": [
      "Query ejecutada correctamente.\n",
      "Query ejecutada correctamente.\n",
      "Query ejecutada correctamente.\n"
     ]
    },
    {
     "name": "stderr",
     "output_type": "stream",
     "text": [
      "Insertando registros:  24%|██▍       | 374/1560 [12:14<41:47,  2.11s/it]"
     ]
    },
    {
     "name": "stdout",
     "output_type": "stream",
     "text": [
      "Query ejecutada correctamente.\n",
      "Query ejecutada correctamente.\n",
      "Query ejecutada correctamente.\n"
     ]
    },
    {
     "name": "stderr",
     "output_type": "stream",
     "text": [
      "Insertando registros:  24%|██▍       | 375/1560 [12:16<43:34,  2.21s/it]"
     ]
    },
    {
     "name": "stdout",
     "output_type": "stream",
     "text": [
      "Query ejecutada correctamente.\n"
     ]
    },
    {
     "name": "stderr",
     "output_type": "stream",
     "text": [
      "Insertando registros:  24%|██▍       | 376/1560 [12:17<35:18,  1.79s/it]"
     ]
    },
    {
     "name": "stdout",
     "output_type": "stream",
     "text": [
      "Query ejecutada correctamente.\n",
      "Query ejecutada correctamente.\n",
      "Query ejecutada correctamente.\n"
     ]
    },
    {
     "name": "stderr",
     "output_type": "stream",
     "text": [
      "Insertando registros:  24%|██▍       | 377/1560 [12:20<38:49,  1.97s/it]"
     ]
    },
    {
     "name": "stdout",
     "output_type": "stream",
     "text": [
      "Query ejecutada correctamente.\n",
      "Query ejecutada correctamente.\n",
      "Query ejecutada correctamente.\n"
     ]
    },
    {
     "name": "stderr",
     "output_type": "stream",
     "text": [
      "Insertando registros:  24%|██▍       | 378/1560 [12:22<41:13,  2.09s/it]"
     ]
    },
    {
     "name": "stdout",
     "output_type": "stream",
     "text": [
      "Query ejecutada correctamente.\n"
     ]
    },
    {
     "name": "stderr",
     "output_type": "stream",
     "text": [
      "Insertando registros:  24%|██▍       | 379/1560 [12:23<33:28,  1.70s/it]"
     ]
    },
    {
     "name": "stdout",
     "output_type": "stream",
     "text": [
      "Query ejecutada correctamente.\n",
      "Query ejecutada correctamente.\n",
      "Query ejecutada correctamente.\n"
     ]
    },
    {
     "name": "stderr",
     "output_type": "stream",
     "text": [
      "Insertando registros:  24%|██▍       | 380/1560 [12:25<37:19,  1.90s/it]"
     ]
    },
    {
     "name": "stdout",
     "output_type": "stream",
     "text": [
      "Query ejecutada correctamente.\n",
      "Query ejecutada correctamente.\n",
      "Query ejecutada correctamente.\n"
     ]
    },
    {
     "name": "stderr",
     "output_type": "stream",
     "text": [
      "Insertando registros:  24%|██▍       | 381/1560 [12:27<39:52,  2.03s/it]"
     ]
    },
    {
     "name": "stdout",
     "output_type": "stream",
     "text": [
      "Query ejecutada correctamente.\n",
      "Query ejecutada correctamente.\n",
      "Query ejecutada correctamente.\n"
     ]
    },
    {
     "name": "stderr",
     "output_type": "stream",
     "text": [
      "Insertando registros:  24%|██▍       | 382/1560 [12:30<42:00,  2.14s/it]"
     ]
    },
    {
     "name": "stdout",
     "output_type": "stream",
     "text": [
      "Query ejecutada correctamente.\n",
      "Query ejecutada correctamente.\n",
      "Query ejecutada correctamente.\n"
     ]
    },
    {
     "name": "stderr",
     "output_type": "stream",
     "text": [
      "Insertando registros:  25%|██▍       | 383/1560 [12:32<43:11,  2.20s/it]"
     ]
    },
    {
     "name": "stdout",
     "output_type": "stream",
     "text": [
      "Query ejecutada correctamente.\n",
      "Query ejecutada correctamente.\n",
      "Query ejecutada correctamente.\n"
     ]
    },
    {
     "name": "stderr",
     "output_type": "stream",
     "text": [
      "Insertando registros:  25%|██▍       | 384/1560 [12:35<44:18,  2.26s/it]"
     ]
    },
    {
     "name": "stdout",
     "output_type": "stream",
     "text": [
      "Query ejecutada correctamente.\n",
      "Query ejecutada correctamente.\n",
      "Query ejecutada correctamente.\n"
     ]
    },
    {
     "name": "stderr",
     "output_type": "stream",
     "text": [
      "Insertando registros:  25%|██▍       | 385/1560 [12:37<45:15,  2.31s/it]"
     ]
    },
    {
     "name": "stdout",
     "output_type": "stream",
     "text": [
      "Query ejecutada correctamente.\n",
      "Query ejecutada correctamente.\n",
      "Query ejecutada correctamente.\n"
     ]
    },
    {
     "name": "stderr",
     "output_type": "stream",
     "text": [
      "Insertando registros:  25%|██▍       | 386/1560 [12:39<45:39,  2.33s/it]"
     ]
    },
    {
     "name": "stdout",
     "output_type": "stream",
     "text": [
      "Query ejecutada correctamente.\n"
     ]
    },
    {
     "name": "stderr",
     "output_type": "stream",
     "text": [
      "Insertando registros:  25%|██▍       | 387/1560 [12:40<36:38,  1.87s/it]"
     ]
    },
    {
     "name": "stdout",
     "output_type": "stream",
     "text": [
      "Query ejecutada correctamente.\n",
      "Query ejecutada correctamente.\n",
      "Query ejecutada correctamente.\n"
     ]
    },
    {
     "name": "stderr",
     "output_type": "stream",
     "text": [
      "Insertando registros:  25%|██▍       | 388/1560 [12:43<39:43,  2.03s/it]"
     ]
    },
    {
     "name": "stdout",
     "output_type": "stream",
     "text": [
      "Query ejecutada correctamente.\n"
     ]
    },
    {
     "name": "stderr",
     "output_type": "stream",
     "text": [
      "Insertando registros:  25%|██▍       | 389/1560 [12:43<32:20,  1.66s/it]"
     ]
    },
    {
     "name": "stdout",
     "output_type": "stream",
     "text": [
      "Query ejecutada correctamente.\n",
      "Query ejecutada correctamente.\n",
      "Query ejecutada correctamente.\n"
     ]
    },
    {
     "name": "stderr",
     "output_type": "stream",
     "text": [
      "Insertando registros:  25%|██▌       | 390/1560 [12:46<36:15,  1.86s/it]"
     ]
    },
    {
     "name": "stdout",
     "output_type": "stream",
     "text": [
      "Query ejecutada correctamente.\n"
     ]
    },
    {
     "name": "stderr",
     "output_type": "stream",
     "text": [
      "Insertando registros:  25%|██▌       | 391/1560 [12:46<29:58,  1.54s/it]"
     ]
    },
    {
     "name": "stdout",
     "output_type": "stream",
     "text": [
      "Query ejecutada correctamente.\n"
     ]
    },
    {
     "name": "stderr",
     "output_type": "stream",
     "text": [
      "Insertando registros:  25%|██▌       | 392/1560 [12:47<25:32,  1.31s/it]"
     ]
    },
    {
     "name": "stdout",
     "output_type": "stream",
     "text": [
      "Query ejecutada correctamente.\n",
      "Query ejecutada correctamente.\n",
      "Query ejecutada correctamente.\n"
     ]
    },
    {
     "name": "stderr",
     "output_type": "stream",
     "text": [
      "Insertando registros:  25%|██▌       | 393/1560 [12:50<31:52,  1.64s/it]"
     ]
    },
    {
     "name": "stdout",
     "output_type": "stream",
     "text": [
      "Query ejecutada correctamente.\n",
      "Query ejecutada correctamente.\n",
      "Query ejecutada correctamente.\n"
     ]
    },
    {
     "name": "stderr",
     "output_type": "stream",
     "text": [
      "Insertando registros:  25%|██▌       | 394/1560 [12:52<36:12,  1.86s/it]"
     ]
    },
    {
     "name": "stdout",
     "output_type": "stream",
     "text": [
      "Query ejecutada correctamente.\n",
      "Query ejecutada correctamente.\n",
      "Query ejecutada correctamente.\n"
     ]
    },
    {
     "name": "stderr",
     "output_type": "stream",
     "text": [
      "Insertando registros:  25%|██▌       | 395/1560 [12:54<39:15,  2.02s/it]"
     ]
    },
    {
     "name": "stdout",
     "output_type": "stream",
     "text": [
      "Query ejecutada correctamente.\n",
      "Query ejecutada correctamente.\n",
      "Query ejecutada correctamente.\n"
     ]
    },
    {
     "name": "stderr",
     "output_type": "stream",
     "text": [
      "Insertando registros:  25%|██▌       | 396/1560 [12:57<41:08,  2.12s/it]"
     ]
    },
    {
     "name": "stdout",
     "output_type": "stream",
     "text": [
      "Query ejecutada correctamente.\n",
      "Query ejecutada correctamente.\n",
      "Query ejecutada correctamente.\n"
     ]
    },
    {
     "name": "stderr",
     "output_type": "stream",
     "text": [
      "Insertando registros:  25%|██▌       | 397/1560 [12:59<42:59,  2.22s/it]"
     ]
    },
    {
     "name": "stdout",
     "output_type": "stream",
     "text": [
      "Query ejecutada correctamente.\n"
     ]
    },
    {
     "name": "stderr",
     "output_type": "stream",
     "text": [
      "Insertando registros:  26%|██▌       | 398/1560 [13:00<35:26,  1.83s/it]"
     ]
    },
    {
     "name": "stdout",
     "output_type": "stream",
     "text": [
      "Query ejecutada correctamente.\n",
      "Query ejecutada correctamente.\n",
      "Query ejecutada correctamente.\n"
     ]
    },
    {
     "name": "stderr",
     "output_type": "stream",
     "text": [
      "Insertando registros:  26%|██▌       | 399/1560 [13:03<39:31,  2.04s/it]"
     ]
    },
    {
     "name": "stdout",
     "output_type": "stream",
     "text": [
      "Query ejecutada correctamente.\n"
     ]
    },
    {
     "name": "stderr",
     "output_type": "stream",
     "text": [
      "Insertando registros:  26%|██▌       | 400/1560 [13:04<32:37,  1.69s/it]"
     ]
    },
    {
     "name": "stdout",
     "output_type": "stream",
     "text": [
      "Query ejecutada correctamente.\n",
      "Query ejecutada correctamente.\n",
      "Query ejecutada correctamente.\n"
     ]
    },
    {
     "name": "stderr",
     "output_type": "stream",
     "text": [
      "Insertando registros:  26%|██▌       | 401/1560 [13:06<37:05,  1.92s/it]"
     ]
    },
    {
     "name": "stdout",
     "output_type": "stream",
     "text": [
      "Query ejecutada correctamente.\n",
      "Query ejecutada correctamente.\n",
      "Query ejecutada correctamente.\n"
     ]
    },
    {
     "name": "stderr",
     "output_type": "stream",
     "text": [
      "Insertando registros:  26%|██▌       | 402/1560 [13:09<40:24,  2.09s/it]"
     ]
    },
    {
     "name": "stdout",
     "output_type": "stream",
     "text": [
      "Query ejecutada correctamente.\n"
     ]
    },
    {
     "name": "stderr",
     "output_type": "stream",
     "text": [
      "Insertando registros:  26%|██▌       | 403/1560 [13:09<33:00,  1.71s/it]"
     ]
    },
    {
     "name": "stdout",
     "output_type": "stream",
     "text": [
      "Query ejecutada correctamente.\n",
      "Query ejecutada correctamente.\n",
      "Query ejecutada correctamente.\n"
     ]
    },
    {
     "name": "stderr",
     "output_type": "stream",
     "text": [
      "Insertando registros:  26%|██▌       | 404/1560 [13:12<37:19,  1.94s/it]"
     ]
    },
    {
     "name": "stdout",
     "output_type": "stream",
     "text": [
      "Query ejecutada correctamente.\n",
      "Query ejecutada correctamente.\n",
      "Query ejecutada correctamente.\n"
     ]
    },
    {
     "name": "stderr",
     "output_type": "stream",
     "text": [
      "Insertando registros:  26%|██▌       | 405/1560 [13:14<40:03,  2.08s/it]"
     ]
    },
    {
     "name": "stdout",
     "output_type": "stream",
     "text": [
      "Query ejecutada correctamente.\n",
      "Query ejecutada correctamente.\n",
      "Query ejecutada correctamente.\n"
     ]
    },
    {
     "name": "stderr",
     "output_type": "stream",
     "text": [
      "Insertando registros:  26%|██▌       | 406/1560 [13:17<41:43,  2.17s/it]"
     ]
    },
    {
     "name": "stdout",
     "output_type": "stream",
     "text": [
      "Query ejecutada correctamente.\n",
      "Query ejecutada correctamente.\n",
      "Query ejecutada correctamente.\n"
     ]
    },
    {
     "name": "stderr",
     "output_type": "stream",
     "text": [
      "Insertando registros:  26%|██▌       | 407/1560 [13:19<43:06,  2.24s/it]"
     ]
    },
    {
     "name": "stdout",
     "output_type": "stream",
     "text": [
      "Query ejecutada correctamente.\n",
      "Query ejecutada correctamente.\n",
      "Query ejecutada correctamente.\n"
     ]
    },
    {
     "name": "stderr",
     "output_type": "stream",
     "text": [
      "Insertando registros:  26%|██▌       | 408/1560 [13:21<44:00,  2.29s/it]"
     ]
    },
    {
     "name": "stdout",
     "output_type": "stream",
     "text": [
      "Query ejecutada correctamente.\n"
     ]
    },
    {
     "name": "stderr",
     "output_type": "stream",
     "text": [
      "Insertando registros:  26%|██▌       | 409/1560 [13:22<35:22,  1.84s/it]"
     ]
    },
    {
     "name": "stdout",
     "output_type": "stream",
     "text": [
      "Query ejecutada correctamente.\n"
     ]
    },
    {
     "name": "stderr",
     "output_type": "stream",
     "text": [
      "Insertando registros:  26%|██▋       | 410/1560 [13:23<29:22,  1.53s/it]"
     ]
    },
    {
     "name": "stdout",
     "output_type": "stream",
     "text": [
      "Query ejecutada correctamente.\n"
     ]
    },
    {
     "name": "stderr",
     "output_type": "stream",
     "text": [
      "Insertando registros:  26%|██▋       | 411/1560 [13:24<26:51,  1.40s/it]"
     ]
    },
    {
     "name": "stdout",
     "output_type": "stream",
     "text": [
      "Query ejecutada correctamente.\n"
     ]
    },
    {
     "name": "stderr",
     "output_type": "stream",
     "text": [
      "Insertando registros:  26%|██▋       | 412/1560 [13:25<23:28,  1.23s/it]"
     ]
    },
    {
     "name": "stdout",
     "output_type": "stream",
     "text": [
      "Query ejecutada correctamente.\n",
      "Query ejecutada correctamente.\n",
      "Query ejecutada correctamente.\n"
     ]
    },
    {
     "name": "stderr",
     "output_type": "stream",
     "text": [
      "Insertando registros:  26%|██▋       | 413/1560 [13:27<30:07,  1.58s/it]"
     ]
    },
    {
     "name": "stdout",
     "output_type": "stream",
     "text": [
      "Query ejecutada correctamente.\n",
      "Query ejecutada correctamente.\n",
      "Query ejecutada correctamente.\n"
     ]
    },
    {
     "name": "stderr",
     "output_type": "stream",
     "text": [
      "Insertando registros:  27%|██▋       | 414/1560 [13:30<34:40,  1.82s/it]"
     ]
    },
    {
     "name": "stdout",
     "output_type": "stream",
     "text": [
      "Query ejecutada correctamente.\n",
      "Query ejecutada correctamente.\n",
      "Query ejecutada correctamente.\n"
     ]
    },
    {
     "name": "stderr",
     "output_type": "stream",
     "text": [
      "Insertando registros:  27%|██▋       | 415/1560 [13:32<37:58,  1.99s/it]"
     ]
    },
    {
     "name": "stdout",
     "output_type": "stream",
     "text": [
      "Query ejecutada correctamente.\n",
      "Query ejecutada correctamente.\n",
      "Query ejecutada correctamente.\n"
     ]
    },
    {
     "name": "stderr",
     "output_type": "stream",
     "text": [
      "Insertando registros:  27%|██▋       | 416/1560 [13:34<40:08,  2.11s/it]"
     ]
    },
    {
     "name": "stdout",
     "output_type": "stream",
     "text": [
      "Query ejecutada correctamente.\n",
      "Query ejecutada correctamente.\n",
      "Query ejecutada correctamente.\n"
     ]
    },
    {
     "name": "stderr",
     "output_type": "stream",
     "text": [
      "Insertando registros:  27%|██▋       | 417/1560 [13:37<41:38,  2.19s/it]"
     ]
    },
    {
     "name": "stdout",
     "output_type": "stream",
     "text": [
      "Query ejecutada correctamente.\n"
     ]
    },
    {
     "name": "stderr",
     "output_type": "stream",
     "text": [
      "Insertando registros:  27%|██▋       | 418/1560 [13:38<33:28,  1.76s/it]"
     ]
    },
    {
     "name": "stdout",
     "output_type": "stream",
     "text": [
      "Query ejecutada correctamente.\n",
      "Query ejecutada correctamente.\n",
      "Query ejecutada correctamente.\n"
     ]
    },
    {
     "name": "stderr",
     "output_type": "stream",
     "text": [
      "Insertando registros:  27%|██▋       | 419/1560 [13:40<36:54,  1.94s/it]"
     ]
    },
    {
     "name": "stdout",
     "output_type": "stream",
     "text": [
      "Query ejecutada correctamente.\n",
      "Query ejecutada correctamente.\n",
      "Query ejecutada correctamente.\n"
     ]
    },
    {
     "name": "stderr",
     "output_type": "stream",
     "text": [
      "Insertando registros:  27%|██▋       | 420/1560 [13:42<39:20,  2.07s/it]"
     ]
    },
    {
     "name": "stdout",
     "output_type": "stream",
     "text": [
      "Query ejecutada correctamente.\n",
      "Query ejecutada correctamente.\n",
      "Query ejecutada correctamente.\n"
     ]
    },
    {
     "name": "stderr",
     "output_type": "stream",
     "text": [
      "Insertando registros:  27%|██▋       | 421/1560 [13:45<41:12,  2.17s/it]"
     ]
    },
    {
     "name": "stdout",
     "output_type": "stream",
     "text": [
      "Query ejecutada correctamente.\n",
      "Query ejecutada correctamente.\n",
      "Query ejecutada correctamente.\n"
     ]
    },
    {
     "name": "stderr",
     "output_type": "stream",
     "text": [
      "Insertando registros:  27%|██▋       | 422/1560 [13:47<42:15,  2.23s/it]"
     ]
    },
    {
     "name": "stdout",
     "output_type": "stream",
     "text": [
      "Query ejecutada correctamente.\n",
      "Query ejecutada correctamente.\n",
      "Query ejecutada correctamente.\n"
     ]
    },
    {
     "name": "stderr",
     "output_type": "stream",
     "text": [
      "Insertando registros:  27%|██▋       | 423/1560 [13:49<42:57,  2.27s/it]"
     ]
    },
    {
     "name": "stdout",
     "output_type": "stream",
     "text": [
      "Query ejecutada correctamente.\n",
      "Query ejecutada correctamente.\n",
      "Query ejecutada correctamente.\n"
     ]
    },
    {
     "name": "stderr",
     "output_type": "stream",
     "text": [
      "Insertando registros:  27%|██▋       | 424/1560 [13:52<43:46,  2.31s/it]"
     ]
    },
    {
     "name": "stdout",
     "output_type": "stream",
     "text": [
      "Query ejecutada correctamente.\n",
      "Query ejecutada correctamente.\n",
      "Query ejecutada correctamente.\n"
     ]
    },
    {
     "name": "stderr",
     "output_type": "stream",
     "text": [
      "Insertando registros:  27%|██▋       | 425/1560 [13:54<44:05,  2.33s/it]"
     ]
    },
    {
     "name": "stdout",
     "output_type": "stream",
     "text": [
      "Query ejecutada correctamente.\n"
     ]
    },
    {
     "name": "stderr",
     "output_type": "stream",
     "text": [
      "Insertando registros:  27%|██▋       | 426/1560 [13:55<35:20,  1.87s/it]"
     ]
    },
    {
     "name": "stdout",
     "output_type": "stream",
     "text": [
      "Query ejecutada correctamente.\n"
     ]
    },
    {
     "name": "stderr",
     "output_type": "stream",
     "text": [
      "Insertando registros:  27%|██▋       | 427/1560 [13:56<29:18,  1.55s/it]"
     ]
    },
    {
     "name": "stdout",
     "output_type": "stream",
     "text": [
      "Query ejecutada correctamente.\n",
      "Query ejecutada correctamente.\n",
      "Query ejecutada correctamente.\n"
     ]
    },
    {
     "name": "stderr",
     "output_type": "stream",
     "text": [
      "Insertando registros:  27%|██▋       | 428/1560 [13:58<34:07,  1.81s/it]"
     ]
    },
    {
     "name": "stdout",
     "output_type": "stream",
     "text": [
      "Query ejecutada correctamente.\n",
      "Query ejecutada correctamente.\n",
      "Query ejecutada correctamente.\n"
     ]
    },
    {
     "name": "stderr",
     "output_type": "stream",
     "text": [
      "Insertando registros:  28%|██▊       | 429/1560 [14:01<37:22,  1.98s/it]"
     ]
    },
    {
     "name": "stdout",
     "output_type": "stream",
     "text": [
      "Query ejecutada correctamente.\n",
      "Query ejecutada correctamente.\n",
      "Query ejecutada correctamente.\n"
     ]
    },
    {
     "name": "stderr",
     "output_type": "stream",
     "text": [
      "Insertando registros:  28%|██▊       | 430/1560 [14:03<39:37,  2.10s/it]"
     ]
    },
    {
     "name": "stdout",
     "output_type": "stream",
     "text": [
      "Query ejecutada correctamente.\n",
      "Query ejecutada correctamente.\n",
      "Query ejecutada correctamente.\n"
     ]
    },
    {
     "name": "stderr",
     "output_type": "stream",
     "text": [
      "Insertando registros:  28%|██▊       | 431/1560 [14:05<41:12,  2.19s/it]"
     ]
    },
    {
     "name": "stdout",
     "output_type": "stream",
     "text": [
      "Query ejecutada correctamente.\n",
      "Query ejecutada correctamente.\n",
      "Query ejecutada correctamente.\n"
     ]
    },
    {
     "name": "stderr",
     "output_type": "stream",
     "text": [
      "Insertando registros:  28%|██▊       | 432/1560 [14:08<42:11,  2.24s/it]"
     ]
    },
    {
     "name": "stdout",
     "output_type": "stream",
     "text": [
      "Query ejecutada correctamente.\n",
      "Query ejecutada correctamente.\n",
      "Query ejecutada correctamente.\n"
     ]
    },
    {
     "name": "stderr",
     "output_type": "stream",
     "text": [
      "Insertando registros:  28%|██▊       | 433/1560 [14:10<42:48,  2.28s/it]"
     ]
    },
    {
     "name": "stdout",
     "output_type": "stream",
     "text": [
      "Query ejecutada correctamente.\n"
     ]
    },
    {
     "name": "stderr",
     "output_type": "stream",
     "text": [
      "Insertando registros:  28%|██▊       | 434/1560 [14:11<34:23,  1.83s/it]"
     ]
    },
    {
     "name": "stdout",
     "output_type": "stream",
     "text": [
      "Query ejecutada correctamente.\n"
     ]
    },
    {
     "name": "stderr",
     "output_type": "stream",
     "text": [
      "Insertando registros:  28%|██▊       | 435/1560 [14:12<28:34,  1.52s/it]"
     ]
    },
    {
     "name": "stdout",
     "output_type": "stream",
     "text": [
      "Query ejecutada correctamente.\n",
      "Query ejecutada correctamente.\n",
      "Query ejecutada correctamente.\n"
     ]
    },
    {
     "name": "stderr",
     "output_type": "stream",
     "text": [
      "Insertando registros:  28%|██▊       | 436/1560 [14:14<33:24,  1.78s/it]"
     ]
    },
    {
     "name": "stdout",
     "output_type": "stream",
     "text": [
      "Query ejecutada correctamente.\n",
      "Query ejecutada correctamente.\n",
      "Query ejecutada correctamente.\n"
     ]
    },
    {
     "name": "stderr",
     "output_type": "stream",
     "text": [
      "Insertando registros:  28%|██▊       | 437/1560 [14:17<36:40,  1.96s/it]"
     ]
    },
    {
     "name": "stdout",
     "output_type": "stream",
     "text": [
      "Query ejecutada correctamente.\n",
      "Query ejecutada correctamente.\n",
      "Query ejecutada correctamente.\n"
     ]
    },
    {
     "name": "stderr",
     "output_type": "stream",
     "text": [
      "Insertando registros:  28%|██▊       | 438/1560 [14:19<38:57,  2.08s/it]"
     ]
    },
    {
     "name": "stdout",
     "output_type": "stream",
     "text": [
      "Query ejecutada correctamente.\n",
      "Query ejecutada correctamente.\n",
      "Query ejecutada correctamente.\n"
     ]
    },
    {
     "name": "stderr",
     "output_type": "stream",
     "text": [
      "Insertando registros:  28%|██▊       | 439/1560 [14:21<40:28,  2.17s/it]"
     ]
    },
    {
     "name": "stdout",
     "output_type": "stream",
     "text": [
      "Query ejecutada correctamente.\n",
      "Query ejecutada correctamente.\n",
      "Query ejecutada correctamente.\n"
     ]
    },
    {
     "name": "stderr",
     "output_type": "stream",
     "text": [
      "Insertando registros:  28%|██▊       | 440/1560 [14:24<41:29,  2.22s/it]"
     ]
    },
    {
     "name": "stdout",
     "output_type": "stream",
     "text": [
      "Query ejecutada correctamente.\n"
     ]
    },
    {
     "name": "stderr",
     "output_type": "stream",
     "text": [
      "Insertando registros:  28%|██▊       | 441/1560 [14:24<33:24,  1.79s/it]"
     ]
    },
    {
     "name": "stdout",
     "output_type": "stream",
     "text": [
      "Query ejecutada correctamente.\n",
      "Query ejecutada correctamente.\n",
      "Query ejecutada correctamente.\n"
     ]
    },
    {
     "name": "stderr",
     "output_type": "stream",
     "text": [
      "Insertando registros:  28%|██▊       | 442/1560 [14:27<36:35,  1.96s/it]"
     ]
    },
    {
     "name": "stdout",
     "output_type": "stream",
     "text": [
      "Query ejecutada correctamente.\n",
      "Query ejecutada correctamente.\n",
      "Query ejecutada correctamente.\n"
     ]
    },
    {
     "name": "stderr",
     "output_type": "stream",
     "text": [
      "Insertando registros:  28%|██▊       | 443/1560 [14:29<38:50,  2.09s/it]"
     ]
    },
    {
     "name": "stdout",
     "output_type": "stream",
     "text": [
      "Query ejecutada correctamente.\n",
      "Query ejecutada correctamente.\n",
      "Query ejecutada correctamente.\n"
     ]
    },
    {
     "name": "stderr",
     "output_type": "stream",
     "text": [
      "Insertando registros:  28%|██▊       | 444/1560 [14:32<40:35,  2.18s/it]"
     ]
    },
    {
     "name": "stdout",
     "output_type": "stream",
     "text": [
      "Query ejecutada correctamente.\n",
      "Query ejecutada correctamente.\n",
      "Query ejecutada correctamente.\n"
     ]
    },
    {
     "name": "stderr",
     "output_type": "stream",
     "text": [
      "Insertando registros:  29%|██▊       | 445/1560 [14:34<41:33,  2.24s/it]"
     ]
    },
    {
     "name": "stdout",
     "output_type": "stream",
     "text": [
      "Query ejecutada correctamente.\n"
     ]
    },
    {
     "name": "stderr",
     "output_type": "stream",
     "text": [
      "Insertando registros:  29%|██▊       | 446/1560 [14:35<33:29,  1.80s/it]"
     ]
    },
    {
     "name": "stdout",
     "output_type": "stream",
     "text": [
      "Query ejecutada correctamente.\n",
      "Query ejecutada correctamente.\n",
      "Query ejecutada correctamente.\n"
     ]
    },
    {
     "name": "stderr",
     "output_type": "stream",
     "text": [
      "Insertando registros:  29%|██▊       | 447/1560 [14:37<36:27,  1.97s/it]"
     ]
    },
    {
     "name": "stdout",
     "output_type": "stream",
     "text": [
      "Query ejecutada correctamente.\n",
      "Query ejecutada correctamente.\n",
      "Query ejecutada correctamente.\n"
     ]
    },
    {
     "name": "stderr",
     "output_type": "stream",
     "text": [
      "Insertando registros:  29%|██▊       | 448/1560 [14:39<38:33,  2.08s/it]"
     ]
    },
    {
     "name": "stdout",
     "output_type": "stream",
     "text": [
      "Query ejecutada correctamente.\n",
      "Query ejecutada correctamente.\n",
      "Query ejecutada correctamente.\n"
     ]
    },
    {
     "name": "stderr",
     "output_type": "stream",
     "text": [
      "Insertando registros:  29%|██▉       | 449/1560 [14:42<40:13,  2.17s/it]"
     ]
    },
    {
     "name": "stdout",
     "output_type": "stream",
     "text": [
      "Query ejecutada correctamente.\n"
     ]
    },
    {
     "name": "stderr",
     "output_type": "stream",
     "text": [
      "Insertando registros:  29%|██▉       | 450/1560 [14:43<32:30,  1.76s/it]"
     ]
    },
    {
     "name": "stdout",
     "output_type": "stream",
     "text": [
      "Query ejecutada correctamente.\n",
      "Query ejecutada correctamente.\n",
      "Query ejecutada correctamente.\n"
     ]
    },
    {
     "name": "stderr",
     "output_type": "stream",
     "text": [
      "Insertando registros:  29%|██▉       | 451/1560 [14:45<35:40,  1.93s/it]"
     ]
    },
    {
     "name": "stdout",
     "output_type": "stream",
     "text": [
      "Query ejecutada correctamente.\n",
      "Query ejecutada correctamente.\n",
      "Query ejecutada correctamente.\n"
     ]
    },
    {
     "name": "stderr",
     "output_type": "stream",
     "text": [
      "Insertando registros:  29%|██▉       | 452/1560 [14:47<37:58,  2.06s/it]"
     ]
    },
    {
     "name": "stdout",
     "output_type": "stream",
     "text": [
      "Query ejecutada correctamente.\n",
      "Query ejecutada correctamente.\n",
      "Query ejecutada correctamente.\n"
     ]
    },
    {
     "name": "stderr",
     "output_type": "stream",
     "text": [
      "Insertando registros:  29%|██▉       | 453/1560 [14:50<39:44,  2.15s/it]"
     ]
    },
    {
     "name": "stdout",
     "output_type": "stream",
     "text": [
      "Query ejecutada correctamente.\n",
      "Query ejecutada correctamente.\n",
      "Query ejecutada correctamente.\n"
     ]
    },
    {
     "name": "stderr",
     "output_type": "stream",
     "text": [
      "Insertando registros:  29%|██▉       | 454/1560 [14:52<40:50,  2.22s/it]"
     ]
    },
    {
     "name": "stdout",
     "output_type": "stream",
     "text": [
      "Query ejecutada correctamente.\n",
      "Query ejecutada correctamente.\n",
      "Query ejecutada correctamente.\n"
     ]
    },
    {
     "name": "stderr",
     "output_type": "stream",
     "text": [
      "Insertando registros:  29%|██▉       | 455/1560 [14:54<41:37,  2.26s/it]"
     ]
    },
    {
     "name": "stdout",
     "output_type": "stream",
     "text": [
      "Query ejecutada correctamente.\n",
      "Query ejecutada correctamente.\n",
      "Query ejecutada correctamente.\n"
     ]
    },
    {
     "name": "stderr",
     "output_type": "stream",
     "text": [
      "Insertando registros:  29%|██▉       | 456/1560 [14:57<42:06,  2.29s/it]"
     ]
    },
    {
     "name": "stdout",
     "output_type": "stream",
     "text": [
      "Query ejecutada correctamente.\n",
      "Query ejecutada correctamente.\n",
      "Query ejecutada correctamente.\n"
     ]
    },
    {
     "name": "stderr",
     "output_type": "stream",
     "text": [
      "Insertando registros:  29%|██▉       | 457/1560 [14:59<42:33,  2.32s/it]"
     ]
    },
    {
     "name": "stdout",
     "output_type": "stream",
     "text": [
      "Query ejecutada correctamente.\n"
     ]
    },
    {
     "name": "stderr",
     "output_type": "stream",
     "text": [
      "Insertando registros:  29%|██▉       | 458/1560 [15:00<33:57,  1.85s/it]"
     ]
    },
    {
     "name": "stdout",
     "output_type": "stream",
     "text": [
      "Query ejecutada correctamente.\n",
      "Query ejecutada correctamente.\n",
      "Query ejecutada correctamente.\n"
     ]
    },
    {
     "name": "stderr",
     "output_type": "stream",
     "text": [
      "Insertando registros:  29%|██▉       | 459/1560 [15:02<36:44,  2.00s/it]"
     ]
    },
    {
     "name": "stdout",
     "output_type": "stream",
     "text": [
      "Query ejecutada correctamente.\n",
      "Query ejecutada correctamente.\n",
      "Query ejecutada correctamente.\n"
     ]
    },
    {
     "name": "stderr",
     "output_type": "stream",
     "text": [
      "Insertando registros:  29%|██▉       | 460/1560 [15:05<38:39,  2.11s/it]"
     ]
    },
    {
     "name": "stdout",
     "output_type": "stream",
     "text": [
      "Query ejecutada correctamente.\n",
      "Query ejecutada correctamente.\n",
      "Query ejecutada correctamente.\n"
     ]
    },
    {
     "name": "stderr",
     "output_type": "stream",
     "text": [
      "Insertando registros:  30%|██▉       | 461/1560 [15:07<39:59,  2.18s/it]"
     ]
    },
    {
     "name": "stdout",
     "output_type": "stream",
     "text": [
      "Query ejecutada correctamente.\n",
      "Query ejecutada correctamente.\n",
      "Query ejecutada correctamente.\n"
     ]
    },
    {
     "name": "stderr",
     "output_type": "stream",
     "text": [
      "Insertando registros:  30%|██▉       | 462/1560 [15:09<41:14,  2.25s/it]"
     ]
    },
    {
     "name": "stdout",
     "output_type": "stream",
     "text": [
      "Query ejecutada correctamente.\n"
     ]
    },
    {
     "name": "stderr",
     "output_type": "stream",
     "text": [
      "Insertando registros:  30%|██▉       | 463/1560 [15:10<33:11,  1.82s/it]"
     ]
    },
    {
     "name": "stdout",
     "output_type": "stream",
     "text": [
      "Query ejecutada correctamente.\n",
      "Query ejecutada correctamente.\n",
      "Query ejecutada correctamente.\n"
     ]
    },
    {
     "name": "stderr",
     "output_type": "stream",
     "text": [
      "Insertando registros:  30%|██▉       | 464/1560 [15:13<36:29,  2.00s/it]"
     ]
    },
    {
     "name": "stdout",
     "output_type": "stream",
     "text": [
      "Query ejecutada correctamente.\n",
      "Query ejecutada correctamente.\n",
      "Query ejecutada correctamente.\n"
     ]
    },
    {
     "name": "stderr",
     "output_type": "stream",
     "text": [
      "Insertando registros:  30%|██▉       | 465/1560 [15:15<38:13,  2.09s/it]"
     ]
    },
    {
     "name": "stdout",
     "output_type": "stream",
     "text": [
      "Query ejecutada correctamente.\n"
     ]
    },
    {
     "name": "stderr",
     "output_type": "stream",
     "text": [
      "Insertando registros:  30%|██▉       | 466/1560 [15:16<31:04,  1.70s/it]"
     ]
    },
    {
     "name": "stdout",
     "output_type": "stream",
     "text": [
      "Query ejecutada correctamente.\n",
      "Query ejecutada correctamente.\n",
      "Query ejecutada correctamente.\n"
     ]
    },
    {
     "name": "stderr",
     "output_type": "stream",
     "text": [
      "Insertando registros:  30%|██▉       | 467/1560 [15:18<34:42,  1.91s/it]"
     ]
    },
    {
     "name": "stdout",
     "output_type": "stream",
     "text": [
      "Query ejecutada correctamente.\n",
      "Query ejecutada correctamente.\n",
      "Query ejecutada correctamente.\n"
     ]
    },
    {
     "name": "stderr",
     "output_type": "stream",
     "text": [
      "Insertando registros:  30%|███       | 468/1560 [15:20<37:17,  2.05s/it]"
     ]
    },
    {
     "name": "stdout",
     "output_type": "stream",
     "text": [
      "Query ejecutada correctamente.\n"
     ]
    },
    {
     "name": "stderr",
     "output_type": "stream",
     "text": [
      "Insertando registros:  30%|███       | 469/1560 [15:21<30:25,  1.67s/it]"
     ]
    },
    {
     "name": "stdout",
     "output_type": "stream",
     "text": [
      "Query ejecutada correctamente.\n",
      "Query ejecutada correctamente.\n",
      "Query ejecutada correctamente.\n"
     ]
    },
    {
     "name": "stderr",
     "output_type": "stream",
     "text": [
      "Insertando registros:  30%|███       | 470/1560 [15:24<34:12,  1.88s/it]"
     ]
    },
    {
     "name": "stdout",
     "output_type": "stream",
     "text": [
      "Query ejecutada correctamente.\n",
      "Query ejecutada correctamente.\n",
      "Query ejecutada correctamente.\n"
     ]
    },
    {
     "name": "stderr",
     "output_type": "stream",
     "text": [
      "Insertando registros:  30%|███       | 471/1560 [15:26<36:51,  2.03s/it]"
     ]
    },
    {
     "name": "stdout",
     "output_type": "stream",
     "text": [
      "Query ejecutada correctamente.\n",
      "Query ejecutada correctamente.\n",
      "Query ejecutada correctamente.\n"
     ]
    },
    {
     "name": "stderr",
     "output_type": "stream",
     "text": [
      "Insertando registros:  30%|███       | 472/1560 [15:28<38:33,  2.13s/it]"
     ]
    },
    {
     "name": "stdout",
     "output_type": "stream",
     "text": [
      "Query ejecutada correctamente.\n",
      "Query ejecutada correctamente.\n",
      "Query ejecutada correctamente.\n"
     ]
    },
    {
     "name": "stderr",
     "output_type": "stream",
     "text": [
      "Insertando registros:  30%|███       | 473/1560 [15:31<39:51,  2.20s/it]"
     ]
    },
    {
     "name": "stdout",
     "output_type": "stream",
     "text": [
      "Query ejecutada correctamente.\n",
      "Query ejecutada correctamente.\n",
      "Query ejecutada correctamente.\n"
     ]
    },
    {
     "name": "stderr",
     "output_type": "stream",
     "text": [
      "Insertando registros:  30%|███       | 474/1560 [15:33<40:46,  2.25s/it]"
     ]
    },
    {
     "name": "stdout",
     "output_type": "stream",
     "text": [
      "Query ejecutada correctamente.\n",
      "Query ejecutada correctamente.\n",
      "Query ejecutada correctamente.\n"
     ]
    },
    {
     "name": "stderr",
     "output_type": "stream",
     "text": [
      "Insertando registros:  30%|███       | 475/1560 [15:35<41:27,  2.29s/it]"
     ]
    },
    {
     "name": "stdout",
     "output_type": "stream",
     "text": [
      "Query ejecutada correctamente.\n"
     ]
    },
    {
     "name": "stderr",
     "output_type": "stream",
     "text": [
      "Insertando registros:  31%|███       | 476/1560 [15:36<33:17,  1.84s/it]"
     ]
    },
    {
     "name": "stdout",
     "output_type": "stream",
     "text": [
      "Query ejecutada correctamente.\n",
      "Query ejecutada correctamente.\n",
      "Query ejecutada correctamente.\n"
     ]
    },
    {
     "name": "stderr",
     "output_type": "stream",
     "text": [
      "Insertando registros:  31%|███       | 477/1560 [15:39<36:14,  2.01s/it]"
     ]
    },
    {
     "name": "stdout",
     "output_type": "stream",
     "text": [
      "Query ejecutada correctamente.\n",
      "Query ejecutada correctamente.\n",
      "Query ejecutada correctamente.\n"
     ]
    },
    {
     "name": "stderr",
     "output_type": "stream",
     "text": [
      "Insertando registros:  31%|███       | 478/1560 [15:41<38:11,  2.12s/it]"
     ]
    },
    {
     "name": "stdout",
     "output_type": "stream",
     "text": [
      "Query ejecutada correctamente.\n",
      "Query ejecutada correctamente.\n",
      "Query ejecutada correctamente.\n"
     ]
    },
    {
     "name": "stderr",
     "output_type": "stream",
     "text": [
      "Insertando registros:  31%|███       | 479/1560 [15:43<39:29,  2.19s/it]"
     ]
    },
    {
     "name": "stdout",
     "output_type": "stream",
     "text": [
      "Query ejecutada correctamente.\n",
      "Query ejecutada correctamente.\n",
      "Query ejecutada correctamente.\n"
     ]
    },
    {
     "name": "stderr",
     "output_type": "stream",
     "text": [
      "Insertando registros:  31%|███       | 480/1560 [15:46<40:31,  2.25s/it]"
     ]
    },
    {
     "name": "stdout",
     "output_type": "stream",
     "text": [
      "Query ejecutada correctamente.\n"
     ]
    },
    {
     "name": "stderr",
     "output_type": "stream",
     "text": [
      "Insertando registros:  31%|███       | 481/1560 [15:47<32:37,  1.81s/it]"
     ]
    },
    {
     "name": "stdout",
     "output_type": "stream",
     "text": [
      "Query ejecutada correctamente.\n",
      "Query ejecutada correctamente.\n",
      "Query ejecutada correctamente.\n"
     ]
    },
    {
     "name": "stderr",
     "output_type": "stream",
     "text": [
      "Insertando registros:  31%|███       | 482/1560 [15:49<35:37,  1.98s/it]"
     ]
    },
    {
     "name": "stdout",
     "output_type": "stream",
     "text": [
      "Query ejecutada correctamente.\n",
      "Query ejecutada correctamente.\n",
      "Query ejecutada correctamente.\n"
     ]
    },
    {
     "name": "stderr",
     "output_type": "stream",
     "text": [
      "Insertando registros:  31%|███       | 483/1560 [15:51<37:36,  2.10s/it]"
     ]
    },
    {
     "name": "stdout",
     "output_type": "stream",
     "text": [
      "Query ejecutada correctamente.\n"
     ]
    },
    {
     "name": "stderr",
     "output_type": "stream",
     "text": [
      "Insertando registros:  31%|███       | 484/1560 [15:52<30:33,  1.70s/it]"
     ]
    },
    {
     "name": "stdout",
     "output_type": "stream",
     "text": [
      "Query ejecutada correctamente.\n",
      "Query ejecutada correctamente.\n",
      "Query ejecutada correctamente.\n"
     ]
    },
    {
     "name": "stderr",
     "output_type": "stream",
     "text": [
      "Insertando registros:  31%|███       | 485/1560 [15:55<34:25,  1.92s/it]"
     ]
    },
    {
     "name": "stdout",
     "output_type": "stream",
     "text": [
      "Query ejecutada correctamente.\n",
      "Query ejecutada correctamente.\n",
      "Query ejecutada correctamente.\n"
     ]
    },
    {
     "name": "stderr",
     "output_type": "stream",
     "text": [
      "Insertando registros:  31%|███       | 486/1560 [15:57<36:42,  2.05s/it]"
     ]
    },
    {
     "name": "stdout",
     "output_type": "stream",
     "text": [
      "Query ejecutada correctamente.\n"
     ]
    },
    {
     "name": "stderr",
     "output_type": "stream",
     "text": [
      "Insertando registros:  31%|███       | 487/1560 [15:58<29:54,  1.67s/it]"
     ]
    },
    {
     "name": "stdout",
     "output_type": "stream",
     "text": [
      "Query ejecutada correctamente.\n",
      "Query ejecutada correctamente.\n",
      "Query ejecutada correctamente.\n"
     ]
    },
    {
     "name": "stderr",
     "output_type": "stream",
     "text": [
      "Insertando registros:  31%|███▏      | 488/1560 [16:00<33:38,  1.88s/it]"
     ]
    },
    {
     "name": "stdout",
     "output_type": "stream",
     "text": [
      "Query ejecutada correctamente.\n",
      "Query ejecutada correctamente.\n",
      "Query ejecutada correctamente.\n"
     ]
    },
    {
     "name": "stderr",
     "output_type": "stream",
     "text": [
      "Insertando registros:  31%|███▏      | 489/1560 [16:02<36:13,  2.03s/it]"
     ]
    },
    {
     "name": "stdout",
     "output_type": "stream",
     "text": [
      "Query ejecutada correctamente.\n",
      "Query ejecutada correctamente.\n",
      "Query ejecutada correctamente.\n"
     ]
    },
    {
     "name": "stderr",
     "output_type": "stream",
     "text": [
      "Insertando registros:  31%|███▏      | 490/1560 [16:05<38:07,  2.14s/it]"
     ]
    },
    {
     "name": "stdout",
     "output_type": "stream",
     "text": [
      "Query ejecutada correctamente.\n",
      "Query ejecutada correctamente.\n",
      "Query ejecutada correctamente.\n"
     ]
    },
    {
     "name": "stderr",
     "output_type": "stream",
     "text": [
      "Insertando registros:  31%|███▏      | 491/1560 [16:07<39:17,  2.21s/it]"
     ]
    },
    {
     "name": "stdout",
     "output_type": "stream",
     "text": [
      "Query ejecutada correctamente.\n",
      "Query ejecutada correctamente.\n",
      "Query ejecutada correctamente.\n"
     ]
    },
    {
     "name": "stderr",
     "output_type": "stream",
     "text": [
      "Insertando registros:  32%|███▏      | 492/1560 [16:10<40:05,  2.25s/it]"
     ]
    },
    {
     "name": "stdout",
     "output_type": "stream",
     "text": [
      "Query ejecutada correctamente.\n",
      "Query ejecutada correctamente.\n",
      "Query ejecutada correctamente.\n"
     ]
    },
    {
     "name": "stderr",
     "output_type": "stream",
     "text": [
      "Insertando registros:  32%|███▏      | 493/1560 [16:12<40:52,  2.30s/it]"
     ]
    },
    {
     "name": "stdout",
     "output_type": "stream",
     "text": [
      "Query ejecutada correctamente.\n"
     ]
    },
    {
     "name": "stderr",
     "output_type": "stream",
     "text": [
      "Insertando registros:  32%|███▏      | 494/1560 [16:13<32:52,  1.85s/it]"
     ]
    },
    {
     "name": "stdout",
     "output_type": "stream",
     "text": [
      "Query ejecutada correctamente.\n"
     ]
    },
    {
     "name": "stderr",
     "output_type": "stream",
     "text": [
      "Insertando registros:  32%|███▏      | 495/1560 [16:14<27:12,  1.53s/it]"
     ]
    },
    {
     "name": "stdout",
     "output_type": "stream",
     "text": [
      "Query ejecutada correctamente.\n",
      "Query ejecutada correctamente.\n",
      "Query ejecutada correctamente.\n"
     ]
    },
    {
     "name": "stderr",
     "output_type": "stream",
     "text": [
      "Insertando registros:  32%|███▏      | 496/1560 [16:16<31:51,  1.80s/it]"
     ]
    },
    {
     "name": "stdout",
     "output_type": "stream",
     "text": [
      "Query ejecutada correctamente.\n",
      "Query ejecutada correctamente.\n",
      "Query ejecutada correctamente.\n"
     ]
    },
    {
     "name": "stderr",
     "output_type": "stream",
     "text": [
      "Insertando registros:  32%|███▏      | 497/1560 [16:18<34:54,  1.97s/it]"
     ]
    },
    {
     "name": "stdout",
     "output_type": "stream",
     "text": [
      "Query ejecutada correctamente.\n"
     ]
    },
    {
     "name": "stderr",
     "output_type": "stream",
     "text": [
      "Insertando registros:  32%|███▏      | 498/1560 [16:19<28:36,  1.62s/it]"
     ]
    },
    {
     "name": "stdout",
     "output_type": "stream",
     "text": [
      "Query ejecutada correctamente.\n",
      "Query ejecutada correctamente.\n",
      "Query ejecutada correctamente.\n"
     ]
    },
    {
     "name": "stderr",
     "output_type": "stream",
     "text": [
      "Insertando registros:  32%|███▏      | 499/1560 [16:22<32:50,  1.86s/it]"
     ]
    },
    {
     "name": "stdout",
     "output_type": "stream",
     "text": [
      "Query ejecutada correctamente.\n",
      "Query ejecutada correctamente.\n",
      "Query ejecutada correctamente.\n"
     ]
    },
    {
     "name": "stderr",
     "output_type": "stream",
     "text": [
      "Insertando registros:  32%|███▏      | 500/1560 [16:24<35:43,  2.02s/it]"
     ]
    },
    {
     "name": "stdout",
     "output_type": "stream",
     "text": [
      "Query ejecutada correctamente.\n",
      "Query ejecutada correctamente.\n",
      "Query ejecutada correctamente.\n"
     ]
    },
    {
     "name": "stderr",
     "output_type": "stream",
     "text": [
      "Insertando registros:  32%|███▏      | 501/1560 [16:26<37:36,  2.13s/it]"
     ]
    },
    {
     "name": "stdout",
     "output_type": "stream",
     "text": [
      "Query ejecutada correctamente.\n",
      "Query ejecutada correctamente.\n",
      "Query ejecutada correctamente.\n"
     ]
    },
    {
     "name": "stderr",
     "output_type": "stream",
     "text": [
      "Insertando registros:  32%|███▏      | 502/1560 [16:29<38:51,  2.20s/it]"
     ]
    },
    {
     "name": "stdout",
     "output_type": "stream",
     "text": [
      "Query ejecutada correctamente.\n",
      "Query ejecutada correctamente.\n",
      "Query ejecutada correctamente.\n"
     ]
    },
    {
     "name": "stderr",
     "output_type": "stream",
     "text": [
      "Insertando registros:  32%|███▏      | 503/1560 [16:31<39:45,  2.26s/it]"
     ]
    },
    {
     "name": "stdout",
     "output_type": "stream",
     "text": [
      "Query ejecutada correctamente.\n"
     ]
    },
    {
     "name": "stderr",
     "output_type": "stream",
     "text": [
      "Insertando registros:  32%|███▏      | 504/1560 [16:32<31:59,  1.82s/it]"
     ]
    },
    {
     "name": "stdout",
     "output_type": "stream",
     "text": [
      "Query ejecutada correctamente.\n",
      "Query ejecutada correctamente.\n",
      "Query ejecutada correctamente.\n"
     ]
    },
    {
     "name": "stderr",
     "output_type": "stream",
     "text": [
      "Insertando registros:  32%|███▏      | 505/1560 [16:34<34:49,  1.98s/it]"
     ]
    },
    {
     "name": "stdout",
     "output_type": "stream",
     "text": [
      "Query ejecutada correctamente.\n"
     ]
    },
    {
     "name": "stderr",
     "output_type": "stream",
     "text": [
      "Insertando registros:  32%|███▏      | 506/1560 [16:35<28:37,  1.63s/it]"
     ]
    },
    {
     "name": "stdout",
     "output_type": "stream",
     "text": [
      "Query ejecutada correctamente.\n",
      "Query ejecutada correctamente.\n",
      "Query ejecutada correctamente.\n"
     ]
    },
    {
     "name": "stderr",
     "output_type": "stream",
     "text": [
      "Insertando registros:  32%|███▎      | 507/1560 [16:37<32:28,  1.85s/it]"
     ]
    },
    {
     "name": "stdout",
     "output_type": "stream",
     "text": [
      "Query ejecutada correctamente.\n",
      "Query ejecutada correctamente.\n",
      "Query ejecutada correctamente.\n"
     ]
    },
    {
     "name": "stderr",
     "output_type": "stream",
     "text": [
      "Insertando registros:  33%|███▎      | 508/1560 [16:40<35:15,  2.01s/it]"
     ]
    },
    {
     "name": "stdout",
     "output_type": "stream",
     "text": [
      "Query ejecutada correctamente.\n",
      "Query ejecutada correctamente.\n",
      "Query ejecutada correctamente.\n"
     ]
    },
    {
     "name": "stderr",
     "output_type": "stream",
     "text": [
      "Insertando registros:  33%|███▎      | 509/1560 [16:42<37:00,  2.11s/it]"
     ]
    },
    {
     "name": "stdout",
     "output_type": "stream",
     "text": [
      "Query ejecutada correctamente.\n"
     ]
    },
    {
     "name": "stderr",
     "output_type": "stream",
     "text": [
      "Insertando registros:  33%|███▎      | 510/1560 [16:43<30:01,  1.72s/it]"
     ]
    },
    {
     "name": "stdout",
     "output_type": "stream",
     "text": [
      "Query ejecutada correctamente.\n",
      "Query ejecutada correctamente.\n",
      "Query ejecutada correctamente.\n"
     ]
    },
    {
     "name": "stderr",
     "output_type": "stream",
     "text": [
      "Insertando registros:  33%|███▎      | 511/1560 [16:45<33:27,  1.91s/it]"
     ]
    },
    {
     "name": "stdout",
     "output_type": "stream",
     "text": [
      "Query ejecutada correctamente.\n",
      "Query ejecutada correctamente.\n",
      "Query ejecutada correctamente.\n"
     ]
    },
    {
     "name": "stderr",
     "output_type": "stream",
     "text": [
      "Insertando registros:  33%|███▎      | 512/1560 [16:48<35:53,  2.06s/it]"
     ]
    },
    {
     "name": "stdout",
     "output_type": "stream",
     "text": [
      "Query ejecutada correctamente.\n",
      "Query ejecutada correctamente.\n",
      "Query ejecutada correctamente.\n"
     ]
    },
    {
     "name": "stderr",
     "output_type": "stream",
     "text": [
      "Insertando registros:  33%|███▎      | 513/1560 [16:50<37:29,  2.15s/it]"
     ]
    },
    {
     "name": "stdout",
     "output_type": "stream",
     "text": [
      "Query ejecutada correctamente.\n",
      "Query ejecutada correctamente.\n",
      "Query ejecutada correctamente.\n"
     ]
    },
    {
     "name": "stderr",
     "output_type": "stream",
     "text": [
      "Insertando registros:  33%|███▎      | 514/1560 [16:52<38:36,  2.21s/it]"
     ]
    },
    {
     "name": "stdout",
     "output_type": "stream",
     "text": [
      "Query ejecutada correctamente.\n"
     ]
    },
    {
     "name": "stderr",
     "output_type": "stream",
     "text": [
      "Insertando registros:  33%|███▎      | 515/1560 [16:53<31:08,  1.79s/it]"
     ]
    },
    {
     "name": "stdout",
     "output_type": "stream",
     "text": [
      "Query ejecutada correctamente.\n",
      "Query ejecutada correctamente.\n",
      "Query ejecutada correctamente.\n"
     ]
    },
    {
     "name": "stderr",
     "output_type": "stream",
     "text": [
      "Insertando registros:  33%|███▎      | 516/1560 [16:56<34:11,  1.96s/it]"
     ]
    },
    {
     "name": "stdout",
     "output_type": "stream",
     "text": [
      "Query ejecutada correctamente.\n",
      "Query ejecutada correctamente.\n",
      "Query ejecutada correctamente.\n"
     ]
    },
    {
     "name": "stderr",
     "output_type": "stream",
     "text": [
      "Insertando registros:  33%|███▎      | 517/1560 [16:58<36:26,  2.10s/it]"
     ]
    },
    {
     "name": "stdout",
     "output_type": "stream",
     "text": [
      "Query ejecutada correctamente.\n",
      "Query ejecutada correctamente.\n",
      "Query ejecutada correctamente.\n"
     ]
    },
    {
     "name": "stderr",
     "output_type": "stream",
     "text": [
      "Insertando registros:  33%|███▎      | 518/1560 [17:00<37:55,  2.18s/it]"
     ]
    },
    {
     "name": "stdout",
     "output_type": "stream",
     "text": [
      "Query ejecutada correctamente.\n"
     ]
    },
    {
     "name": "stderr",
     "output_type": "stream",
     "text": [
      "Insertando registros:  33%|███▎      | 519/1560 [17:01<30:40,  1.77s/it]"
     ]
    },
    {
     "name": "stdout",
     "output_type": "stream",
     "text": [
      "Query ejecutada correctamente.\n",
      "Query ejecutada correctamente.\n",
      "Query ejecutada correctamente.\n"
     ]
    },
    {
     "name": "stderr",
     "output_type": "stream",
     "text": [
      "Insertando registros:  33%|███▎      | 520/1560 [17:04<33:48,  1.95s/it]"
     ]
    },
    {
     "name": "stdout",
     "output_type": "stream",
     "text": [
      "Query ejecutada correctamente.\n",
      "Query ejecutada correctamente.\n",
      "Query ejecutada correctamente.\n"
     ]
    },
    {
     "name": "stderr",
     "output_type": "stream",
     "text": [
      "Insertando registros:  33%|███▎      | 521/1560 [17:06<36:00,  2.08s/it]"
     ]
    },
    {
     "name": "stdout",
     "output_type": "stream",
     "text": [
      "Query ejecutada correctamente.\n",
      "Query ejecutada correctamente.\n",
      "Query ejecutada correctamente.\n"
     ]
    },
    {
     "name": "stderr",
     "output_type": "stream",
     "text": [
      "Insertando registros:  33%|███▎      | 522/1560 [17:08<37:37,  2.18s/it]"
     ]
    },
    {
     "name": "stdout",
     "output_type": "stream",
     "text": [
      "Query ejecutada correctamente.\n",
      "Query ejecutada correctamente.\n",
      "Query ejecutada correctamente.\n"
     ]
    },
    {
     "name": "stderr",
     "output_type": "stream",
     "text": [
      "Insertando registros:  34%|███▎      | 523/1560 [17:11<38:38,  2.24s/it]"
     ]
    },
    {
     "name": "stdout",
     "output_type": "stream",
     "text": [
      "Query ejecutada correctamente.\n",
      "Query ejecutada correctamente.\n",
      "Query ejecutada correctamente.\n"
     ]
    },
    {
     "name": "stderr",
     "output_type": "stream",
     "text": [
      "Insertando registros:  34%|███▎      | 524/1560 [17:13<39:30,  2.29s/it]"
     ]
    },
    {
     "name": "stdout",
     "output_type": "stream",
     "text": [
      "Query ejecutada correctamente.\n"
     ]
    },
    {
     "name": "stderr",
     "output_type": "stream",
     "text": [
      "Insertando registros:  34%|███▎      | 525/1560 [17:14<31:43,  1.84s/it]"
     ]
    },
    {
     "name": "stdout",
     "output_type": "stream",
     "text": [
      "Query ejecutada correctamente.\n",
      "Query ejecutada correctamente.\n",
      "Query ejecutada correctamente.\n"
     ]
    },
    {
     "name": "stderr",
     "output_type": "stream",
     "text": [
      "Insertando registros:  34%|███▎      | 526/1560 [17:16<34:34,  2.01s/it]"
     ]
    },
    {
     "name": "stdout",
     "output_type": "stream",
     "text": [
      "Query ejecutada correctamente.\n"
     ]
    },
    {
     "name": "stderr",
     "output_type": "stream",
     "text": [
      "Insertando registros:  34%|███▍      | 527/1560 [17:17<28:25,  1.65s/it]"
     ]
    },
    {
     "name": "stdout",
     "output_type": "stream",
     "text": [
      "Query ejecutada correctamente.\n",
      "Query ejecutada correctamente.\n",
      "Query ejecutada correctamente.\n"
     ]
    },
    {
     "name": "stderr",
     "output_type": "stream",
     "text": [
      "Insertando registros:  34%|███▍      | 528/1560 [17:20<32:26,  1.89s/it]"
     ]
    },
    {
     "name": "stdout",
     "output_type": "stream",
     "text": [
      "Query ejecutada correctamente.\n",
      "Query ejecutada correctamente.\n",
      "Query ejecutada correctamente.\n"
     ]
    },
    {
     "name": "stderr",
     "output_type": "stream",
     "text": [
      "Insertando registros:  34%|███▍      | 529/1560 [17:22<35:03,  2.04s/it]"
     ]
    },
    {
     "name": "stdout",
     "output_type": "stream",
     "text": [
      "Query ejecutada correctamente.\n",
      "Query ejecutada correctamente.\n",
      "Query ejecutada correctamente.\n"
     ]
    },
    {
     "name": "stderr",
     "output_type": "stream",
     "text": [
      "Insertando registros:  34%|███▍      | 530/1560 [17:24<36:47,  2.14s/it]"
     ]
    },
    {
     "name": "stdout",
     "output_type": "stream",
     "text": [
      "Query ejecutada correctamente.\n",
      "Query ejecutada correctamente.\n",
      "Query ejecutada correctamente.\n"
     ]
    },
    {
     "name": "stderr",
     "output_type": "stream",
     "text": [
      "Insertando registros:  34%|███▍      | 531/1560 [17:27<38:06,  2.22s/it]"
     ]
    },
    {
     "name": "stdout",
     "output_type": "stream",
     "text": [
      "Query ejecutada correctamente.\n",
      "Query ejecutada correctamente.\n",
      "Query ejecutada correctamente.\n"
     ]
    },
    {
     "name": "stderr",
     "output_type": "stream",
     "text": [
      "Insertando registros:  34%|███▍      | 532/1560 [17:29<39:42,  2.32s/it]"
     ]
    },
    {
     "name": "stdout",
     "output_type": "stream",
     "text": [
      "Query ejecutada correctamente.\n"
     ]
    },
    {
     "name": "stderr",
     "output_type": "stream",
     "text": [
      "Insertando registros:  34%|███▍      | 533/1560 [17:30<31:59,  1.87s/it]"
     ]
    },
    {
     "name": "stdout",
     "output_type": "stream",
     "text": [
      "Query ejecutada correctamente.\n",
      "Query ejecutada correctamente.\n",
      "Query ejecutada correctamente.\n"
     ]
    },
    {
     "name": "stderr",
     "output_type": "stream",
     "text": [
      "Insertando registros:  34%|███▍      | 534/1560 [17:33<34:50,  2.04s/it]"
     ]
    },
    {
     "name": "stdout",
     "output_type": "stream",
     "text": [
      "Query ejecutada correctamente.\n"
     ]
    },
    {
     "name": "stderr",
     "output_type": "stream",
     "text": [
      "Insertando registros:  34%|███▍      | 535/1560 [17:34<29:15,  1.71s/it]"
     ]
    },
    {
     "name": "stdout",
     "output_type": "stream",
     "text": [
      "Query ejecutada correctamente.\n"
     ]
    },
    {
     "name": "stderr",
     "output_type": "stream",
     "text": [
      "Insertando registros:  34%|███▍      | 536/1560 [17:34<25:04,  1.47s/it]"
     ]
    },
    {
     "name": "stdout",
     "output_type": "stream",
     "text": [
      "Query ejecutada correctamente.\n",
      "Query ejecutada correctamente.\n",
      "Query ejecutada correctamente.\n"
     ]
    },
    {
     "name": "stderr",
     "output_type": "stream",
     "text": [
      "Insertando registros:  34%|███▍      | 537/1560 [17:37<30:25,  1.78s/it]"
     ]
    },
    {
     "name": "stdout",
     "output_type": "stream",
     "text": [
      "Query ejecutada correctamente.\n",
      "Query ejecutada correctamente.\n",
      "Query ejecutada correctamente.\n"
     ]
    },
    {
     "name": "stderr",
     "output_type": "stream",
     "text": [
      "Insertando registros:  34%|███▍      | 538/1560 [17:39<33:11,  1.95s/it]"
     ]
    },
    {
     "name": "stdout",
     "output_type": "stream",
     "text": [
      "Query ejecutada correctamente.\n",
      "Query ejecutada correctamente.\n",
      "Query ejecutada correctamente.\n"
     ]
    },
    {
     "name": "stderr",
     "output_type": "stream",
     "text": [
      "Insertando registros:  35%|███▍      | 539/1560 [17:42<35:10,  2.07s/it]"
     ]
    },
    {
     "name": "stdout",
     "output_type": "stream",
     "text": [
      "Query ejecutada correctamente.\n",
      "Query ejecutada correctamente.\n",
      "Query ejecutada correctamente.\n"
     ]
    },
    {
     "name": "stderr",
     "output_type": "stream",
     "text": [
      "Insertando registros:  35%|███▍      | 540/1560 [17:44<36:31,  2.15s/it]"
     ]
    },
    {
     "name": "stdout",
     "output_type": "stream",
     "text": [
      "Query ejecutada correctamente.\n"
     ]
    },
    {
     "name": "stderr",
     "output_type": "stream",
     "text": [
      "Insertando registros:  35%|███▍      | 541/1560 [17:45<29:34,  1.74s/it]"
     ]
    },
    {
     "name": "stdout",
     "output_type": "stream",
     "text": [
      "Query ejecutada correctamente.\n",
      "Query ejecutada correctamente.\n",
      "Query ejecutada correctamente.\n"
     ]
    },
    {
     "name": "stderr",
     "output_type": "stream",
     "text": [
      "Insertando registros:  35%|███▍      | 542/1560 [17:47<33:06,  1.95s/it]"
     ]
    },
    {
     "name": "stdout",
     "output_type": "stream",
     "text": [
      "Query ejecutada correctamente.\n"
     ]
    },
    {
     "name": "stderr",
     "output_type": "stream",
     "text": [
      "Insertando registros:  35%|███▍      | 543/1560 [17:48<27:10,  1.60s/it]"
     ]
    },
    {
     "name": "stdout",
     "output_type": "stream",
     "text": [
      "Query ejecutada correctamente.\n",
      "Query ejecutada correctamente.\n",
      "Query ejecutada correctamente.\n"
     ]
    },
    {
     "name": "stderr",
     "output_type": "stream",
     "text": [
      "Insertando registros:  35%|███▍      | 544/1560 [17:50<31:23,  1.85s/it]"
     ]
    },
    {
     "name": "stdout",
     "output_type": "stream",
     "text": [
      "Query ejecutada correctamente.\n",
      "Query ejecutada correctamente.\n",
      "Query ejecutada correctamente.\n"
     ]
    },
    {
     "name": "stderr",
     "output_type": "stream",
     "text": [
      "Insertando registros:  35%|███▍      | 545/1560 [17:53<33:58,  2.01s/it]"
     ]
    },
    {
     "name": "stdout",
     "output_type": "stream",
     "text": [
      "Query ejecutada correctamente.\n",
      "Query ejecutada correctamente.\n",
      "Query ejecutada correctamente.\n"
     ]
    },
    {
     "name": "stderr",
     "output_type": "stream",
     "text": [
      "Insertando registros:  35%|███▌      | 546/1560 [17:55<36:40,  2.17s/it]"
     ]
    },
    {
     "name": "stdout",
     "output_type": "stream",
     "text": [
      "Query ejecutada correctamente.\n",
      "Query ejecutada correctamente.\n",
      "Query ejecutada correctamente.\n"
     ]
    },
    {
     "name": "stderr",
     "output_type": "stream",
     "text": [
      "Insertando registros:  35%|███▌      | 547/1560 [17:58<37:58,  2.25s/it]"
     ]
    },
    {
     "name": "stdout",
     "output_type": "stream",
     "text": [
      "Query ejecutada correctamente.\n"
     ]
    },
    {
     "name": "stderr",
     "output_type": "stream",
     "text": [
      "Insertando registros:  35%|███▌      | 548/1560 [17:59<30:39,  1.82s/it]"
     ]
    },
    {
     "name": "stdout",
     "output_type": "stream",
     "text": [
      "Query ejecutada correctamente.\n"
     ]
    },
    {
     "name": "stderr",
     "output_type": "stream",
     "text": [
      "Insertando registros:  35%|███▌      | 549/1560 [17:59<25:32,  1.52s/it]"
     ]
    },
    {
     "name": "stdout",
     "output_type": "stream",
     "text": [
      "Query ejecutada correctamente.\n"
     ]
    },
    {
     "name": "stderr",
     "output_type": "stream",
     "text": [
      "Insertando registros:  35%|███▌      | 550/1560 [18:00<21:57,  1.30s/it]"
     ]
    },
    {
     "name": "stdout",
     "output_type": "stream",
     "text": [
      "Query ejecutada correctamente.\n",
      "Query ejecutada correctamente.\n",
      "Query ejecutada correctamente.\n"
     ]
    },
    {
     "name": "stderr",
     "output_type": "stream",
     "text": [
      "Insertando registros:  35%|███▌      | 551/1560 [18:03<27:26,  1.63s/it]"
     ]
    },
    {
     "name": "stdout",
     "output_type": "stream",
     "text": [
      "Query ejecutada correctamente.\n"
     ]
    },
    {
     "name": "stderr",
     "output_type": "stream",
     "text": [
      "Insertando registros:  35%|███▌      | 552/1560 [18:03<23:14,  1.38s/it]"
     ]
    },
    {
     "name": "stdout",
     "output_type": "stream",
     "text": [
      "Query ejecutada correctamente.\n",
      "Query ejecutada correctamente.\n",
      "Query ejecutada correctamente.\n"
     ]
    },
    {
     "name": "stderr",
     "output_type": "stream",
     "text": [
      "Insertando registros:  35%|███▌      | 553/1560 [18:06<28:36,  1.70s/it]"
     ]
    },
    {
     "name": "stdout",
     "output_type": "stream",
     "text": [
      "Query ejecutada correctamente.\n"
     ]
    },
    {
     "name": "stderr",
     "output_type": "stream",
     "text": [
      "Insertando registros:  36%|███▌      | 554/1560 [18:07<24:02,  1.43s/it]"
     ]
    },
    {
     "name": "stdout",
     "output_type": "stream",
     "text": [
      "Query ejecutada correctamente.\n",
      "Query ejecutada correctamente.\n",
      "Query ejecutada correctamente.\n"
     ]
    },
    {
     "name": "stderr",
     "output_type": "stream",
     "text": [
      "Insertando registros:  36%|███▌      | 555/1560 [18:09<28:56,  1.73s/it]"
     ]
    },
    {
     "name": "stdout",
     "output_type": "stream",
     "text": [
      "Query ejecutada correctamente.\n",
      "Query ejecutada correctamente.\n",
      "Query ejecutada correctamente.\n"
     ]
    },
    {
     "name": "stderr",
     "output_type": "stream",
     "text": [
      "Insertando registros:  36%|███▌      | 556/1560 [18:11<32:20,  1.93s/it]"
     ]
    },
    {
     "name": "stdout",
     "output_type": "stream",
     "text": [
      "Query ejecutada correctamente.\n"
     ]
    },
    {
     "name": "stderr",
     "output_type": "stream",
     "text": [
      "Insertando registros:  36%|███▌      | 557/1560 [18:12<26:38,  1.59s/it]"
     ]
    },
    {
     "name": "stdout",
     "output_type": "stream",
     "text": [
      "Query ejecutada correctamente.\n"
     ]
    },
    {
     "name": "stderr",
     "output_type": "stream",
     "text": [
      "Insertando registros:  36%|███▌      | 558/1560 [18:13<22:38,  1.36s/it]"
     ]
    },
    {
     "name": "stdout",
     "output_type": "stream",
     "text": [
      "Query ejecutada correctamente.\n"
     ]
    },
    {
     "name": "stderr",
     "output_type": "stream",
     "text": [
      "Insertando registros:  36%|███▌      | 559/1560 [18:14<19:50,  1.19s/it]"
     ]
    },
    {
     "name": "stdout",
     "output_type": "stream",
     "text": [
      "Query ejecutada correctamente.\n"
     ]
    },
    {
     "name": "stderr",
     "output_type": "stream",
     "text": [
      "Insertando registros:  36%|███▌      | 560/1560 [18:15<17:53,  1.07s/it]"
     ]
    },
    {
     "name": "stdout",
     "output_type": "stream",
     "text": [
      "Query ejecutada correctamente.\n",
      "Query ejecutada correctamente.\n",
      "Query ejecutada correctamente.\n"
     ]
    },
    {
     "name": "stderr",
     "output_type": "stream",
     "text": [
      "Insertando registros:  36%|███▌      | 561/1560 [18:17<24:20,  1.46s/it]"
     ]
    },
    {
     "name": "stdout",
     "output_type": "stream",
     "text": [
      "Query ejecutada correctamente.\n"
     ]
    },
    {
     "name": "stderr",
     "output_type": "stream",
     "text": [
      "Insertando registros:  36%|███▌      | 562/1560 [18:18<20:59,  1.26s/it]"
     ]
    },
    {
     "name": "stdout",
     "output_type": "stream",
     "text": [
      "Query ejecutada correctamente.\n"
     ]
    },
    {
     "name": "stderr",
     "output_type": "stream",
     "text": [
      "Insertando registros:  36%|███▌      | 563/1560 [18:19<18:40,  1.12s/it]"
     ]
    },
    {
     "name": "stdout",
     "output_type": "stream",
     "text": [
      "Query ejecutada correctamente.\n",
      "Query ejecutada correctamente.\n",
      "Query ejecutada correctamente.\n"
     ]
    },
    {
     "name": "stderr",
     "output_type": "stream",
     "text": [
      "Insertando registros:  36%|███▌      | 564/1560 [18:21<25:00,  1.51s/it]"
     ]
    },
    {
     "name": "stdout",
     "output_type": "stream",
     "text": [
      "Query ejecutada correctamente.\n",
      "Query ejecutada correctamente.\n",
      "Query ejecutada correctamente.\n"
     ]
    },
    {
     "name": "stderr",
     "output_type": "stream",
     "text": [
      "Insertando registros:  36%|███▌      | 565/1560 [18:23<29:36,  1.79s/it]"
     ]
    },
    {
     "name": "stdout",
     "output_type": "stream",
     "text": [
      "Query ejecutada correctamente.\n",
      "Query ejecutada correctamente.\n",
      "Query ejecutada correctamente.\n"
     ]
    },
    {
     "name": "stderr",
     "output_type": "stream",
     "text": [
      "Insertando registros:  36%|███▋      | 566/1560 [18:26<32:38,  1.97s/it]"
     ]
    },
    {
     "name": "stdout",
     "output_type": "stream",
     "text": [
      "Query ejecutada correctamente.\n",
      "Query ejecutada correctamente.\n",
      "Query ejecutada correctamente.\n"
     ]
    },
    {
     "name": "stderr",
     "output_type": "stream",
     "text": [
      "Insertando registros:  36%|███▋      | 567/1560 [18:28<34:44,  2.10s/it]"
     ]
    },
    {
     "name": "stdout",
     "output_type": "stream",
     "text": [
      "Query ejecutada correctamente.\n",
      "Query ejecutada correctamente.\n",
      "Query ejecutada correctamente.\n"
     ]
    },
    {
     "name": "stderr",
     "output_type": "stream",
     "text": [
      "Insertando registros:  36%|███▋      | 568/1560 [18:31<35:57,  2.18s/it]"
     ]
    },
    {
     "name": "stdout",
     "output_type": "stream",
     "text": [
      "Query ejecutada correctamente.\n",
      "Query ejecutada correctamente.\n",
      "Query ejecutada correctamente.\n"
     ]
    },
    {
     "name": "stderr",
     "output_type": "stream",
     "text": [
      "Insertando registros:  36%|███▋      | 569/1560 [18:33<36:49,  2.23s/it]"
     ]
    },
    {
     "name": "stdout",
     "output_type": "stream",
     "text": [
      "Query ejecutada correctamente.\n",
      "Query ejecutada correctamente.\n",
      "Query ejecutada correctamente.\n"
     ]
    },
    {
     "name": "stderr",
     "output_type": "stream",
     "text": [
      "Insertando registros:  37%|███▋      | 570/1560 [18:35<37:39,  2.28s/it]"
     ]
    },
    {
     "name": "stdout",
     "output_type": "stream",
     "text": [
      "Query ejecutada correctamente.\n",
      "Query ejecutada correctamente.\n",
      "Query ejecutada correctamente.\n"
     ]
    },
    {
     "name": "stderr",
     "output_type": "stream",
     "text": [
      "Insertando registros:  37%|███▋      | 571/1560 [18:38<38:07,  2.31s/it]"
     ]
    },
    {
     "name": "stdout",
     "output_type": "stream",
     "text": [
      "Query ejecutada correctamente.\n",
      "Query ejecutada correctamente.\n",
      "Query ejecutada correctamente.\n"
     ]
    },
    {
     "name": "stderr",
     "output_type": "stream",
     "text": [
      "Insertando registros:  37%|███▋      | 572/1560 [18:40<38:33,  2.34s/it]"
     ]
    },
    {
     "name": "stdout",
     "output_type": "stream",
     "text": [
      "Query ejecutada correctamente.\n",
      "Query ejecutada correctamente.\n",
      "Query ejecutada correctamente.\n"
     ]
    },
    {
     "name": "stderr",
     "output_type": "stream",
     "text": [
      "Insertando registros:  37%|███▋      | 573/1560 [18:43<38:51,  2.36s/it]"
     ]
    },
    {
     "name": "stdout",
     "output_type": "stream",
     "text": [
      "Query ejecutada correctamente.\n",
      "Query ejecutada correctamente.\n",
      "Query ejecutada correctamente.\n"
     ]
    },
    {
     "name": "stderr",
     "output_type": "stream",
     "text": [
      "Insertando registros:  37%|███▋      | 574/1560 [18:45<39:01,  2.37s/it]"
     ]
    },
    {
     "name": "stdout",
     "output_type": "stream",
     "text": [
      "Query ejecutada correctamente.\n",
      "Query ejecutada correctamente.\n",
      "Query ejecutada correctamente.\n"
     ]
    },
    {
     "name": "stderr",
     "output_type": "stream",
     "text": [
      "Insertando registros:  37%|███▋      | 575/1560 [18:47<39:11,  2.39s/it]"
     ]
    },
    {
     "name": "stdout",
     "output_type": "stream",
     "text": [
      "Query ejecutada correctamente.\n",
      "Query ejecutada correctamente.\n",
      "Query ejecutada correctamente.\n"
     ]
    },
    {
     "name": "stderr",
     "output_type": "stream",
     "text": [
      "Insertando registros:  37%|███▋      | 576/1560 [18:50<39:14,  2.39s/it]"
     ]
    },
    {
     "name": "stdout",
     "output_type": "stream",
     "text": [
      "Query ejecutada correctamente.\n",
      "Query ejecutada correctamente.\n",
      "Query ejecutada correctamente.\n"
     ]
    },
    {
     "name": "stderr",
     "output_type": "stream",
     "text": [
      "Insertando registros:  37%|███▋      | 577/1560 [18:53<40:43,  2.49s/it]"
     ]
    },
    {
     "name": "stdout",
     "output_type": "stream",
     "text": [
      "Query ejecutada correctamente.\n",
      "Query ejecutada correctamente.\n",
      "Query ejecutada correctamente.\n"
     ]
    },
    {
     "name": "stderr",
     "output_type": "stream",
     "text": [
      "Insertando registros:  37%|███▋      | 578/1560 [18:55<40:20,  2.46s/it]"
     ]
    },
    {
     "name": "stdout",
     "output_type": "stream",
     "text": [
      "Query ejecutada correctamente.\n",
      "Query ejecutada correctamente.\n",
      "Query ejecutada correctamente.\n"
     ]
    },
    {
     "name": "stderr",
     "output_type": "stream",
     "text": [
      "Insertando registros:  37%|███▋      | 579/1560 [18:57<40:07,  2.45s/it]"
     ]
    },
    {
     "name": "stdout",
     "output_type": "stream",
     "text": [
      "Query ejecutada correctamente.\n"
     ]
    },
    {
     "name": "stderr",
     "output_type": "stream",
     "text": [
      "Insertando registros:  37%|███▋      | 580/1560 [18:58<32:15,  1.97s/it]"
     ]
    },
    {
     "name": "stdout",
     "output_type": "stream",
     "text": [
      "Query ejecutada correctamente.\n"
     ]
    },
    {
     "name": "stderr",
     "output_type": "stream",
     "text": [
      "Insertando registros:  37%|███▋      | 581/1560 [18:59<26:26,  1.62s/it]"
     ]
    },
    {
     "name": "stdout",
     "output_type": "stream",
     "text": [
      "Query ejecutada correctamente.\n"
     ]
    },
    {
     "name": "stderr",
     "output_type": "stream",
     "text": [
      "Insertando registros:  37%|███▋      | 582/1560 [19:00<22:25,  1.38s/it]"
     ]
    },
    {
     "name": "stdout",
     "output_type": "stream",
     "text": [
      "Query ejecutada correctamente.\n",
      "Query ejecutada correctamente.\n",
      "Query ejecutada correctamente.\n"
     ]
    },
    {
     "name": "stderr",
     "output_type": "stream",
     "text": [
      "Insertando registros:  37%|███▋      | 583/1560 [19:02<27:35,  1.69s/it]"
     ]
    },
    {
     "name": "stdout",
     "output_type": "stream",
     "text": [
      "Query ejecutada correctamente.\n",
      "Query ejecutada correctamente.\n",
      "Query ejecutada correctamente.\n"
     ]
    },
    {
     "name": "stderr",
     "output_type": "stream",
     "text": [
      "Insertando registros:  37%|███▋      | 584/1560 [19:05<31:23,  1.93s/it]"
     ]
    },
    {
     "name": "stdout",
     "output_type": "stream",
     "text": [
      "Query ejecutada correctamente.\n",
      "Query ejecutada correctamente.\n",
      "Query ejecutada correctamente.\n"
     ]
    },
    {
     "name": "stderr",
     "output_type": "stream",
     "text": [
      "Insertando registros:  38%|███▊      | 585/1560 [19:07<34:02,  2.10s/it]"
     ]
    },
    {
     "name": "stdout",
     "output_type": "stream",
     "text": [
      "Query ejecutada correctamente.\n",
      "Query ejecutada correctamente.\n",
      "Query ejecutada correctamente.\n"
     ]
    },
    {
     "name": "stderr",
     "output_type": "stream",
     "text": [
      "Insertando registros:  38%|███▊      | 586/1560 [19:10<35:30,  2.19s/it]"
     ]
    },
    {
     "name": "stdout",
     "output_type": "stream",
     "text": [
      "Query ejecutada correctamente.\n",
      "Query ejecutada correctamente.\n",
      "Query ejecutada correctamente.\n"
     ]
    },
    {
     "name": "stderr",
     "output_type": "stream",
     "text": [
      "Insertando registros:  38%|███▊      | 587/1560 [19:12<36:45,  2.27s/it]"
     ]
    },
    {
     "name": "stdout",
     "output_type": "stream",
     "text": [
      "Query ejecutada correctamente.\n",
      "Query ejecutada correctamente.\n",
      "Query ejecutada correctamente.\n"
     ]
    },
    {
     "name": "stderr",
     "output_type": "stream",
     "text": [
      "Insertando registros:  38%|███▊      | 588/1560 [19:15<37:37,  2.32s/it]"
     ]
    },
    {
     "name": "stdout",
     "output_type": "stream",
     "text": [
      "Query ejecutada correctamente.\n"
     ]
    },
    {
     "name": "stderr",
     "output_type": "stream",
     "text": [
      "Insertando registros:  38%|███▊      | 589/1560 [19:15<30:22,  1.88s/it]"
     ]
    },
    {
     "name": "stdout",
     "output_type": "stream",
     "text": [
      "Query ejecutada correctamente.\n",
      "Query ejecutada correctamente.\n",
      "Query ejecutada correctamente.\n"
     ]
    },
    {
     "name": "stderr",
     "output_type": "stream",
     "text": [
      "Insertando registros:  38%|███▊      | 590/1560 [19:18<33:05,  2.05s/it]"
     ]
    },
    {
     "name": "stdout",
     "output_type": "stream",
     "text": [
      "Query ejecutada correctamente.\n"
     ]
    },
    {
     "name": "stderr",
     "output_type": "stream",
     "text": [
      "Insertando registros:  38%|███▊      | 591/1560 [19:19<27:05,  1.68s/it]"
     ]
    },
    {
     "name": "stdout",
     "output_type": "stream",
     "text": [
      "Query ejecutada correctamente.\n"
     ]
    },
    {
     "name": "stderr",
     "output_type": "stream",
     "text": [
      "Insertando registros:  38%|███▊      | 592/1560 [19:19<22:54,  1.42s/it]"
     ]
    },
    {
     "name": "stdout",
     "output_type": "stream",
     "text": [
      "Query ejecutada correctamente.\n",
      "Query ejecutada correctamente.\n",
      "Query ejecutada correctamente.\n"
     ]
    },
    {
     "name": "stderr",
     "output_type": "stream",
     "text": [
      "Insertando registros:  38%|███▊      | 593/1560 [19:22<27:47,  1.72s/it]"
     ]
    },
    {
     "name": "stdout",
     "output_type": "stream",
     "text": [
      "Query ejecutada correctamente.\n",
      "Query ejecutada correctamente.\n",
      "Query ejecutada correctamente.\n"
     ]
    },
    {
     "name": "stderr",
     "output_type": "stream",
     "text": [
      "Insertando registros:  38%|███▊      | 594/1560 [19:24<31:15,  1.94s/it]"
     ]
    },
    {
     "name": "stdout",
     "output_type": "stream",
     "text": [
      "Query ejecutada correctamente.\n",
      "Query ejecutada correctamente.\n",
      "Query ejecutada correctamente.\n"
     ]
    },
    {
     "name": "stderr",
     "output_type": "stream",
     "text": [
      "Insertando registros:  38%|███▊      | 595/1560 [19:27<33:35,  2.09s/it]"
     ]
    },
    {
     "name": "stdout",
     "output_type": "stream",
     "text": [
      "Query ejecutada correctamente.\n"
     ]
    },
    {
     "name": "stderr",
     "output_type": "stream",
     "text": [
      "Insertando registros:  38%|███▊      | 596/1560 [19:28<27:25,  1.71s/it]"
     ]
    },
    {
     "name": "stdout",
     "output_type": "stream",
     "text": [
      "Query ejecutada correctamente.\n"
     ]
    },
    {
     "name": "stderr",
     "output_type": "stream",
     "text": [
      "Insertando registros:  38%|███▊      | 597/1560 [19:28<23:05,  1.44s/it]"
     ]
    },
    {
     "name": "stdout",
     "output_type": "stream",
     "text": [
      "Query ejecutada correctamente.\n"
     ]
    },
    {
     "name": "stderr",
     "output_type": "stream",
     "text": [
      "Insertando registros:  38%|███▊      | 598/1560 [19:29<20:19,  1.27s/it]"
     ]
    },
    {
     "name": "stdout",
     "output_type": "stream",
     "text": [
      "Query ejecutada correctamente.\n",
      "Query ejecutada correctamente.\n",
      "Query ejecutada correctamente.\n"
     ]
    },
    {
     "name": "stderr",
     "output_type": "stream",
     "text": [
      "Insertando registros:  38%|███▊      | 599/1560 [19:32<25:55,  1.62s/it]"
     ]
    },
    {
     "name": "stdout",
     "output_type": "stream",
     "text": [
      "Query ejecutada correctamente.\n",
      "Query ejecutada correctamente.\n",
      "Query ejecutada correctamente.\n"
     ]
    },
    {
     "name": "stderr",
     "output_type": "stream",
     "text": [
      "Insertando registros:  38%|███▊      | 600/1560 [19:34<29:47,  1.86s/it]"
     ]
    },
    {
     "name": "stdout",
     "output_type": "stream",
     "text": [
      "Query ejecutada correctamente.\n",
      "Query ejecutada correctamente.\n",
      "Query ejecutada correctamente.\n"
     ]
    },
    {
     "name": "stderr",
     "output_type": "stream",
     "text": [
      "Insertando registros:  39%|███▊      | 601/1560 [19:37<32:31,  2.03s/it]"
     ]
    },
    {
     "name": "stdout",
     "output_type": "stream",
     "text": [
      "Query ejecutada correctamente.\n",
      "Query ejecutada correctamente.\n",
      "Query ejecutada correctamente.\n"
     ]
    },
    {
     "name": "stderr",
     "output_type": "stream",
     "text": [
      "Insertando registros:  39%|███▊      | 602/1560 [19:39<34:34,  2.17s/it]"
     ]
    },
    {
     "name": "stdout",
     "output_type": "stream",
     "text": [
      "Query ejecutada correctamente.\n",
      "Query ejecutada correctamente.\n",
      "Query ejecutada correctamente.\n"
     ]
    },
    {
     "name": "stderr",
     "output_type": "stream",
     "text": [
      "Insertando registros:  39%|███▊      | 603/1560 [19:41<35:56,  2.25s/it]"
     ]
    },
    {
     "name": "stdout",
     "output_type": "stream",
     "text": [
      "Query ejecutada correctamente.\n",
      "Query ejecutada correctamente.\n",
      "Query ejecutada correctamente.\n"
     ]
    },
    {
     "name": "stderr",
     "output_type": "stream",
     "text": [
      "Insertando registros:  39%|███▊      | 604/1560 [19:44<36:59,  2.32s/it]"
     ]
    },
    {
     "name": "stdout",
     "output_type": "stream",
     "text": [
      "Query ejecutada correctamente.\n",
      "Query ejecutada correctamente.\n",
      "Query ejecutada correctamente.\n"
     ]
    },
    {
     "name": "stderr",
     "output_type": "stream",
     "text": [
      "Insertando registros:  39%|███▉      | 605/1560 [19:46<37:30,  2.36s/it]"
     ]
    },
    {
     "name": "stdout",
     "output_type": "stream",
     "text": [
      "Query ejecutada correctamente.\n"
     ]
    },
    {
     "name": "stderr",
     "output_type": "stream",
     "text": [
      "Insertando registros:  39%|███▉      | 606/1560 [19:47<30:26,  1.91s/it]"
     ]
    },
    {
     "name": "stdout",
     "output_type": "stream",
     "text": [
      "Query ejecutada correctamente.\n",
      "Query ejecutada correctamente.\n",
      "Query ejecutada correctamente.\n"
     ]
    },
    {
     "name": "stderr",
     "output_type": "stream",
     "text": [
      "Insertando registros:  39%|███▉      | 607/1560 [19:50<32:57,  2.08s/it]"
     ]
    },
    {
     "name": "stdout",
     "output_type": "stream",
     "text": [
      "Query ejecutada correctamente.\n"
     ]
    },
    {
     "name": "stderr",
     "output_type": "stream",
     "text": [
      "Insertando registros:  39%|███▉      | 608/1560 [19:51<27:03,  1.71s/it]"
     ]
    },
    {
     "name": "stdout",
     "output_type": "stream",
     "text": [
      "Query ejecutada correctamente.\n",
      "Query ejecutada correctamente.\n",
      "Query ejecutada correctamente.\n"
     ]
    },
    {
     "name": "stderr",
     "output_type": "stream",
     "text": [
      "Insertando registros:  39%|███▉      | 609/1560 [19:53<30:25,  1.92s/it]"
     ]
    },
    {
     "name": "stdout",
     "output_type": "stream",
     "text": [
      "Query ejecutada correctamente.\n",
      "Query ejecutada correctamente.\n",
      "Query ejecutada correctamente.\n"
     ]
    },
    {
     "name": "stderr",
     "output_type": "stream",
     "text": [
      "Insertando registros:  39%|███▉      | 610/1560 [19:55<33:04,  2.09s/it]"
     ]
    },
    {
     "name": "stdout",
     "output_type": "stream",
     "text": [
      "Query ejecutada correctamente.\n"
     ]
    },
    {
     "name": "stderr",
     "output_type": "stream",
     "text": [
      "Insertando registros:  39%|███▉      | 611/1560 [19:56<27:01,  1.71s/it]"
     ]
    },
    {
     "name": "stdout",
     "output_type": "stream",
     "text": [
      "Query ejecutada correctamente.\n",
      "Query ejecutada correctamente.\n",
      "Query ejecutada correctamente.\n"
     ]
    },
    {
     "name": "stderr",
     "output_type": "stream",
     "text": [
      "Insertando registros:  39%|███▉      | 612/1560 [19:59<30:20,  1.92s/it]"
     ]
    },
    {
     "name": "stdout",
     "output_type": "stream",
     "text": [
      "Query ejecutada correctamente.\n",
      "Query ejecutada correctamente.\n",
      "Query ejecutada correctamente.\n"
     ]
    },
    {
     "name": "stderr",
     "output_type": "stream",
     "text": [
      "Insertando registros:  39%|███▉      | 613/1560 [20:01<32:47,  2.08s/it]"
     ]
    },
    {
     "name": "stdout",
     "output_type": "stream",
     "text": [
      "Query ejecutada correctamente.\n",
      "Query ejecutada correctamente.\n",
      "Query ejecutada correctamente.\n"
     ]
    },
    {
     "name": "stderr",
     "output_type": "stream",
     "text": [
      "Insertando registros:  39%|███▉      | 614/1560 [20:04<35:16,  2.24s/it]"
     ]
    },
    {
     "name": "stdout",
     "output_type": "stream",
     "text": [
      "Query ejecutada correctamente.\n"
     ]
    },
    {
     "name": "stderr",
     "output_type": "stream",
     "text": [
      "Insertando registros:  39%|███▉      | 615/1560 [20:05<28:38,  1.82s/it]"
     ]
    },
    {
     "name": "stdout",
     "output_type": "stream",
     "text": [
      "Query ejecutada correctamente.\n",
      "Query ejecutada correctamente.\n",
      "Query ejecutada correctamente.\n"
     ]
    },
    {
     "name": "stderr",
     "output_type": "stream",
     "text": [
      "Insertando registros:  39%|███▉      | 616/1560 [20:07<31:49,  2.02s/it]"
     ]
    },
    {
     "name": "stdout",
     "output_type": "stream",
     "text": [
      "Query ejecutada correctamente.\n",
      "Query ejecutada correctamente.\n",
      "Query ejecutada correctamente.\n"
     ]
    },
    {
     "name": "stderr",
     "output_type": "stream",
     "text": [
      "Insertando registros:  40%|███▉      | 617/1560 [20:10<33:32,  2.13s/it]"
     ]
    },
    {
     "name": "stdout",
     "output_type": "stream",
     "text": [
      "Query ejecutada correctamente.\n",
      "Query ejecutada correctamente.\n",
      "Query ejecutada correctamente.\n"
     ]
    },
    {
     "name": "stderr",
     "output_type": "stream",
     "text": [
      "Insertando registros:  40%|███▉      | 618/1560 [20:12<34:57,  2.23s/it]"
     ]
    },
    {
     "name": "stdout",
     "output_type": "stream",
     "text": [
      "Query ejecutada correctamente.\n"
     ]
    },
    {
     "name": "stderr",
     "output_type": "stream",
     "text": [
      "Insertando registros:  40%|███▉      | 619/1560 [20:13<28:14,  1.80s/it]"
     ]
    },
    {
     "name": "stdout",
     "output_type": "stream",
     "text": [
      "Query ejecutada correctamente.\n",
      "Query ejecutada correctamente.\n",
      "Query ejecutada correctamente.\n"
     ]
    },
    {
     "name": "stderr",
     "output_type": "stream",
     "text": [
      "Insertando registros:  40%|███▉      | 620/1560 [20:15<31:57,  2.04s/it]"
     ]
    },
    {
     "name": "stdout",
     "output_type": "stream",
     "text": [
      "Query ejecutada correctamente.\n",
      "Query ejecutada correctamente.\n",
      "Query ejecutada correctamente.\n"
     ]
    },
    {
     "name": "stderr",
     "output_type": "stream",
     "text": [
      "Insertando registros:  40%|███▉      | 621/1560 [20:18<33:35,  2.15s/it]"
     ]
    },
    {
     "name": "stdout",
     "output_type": "stream",
     "text": [
      "Query ejecutada correctamente.\n"
     ]
    },
    {
     "name": "stderr",
     "output_type": "stream",
     "text": [
      "Insertando registros:  40%|███▉      | 622/1560 [20:19<27:19,  1.75s/it]"
     ]
    },
    {
     "name": "stdout",
     "output_type": "stream",
     "text": [
      "Query ejecutada correctamente.\n",
      "Query ejecutada correctamente.\n",
      "Query ejecutada correctamente.\n"
     ]
    },
    {
     "name": "stderr",
     "output_type": "stream",
     "text": [
      "Insertando registros:  40%|███▉      | 623/1560 [20:21<30:19,  1.94s/it]"
     ]
    },
    {
     "name": "stdout",
     "output_type": "stream",
     "text": [
      "Query ejecutada correctamente.\n"
     ]
    },
    {
     "name": "stderr",
     "output_type": "stream",
     "text": [
      "Insertando registros:  40%|████      | 624/1560 [20:22<25:00,  1.60s/it]"
     ]
    },
    {
     "name": "stdout",
     "output_type": "stream",
     "text": [
      "Query ejecutada correctamente.\n",
      "Query ejecutada correctamente.\n",
      "Query ejecutada correctamente.\n"
     ]
    },
    {
     "name": "stderr",
     "output_type": "stream",
     "text": [
      "Insertando registros:  40%|████      | 625/1560 [20:24<28:54,  1.85s/it]"
     ]
    },
    {
     "name": "stdout",
     "output_type": "stream",
     "text": [
      "Query ejecutada correctamente.\n",
      "Query ejecutada correctamente.\n",
      "Query ejecutada correctamente.\n"
     ]
    },
    {
     "name": "stderr",
     "output_type": "stream",
     "text": [
      "Insertando registros:  40%|████      | 626/1560 [20:27<31:26,  2.02s/it]"
     ]
    },
    {
     "name": "stdout",
     "output_type": "stream",
     "text": [
      "Query ejecutada correctamente.\n"
     ]
    },
    {
     "name": "stderr",
     "output_type": "stream",
     "text": [
      "Insertando registros:  40%|████      | 627/1560 [20:27<25:48,  1.66s/it]"
     ]
    },
    {
     "name": "stdout",
     "output_type": "stream",
     "text": [
      "Query ejecutada correctamente.\n",
      "Query ejecutada correctamente.\n",
      "Query ejecutada correctamente.\n"
     ]
    },
    {
     "name": "stderr",
     "output_type": "stream",
     "text": [
      "Insertando registros:  40%|████      | 628/1560 [20:30<29:35,  1.90s/it]"
     ]
    },
    {
     "name": "stdout",
     "output_type": "stream",
     "text": [
      "Query ejecutada correctamente.\n",
      "Query ejecutada correctamente.\n",
      "Query ejecutada correctamente.\n"
     ]
    },
    {
     "name": "stderr",
     "output_type": "stream",
     "text": [
      "Insertando registros:  40%|████      | 629/1560 [20:32<32:00,  2.06s/it]"
     ]
    },
    {
     "name": "stdout",
     "output_type": "stream",
     "text": [
      "Query ejecutada correctamente.\n",
      "Query ejecutada correctamente.\n",
      "Query ejecutada correctamente.\n"
     ]
    },
    {
     "name": "stderr",
     "output_type": "stream",
     "text": [
      "Insertando registros:  40%|████      | 630/1560 [20:35<33:43,  2.18s/it]"
     ]
    },
    {
     "name": "stdout",
     "output_type": "stream",
     "text": [
      "Query ejecutada correctamente.\n",
      "Query ejecutada correctamente.\n",
      "Query ejecutada correctamente.\n"
     ]
    },
    {
     "name": "stderr",
     "output_type": "stream",
     "text": [
      "Insertando registros:  40%|████      | 631/1560 [20:37<34:54,  2.25s/it]"
     ]
    },
    {
     "name": "stdout",
     "output_type": "stream",
     "text": [
      "Query ejecutada correctamente.\n",
      "Query ejecutada correctamente.\n",
      "Query ejecutada correctamente.\n"
     ]
    },
    {
     "name": "stderr",
     "output_type": "stream",
     "text": [
      "Insertando registros:  41%|████      | 632/1560 [20:40<35:46,  2.31s/it]"
     ]
    },
    {
     "name": "stdout",
     "output_type": "stream",
     "text": [
      "Query ejecutada correctamente.\n",
      "Query ejecutada correctamente.\n",
      "Query ejecutada correctamente.\n"
     ]
    },
    {
     "name": "stderr",
     "output_type": "stream",
     "text": [
      "Insertando registros:  41%|████      | 633/1560 [20:42<36:12,  2.34s/it]"
     ]
    },
    {
     "name": "stdout",
     "output_type": "stream",
     "text": [
      "Query ejecutada correctamente.\n"
     ]
    },
    {
     "name": "stderr",
     "output_type": "stream",
     "text": [
      "Insertando registros:  41%|████      | 634/1560 [20:43<29:04,  1.88s/it]"
     ]
    },
    {
     "name": "stdout",
     "output_type": "stream",
     "text": [
      "Query ejecutada correctamente.\n",
      "Query ejecutada correctamente.\n",
      "Query ejecutada correctamente.\n"
     ]
    },
    {
     "name": "stderr",
     "output_type": "stream",
     "text": [
      "Insertando registros:  41%|████      | 635/1560 [20:45<31:51,  2.07s/it]"
     ]
    },
    {
     "name": "stdout",
     "output_type": "stream",
     "text": [
      "Query ejecutada correctamente.\n"
     ]
    },
    {
     "name": "stderr",
     "output_type": "stream",
     "text": [
      "Insertando registros:  41%|████      | 636/1560 [20:46<25:52,  1.68s/it]"
     ]
    },
    {
     "name": "stdout",
     "output_type": "stream",
     "text": [
      "Query ejecutada correctamente.\n",
      "Query ejecutada correctamente.\n",
      "Query ejecutada correctamente.\n"
     ]
    },
    {
     "name": "stderr",
     "output_type": "stream",
     "text": [
      "Insertando registros:  41%|████      | 637/1560 [20:49<29:13,  1.90s/it]"
     ]
    },
    {
     "name": "stdout",
     "output_type": "stream",
     "text": [
      "Query ejecutada correctamente.\n",
      "Query ejecutada correctamente.\n",
      "Query ejecutada correctamente.\n"
     ]
    },
    {
     "name": "stderr",
     "output_type": "stream",
     "text": [
      "Insertando registros:  41%|████      | 638/1560 [20:51<31:33,  2.05s/it]"
     ]
    },
    {
     "name": "stdout",
     "output_type": "stream",
     "text": [
      "Query ejecutada correctamente.\n",
      "Query ejecutada correctamente.\n",
      "Query ejecutada correctamente.\n"
     ]
    },
    {
     "name": "stderr",
     "output_type": "stream",
     "text": [
      "Insertando registros:  41%|████      | 639/1560 [20:54<33:33,  2.19s/it]"
     ]
    },
    {
     "name": "stdout",
     "output_type": "stream",
     "text": [
      "Query ejecutada correctamente.\n",
      "Query ejecutada correctamente.\n",
      "Query ejecutada correctamente.\n"
     ]
    },
    {
     "name": "stderr",
     "output_type": "stream",
     "text": [
      "Insertando registros:  41%|████      | 640/1560 [20:56<34:42,  2.26s/it]"
     ]
    },
    {
     "name": "stdout",
     "output_type": "stream",
     "text": [
      "Query ejecutada correctamente.\n"
     ]
    },
    {
     "name": "stderr",
     "output_type": "stream",
     "text": [
      "Insertando registros:  41%|████      | 641/1560 [20:57<28:00,  1.83s/it]"
     ]
    },
    {
     "name": "stdout",
     "output_type": "stream",
     "text": [
      "Query ejecutada correctamente.\n",
      "Query ejecutada correctamente.\n",
      "Query ejecutada correctamente.\n"
     ]
    },
    {
     "name": "stderr",
     "output_type": "stream",
     "text": [
      "Insertando registros:  41%|████      | 642/1560 [20:59<30:44,  2.01s/it]"
     ]
    },
    {
     "name": "stdout",
     "output_type": "stream",
     "text": [
      "Query ejecutada correctamente.\n",
      "Query ejecutada correctamente.\n",
      "Query ejecutada correctamente.\n"
     ]
    },
    {
     "name": "stderr",
     "output_type": "stream",
     "text": [
      "Insertando registros:  41%|████      | 643/1560 [21:02<32:40,  2.14s/it]"
     ]
    },
    {
     "name": "stdout",
     "output_type": "stream",
     "text": [
      "Query ejecutada correctamente.\n",
      "Query ejecutada correctamente.\n",
      "Query ejecutada correctamente.\n"
     ]
    },
    {
     "name": "stderr",
     "output_type": "stream",
     "text": [
      "Insertando registros:  41%|████▏     | 644/1560 [21:04<34:00,  2.23s/it]"
     ]
    },
    {
     "name": "stdout",
     "output_type": "stream",
     "text": [
      "Query ejecutada correctamente.\n",
      "Query ejecutada correctamente.\n",
      "Query ejecutada correctamente.\n"
     ]
    },
    {
     "name": "stderr",
     "output_type": "stream",
     "text": [
      "Insertando registros:  41%|████▏     | 645/1560 [21:06<34:47,  2.28s/it]"
     ]
    },
    {
     "name": "stdout",
     "output_type": "stream",
     "text": [
      "Query ejecutada correctamente.\n",
      "Query ejecutada correctamente.\n",
      "Query ejecutada correctamente.\n"
     ]
    },
    {
     "name": "stderr",
     "output_type": "stream",
     "text": [
      "Insertando registros:  41%|████▏     | 646/1560 [21:09<35:25,  2.33s/it]"
     ]
    },
    {
     "name": "stdout",
     "output_type": "stream",
     "text": [
      "Query ejecutada correctamente.\n"
     ]
    },
    {
     "name": "stderr",
     "output_type": "stream",
     "text": [
      "Insertando registros:  41%|████▏     | 647/1560 [21:10<28:30,  1.87s/it]"
     ]
    },
    {
     "name": "stdout",
     "output_type": "stream",
     "text": [
      "Query ejecutada correctamente.\n",
      "Query ejecutada correctamente.\n",
      "Query ejecutada correctamente.\n"
     ]
    },
    {
     "name": "stderr",
     "output_type": "stream",
     "text": [
      "Insertando registros:  42%|████▏     | 648/1560 [21:12<31:25,  2.07s/it]"
     ]
    },
    {
     "name": "stdout",
     "output_type": "stream",
     "text": [
      "Query ejecutada correctamente.\n",
      "Query ejecutada correctamente.\n",
      "Query ejecutada correctamente.\n"
     ]
    },
    {
     "name": "stderr",
     "output_type": "stream",
     "text": [
      "Insertando registros:  42%|████▏     | 649/1560 [21:15<34:04,  2.24s/it]"
     ]
    },
    {
     "name": "stdout",
     "output_type": "stream",
     "text": [
      "Query ejecutada correctamente.\n",
      "Query ejecutada correctamente.\n",
      "Query ejecutada correctamente.\n"
     ]
    },
    {
     "name": "stderr",
     "output_type": "stream",
     "text": [
      "Insertando registros:  42%|████▏     | 650/1560 [21:18<36:45,  2.42s/it]"
     ]
    },
    {
     "name": "stdout",
     "output_type": "stream",
     "text": [
      "Query ejecutada correctamente.\n",
      "Query ejecutada correctamente.\n",
      "Query ejecutada correctamente.\n"
     ]
    },
    {
     "name": "stderr",
     "output_type": "stream",
     "text": [
      "Insertando registros:  42%|████▏     | 651/1560 [21:20<37:59,  2.51s/it]"
     ]
    },
    {
     "name": "stdout",
     "output_type": "stream",
     "text": [
      "Query ejecutada correctamente.\n",
      "Query ejecutada correctamente.\n",
      "Query ejecutada correctamente.\n"
     ]
    },
    {
     "name": "stderr",
     "output_type": "stream",
     "text": [
      "Insertando registros:  42%|████▏     | 652/1560 [21:23<39:27,  2.61s/it]"
     ]
    },
    {
     "name": "stdout",
     "output_type": "stream",
     "text": [
      "Query ejecutada correctamente.\n",
      "Query ejecutada correctamente.\n",
      "Query ejecutada correctamente.\n"
     ]
    },
    {
     "name": "stderr",
     "output_type": "stream",
     "text": [
      "Insertando registros:  42%|████▏     | 653/1560 [21:26<39:42,  2.63s/it]"
     ]
    },
    {
     "name": "stdout",
     "output_type": "stream",
     "text": [
      "Query ejecutada correctamente.\n"
     ]
    },
    {
     "name": "stderr",
     "output_type": "stream",
     "text": [
      "Insertando registros:  42%|████▏     | 654/1560 [21:27<31:26,  2.08s/it]"
     ]
    },
    {
     "name": "stdout",
     "output_type": "stream",
     "text": [
      "Query ejecutada correctamente.\n",
      "Query ejecutada correctamente.\n",
      "Query ejecutada correctamente.\n"
     ]
    },
    {
     "name": "stderr",
     "output_type": "stream",
     "text": [
      "Insertando registros:  42%|████▏     | 655/1560 [21:29<32:46,  2.17s/it]"
     ]
    },
    {
     "name": "stdout",
     "output_type": "stream",
     "text": [
      "Query ejecutada correctamente.\n",
      "Query ejecutada correctamente.\n",
      "Query ejecutada correctamente.\n"
     ]
    },
    {
     "name": "stderr",
     "output_type": "stream",
     "text": [
      "Insertando registros:  42%|████▏     | 656/1560 [21:32<34:19,  2.28s/it]"
     ]
    },
    {
     "name": "stdout",
     "output_type": "stream",
     "text": [
      "Query ejecutada correctamente.\n",
      "Query ejecutada correctamente.\n",
      "Query ejecutada correctamente.\n"
     ]
    },
    {
     "name": "stderr",
     "output_type": "stream",
     "text": [
      "Insertando registros:  42%|████▏     | 657/1560 [21:34<36:33,  2.43s/it]"
     ]
    },
    {
     "name": "stdout",
     "output_type": "stream",
     "text": [
      "Query ejecutada correctamente.\n",
      "Query ejecutada correctamente.\n",
      "Query ejecutada correctamente.\n"
     ]
    },
    {
     "name": "stderr",
     "output_type": "stream",
     "text": [
      "Insertando registros:  42%|████▏     | 658/1560 [21:37<36:30,  2.43s/it]"
     ]
    },
    {
     "name": "stdout",
     "output_type": "stream",
     "text": [
      "Query ejecutada correctamente.\n",
      "Query ejecutada correctamente.\n",
      "Query ejecutada correctamente.\n"
     ]
    },
    {
     "name": "stderr",
     "output_type": "stream",
     "text": [
      "Insertando registros:  42%|████▏     | 659/1560 [21:39<36:31,  2.43s/it]"
     ]
    },
    {
     "name": "stdout",
     "output_type": "stream",
     "text": [
      "Query ejecutada correctamente.\n"
     ]
    },
    {
     "name": "stderr",
     "output_type": "stream",
     "text": [
      "Insertando registros:  42%|████▏     | 660/1560 [21:40<29:07,  1.94s/it]"
     ]
    },
    {
     "name": "stdout",
     "output_type": "stream",
     "text": [
      "Query ejecutada correctamente.\n"
     ]
    },
    {
     "name": "stderr",
     "output_type": "stream",
     "text": [
      "Insertando registros:  42%|████▏     | 661/1560 [21:41<23:58,  1.60s/it]"
     ]
    },
    {
     "name": "stdout",
     "output_type": "stream",
     "text": [
      "Query ejecutada correctamente.\n"
     ]
    },
    {
     "name": "stderr",
     "output_type": "stream",
     "text": [
      "Insertando registros:  42%|████▏     | 662/1560 [21:42<20:26,  1.37s/it]"
     ]
    },
    {
     "name": "stdout",
     "output_type": "stream",
     "text": [
      "Query ejecutada correctamente.\n",
      "Query ejecutada correctamente.\n",
      "Query ejecutada correctamente.\n"
     ]
    },
    {
     "name": "stderr",
     "output_type": "stream",
     "text": [
      "Insertando registros:  42%|████▎     | 663/1560 [21:44<24:57,  1.67s/it]"
     ]
    },
    {
     "name": "stdout",
     "output_type": "stream",
     "text": [
      "Query ejecutada correctamente.\n",
      "Query ejecutada correctamente.\n",
      "Query ejecutada correctamente.\n"
     ]
    },
    {
     "name": "stderr",
     "output_type": "stream",
     "text": [
      "Insertando registros:  43%|████▎     | 664/1560 [21:47<28:48,  1.93s/it]"
     ]
    },
    {
     "name": "stdout",
     "output_type": "stream",
     "text": [
      "Query ejecutada correctamente.\n",
      "Query ejecutada correctamente.\n",
      "Query ejecutada correctamente.\n"
     ]
    },
    {
     "name": "stderr",
     "output_type": "stream",
     "text": [
      "Insertando registros:  43%|████▎     | 665/1560 [21:49<30:58,  2.08s/it]"
     ]
    },
    {
     "name": "stdout",
     "output_type": "stream",
     "text": [
      "Query ejecutada correctamente.\n",
      "Query ejecutada correctamente.\n",
      "Query ejecutada correctamente.\n"
     ]
    },
    {
     "name": "stderr",
     "output_type": "stream",
     "text": [
      "Insertando registros:  43%|████▎     | 666/1560 [21:51<32:24,  2.18s/it]"
     ]
    },
    {
     "name": "stdout",
     "output_type": "stream",
     "text": [
      "Query ejecutada correctamente.\n",
      "Query ejecutada correctamente.\n",
      "Query ejecutada correctamente.\n"
     ]
    },
    {
     "name": "stderr",
     "output_type": "stream",
     "text": [
      "Insertando registros:  43%|████▎     | 667/1560 [21:54<33:40,  2.26s/it]"
     ]
    },
    {
     "name": "stdout",
     "output_type": "stream",
     "text": [
      "Query ejecutada correctamente.\n",
      "Query ejecutada correctamente.\n",
      "Query ejecutada correctamente.\n"
     ]
    },
    {
     "name": "stderr",
     "output_type": "stream",
     "text": [
      "Insertando registros:  43%|████▎     | 668/1560 [21:56<34:29,  2.32s/it]"
     ]
    },
    {
     "name": "stdout",
     "output_type": "stream",
     "text": [
      "Query ejecutada correctamente.\n",
      "Query ejecutada correctamente.\n",
      "Query ejecutada correctamente.\n"
     ]
    },
    {
     "name": "stderr",
     "output_type": "stream",
     "text": [
      "Insertando registros:  43%|████▎     | 669/1560 [21:59<35:39,  2.40s/it]"
     ]
    },
    {
     "name": "stdout",
     "output_type": "stream",
     "text": [
      "Query ejecutada correctamente.\n",
      "Query ejecutada correctamente.\n",
      "Query ejecutada correctamente.\n"
     ]
    },
    {
     "name": "stderr",
     "output_type": "stream",
     "text": [
      "Insertando registros:  43%|████▎     | 670/1560 [22:02<36:03,  2.43s/it]"
     ]
    },
    {
     "name": "stdout",
     "output_type": "stream",
     "text": [
      "Query ejecutada correctamente.\n",
      "Query ejecutada correctamente.\n",
      "Query ejecutada correctamente.\n"
     ]
    },
    {
     "name": "stderr",
     "output_type": "stream",
     "text": [
      "Insertando registros:  43%|████▎     | 671/1560 [22:04<36:19,  2.45s/it]"
     ]
    },
    {
     "name": "stdout",
     "output_type": "stream",
     "text": [
      "Query ejecutada correctamente.\n"
     ]
    },
    {
     "name": "stderr",
     "output_type": "stream",
     "text": [
      "Insertando registros:  43%|████▎     | 672/1560 [22:05<29:03,  1.96s/it]"
     ]
    },
    {
     "name": "stdout",
     "output_type": "stream",
     "text": [
      "Query ejecutada correctamente.\n",
      "Query ejecutada correctamente.\n",
      "Query ejecutada correctamente.\n"
     ]
    },
    {
     "name": "stderr",
     "output_type": "stream",
     "text": [
      "Insertando registros:  43%|████▎     | 673/1560 [22:07<31:17,  2.12s/it]"
     ]
    },
    {
     "name": "stdout",
     "output_type": "stream",
     "text": [
      "Query ejecutada correctamente.\n",
      "Query ejecutada correctamente.\n",
      "Query ejecutada correctamente.\n"
     ]
    },
    {
     "name": "stderr",
     "output_type": "stream",
     "text": [
      "Insertando registros:  43%|████▎     | 674/1560 [22:10<32:55,  2.23s/it]"
     ]
    },
    {
     "name": "stdout",
     "output_type": "stream",
     "text": [
      "Query ejecutada correctamente.\n"
     ]
    },
    {
     "name": "stderr",
     "output_type": "stream",
     "text": [
      "Insertando registros:  43%|████▎     | 675/1560 [22:11<26:38,  1.81s/it]"
     ]
    },
    {
     "name": "stdout",
     "output_type": "stream",
     "text": [
      "Query ejecutada correctamente.\n",
      "Query ejecutada correctamente.\n",
      "Query ejecutada correctamente.\n"
     ]
    },
    {
     "name": "stderr",
     "output_type": "stream",
     "text": [
      "Insertando registros:  43%|████▎     | 676/1560 [22:13<29:13,  1.98s/it]"
     ]
    },
    {
     "name": "stdout",
     "output_type": "stream",
     "text": [
      "Query ejecutada correctamente.\n",
      "Query ejecutada correctamente.\n",
      "Query ejecutada correctamente.\n"
     ]
    },
    {
     "name": "stderr",
     "output_type": "stream",
     "text": [
      "Insertando registros:  43%|████▎     | 677/1560 [22:15<31:02,  2.11s/it]"
     ]
    },
    {
     "name": "stdout",
     "output_type": "stream",
     "text": [
      "Query ejecutada correctamente.\n"
     ]
    },
    {
     "name": "stderr",
     "output_type": "stream",
     "text": [
      "Insertando registros:  43%|████▎     | 678/1560 [22:16<25:19,  1.72s/it]"
     ]
    },
    {
     "name": "stdout",
     "output_type": "stream",
     "text": [
      "Query ejecutada correctamente.\n",
      "Query ejecutada correctamente.\n",
      "Query ejecutada correctamente.\n"
     ]
    },
    {
     "name": "stderr",
     "output_type": "stream",
     "text": [
      "Insertando registros:  44%|████▎     | 679/1560 [22:19<28:48,  1.96s/it]"
     ]
    },
    {
     "name": "stdout",
     "output_type": "stream",
     "text": [
      "Query ejecutada correctamente.\n"
     ]
    },
    {
     "name": "stderr",
     "output_type": "stream",
     "text": [
      "Insertando registros:  44%|████▎     | 680/1560 [22:20<24:10,  1.65s/it]"
     ]
    },
    {
     "name": "stdout",
     "output_type": "stream",
     "text": [
      "Query ejecutada correctamente.\n",
      "Query ejecutada correctamente.\n",
      "Query ejecutada correctamente.\n"
     ]
    },
    {
     "name": "stderr",
     "output_type": "stream",
     "text": [
      "Insertando registros:  44%|████▎     | 681/1560 [22:22<28:12,  1.93s/it]"
     ]
    },
    {
     "name": "stdout",
     "output_type": "stream",
     "text": [
      "Query ejecutada correctamente.\n",
      "Query ejecutada correctamente.\n",
      "Query ejecutada correctamente.\n"
     ]
    },
    {
     "name": "stderr",
     "output_type": "stream",
     "text": [
      "Insertando registros:  44%|████▎     | 682/1560 [22:25<31:34,  2.16s/it]"
     ]
    },
    {
     "name": "stdout",
     "output_type": "stream",
     "text": [
      "Query ejecutada correctamente.\n",
      "Query ejecutada correctamente.\n",
      "Query ejecutada correctamente.\n"
     ]
    },
    {
     "name": "stderr",
     "output_type": "stream",
     "text": [
      "Insertando registros:  44%|████▍     | 683/1560 [22:27<32:49,  2.25s/it]"
     ]
    },
    {
     "name": "stdout",
     "output_type": "stream",
     "text": [
      "Query ejecutada correctamente.\n",
      "Query ejecutada correctamente.\n",
      "Query ejecutada correctamente.\n"
     ]
    },
    {
     "name": "stderr",
     "output_type": "stream",
     "text": [
      "Insertando registros:  44%|████▍     | 684/1560 [22:30<33:33,  2.30s/it]"
     ]
    },
    {
     "name": "stdout",
     "output_type": "stream",
     "text": [
      "Query ejecutada correctamente.\n",
      "Query ejecutada correctamente.\n",
      "Query ejecutada correctamente.\n"
     ]
    },
    {
     "name": "stderr",
     "output_type": "stream",
     "text": [
      "Insertando registros:  44%|████▍     | 685/1560 [22:32<34:30,  2.37s/it]"
     ]
    },
    {
     "name": "stdout",
     "output_type": "stream",
     "text": [
      "Query ejecutada correctamente.\n",
      "Query ejecutada correctamente.\n",
      "Query ejecutada correctamente.\n"
     ]
    },
    {
     "name": "stderr",
     "output_type": "stream",
     "text": [
      "Insertando registros:  44%|████▍     | 686/1560 [22:35<35:12,  2.42s/it]"
     ]
    },
    {
     "name": "stdout",
     "output_type": "stream",
     "text": [
      "Query ejecutada correctamente.\n",
      "Query ejecutada correctamente.\n",
      "Query ejecutada correctamente.\n"
     ]
    },
    {
     "name": "stderr",
     "output_type": "stream",
     "text": [
      "Insertando registros:  44%|████▍     | 687/1560 [22:37<35:46,  2.46s/it]"
     ]
    },
    {
     "name": "stdout",
     "output_type": "stream",
     "text": [
      "Query ejecutada correctamente.\n",
      "Query ejecutada correctamente.\n",
      "Query ejecutada correctamente.\n"
     ]
    },
    {
     "name": "stderr",
     "output_type": "stream",
     "text": [
      "Insertando registros:  44%|████▍     | 688/1560 [22:40<35:50,  2.47s/it]"
     ]
    },
    {
     "name": "stdout",
     "output_type": "stream",
     "text": [
      "Query ejecutada correctamente.\n"
     ]
    },
    {
     "name": "stderr",
     "output_type": "stream",
     "text": [
      "Insertando registros:  44%|████▍     | 689/1560 [22:41<28:44,  1.98s/it]"
     ]
    },
    {
     "name": "stdout",
     "output_type": "stream",
     "text": [
      "Query ejecutada correctamente.\n",
      "Query ejecutada correctamente.\n",
      "Query ejecutada correctamente.\n"
     ]
    },
    {
     "name": "stderr",
     "output_type": "stream",
     "text": [
      "Insertando registros:  44%|████▍     | 690/1560 [22:43<31:00,  2.14s/it]"
     ]
    },
    {
     "name": "stdout",
     "output_type": "stream",
     "text": [
      "Query ejecutada correctamente.\n",
      "Query ejecutada correctamente.\n",
      "Query ejecutada correctamente.\n"
     ]
    },
    {
     "name": "stderr",
     "output_type": "stream",
     "text": [
      "Insertando registros:  44%|████▍     | 691/1560 [22:46<32:54,  2.27s/it]"
     ]
    },
    {
     "name": "stdout",
     "output_type": "stream",
     "text": [
      "Query ejecutada correctamente.\n",
      "Query ejecutada correctamente.\n",
      "Query ejecutada correctamente.\n"
     ]
    },
    {
     "name": "stderr",
     "output_type": "stream",
     "text": [
      "Insertando registros:  44%|████▍     | 692/1560 [22:49<35:20,  2.44s/it]"
     ]
    },
    {
     "name": "stdout",
     "output_type": "stream",
     "text": [
      "Query ejecutada correctamente.\n",
      "Query ejecutada correctamente.\n",
      "Query ejecutada correctamente.\n"
     ]
    },
    {
     "name": "stderr",
     "output_type": "stream",
     "text": [
      "Insertando registros:  44%|████▍     | 693/1560 [22:51<35:27,  2.45s/it]"
     ]
    },
    {
     "name": "stdout",
     "output_type": "stream",
     "text": [
      "Query ejecutada correctamente.\n"
     ]
    },
    {
     "name": "stderr",
     "output_type": "stream",
     "text": [
      "Insertando registros:  44%|████▍     | 694/1560 [22:52<29:10,  2.02s/it]"
     ]
    },
    {
     "name": "stdout",
     "output_type": "stream",
     "text": [
      "Query ejecutada correctamente.\n",
      "Query ejecutada correctamente.\n",
      "Query ejecutada correctamente.\n"
     ]
    },
    {
     "name": "stderr",
     "output_type": "stream",
     "text": [
      "Insertando registros:  45%|████▍     | 695/1560 [22:55<31:34,  2.19s/it]"
     ]
    },
    {
     "name": "stdout",
     "output_type": "stream",
     "text": [
      "Query ejecutada correctamente.\n",
      "Query ejecutada correctamente.\n",
      "Query ejecutada correctamente.\n"
     ]
    },
    {
     "name": "stderr",
     "output_type": "stream",
     "text": [
      "Insertando registros:  45%|████▍     | 696/1560 [22:57<32:53,  2.28s/it]"
     ]
    },
    {
     "name": "stdout",
     "output_type": "stream",
     "text": [
      "Query ejecutada correctamente.\n",
      "Query ejecutada correctamente.\n",
      "Query ejecutada correctamente.\n"
     ]
    },
    {
     "name": "stderr",
     "output_type": "stream",
     "text": [
      "Insertando registros:  45%|████▍     | 697/1560 [23:00<33:38,  2.34s/it]"
     ]
    },
    {
     "name": "stdout",
     "output_type": "stream",
     "text": [
      "Query ejecutada correctamente.\n"
     ]
    },
    {
     "name": "stderr",
     "output_type": "stream",
     "text": [
      "Insertando registros:  45%|████▍     | 698/1560 [23:01<27:16,  1.90s/it]"
     ]
    },
    {
     "name": "stdout",
     "output_type": "stream",
     "text": [
      "Query ejecutada correctamente.\n",
      "Query ejecutada correctamente.\n",
      "Query ejecutada correctamente.\n"
     ]
    },
    {
     "name": "stderr",
     "output_type": "stream",
     "text": [
      "Insertando registros:  45%|████▍     | 699/1560 [23:03<29:53,  2.08s/it]"
     ]
    },
    {
     "name": "stdout",
     "output_type": "stream",
     "text": [
      "Query ejecutada correctamente.\n"
     ]
    },
    {
     "name": "stderr",
     "output_type": "stream",
     "text": [
      "Insertando registros:  45%|████▍     | 700/1560 [23:04<24:17,  1.69s/it]"
     ]
    },
    {
     "name": "stdout",
     "output_type": "stream",
     "text": [
      "Query ejecutada correctamente.\n",
      "Query ejecutada correctamente.\n",
      "Query ejecutada correctamente.\n"
     ]
    },
    {
     "name": "stderr",
     "output_type": "stream",
     "text": [
      "Insertando registros:  45%|████▍     | 701/1560 [23:06<27:32,  1.92s/it]"
     ]
    },
    {
     "name": "stdout",
     "output_type": "stream",
     "text": [
      "Query ejecutada correctamente.\n",
      "Query ejecutada correctamente.\n",
      "Query ejecutada correctamente.\n"
     ]
    },
    {
     "name": "stderr",
     "output_type": "stream",
     "text": [
      "Insertando registros:  45%|████▌     | 702/1560 [23:09<30:16,  2.12s/it]"
     ]
    },
    {
     "name": "stdout",
     "output_type": "stream",
     "text": [
      "Query ejecutada correctamente.\n"
     ]
    },
    {
     "name": "stderr",
     "output_type": "stream",
     "text": [
      "Insertando registros:  45%|████▌     | 703/1560 [23:10<24:31,  1.72s/it]"
     ]
    },
    {
     "name": "stdout",
     "output_type": "stream",
     "text": [
      "Query ejecutada correctamente.\n",
      "Query ejecutada correctamente.\n",
      "Query ejecutada correctamente.\n"
     ]
    },
    {
     "name": "stderr",
     "output_type": "stream",
     "text": [
      "Insertando registros:  45%|████▌     | 704/1560 [23:12<27:51,  1.95s/it]"
     ]
    },
    {
     "name": "stdout",
     "output_type": "stream",
     "text": [
      "Query ejecutada correctamente.\n"
     ]
    },
    {
     "name": "stderr",
     "output_type": "stream",
     "text": [
      "Insertando registros:  45%|████▌     | 705/1560 [23:13<23:19,  1.64s/it]"
     ]
    },
    {
     "name": "stdout",
     "output_type": "stream",
     "text": [
      "Query ejecutada correctamente.\n",
      "Query ejecutada correctamente.\n",
      "Query ejecutada correctamente.\n"
     ]
    },
    {
     "name": "stderr",
     "output_type": "stream",
     "text": [
      "Insertando registros:  45%|████▌     | 706/1560 [23:16<26:40,  1.87s/it]"
     ]
    },
    {
     "name": "stdout",
     "output_type": "stream",
     "text": [
      "Query ejecutada correctamente.\n",
      "Query ejecutada correctamente.\n",
      "Query ejecutada correctamente.\n"
     ]
    },
    {
     "name": "stderr",
     "output_type": "stream",
     "text": [
      "Insertando registros:  45%|████▌     | 707/1560 [23:18<29:06,  2.05s/it]"
     ]
    },
    {
     "name": "stdout",
     "output_type": "stream",
     "text": [
      "Query ejecutada correctamente.\n"
     ]
    },
    {
     "name": "stderr",
     "output_type": "stream",
     "text": [
      "Insertando registros:  45%|████▌     | 708/1560 [23:19<23:51,  1.68s/it]"
     ]
    },
    {
     "name": "stdout",
     "output_type": "stream",
     "text": [
      "Query ejecutada correctamente.\n",
      "Query ejecutada correctamente.\n",
      "Query ejecutada correctamente.\n"
     ]
    },
    {
     "name": "stderr",
     "output_type": "stream",
     "text": [
      "Insertando registros:  45%|████▌     | 709/1560 [23:21<26:59,  1.90s/it]"
     ]
    },
    {
     "name": "stdout",
     "output_type": "stream",
     "text": [
      "Query ejecutada correctamente.\n",
      "Query ejecutada correctamente.\n",
      "Query ejecutada correctamente.\n"
     ]
    },
    {
     "name": "stderr",
     "output_type": "stream",
     "text": [
      "Insertando registros:  46%|████▌     | 710/1560 [23:24<29:04,  2.05s/it]"
     ]
    },
    {
     "name": "stdout",
     "output_type": "stream",
     "text": [
      "Query ejecutada correctamente.\n",
      "Query ejecutada correctamente.\n",
      "Query ejecutada correctamente.\n"
     ]
    },
    {
     "name": "stderr",
     "output_type": "stream",
     "text": [
      "Insertando registros:  46%|████▌     | 711/1560 [23:26<30:32,  2.16s/it]"
     ]
    },
    {
     "name": "stdout",
     "output_type": "stream",
     "text": [
      "Query ejecutada correctamente.\n",
      "Query ejecutada correctamente.\n",
      "Query ejecutada correctamente.\n"
     ]
    },
    {
     "name": "stderr",
     "output_type": "stream",
     "text": [
      "Insertando registros:  46%|████▌     | 712/1560 [23:28<31:24,  2.22s/it]"
     ]
    },
    {
     "name": "stdout",
     "output_type": "stream",
     "text": [
      "Query ejecutada correctamente.\n",
      "Query ejecutada correctamente.\n",
      "Query ejecutada correctamente.\n"
     ]
    },
    {
     "name": "stderr",
     "output_type": "stream",
     "text": [
      "Insertando registros:  46%|████▌     | 713/1560 [23:31<32:07,  2.28s/it]"
     ]
    },
    {
     "name": "stdout",
     "output_type": "stream",
     "text": [
      "Query ejecutada correctamente.\n"
     ]
    },
    {
     "name": "stderr",
     "output_type": "stream",
     "text": [
      "Insertando registros:  46%|████▌     | 714/1560 [23:32<25:53,  1.84s/it]"
     ]
    },
    {
     "name": "stdout",
     "output_type": "stream",
     "text": [
      "Query ejecutada correctamente.\n",
      "Query ejecutada correctamente.\n",
      "Query ejecutada correctamente.\n"
     ]
    },
    {
     "name": "stderr",
     "output_type": "stream",
     "text": [
      "Insertando registros:  46%|████▌     | 715/1560 [23:34<28:14,  2.00s/it]"
     ]
    },
    {
     "name": "stdout",
     "output_type": "stream",
     "text": [
      "Query ejecutada correctamente.\n",
      "Query ejecutada correctamente.\n",
      "Query ejecutada correctamente.\n"
     ]
    },
    {
     "name": "stderr",
     "output_type": "stream",
     "text": [
      "Insertando registros:  46%|████▌     | 716/1560 [23:36<29:52,  2.12s/it]"
     ]
    },
    {
     "name": "stdout",
     "output_type": "stream",
     "text": [
      "Query ejecutada correctamente.\n"
     ]
    },
    {
     "name": "stderr",
     "output_type": "stream",
     "text": [
      "Insertando registros:  46%|████▌     | 717/1560 [23:37<24:15,  1.73s/it]"
     ]
    },
    {
     "name": "stdout",
     "output_type": "stream",
     "text": [
      "Query ejecutada correctamente.\n"
     ]
    },
    {
     "name": "stderr",
     "output_type": "stream",
     "text": [
      "Insertando registros:  46%|████▌     | 718/1560 [23:38<20:25,  1.46s/it]"
     ]
    },
    {
     "name": "stdout",
     "output_type": "stream",
     "text": [
      "Query ejecutada correctamente.\n",
      "Query ejecutada correctamente.\n",
      "Query ejecutada correctamente.\n"
     ]
    },
    {
     "name": "stderr",
     "output_type": "stream",
     "text": [
      "Insertando registros:  46%|████▌     | 719/1560 [23:41<25:52,  1.85s/it]"
     ]
    },
    {
     "name": "stdout",
     "output_type": "stream",
     "text": [
      "Query ejecutada correctamente.\n"
     ]
    },
    {
     "name": "stderr",
     "output_type": "stream",
     "text": [
      "Insertando registros:  46%|████▌     | 720/1560 [23:42<21:44,  1.55s/it]"
     ]
    },
    {
     "name": "stdout",
     "output_type": "stream",
     "text": [
      "Query ejecutada correctamente.\n",
      "Query ejecutada correctamente.\n",
      "Query ejecutada correctamente.\n"
     ]
    },
    {
     "name": "stderr",
     "output_type": "stream",
     "text": [
      "Insertando registros:  46%|████▌     | 721/1560 [23:44<26:00,  1.86s/it]"
     ]
    },
    {
     "name": "stdout",
     "output_type": "stream",
     "text": [
      "Query ejecutada correctamente.\n"
     ]
    },
    {
     "name": "stderr",
     "output_type": "stream",
     "text": [
      "Insertando registros:  46%|████▋     | 722/1560 [23:45<21:56,  1.57s/it]"
     ]
    },
    {
     "name": "stdout",
     "output_type": "stream",
     "text": [
      "Query ejecutada correctamente.\n"
     ]
    },
    {
     "name": "stderr",
     "output_type": "stream",
     "text": [
      "Insertando registros:  46%|████▋     | 723/1560 [23:46<18:45,  1.35s/it]"
     ]
    },
    {
     "name": "stdout",
     "output_type": "stream",
     "text": [
      "Query ejecutada correctamente.\n",
      "Query ejecutada correctamente.\n",
      "Query ejecutada correctamente.\n"
     ]
    },
    {
     "name": "stderr",
     "output_type": "stream",
     "text": [
      "Insertando registros:  46%|████▋     | 724/1560 [23:48<23:27,  1.68s/it]"
     ]
    },
    {
     "name": "stdout",
     "output_type": "stream",
     "text": [
      "Query ejecutada correctamente.\n",
      "Query ejecutada correctamente.\n",
      "Query ejecutada correctamente.\n"
     ]
    },
    {
     "name": "stderr",
     "output_type": "stream",
     "text": [
      "Insertando registros:  46%|████▋     | 725/1560 [23:51<26:28,  1.90s/it]"
     ]
    },
    {
     "name": "stdout",
     "output_type": "stream",
     "text": [
      "Query ejecutada correctamente.\n",
      "Query ejecutada correctamente.\n",
      "Query ejecutada correctamente.\n"
     ]
    },
    {
     "name": "stderr",
     "output_type": "stream",
     "text": [
      "Insertando registros:  47%|████▋     | 726/1560 [23:53<28:26,  2.05s/it]"
     ]
    },
    {
     "name": "stdout",
     "output_type": "stream",
     "text": [
      "Query ejecutada correctamente.\n",
      "Query ejecutada correctamente.\n",
      "Query ejecutada correctamente.\n"
     ]
    },
    {
     "name": "stderr",
     "output_type": "stream",
     "text": [
      "Insertando registros:  47%|████▋     | 727/1560 [23:56<30:04,  2.17s/it]"
     ]
    },
    {
     "name": "stdout",
     "output_type": "stream",
     "text": [
      "Query ejecutada correctamente.\n",
      "Query ejecutada correctamente.\n",
      "Query ejecutada correctamente.\n"
     ]
    },
    {
     "name": "stderr",
     "output_type": "stream",
     "text": [
      "Insertando registros:  47%|████▋     | 728/1560 [23:58<31:09,  2.25s/it]"
     ]
    },
    {
     "name": "stdout",
     "output_type": "stream",
     "text": [
      "Query ejecutada correctamente.\n",
      "Query ejecutada correctamente.\n",
      "Query ejecutada correctamente.\n"
     ]
    },
    {
     "name": "stderr",
     "output_type": "stream",
     "text": [
      "Insertando registros:  47%|████▋     | 729/1560 [24:01<31:47,  2.30s/it]"
     ]
    },
    {
     "name": "stdout",
     "output_type": "stream",
     "text": [
      "Query ejecutada correctamente.\n",
      "Query ejecutada correctamente.\n",
      "Query ejecutada correctamente.\n"
     ]
    },
    {
     "name": "stderr",
     "output_type": "stream",
     "text": [
      "Insertando registros:  47%|████▋     | 730/1560 [24:03<32:19,  2.34s/it]"
     ]
    },
    {
     "name": "stdout",
     "output_type": "stream",
     "text": [
      "Query ejecutada correctamente.\n"
     ]
    },
    {
     "name": "stderr",
     "output_type": "stream",
     "text": [
      "Insertando registros:  47%|████▋     | 731/1560 [24:04<25:54,  1.88s/it]"
     ]
    },
    {
     "name": "stdout",
     "output_type": "stream",
     "text": [
      "Query ejecutada correctamente.\n",
      "Query ejecutada correctamente.\n",
      "Query ejecutada correctamente.\n"
     ]
    },
    {
     "name": "stderr",
     "output_type": "stream",
     "text": [
      "Insertando registros:  47%|████▋     | 732/1560 [24:06<28:02,  2.03s/it]"
     ]
    },
    {
     "name": "stdout",
     "output_type": "stream",
     "text": [
      "Query ejecutada correctamente.\n"
     ]
    },
    {
     "name": "stderr",
     "output_type": "stream",
     "text": [
      "Insertando registros:  47%|████▋     | 733/1560 [24:07<22:55,  1.66s/it]"
     ]
    },
    {
     "name": "stdout",
     "output_type": "stream",
     "text": [
      "Query ejecutada correctamente.\n",
      "Query ejecutada correctamente.\n",
      "Query ejecutada correctamente.\n"
     ]
    },
    {
     "name": "stderr",
     "output_type": "stream",
     "text": [
      "Insertando registros:  47%|████▋     | 734/1560 [24:09<26:18,  1.91s/it]"
     ]
    },
    {
     "name": "stdout",
     "output_type": "stream",
     "text": [
      "Query ejecutada correctamente.\n"
     ]
    },
    {
     "name": "stderr",
     "output_type": "stream",
     "text": [
      "Insertando registros:  47%|████▋     | 735/1560 [24:10<21:51,  1.59s/it]"
     ]
    },
    {
     "name": "stdout",
     "output_type": "stream",
     "text": [
      "Query ejecutada correctamente.\n",
      "Query ejecutada correctamente.\n",
      "Query ejecutada correctamente.\n"
     ]
    },
    {
     "name": "stderr",
     "output_type": "stream",
     "text": [
      "Insertando registros:  47%|████▋     | 736/1560 [24:13<24:54,  1.81s/it]"
     ]
    },
    {
     "name": "stdout",
     "output_type": "stream",
     "text": [
      "Query ejecutada correctamente.\n",
      "Query ejecutada correctamente.\n",
      "Query ejecutada correctamente.\n"
     ]
    },
    {
     "name": "stderr",
     "output_type": "stream",
     "text": [
      "Insertando registros:  47%|████▋     | 737/1560 [24:15<26:58,  1.97s/it]"
     ]
    },
    {
     "name": "stdout",
     "output_type": "stream",
     "text": [
      "Query ejecutada correctamente.\n",
      "Query ejecutada correctamente.\n",
      "Query ejecutada correctamente.\n"
     ]
    },
    {
     "name": "stderr",
     "output_type": "stream",
     "text": [
      "Insertando registros:  47%|████▋     | 738/1560 [24:17<28:41,  2.09s/it]"
     ]
    },
    {
     "name": "stdout",
     "output_type": "stream",
     "text": [
      "Query ejecutada correctamente.\n",
      "Query ejecutada correctamente.\n",
      "Query ejecutada correctamente.\n"
     ]
    },
    {
     "name": "stderr",
     "output_type": "stream",
     "text": [
      "Insertando registros:  47%|████▋     | 739/1560 [24:20<29:46,  2.18s/it]"
     ]
    },
    {
     "name": "stdout",
     "output_type": "stream",
     "text": [
      "Query ejecutada correctamente.\n",
      "Query ejecutada correctamente.\n",
      "Query ejecutada correctamente.\n"
     ]
    },
    {
     "name": "stderr",
     "output_type": "stream",
     "text": [
      "Insertando registros:  47%|████▋     | 740/1560 [24:22<30:39,  2.24s/it]"
     ]
    },
    {
     "name": "stdout",
     "output_type": "stream",
     "text": [
      "Query ejecutada correctamente.\n"
     ]
    },
    {
     "name": "stderr",
     "output_type": "stream",
     "text": [
      "Insertando registros:  48%|████▊     | 741/1560 [24:23<24:42,  1.81s/it]"
     ]
    },
    {
     "name": "stdout",
     "output_type": "stream",
     "text": [
      "Query ejecutada correctamente.\n",
      "Query ejecutada correctamente.\n",
      "Query ejecutada correctamente.\n"
     ]
    },
    {
     "name": "stderr",
     "output_type": "stream",
     "text": [
      "Insertando registros:  48%|████▊     | 742/1560 [24:25<26:57,  1.98s/it]"
     ]
    },
    {
     "name": "stdout",
     "output_type": "stream",
     "text": [
      "Query ejecutada correctamente.\n",
      "Query ejecutada correctamente.\n",
      "Query ejecutada correctamente.\n"
     ]
    },
    {
     "name": "stderr",
     "output_type": "stream",
     "text": [
      "Insertando registros:  48%|████▊     | 743/1560 [24:28<28:32,  2.10s/it]"
     ]
    },
    {
     "name": "stdout",
     "output_type": "stream",
     "text": [
      "Query ejecutada correctamente.\n",
      "Query ejecutada correctamente.\n",
      "Query ejecutada correctamente.\n"
     ]
    },
    {
     "name": "stderr",
     "output_type": "stream",
     "text": [
      "Insertando registros:  48%|████▊     | 744/1560 [24:30<29:41,  2.18s/it]"
     ]
    },
    {
     "name": "stdout",
     "output_type": "stream",
     "text": [
      "Query ejecutada correctamente.\n",
      "Query ejecutada correctamente.\n",
      "Query ejecutada correctamente.\n"
     ]
    },
    {
     "name": "stderr",
     "output_type": "stream",
     "text": [
      "Insertando registros:  48%|████▊     | 745/1560 [24:32<30:31,  2.25s/it]"
     ]
    },
    {
     "name": "stdout",
     "output_type": "stream",
     "text": [
      "Query ejecutada correctamente.\n",
      "Query ejecutada correctamente.\n",
      "Query ejecutada correctamente.\n"
     ]
    },
    {
     "name": "stderr",
     "output_type": "stream",
     "text": [
      "Insertando registros:  48%|████▊     | 746/1560 [24:35<31:00,  2.29s/it]"
     ]
    },
    {
     "name": "stdout",
     "output_type": "stream",
     "text": [
      "Query ejecutada correctamente.\n",
      "Query ejecutada correctamente.\n",
      "Query ejecutada correctamente.\n"
     ]
    },
    {
     "name": "stderr",
     "output_type": "stream",
     "text": [
      "Insertando registros:  48%|████▊     | 747/1560 [24:37<31:22,  2.32s/it]"
     ]
    },
    {
     "name": "stdout",
     "output_type": "stream",
     "text": [
      "Query ejecutada correctamente.\n",
      "Query ejecutada correctamente.\n",
      "Query ejecutada correctamente.\n"
     ]
    },
    {
     "name": "stderr",
     "output_type": "stream",
     "text": [
      "Insertando registros:  48%|████▊     | 748/1560 [24:40<31:31,  2.33s/it]"
     ]
    },
    {
     "name": "stdout",
     "output_type": "stream",
     "text": [
      "Query ejecutada correctamente.\n",
      "Query ejecutada correctamente.\n",
      "Query ejecutada correctamente.\n"
     ]
    },
    {
     "name": "stderr",
     "output_type": "stream",
     "text": [
      "Insertando registros:  48%|████▊     | 749/1560 [24:42<31:43,  2.35s/it]"
     ]
    },
    {
     "name": "stdout",
     "output_type": "stream",
     "text": [
      "Query ejecutada correctamente.\n",
      "Query ejecutada correctamente.\n",
      "Query ejecutada correctamente.\n"
     ]
    },
    {
     "name": "stderr",
     "output_type": "stream",
     "text": [
      "Insertando registros:  48%|████▊     | 750/1560 [24:44<31:52,  2.36s/it]"
     ]
    },
    {
     "name": "stdout",
     "output_type": "stream",
     "text": [
      "Query ejecutada correctamente.\n",
      "Query ejecutada correctamente.\n",
      "Query ejecutada correctamente.\n"
     ]
    },
    {
     "name": "stderr",
     "output_type": "stream",
     "text": [
      "Insertando registros:  48%|████▊     | 751/1560 [24:47<31:57,  2.37s/it]"
     ]
    },
    {
     "name": "stdout",
     "output_type": "stream",
     "text": [
      "Query ejecutada correctamente.\n",
      "Query ejecutada correctamente.\n",
      "Query ejecutada correctamente.\n"
     ]
    },
    {
     "name": "stderr",
     "output_type": "stream",
     "text": [
      "Insertando registros:  48%|████▊     | 752/1560 [24:49<31:58,  2.37s/it]"
     ]
    },
    {
     "name": "stdout",
     "output_type": "stream",
     "text": [
      "Query ejecutada correctamente.\n",
      "Query ejecutada correctamente.\n",
      "Query ejecutada correctamente.\n"
     ]
    },
    {
     "name": "stderr",
     "output_type": "stream",
     "text": [
      "Insertando registros:  48%|████▊     | 753/1560 [24:52<32:03,  2.38s/it]"
     ]
    },
    {
     "name": "stdout",
     "output_type": "stream",
     "text": [
      "Query ejecutada correctamente.\n",
      "Query ejecutada correctamente.\n",
      "Query ejecutada correctamente.\n"
     ]
    },
    {
     "name": "stderr",
     "output_type": "stream",
     "text": [
      "Insertando registros:  48%|████▊     | 754/1560 [24:54<32:01,  2.38s/it]"
     ]
    },
    {
     "name": "stdout",
     "output_type": "stream",
     "text": [
      "Query ejecutada correctamente.\n",
      "Query ejecutada correctamente.\n",
      "Query ejecutada correctamente.\n"
     ]
    },
    {
     "name": "stderr",
     "output_type": "stream",
     "text": [
      "Insertando registros:  48%|████▊     | 755/1560 [24:56<32:01,  2.39s/it]"
     ]
    },
    {
     "name": "stdout",
     "output_type": "stream",
     "text": [
      "Query ejecutada correctamente.\n",
      "Query ejecutada correctamente.\n",
      "Query ejecutada correctamente.\n"
     ]
    },
    {
     "name": "stderr",
     "output_type": "stream",
     "text": [
      "Insertando registros:  48%|████▊     | 756/1560 [24:59<31:50,  2.38s/it]"
     ]
    },
    {
     "name": "stdout",
     "output_type": "stream",
     "text": [
      "Query ejecutada correctamente.\n",
      "Query ejecutada correctamente.\n",
      "Query ejecutada correctamente.\n"
     ]
    },
    {
     "name": "stderr",
     "output_type": "stream",
     "text": [
      "Insertando registros:  49%|████▊     | 757/1560 [25:01<31:54,  2.38s/it]"
     ]
    },
    {
     "name": "stdout",
     "output_type": "stream",
     "text": [
      "Query ejecutada correctamente.\n",
      "Query ejecutada correctamente.\n",
      "Query ejecutada correctamente.\n"
     ]
    },
    {
     "name": "stderr",
     "output_type": "stream",
     "text": [
      "Insertando registros:  49%|████▊     | 758/1560 [25:03<31:54,  2.39s/it]"
     ]
    },
    {
     "name": "stdout",
     "output_type": "stream",
     "text": [
      "Query ejecutada correctamente.\n",
      "Query ejecutada correctamente.\n",
      "Query ejecutada correctamente.\n"
     ]
    },
    {
     "name": "stderr",
     "output_type": "stream",
     "text": [
      "Insertando registros:  49%|████▊     | 759/1560 [25:06<31:53,  2.39s/it]"
     ]
    },
    {
     "name": "stdout",
     "output_type": "stream",
     "text": [
      "Query ejecutada correctamente.\n",
      "Query ejecutada correctamente.\n",
      "Query ejecutada correctamente.\n"
     ]
    },
    {
     "name": "stderr",
     "output_type": "stream",
     "text": [
      "Insertando registros:  49%|████▊     | 760/1560 [25:08<31:55,  2.39s/it]"
     ]
    },
    {
     "name": "stdout",
     "output_type": "stream",
     "text": [
      "Query ejecutada correctamente.\n",
      "Query ejecutada correctamente.\n",
      "Query ejecutada correctamente.\n"
     ]
    },
    {
     "name": "stderr",
     "output_type": "stream",
     "text": [
      "Insertando registros:  49%|████▉     | 761/1560 [25:11<31:52,  2.39s/it]"
     ]
    },
    {
     "name": "stdout",
     "output_type": "stream",
     "text": [
      "Query ejecutada correctamente.\n"
     ]
    },
    {
     "name": "stderr",
     "output_type": "stream",
     "text": [
      "Insertando registros:  49%|████▉     | 762/1560 [25:11<25:33,  1.92s/it]"
     ]
    },
    {
     "name": "stdout",
     "output_type": "stream",
     "text": [
      "Query ejecutada correctamente.\n",
      "Query ejecutada correctamente.\n",
      "Query ejecutada correctamente.\n"
     ]
    },
    {
     "name": "stderr",
     "output_type": "stream",
     "text": [
      "Insertando registros:  49%|████▉     | 763/1560 [25:14<27:20,  2.06s/it]"
     ]
    },
    {
     "name": "stdout",
     "output_type": "stream",
     "text": [
      "Query ejecutada correctamente.\n",
      "Query ejecutada correctamente.\n",
      "Query ejecutada correctamente.\n"
     ]
    },
    {
     "name": "stderr",
     "output_type": "stream",
     "text": [
      "Insertando registros:  49%|████▉     | 764/1560 [25:16<28:41,  2.16s/it]"
     ]
    },
    {
     "name": "stdout",
     "output_type": "stream",
     "text": [
      "Query ejecutada correctamente.\n"
     ]
    },
    {
     "name": "stderr",
     "output_type": "stream",
     "text": [
      "Insertando registros:  49%|████▉     | 765/1560 [25:17<23:12,  1.75s/it]"
     ]
    },
    {
     "name": "stdout",
     "output_type": "stream",
     "text": [
      "Query ejecutada correctamente.\n"
     ]
    },
    {
     "name": "stderr",
     "output_type": "stream",
     "text": [
      "Insertando registros:  49%|████▉     | 766/1560 [25:18<19:22,  1.46s/it]"
     ]
    },
    {
     "name": "stdout",
     "output_type": "stream",
     "text": [
      "Query ejecutada correctamente.\n",
      "Query ejecutada correctamente.\n",
      "Query ejecutada correctamente.\n"
     ]
    },
    {
     "name": "stderr",
     "output_type": "stream",
     "text": [
      "Insertando registros:  49%|████▉     | 767/1560 [25:20<23:01,  1.74s/it]"
     ]
    },
    {
     "name": "stdout",
     "output_type": "stream",
     "text": [
      "Query ejecutada correctamente.\n",
      "Query ejecutada correctamente.\n",
      "Query ejecutada correctamente.\n"
     ]
    },
    {
     "name": "stderr",
     "output_type": "stream",
     "text": [
      "Insertando registros:  49%|████▉     | 768/1560 [25:23<25:33,  1.94s/it]"
     ]
    },
    {
     "name": "stdout",
     "output_type": "stream",
     "text": [
      "Query ejecutada correctamente.\n",
      "Query ejecutada correctamente.\n",
      "Query ejecutada correctamente.\n"
     ]
    },
    {
     "name": "stderr",
     "output_type": "stream",
     "text": [
      "Insertando registros:  49%|████▉     | 769/1560 [25:25<27:27,  2.08s/it]"
     ]
    },
    {
     "name": "stdout",
     "output_type": "stream",
     "text": [
      "Query ejecutada correctamente.\n",
      "Query ejecutada correctamente.\n",
      "Query ejecutada correctamente.\n"
     ]
    },
    {
     "name": "stderr",
     "output_type": "stream",
     "text": [
      "Insertando registros:  49%|████▉     | 770/1560 [25:27<28:43,  2.18s/it]"
     ]
    },
    {
     "name": "stdout",
     "output_type": "stream",
     "text": [
      "Query ejecutada correctamente.\n"
     ]
    },
    {
     "name": "stderr",
     "output_type": "stream",
     "text": [
      "Insertando registros:  49%|████▉     | 771/1560 [25:28<23:09,  1.76s/it]"
     ]
    },
    {
     "name": "stdout",
     "output_type": "stream",
     "text": [
      "Query ejecutada correctamente.\n",
      "Query ejecutada correctamente.\n",
      "Query ejecutada correctamente.\n"
     ]
    },
    {
     "name": "stderr",
     "output_type": "stream",
     "text": [
      "Insertando registros:  49%|████▉     | 772/1560 [25:31<25:33,  1.95s/it]"
     ]
    },
    {
     "name": "stdout",
     "output_type": "stream",
     "text": [
      "Query ejecutada correctamente.\n"
     ]
    },
    {
     "name": "stderr",
     "output_type": "stream",
     "text": [
      "Insertando registros:  50%|████▉     | 773/1560 [25:31<21:00,  1.60s/it]"
     ]
    },
    {
     "name": "stdout",
     "output_type": "stream",
     "text": [
      "Query ejecutada correctamente.\n"
     ]
    },
    {
     "name": "stderr",
     "output_type": "stream",
     "text": [
      "Insertando registros:  50%|████▉     | 774/1560 [25:32<17:57,  1.37s/it]"
     ]
    },
    {
     "name": "stdout",
     "output_type": "stream",
     "text": [
      "Query ejecutada correctamente.\n",
      "Query ejecutada correctamente.\n",
      "Query ejecutada correctamente.\n"
     ]
    },
    {
     "name": "stderr",
     "output_type": "stream",
     "text": [
      "Insertando registros:  50%|████▉     | 775/1560 [25:35<21:55,  1.68s/it]"
     ]
    },
    {
     "name": "stdout",
     "output_type": "stream",
     "text": [
      "Query ejecutada correctamente.\n"
     ]
    },
    {
     "name": "stderr",
     "output_type": "stream",
     "text": [
      "Insertando registros:  50%|████▉     | 776/1560 [25:35<18:26,  1.41s/it]"
     ]
    },
    {
     "name": "stdout",
     "output_type": "stream",
     "text": [
      "Query ejecutada correctamente.\n",
      "Query ejecutada correctamente.\n",
      "Query ejecutada correctamente.\n"
     ]
    },
    {
     "name": "stderr",
     "output_type": "stream",
     "text": [
      "Insertando registros:  50%|████▉     | 777/1560 [25:38<22:17,  1.71s/it]"
     ]
    },
    {
     "name": "stdout",
     "output_type": "stream",
     "text": [
      "Query ejecutada correctamente.\n",
      "Query ejecutada correctamente.\n",
      "Query ejecutada correctamente.\n"
     ]
    },
    {
     "name": "stderr",
     "output_type": "stream",
     "text": [
      "Insertando registros:  50%|████▉     | 778/1560 [25:40<24:56,  1.91s/it]"
     ]
    },
    {
     "name": "stdout",
     "output_type": "stream",
     "text": [
      "Query ejecutada correctamente.\n",
      "Query ejecutada correctamente.\n",
      "Query ejecutada correctamente.\n"
     ]
    },
    {
     "name": "stderr",
     "output_type": "stream",
     "text": [
      "Insertando registros:  50%|████▉     | 779/1560 [25:43<26:41,  2.05s/it]"
     ]
    },
    {
     "name": "stdout",
     "output_type": "stream",
     "text": [
      "Query ejecutada correctamente.\n",
      "Query ejecutada correctamente.\n",
      "Query ejecutada correctamente.\n"
     ]
    },
    {
     "name": "stderr",
     "output_type": "stream",
     "text": [
      "Insertando registros:  50%|█████     | 780/1560 [25:45<28:04,  2.16s/it]"
     ]
    },
    {
     "name": "stdout",
     "output_type": "stream",
     "text": [
      "Query ejecutada correctamente.\n",
      "Query ejecutada correctamente.\n",
      "Query ejecutada correctamente.\n"
     ]
    },
    {
     "name": "stderr",
     "output_type": "stream",
     "text": [
      "Insertando registros:  50%|█████     | 781/1560 [25:47<28:58,  2.23s/it]"
     ]
    },
    {
     "name": "stdout",
     "output_type": "stream",
     "text": [
      "Query ejecutada correctamente.\n",
      "Query ejecutada correctamente.\n",
      "Query ejecutada correctamente.\n"
     ]
    },
    {
     "name": "stderr",
     "output_type": "stream",
     "text": [
      "Insertando registros:  50%|█████     | 782/1560 [25:50<29:36,  2.28s/it]"
     ]
    },
    {
     "name": "stdout",
     "output_type": "stream",
     "text": [
      "Query ejecutada correctamente.\n",
      "Query ejecutada correctamente.\n",
      "Query ejecutada correctamente.\n"
     ]
    },
    {
     "name": "stderr",
     "output_type": "stream",
     "text": [
      "Insertando registros:  50%|█████     | 783/1560 [25:52<30:02,  2.32s/it]"
     ]
    },
    {
     "name": "stdout",
     "output_type": "stream",
     "text": [
      "Query ejecutada correctamente.\n",
      "Query ejecutada correctamente.\n",
      "Query ejecutada correctamente.\n"
     ]
    },
    {
     "name": "stderr",
     "output_type": "stream",
     "text": [
      "Insertando registros:  50%|█████     | 784/1560 [25:55<30:08,  2.33s/it]"
     ]
    },
    {
     "name": "stdout",
     "output_type": "stream",
     "text": [
      "Query ejecutada correctamente.\n",
      "Query ejecutada correctamente.\n",
      "Query ejecutada correctamente.\n"
     ]
    },
    {
     "name": "stderr",
     "output_type": "stream",
     "text": [
      "Insertando registros:  50%|█████     | 785/1560 [25:57<30:28,  2.36s/it]"
     ]
    },
    {
     "name": "stdout",
     "output_type": "stream",
     "text": [
      "Query ejecutada correctamente.\n",
      "Query ejecutada correctamente.\n",
      "Query ejecutada correctamente.\n"
     ]
    },
    {
     "name": "stderr",
     "output_type": "stream",
     "text": [
      "Insertando registros:  50%|█████     | 786/1560 [25:59<30:54,  2.40s/it]"
     ]
    },
    {
     "name": "stdout",
     "output_type": "stream",
     "text": [
      "Query ejecutada correctamente.\n",
      "Query ejecutada correctamente.\n",
      "Query ejecutada correctamente.\n"
     ]
    },
    {
     "name": "stderr",
     "output_type": "stream",
     "text": [
      "Insertando registros:  50%|█████     | 787/1560 [26:02<30:50,  2.39s/it]"
     ]
    },
    {
     "name": "stdout",
     "output_type": "stream",
     "text": [
      "Query ejecutada correctamente.\n",
      "Query ejecutada correctamente.\n",
      "Query ejecutada correctamente.\n"
     ]
    },
    {
     "name": "stderr",
     "output_type": "stream",
     "text": [
      "Insertando registros:  51%|█████     | 788/1560 [26:04<30:45,  2.39s/it]"
     ]
    },
    {
     "name": "stdout",
     "output_type": "stream",
     "text": [
      "Query ejecutada correctamente.\n",
      "Query ejecutada correctamente.\n",
      "Query ejecutada correctamente.\n"
     ]
    },
    {
     "name": "stderr",
     "output_type": "stream",
     "text": [
      "Insertando registros:  51%|█████     | 789/1560 [26:07<30:26,  2.37s/it]"
     ]
    },
    {
     "name": "stdout",
     "output_type": "stream",
     "text": [
      "Query ejecutada correctamente.\n"
     ]
    },
    {
     "name": "stderr",
     "output_type": "stream",
     "text": [
      "Insertando registros:  51%|█████     | 790/1560 [26:07<24:21,  1.90s/it]"
     ]
    },
    {
     "name": "stdout",
     "output_type": "stream",
     "text": [
      "Query ejecutada correctamente.\n",
      "Query ejecutada correctamente.\n",
      "Query ejecutada correctamente.\n"
     ]
    },
    {
     "name": "stderr",
     "output_type": "stream",
     "text": [
      "Insertando registros:  51%|█████     | 791/1560 [26:10<26:20,  2.06s/it]"
     ]
    },
    {
     "name": "stdout",
     "output_type": "stream",
     "text": [
      "Query ejecutada correctamente.\n"
     ]
    },
    {
     "name": "stderr",
     "output_type": "stream",
     "text": [
      "Insertando registros:  51%|█████     | 792/1560 [26:11<21:21,  1.67s/it]"
     ]
    },
    {
     "name": "stdout",
     "output_type": "stream",
     "text": [
      "Query ejecutada correctamente.\n",
      "Query ejecutada correctamente.\n",
      "Query ejecutada correctamente.\n"
     ]
    },
    {
     "name": "stderr",
     "output_type": "stream",
     "text": [
      "Insertando registros:  51%|█████     | 793/1560 [26:13<24:11,  1.89s/it]"
     ]
    },
    {
     "name": "stdout",
     "output_type": "stream",
     "text": [
      "Query ejecutada correctamente.\n"
     ]
    },
    {
     "name": "stderr",
     "output_type": "stream",
     "text": [
      "Insertando registros:  51%|█████     | 794/1560 [26:14<19:59,  1.57s/it]"
     ]
    },
    {
     "name": "stdout",
     "output_type": "stream",
     "text": [
      "Query ejecutada correctamente.\n",
      "Query ejecutada correctamente.\n",
      "Query ejecutada correctamente.\n"
     ]
    },
    {
     "name": "stderr",
     "output_type": "stream",
     "text": [
      "Insertando registros:  51%|█████     | 795/1560 [26:16<23:03,  1.81s/it]"
     ]
    },
    {
     "name": "stdout",
     "output_type": "stream",
     "text": [
      "Query ejecutada correctamente.\n",
      "Query ejecutada correctamente.\n",
      "Query ejecutada correctamente.\n"
     ]
    },
    {
     "name": "stderr",
     "output_type": "stream",
     "text": [
      "Insertando registros:  51%|█████     | 796/1560 [26:19<25:18,  1.99s/it]"
     ]
    },
    {
     "name": "stdout",
     "output_type": "stream",
     "text": [
      "Query ejecutada correctamente.\n",
      "Query ejecutada correctamente.\n",
      "Query ejecutada correctamente.\n"
     ]
    },
    {
     "name": "stderr",
     "output_type": "stream",
     "text": [
      "Insertando registros:  51%|█████     | 797/1560 [26:21<26:33,  2.09s/it]"
     ]
    },
    {
     "name": "stdout",
     "output_type": "stream",
     "text": [
      "Query ejecutada correctamente.\n",
      "Query ejecutada correctamente.\n",
      "Query ejecutada correctamente.\n"
     ]
    },
    {
     "name": "stderr",
     "output_type": "stream",
     "text": [
      "Insertando registros:  51%|█████     | 798/1560 [26:23<27:40,  2.18s/it]"
     ]
    },
    {
     "name": "stdout",
     "output_type": "stream",
     "text": [
      "Query ejecutada correctamente.\n",
      "Query ejecutada correctamente.\n",
      "Query ejecutada correctamente.\n"
     ]
    },
    {
     "name": "stderr",
     "output_type": "stream",
     "text": [
      "Insertando registros:  51%|█████     | 799/1560 [26:26<28:32,  2.25s/it]"
     ]
    },
    {
     "name": "stdout",
     "output_type": "stream",
     "text": [
      "Query ejecutada correctamente.\n",
      "Query ejecutada correctamente.\n",
      "Query ejecutada correctamente.\n"
     ]
    },
    {
     "name": "stderr",
     "output_type": "stream",
     "text": [
      "Insertando registros:  51%|█████▏    | 800/1560 [26:28<29:16,  2.31s/it]"
     ]
    },
    {
     "name": "stdout",
     "output_type": "stream",
     "text": [
      "Query ejecutada correctamente.\n",
      "Query ejecutada correctamente.\n",
      "Query ejecutada correctamente.\n"
     ]
    },
    {
     "name": "stderr",
     "output_type": "stream",
     "text": [
      "Insertando registros:  51%|█████▏    | 801/1560 [26:31<29:43,  2.35s/it]"
     ]
    },
    {
     "name": "stdout",
     "output_type": "stream",
     "text": [
      "Query ejecutada correctamente.\n",
      "Query ejecutada correctamente.\n",
      "Query ejecutada correctamente.\n"
     ]
    },
    {
     "name": "stderr",
     "output_type": "stream",
     "text": [
      "Insertando registros:  51%|█████▏    | 802/1560 [26:33<30:04,  2.38s/it]"
     ]
    },
    {
     "name": "stdout",
     "output_type": "stream",
     "text": [
      "Query ejecutada correctamente.\n",
      "Query ejecutada correctamente.\n",
      "Query ejecutada correctamente.\n"
     ]
    },
    {
     "name": "stderr",
     "output_type": "stream",
     "text": [
      "Insertando registros:  51%|█████▏    | 803/1560 [26:35<30:07,  2.39s/it]"
     ]
    },
    {
     "name": "stdout",
     "output_type": "stream",
     "text": [
      "Query ejecutada correctamente.\n",
      "Query ejecutada correctamente.\n",
      "Query ejecutada correctamente.\n"
     ]
    },
    {
     "name": "stderr",
     "output_type": "stream",
     "text": [
      "Insertando registros:  52%|█████▏    | 804/1560 [26:38<30:04,  2.39s/it]"
     ]
    },
    {
     "name": "stdout",
     "output_type": "stream",
     "text": [
      "Query ejecutada correctamente.\n",
      "Query ejecutada correctamente.\n",
      "Query ejecutada correctamente.\n"
     ]
    },
    {
     "name": "stderr",
     "output_type": "stream",
     "text": [
      "Insertando registros:  52%|█████▏    | 805/1560 [26:40<30:21,  2.41s/it]"
     ]
    },
    {
     "name": "stdout",
     "output_type": "stream",
     "text": [
      "Query ejecutada correctamente.\n",
      "Query ejecutada correctamente.\n",
      "Query ejecutada correctamente.\n"
     ]
    },
    {
     "name": "stderr",
     "output_type": "stream",
     "text": [
      "Insertando registros:  52%|█████▏    | 806/1560 [26:43<30:20,  2.41s/it]"
     ]
    },
    {
     "name": "stdout",
     "output_type": "stream",
     "text": [
      "Query ejecutada correctamente.\n",
      "Query ejecutada correctamente.\n",
      "Query ejecutada correctamente.\n"
     ]
    },
    {
     "name": "stderr",
     "output_type": "stream",
     "text": [
      "Insertando registros:  52%|█████▏    | 807/1560 [26:45<30:17,  2.41s/it]"
     ]
    },
    {
     "name": "stdout",
     "output_type": "stream",
     "text": [
      "Query ejecutada correctamente.\n",
      "Query ejecutada correctamente.\n",
      "Query ejecutada correctamente.\n"
     ]
    },
    {
     "name": "stderr",
     "output_type": "stream",
     "text": [
      "Insertando registros:  52%|█████▏    | 808/1560 [26:48<30:11,  2.41s/it]"
     ]
    },
    {
     "name": "stdout",
     "output_type": "stream",
     "text": [
      "Query ejecutada correctamente.\n",
      "Query ejecutada correctamente.\n",
      "Query ejecutada correctamente.\n"
     ]
    },
    {
     "name": "stderr",
     "output_type": "stream",
     "text": [
      "Insertando registros:  52%|█████▏    | 809/1560 [26:50<30:06,  2.41s/it]"
     ]
    },
    {
     "name": "stdout",
     "output_type": "stream",
     "text": [
      "Query ejecutada correctamente.\n",
      "Query ejecutada correctamente.\n",
      "Query ejecutada correctamente.\n"
     ]
    },
    {
     "name": "stderr",
     "output_type": "stream",
     "text": [
      "Insertando registros:  52%|█████▏    | 810/1560 [26:52<30:07,  2.41s/it]"
     ]
    },
    {
     "name": "stdout",
     "output_type": "stream",
     "text": [
      "Query ejecutada correctamente.\n",
      "Query ejecutada correctamente.\n",
      "Query ejecutada correctamente.\n"
     ]
    },
    {
     "name": "stderr",
     "output_type": "stream",
     "text": [
      "Insertando registros:  52%|█████▏    | 811/1560 [26:55<29:55,  2.40s/it]"
     ]
    },
    {
     "name": "stdout",
     "output_type": "stream",
     "text": [
      "Query ejecutada correctamente.\n",
      "Query ejecutada correctamente.\n",
      "Query ejecutada correctamente.\n"
     ]
    },
    {
     "name": "stderr",
     "output_type": "stream",
     "text": [
      "Insertando registros:  52%|█████▏    | 812/1560 [26:57<29:56,  2.40s/it]"
     ]
    },
    {
     "name": "stdout",
     "output_type": "stream",
     "text": [
      "Query ejecutada correctamente.\n"
     ]
    },
    {
     "name": "stderr",
     "output_type": "stream",
     "text": [
      "Insertando registros:  52%|█████▏    | 813/1560 [26:58<24:00,  1.93s/it]"
     ]
    },
    {
     "name": "stdout",
     "output_type": "stream",
     "text": [
      "Query ejecutada correctamente.\n",
      "Query ejecutada correctamente.\n",
      "Query ejecutada correctamente.\n"
     ]
    },
    {
     "name": "stderr",
     "output_type": "stream",
     "text": [
      "Insertando registros:  52%|█████▏    | 814/1560 [27:00<25:54,  2.08s/it]"
     ]
    },
    {
     "name": "stdout",
     "output_type": "stream",
     "text": [
      "Query ejecutada correctamente.\n",
      "Query ejecutada correctamente.\n",
      "Query ejecutada correctamente.\n"
     ]
    },
    {
     "name": "stderr",
     "output_type": "stream",
     "text": [
      "Insertando registros:  52%|█████▏    | 815/1560 [27:03<26:58,  2.17s/it]"
     ]
    },
    {
     "name": "stdout",
     "output_type": "stream",
     "text": [
      "Query ejecutada correctamente.\n",
      "Query ejecutada correctamente.\n",
      "Query ejecutada correctamente.\n"
     ]
    },
    {
     "name": "stderr",
     "output_type": "stream",
     "text": [
      "Insertando registros:  52%|█████▏    | 816/1560 [27:05<27:54,  2.25s/it]"
     ]
    },
    {
     "name": "stdout",
     "output_type": "stream",
     "text": [
      "Query ejecutada correctamente.\n",
      "Query ejecutada correctamente.\n",
      "Query ejecutada correctamente.\n"
     ]
    },
    {
     "name": "stderr",
     "output_type": "stream",
     "text": [
      "Insertando registros:  52%|█████▏    | 817/1560 [27:08<28:28,  2.30s/it]"
     ]
    },
    {
     "name": "stdout",
     "output_type": "stream",
     "text": [
      "Query ejecutada correctamente.\n",
      "Query ejecutada correctamente.\n",
      "Query ejecutada correctamente.\n"
     ]
    },
    {
     "name": "stderr",
     "output_type": "stream",
     "text": [
      "Insertando registros:  52%|█████▏    | 818/1560 [27:10<28:55,  2.34s/it]"
     ]
    },
    {
     "name": "stdout",
     "output_type": "stream",
     "text": [
      "Query ejecutada correctamente.\n",
      "Query ejecutada correctamente.\n",
      "Query ejecutada correctamente.\n"
     ]
    },
    {
     "name": "stderr",
     "output_type": "stream",
     "text": [
      "Insertando registros:  52%|█████▎    | 819/1560 [27:13<29:26,  2.38s/it]"
     ]
    },
    {
     "name": "stdout",
     "output_type": "stream",
     "text": [
      "Query ejecutada correctamente.\n",
      "Query ejecutada correctamente.\n",
      "Query ejecutada correctamente.\n"
     ]
    },
    {
     "name": "stderr",
     "output_type": "stream",
     "text": [
      "Insertando registros:  53%|█████▎    | 820/1560 [27:15<29:30,  2.39s/it]"
     ]
    },
    {
     "name": "stdout",
     "output_type": "stream",
     "text": [
      "Query ejecutada correctamente.\n",
      "Query ejecutada correctamente.\n",
      "Query ejecutada correctamente.\n"
     ]
    },
    {
     "name": "stderr",
     "output_type": "stream",
     "text": [
      "Insertando registros:  53%|█████▎    | 821/1560 [27:17<29:31,  2.40s/it]"
     ]
    },
    {
     "name": "stdout",
     "output_type": "stream",
     "text": [
      "Query ejecutada correctamente.\n"
     ]
    },
    {
     "name": "stderr",
     "output_type": "stream",
     "text": [
      "Insertando registros:  53%|█████▎    | 822/1560 [27:18<23:38,  1.92s/it]"
     ]
    },
    {
     "name": "stdout",
     "output_type": "stream",
     "text": [
      "Query ejecutada correctamente.\n",
      "Query ejecutada correctamente.\n",
      "Query ejecutada correctamente.\n"
     ]
    },
    {
     "name": "stderr",
     "output_type": "stream",
     "text": [
      "Insertando registros:  53%|█████▎    | 823/1560 [27:21<25:32,  2.08s/it]"
     ]
    },
    {
     "name": "stdout",
     "output_type": "stream",
     "text": [
      "Query ejecutada correctamente.\n",
      "Query ejecutada correctamente.\n",
      "Query ejecutada correctamente.\n"
     ]
    },
    {
     "name": "stderr",
     "output_type": "stream",
     "text": [
      "Insertando registros:  53%|█████▎    | 824/1560 [27:23<26:57,  2.20s/it]"
     ]
    },
    {
     "name": "stdout",
     "output_type": "stream",
     "text": [
      "Query ejecutada correctamente.\n"
     ]
    },
    {
     "name": "stderr",
     "output_type": "stream",
     "text": [
      "Insertando registros:  53%|█████▎    | 825/1560 [27:24<21:48,  1.78s/it]"
     ]
    },
    {
     "name": "stdout",
     "output_type": "stream",
     "text": [
      "Query ejecutada correctamente.\n",
      "Query ejecutada correctamente.\n",
      "Query ejecutada correctamente.\n"
     ]
    },
    {
     "name": "stderr",
     "output_type": "stream",
     "text": [
      "Insertando registros:  53%|█████▎    | 826/1560 [27:26<24:05,  1.97s/it]"
     ]
    },
    {
     "name": "stdout",
     "output_type": "stream",
     "text": [
      "Query ejecutada correctamente.\n",
      "Query ejecutada correctamente.\n",
      "Query ejecutada correctamente.\n"
     ]
    },
    {
     "name": "stderr",
     "output_type": "stream",
     "text": [
      "Insertando registros:  53%|█████▎    | 827/1560 [27:29<25:51,  2.12s/it]"
     ]
    },
    {
     "name": "stdout",
     "output_type": "stream",
     "text": [
      "Query ejecutada correctamente.\n",
      "Query ejecutada correctamente.\n",
      "Query ejecutada correctamente.\n"
     ]
    },
    {
     "name": "stderr",
     "output_type": "stream",
     "text": [
      "Insertando registros:  53%|█████▎    | 828/1560 [27:31<26:46,  2.20s/it]"
     ]
    },
    {
     "name": "stdout",
     "output_type": "stream",
     "text": [
      "Query ejecutada correctamente.\n"
     ]
    },
    {
     "name": "stderr",
     "output_type": "stream",
     "text": [
      "Insertando registros:  53%|█████▎    | 829/1560 [27:32<21:36,  1.77s/it]"
     ]
    },
    {
     "name": "stdout",
     "output_type": "stream",
     "text": [
      "Query ejecutada correctamente.\n",
      "Query ejecutada correctamente.\n",
      "Query ejecutada correctamente.\n"
     ]
    },
    {
     "name": "stderr",
     "output_type": "stream",
     "text": [
      "Insertando registros:  53%|█████▎    | 830/1560 [27:34<23:53,  1.96s/it]"
     ]
    },
    {
     "name": "stdout",
     "output_type": "stream",
     "text": [
      "Query ejecutada correctamente.\n",
      "Query ejecutada correctamente.\n",
      "Query ejecutada correctamente.\n"
     ]
    },
    {
     "name": "stderr",
     "output_type": "stream",
     "text": [
      "Insertando registros:  53%|█████▎    | 831/1560 [27:37<25:34,  2.10s/it]"
     ]
    },
    {
     "name": "stdout",
     "output_type": "stream",
     "text": [
      "Query ejecutada correctamente.\n"
     ]
    },
    {
     "name": "stderr",
     "output_type": "stream",
     "text": [
      "Insertando registros:  53%|█████▎    | 832/1560 [27:38<20:48,  1.71s/it]"
     ]
    },
    {
     "name": "stdout",
     "output_type": "stream",
     "text": [
      "Query ejecutada correctamente.\n",
      "Query ejecutada correctamente.\n",
      "Query ejecutada correctamente.\n"
     ]
    },
    {
     "name": "stderr",
     "output_type": "stream",
     "text": [
      "Insertando registros:  53%|█████▎    | 833/1560 [27:40<23:19,  1.92s/it]"
     ]
    },
    {
     "name": "stdout",
     "output_type": "stream",
     "text": [
      "Query ejecutada correctamente.\n",
      "Query ejecutada correctamente.\n",
      "Query ejecutada correctamente.\n"
     ]
    },
    {
     "name": "stderr",
     "output_type": "stream",
     "text": [
      "Insertando registros:  53%|█████▎    | 834/1560 [27:42<25:07,  2.08s/it]"
     ]
    },
    {
     "name": "stdout",
     "output_type": "stream",
     "text": [
      "Query ejecutada correctamente.\n",
      "Query ejecutada correctamente.\n",
      "Query ejecutada correctamente.\n"
     ]
    },
    {
     "name": "stderr",
     "output_type": "stream",
     "text": [
      "Insertando registros:  54%|█████▎    | 835/1560 [27:45<26:44,  2.21s/it]"
     ]
    },
    {
     "name": "stdout",
     "output_type": "stream",
     "text": [
      "Query ejecutada correctamente.\n",
      "Query ejecutada correctamente.\n",
      "Query ejecutada correctamente.\n"
     ]
    },
    {
     "name": "stderr",
     "output_type": "stream",
     "text": [
      "Insertando registros:  54%|█████▎    | 836/1560 [27:48<30:09,  2.50s/it]"
     ]
    },
    {
     "name": "stdout",
     "output_type": "stream",
     "text": [
      "Query ejecutada correctamente.\n",
      "Query ejecutada correctamente.\n",
      "Query ejecutada correctamente.\n"
     ]
    },
    {
     "name": "stderr",
     "output_type": "stream",
     "text": [
      "Insertando registros:  54%|█████▎    | 837/1560 [27:52<35:12,  2.92s/it]"
     ]
    },
    {
     "name": "stdout",
     "output_type": "stream",
     "text": [
      "Query ejecutada correctamente.\n",
      "Query ejecutada correctamente.\n",
      "Query ejecutada correctamente.\n"
     ]
    },
    {
     "name": "stderr",
     "output_type": "stream",
     "text": [
      "Insertando registros:  54%|█████▎    | 838/1560 [27:55<35:15,  2.93s/it]"
     ]
    },
    {
     "name": "stdout",
     "output_type": "stream",
     "text": [
      "Query ejecutada correctamente.\n",
      "Query ejecutada correctamente.\n",
      "Query ejecutada correctamente.\n"
     ]
    },
    {
     "name": "stderr",
     "output_type": "stream",
     "text": [
      "Insertando registros:  54%|█████▍    | 839/1560 [27:57<33:44,  2.81s/it]"
     ]
    },
    {
     "name": "stdout",
     "output_type": "stream",
     "text": [
      "Query ejecutada correctamente.\n",
      "Query ejecutada correctamente.\n",
      "Query ejecutada correctamente.\n"
     ]
    },
    {
     "name": "stderr",
     "output_type": "stream",
     "text": [
      "Insertando registros:  54%|█████▍    | 840/1560 [28:00<32:28,  2.71s/it]"
     ]
    },
    {
     "name": "stdout",
     "output_type": "stream",
     "text": [
      "Query ejecutada correctamente.\n",
      "Query ejecutada correctamente.\n",
      "Query ejecutada correctamente.\n"
     ]
    },
    {
     "name": "stderr",
     "output_type": "stream",
     "text": [
      "Insertando registros:  54%|█████▍    | 841/1560 [28:02<31:33,  2.63s/it]"
     ]
    },
    {
     "name": "stdout",
     "output_type": "stream",
     "text": [
      "Query ejecutada correctamente.\n",
      "Query ejecutada correctamente.\n",
      "Query ejecutada correctamente.\n"
     ]
    },
    {
     "name": "stderr",
     "output_type": "stream",
     "text": [
      "Insertando registros:  54%|█████▍    | 842/1560 [28:05<30:44,  2.57s/it]"
     ]
    },
    {
     "name": "stdout",
     "output_type": "stream",
     "text": [
      "Query ejecutada correctamente.\n"
     ]
    },
    {
     "name": "stderr",
     "output_type": "stream",
     "text": [
      "Insertando registros:  54%|█████▍    | 843/1560 [28:06<24:26,  2.05s/it]"
     ]
    },
    {
     "name": "stdout",
     "output_type": "stream",
     "text": [
      "Query ejecutada correctamente.\n"
     ]
    },
    {
     "name": "stderr",
     "output_type": "stream",
     "text": [
      "Insertando registros:  54%|█████▍    | 844/1560 [28:07<20:05,  1.68s/it]"
     ]
    },
    {
     "name": "stdout",
     "output_type": "stream",
     "text": [
      "Query ejecutada correctamente.\n"
     ]
    },
    {
     "name": "stderr",
     "output_type": "stream",
     "text": [
      "Insertando registros:  54%|█████▍    | 845/1560 [28:07<17:01,  1.43s/it]"
     ]
    },
    {
     "name": "stdout",
     "output_type": "stream",
     "text": [
      "Query ejecutada correctamente.\n",
      "Query ejecutada correctamente.\n",
      "Query ejecutada correctamente.\n"
     ]
    },
    {
     "name": "stderr",
     "output_type": "stream",
     "text": [
      "Insertando registros:  54%|█████▍    | 846/1560 [28:10<20:44,  1.74s/it]"
     ]
    },
    {
     "name": "stdout",
     "output_type": "stream",
     "text": [
      "Query ejecutada correctamente.\n",
      "Query ejecutada correctamente.\n",
      "Query ejecutada correctamente.\n"
     ]
    },
    {
     "name": "stderr",
     "output_type": "stream",
     "text": [
      "Insertando registros:  54%|█████▍    | 847/1560 [28:12<23:26,  1.97s/it]"
     ]
    },
    {
     "name": "stdout",
     "output_type": "stream",
     "text": [
      "Query ejecutada correctamente.\n",
      "Query ejecutada correctamente.\n",
      "Query ejecutada correctamente.\n"
     ]
    },
    {
     "name": "stderr",
     "output_type": "stream",
     "text": [
      "Insertando registros:  54%|█████▍    | 848/1560 [28:15<25:39,  2.16s/it]"
     ]
    },
    {
     "name": "stdout",
     "output_type": "stream",
     "text": [
      "Query ejecutada correctamente.\n"
     ]
    },
    {
     "name": "stderr",
     "output_type": "stream",
     "text": [
      "Insertando registros:  54%|█████▍    | 849/1560 [28:16<20:49,  1.76s/it]"
     ]
    },
    {
     "name": "stdout",
     "output_type": "stream",
     "text": [
      "Query ejecutada correctamente.\n",
      "Query ejecutada correctamente.\n",
      "Query ejecutada correctamente.\n"
     ]
    },
    {
     "name": "stderr",
     "output_type": "stream",
     "text": [
      "Insertando registros:  54%|█████▍    | 850/1560 [28:18<23:15,  1.97s/it]"
     ]
    },
    {
     "name": "stdout",
     "output_type": "stream",
     "text": [
      "Query ejecutada correctamente.\n",
      "Query ejecutada correctamente.\n",
      "Query ejecutada correctamente.\n"
     ]
    },
    {
     "name": "stderr",
     "output_type": "stream",
     "text": [
      "Insertando registros:  55%|█████▍    | 851/1560 [28:21<24:53,  2.11s/it]"
     ]
    },
    {
     "name": "stdout",
     "output_type": "stream",
     "text": [
      "Query ejecutada correctamente.\n",
      "Query ejecutada correctamente.\n",
      "Query ejecutada correctamente.\n"
     ]
    },
    {
     "name": "stderr",
     "output_type": "stream",
     "text": [
      "Insertando registros:  55%|█████▍    | 852/1560 [28:23<26:16,  2.23s/it]"
     ]
    },
    {
     "name": "stdout",
     "output_type": "stream",
     "text": [
      "Query ejecutada correctamente.\n"
     ]
    },
    {
     "name": "stderr",
     "output_type": "stream",
     "text": [
      "Insertando registros:  55%|█████▍    | 853/1560 [28:24<21:18,  1.81s/it]"
     ]
    },
    {
     "name": "stdout",
     "output_type": "stream",
     "text": [
      "Query ejecutada correctamente.\n"
     ]
    },
    {
     "name": "stderr",
     "output_type": "stream",
     "text": [
      "Insertando registros:  55%|█████▍    | 854/1560 [28:25<17:49,  1.52s/it]"
     ]
    },
    {
     "name": "stdout",
     "output_type": "stream",
     "text": [
      "Query ejecutada correctamente.\n",
      "Query ejecutada correctamente.\n",
      "Query ejecutada correctamente.\n"
     ]
    },
    {
     "name": "stderr",
     "output_type": "stream",
     "text": [
      "Insertando registros:  55%|█████▍    | 855/1560 [28:27<21:07,  1.80s/it]"
     ]
    },
    {
     "name": "stdout",
     "output_type": "stream",
     "text": [
      "Query ejecutada correctamente.\n"
     ]
    },
    {
     "name": "stderr",
     "output_type": "stream",
     "text": [
      "Insertando registros:  55%|█████▍    | 856/1560 [28:28<17:44,  1.51s/it]"
     ]
    },
    {
     "name": "stdout",
     "output_type": "stream",
     "text": [
      "Query ejecutada correctamente.\n",
      "Query ejecutada correctamente.\n",
      "Query ejecutada correctamente.\n"
     ]
    },
    {
     "name": "stderr",
     "output_type": "stream",
     "text": [
      "Insertando registros:  55%|█████▍    | 857/1560 [28:31<21:00,  1.79s/it]"
     ]
    },
    {
     "name": "stdout",
     "output_type": "stream",
     "text": [
      "Query ejecutada correctamente.\n",
      "Query ejecutada correctamente.\n",
      "Query ejecutada correctamente.\n"
     ]
    },
    {
     "name": "stderr",
     "output_type": "stream",
     "text": [
      "Insertando registros:  55%|█████▌    | 858/1560 [28:33<23:28,  2.01s/it]"
     ]
    },
    {
     "name": "stdout",
     "output_type": "stream",
     "text": [
      "Query ejecutada correctamente.\n",
      "Query ejecutada correctamente.\n",
      "Query ejecutada correctamente.\n"
     ]
    },
    {
     "name": "stderr",
     "output_type": "stream",
     "text": [
      "Insertando registros:  55%|█████▌    | 859/1560 [28:36<25:06,  2.15s/it]"
     ]
    },
    {
     "name": "stdout",
     "output_type": "stream",
     "text": [
      "Query ejecutada correctamente.\n",
      "Query ejecutada correctamente.\n",
      "Query ejecutada correctamente.\n"
     ]
    },
    {
     "name": "stderr",
     "output_type": "stream",
     "text": [
      "Insertando registros:  55%|█████▌    | 860/1560 [28:38<25:55,  2.22s/it]"
     ]
    },
    {
     "name": "stdout",
     "output_type": "stream",
     "text": [
      "Query ejecutada correctamente.\n",
      "Query ejecutada correctamente.\n",
      "Query ejecutada correctamente.\n"
     ]
    },
    {
     "name": "stderr",
     "output_type": "stream",
     "text": [
      "Insertando registros:  55%|█████▌    | 861/1560 [28:40<26:32,  2.28s/it]"
     ]
    },
    {
     "name": "stdout",
     "output_type": "stream",
     "text": [
      "Query ejecutada correctamente.\n",
      "Query ejecutada correctamente.\n",
      "Query ejecutada correctamente.\n"
     ]
    },
    {
     "name": "stderr",
     "output_type": "stream",
     "text": [
      "Insertando registros:  55%|█████▌    | 862/1560 [28:43<26:58,  2.32s/it]"
     ]
    },
    {
     "name": "stdout",
     "output_type": "stream",
     "text": [
      "Query ejecutada correctamente.\n",
      "Query ejecutada correctamente.\n",
      "Query ejecutada correctamente.\n"
     ]
    },
    {
     "name": "stderr",
     "output_type": "stream",
     "text": [
      "Insertando registros:  55%|█████▌    | 863/1560 [28:45<27:18,  2.35s/it]"
     ]
    },
    {
     "name": "stdout",
     "output_type": "stream",
     "text": [
      "Query ejecutada correctamente.\n"
     ]
    },
    {
     "name": "stderr",
     "output_type": "stream",
     "text": [
      "Insertando registros:  55%|█████▌    | 864/1560 [28:46<21:53,  1.89s/it]"
     ]
    },
    {
     "name": "stdout",
     "output_type": "stream",
     "text": [
      "Query ejecutada correctamente.\n",
      "Query ejecutada correctamente.\n",
      "Query ejecutada correctamente.\n"
     ]
    },
    {
     "name": "stderr",
     "output_type": "stream",
     "text": [
      "Insertando registros:  55%|█████▌    | 865/1560 [28:48<23:42,  2.05s/it]"
     ]
    },
    {
     "name": "stdout",
     "output_type": "stream",
     "text": [
      "Query ejecutada correctamente.\n",
      "Query ejecutada correctamente.\n",
      "Query ejecutada correctamente.\n"
     ]
    },
    {
     "name": "stderr",
     "output_type": "stream",
     "text": [
      "Insertando registros:  56%|█████▌    | 866/1560 [28:51<24:54,  2.15s/it]"
     ]
    },
    {
     "name": "stdout",
     "output_type": "stream",
     "text": [
      "Query ejecutada correctamente.\n",
      "Query ejecutada correctamente.\n",
      "Query ejecutada correctamente.\n"
     ]
    },
    {
     "name": "stderr",
     "output_type": "stream",
     "text": [
      "Insertando registros:  56%|█████▌    | 867/1560 [28:53<25:45,  2.23s/it]"
     ]
    },
    {
     "name": "stdout",
     "output_type": "stream",
     "text": [
      "Query ejecutada correctamente.\n",
      "Query ejecutada correctamente.\n",
      "Query ejecutada correctamente.\n"
     ]
    },
    {
     "name": "stderr",
     "output_type": "stream",
     "text": [
      "Insertando registros:  56%|█████▌    | 868/1560 [28:56<27:45,  2.41s/it]"
     ]
    },
    {
     "name": "stdout",
     "output_type": "stream",
     "text": [
      "Query ejecutada correctamente.\n",
      "Query ejecutada correctamente.\n",
      "Query ejecutada correctamente.\n"
     ]
    },
    {
     "name": "stderr",
     "output_type": "stream",
     "text": [
      "Insertando registros:  56%|█████▌    | 869/1560 [28:58<27:32,  2.39s/it]"
     ]
    },
    {
     "name": "stdout",
     "output_type": "stream",
     "text": [
      "Query ejecutada correctamente.\n"
     ]
    },
    {
     "name": "stderr",
     "output_type": "stream",
     "text": [
      "Insertando registros:  56%|█████▌    | 870/1560 [28:59<22:05,  1.92s/it]"
     ]
    },
    {
     "name": "stdout",
     "output_type": "stream",
     "text": [
      "Query ejecutada correctamente.\n",
      "Query ejecutada correctamente.\n",
      "Query ejecutada correctamente.\n"
     ]
    },
    {
     "name": "stderr",
     "output_type": "stream",
     "text": [
      "Insertando registros:  56%|█████▌    | 871/1560 [29:02<23:40,  2.06s/it]"
     ]
    },
    {
     "name": "stdout",
     "output_type": "stream",
     "text": [
      "Query ejecutada correctamente.\n",
      "Query ejecutada correctamente.\n",
      "Query ejecutada correctamente.\n"
     ]
    },
    {
     "name": "stderr",
     "output_type": "stream",
     "text": [
      "Insertando registros:  56%|█████▌    | 872/1560 [29:04<24:54,  2.17s/it]"
     ]
    },
    {
     "name": "stdout",
     "output_type": "stream",
     "text": [
      "Query ejecutada correctamente.\n",
      "Query ejecutada correctamente.\n",
      "Query ejecutada correctamente.\n"
     ]
    },
    {
     "name": "stderr",
     "output_type": "stream",
     "text": [
      "Insertando registros:  56%|█████▌    | 873/1560 [29:06<25:46,  2.25s/it]"
     ]
    },
    {
     "name": "stdout",
     "output_type": "stream",
     "text": [
      "Query ejecutada correctamente.\n"
     ]
    },
    {
     "name": "stderr",
     "output_type": "stream",
     "text": [
      "Insertando registros:  56%|█████▌    | 874/1560 [29:07<20:45,  1.82s/it]"
     ]
    },
    {
     "name": "stdout",
     "output_type": "stream",
     "text": [
      "Query ejecutada correctamente.\n",
      "Query ejecutada correctamente.\n",
      "Query ejecutada correctamente.\n"
     ]
    },
    {
     "name": "stderr",
     "output_type": "stream",
     "text": [
      "Insertando registros:  56%|█████▌    | 875/1560 [29:10<22:46,  2.00s/it]"
     ]
    },
    {
     "name": "stdout",
     "output_type": "stream",
     "text": [
      "Query ejecutada correctamente.\n",
      "Query ejecutada correctamente.\n",
      "Query ejecutada correctamente.\n"
     ]
    },
    {
     "name": "stderr",
     "output_type": "stream",
     "text": [
      "Insertando registros:  56%|█████▌    | 876/1560 [29:12<24:14,  2.13s/it]"
     ]
    },
    {
     "name": "stdout",
     "output_type": "stream",
     "text": [
      "Query ejecutada correctamente.\n",
      "Query ejecutada correctamente.\n",
      "Query ejecutada correctamente.\n"
     ]
    },
    {
     "name": "stderr",
     "output_type": "stream",
     "text": [
      "Insertando registros:  56%|█████▌    | 877/1560 [29:15<25:09,  2.21s/it]"
     ]
    },
    {
     "name": "stdout",
     "output_type": "stream",
     "text": [
      "Query ejecutada correctamente.\n",
      "Query ejecutada correctamente.\n",
      "Query ejecutada correctamente.\n"
     ]
    },
    {
     "name": "stderr",
     "output_type": "stream",
     "text": [
      "Insertando registros:  56%|█████▋    | 878/1560 [29:17<25:50,  2.27s/it]"
     ]
    },
    {
     "name": "stdout",
     "output_type": "stream",
     "text": [
      "Query ejecutada correctamente.\n",
      "Query ejecutada correctamente.\n",
      "Query ejecutada correctamente.\n"
     ]
    },
    {
     "name": "stderr",
     "output_type": "stream",
     "text": [
      "Insertando registros:  56%|█████▋    | 879/1560 [29:19<26:22,  2.32s/it]"
     ]
    },
    {
     "name": "stdout",
     "output_type": "stream",
     "text": [
      "Query ejecutada correctamente.\n",
      "Query ejecutada correctamente.\n",
      "Query ejecutada correctamente.\n"
     ]
    },
    {
     "name": "stderr",
     "output_type": "stream",
     "text": [
      "Insertando registros:  56%|█████▋    | 880/1560 [29:22<26:44,  2.36s/it]"
     ]
    },
    {
     "name": "stdout",
     "output_type": "stream",
     "text": [
      "Query ejecutada correctamente.\n",
      "Query ejecutada correctamente.\n",
      "Query ejecutada correctamente.\n"
     ]
    },
    {
     "name": "stderr",
     "output_type": "stream",
     "text": [
      "Insertando registros:  56%|█████▋    | 881/1560 [29:24<26:53,  2.38s/it]"
     ]
    },
    {
     "name": "stdout",
     "output_type": "stream",
     "text": [
      "Query ejecutada correctamente.\n",
      "Query ejecutada correctamente.\n",
      "Query ejecutada correctamente.\n"
     ]
    },
    {
     "name": "stderr",
     "output_type": "stream",
     "text": [
      "Insertando registros:  57%|█████▋    | 882/1560 [29:27<27:04,  2.40s/it]"
     ]
    },
    {
     "name": "stdout",
     "output_type": "stream",
     "text": [
      "Query ejecutada correctamente.\n",
      "Query ejecutada correctamente.\n",
      "Query ejecutada correctamente.\n"
     ]
    },
    {
     "name": "stderr",
     "output_type": "stream",
     "text": [
      "Insertando registros:  57%|█████▋    | 883/1560 [29:29<27:05,  2.40s/it]"
     ]
    },
    {
     "name": "stdout",
     "output_type": "stream",
     "text": [
      "Query ejecutada correctamente.\n",
      "Query ejecutada correctamente.\n",
      "Query ejecutada correctamente.\n"
     ]
    },
    {
     "name": "stderr",
     "output_type": "stream",
     "text": [
      "Insertando registros:  57%|█████▋    | 884/1560 [29:31<27:04,  2.40s/it]"
     ]
    },
    {
     "name": "stdout",
     "output_type": "stream",
     "text": [
      "Query ejecutada correctamente.\n"
     ]
    },
    {
     "name": "stderr",
     "output_type": "stream",
     "text": [
      "Insertando registros:  57%|█████▋    | 885/1560 [29:32<21:37,  1.92s/it]"
     ]
    },
    {
     "name": "stdout",
     "output_type": "stream",
     "text": [
      "Query ejecutada correctamente.\n"
     ]
    },
    {
     "name": "stderr",
     "output_type": "stream",
     "text": [
      "Insertando registros:  57%|█████▋    | 886/1560 [29:33<17:51,  1.59s/it]"
     ]
    },
    {
     "name": "stdout",
     "output_type": "stream",
     "text": [
      "Query ejecutada correctamente.\n",
      "Query ejecutada correctamente.\n",
      "Query ejecutada correctamente.\n"
     ]
    },
    {
     "name": "stderr",
     "output_type": "stream",
     "text": [
      "Insertando registros:  57%|█████▋    | 887/1560 [29:36<20:43,  1.85s/it]"
     ]
    },
    {
     "name": "stdout",
     "output_type": "stream",
     "text": [
      "Query ejecutada correctamente.\n"
     ]
    },
    {
     "name": "stderr",
     "output_type": "stream",
     "text": [
      "Insertando registros:  57%|█████▋    | 888/1560 [29:36<17:16,  1.54s/it]"
     ]
    },
    {
     "name": "stdout",
     "output_type": "stream",
     "text": [
      "Query ejecutada correctamente.\n"
     ]
    },
    {
     "name": "stderr",
     "output_type": "stream",
     "text": [
      "Insertando registros:  57%|█████▋    | 889/1560 [29:37<14:43,  1.32s/it]"
     ]
    },
    {
     "name": "stdout",
     "output_type": "stream",
     "text": [
      "Query ejecutada correctamente.\n",
      "Query ejecutada correctamente.\n",
      "Query ejecutada correctamente.\n"
     ]
    },
    {
     "name": "stderr",
     "output_type": "stream",
     "text": [
      "Insertando registros:  57%|█████▋    | 890/1560 [29:40<18:26,  1.65s/it]"
     ]
    },
    {
     "name": "stdout",
     "output_type": "stream",
     "text": [
      "Query ejecutada correctamente.\n",
      "Query ejecutada correctamente.\n",
      "Query ejecutada correctamente.\n"
     ]
    },
    {
     "name": "stderr",
     "output_type": "stream",
     "text": [
      "Insertando registros:  57%|█████▋    | 891/1560 [29:42<20:57,  1.88s/it]"
     ]
    },
    {
     "name": "stdout",
     "output_type": "stream",
     "text": [
      "Query ejecutada correctamente.\n",
      "Query ejecutada correctamente.\n",
      "Query ejecutada correctamente.\n"
     ]
    },
    {
     "name": "stderr",
     "output_type": "stream",
     "text": [
      "Insertando registros:  57%|█████▋    | 892/1560 [29:44<22:40,  2.04s/it]"
     ]
    },
    {
     "name": "stdout",
     "output_type": "stream",
     "text": [
      "Query ejecutada correctamente.\n",
      "Query ejecutada correctamente.\n",
      "Query ejecutada correctamente.\n"
     ]
    },
    {
     "name": "stderr",
     "output_type": "stream",
     "text": [
      "Insertando registros:  57%|█████▋    | 893/1560 [29:47<24:06,  2.17s/it]"
     ]
    },
    {
     "name": "stdout",
     "output_type": "stream",
     "text": [
      "Query ejecutada correctamente.\n",
      "Query ejecutada correctamente.\n",
      "Query ejecutada correctamente.\n"
     ]
    },
    {
     "name": "stderr",
     "output_type": "stream",
     "text": [
      "Insertando registros:  57%|█████▋    | 894/1560 [29:49<25:00,  2.25s/it]"
     ]
    },
    {
     "name": "stdout",
     "output_type": "stream",
     "text": [
      "Query ejecutada correctamente.\n",
      "Query ejecutada correctamente.\n",
      "Query ejecutada correctamente.\n"
     ]
    },
    {
     "name": "stderr",
     "output_type": "stream",
     "text": [
      "Insertando registros:  57%|█████▋    | 895/1560 [29:52<25:44,  2.32s/it]"
     ]
    },
    {
     "name": "stdout",
     "output_type": "stream",
     "text": [
      "Query ejecutada correctamente.\n",
      "Query ejecutada correctamente.\n",
      "Query ejecutada correctamente.\n"
     ]
    },
    {
     "name": "stderr",
     "output_type": "stream",
     "text": [
      "Insertando registros:  57%|█████▋    | 896/1560 [29:54<25:37,  2.32s/it]"
     ]
    },
    {
     "name": "stdout",
     "output_type": "stream",
     "text": [
      "Query ejecutada correctamente.\n",
      "Query ejecutada correctamente.\n",
      "Query ejecutada correctamente.\n"
     ]
    },
    {
     "name": "stderr",
     "output_type": "stream",
     "text": [
      "Insertando registros:  57%|█████▊    | 897/1560 [29:56<25:28,  2.30s/it]"
     ]
    },
    {
     "name": "stdout",
     "output_type": "stream",
     "text": [
      "Query ejecutada correctamente.\n",
      "Query ejecutada correctamente.\n",
      "Query ejecutada correctamente.\n"
     ]
    },
    {
     "name": "stderr",
     "output_type": "stream",
     "text": [
      "Insertando registros:  58%|█████▊    | 898/1560 [29:59<25:25,  2.30s/it]"
     ]
    },
    {
     "name": "stdout",
     "output_type": "stream",
     "text": [
      "Query ejecutada correctamente.\n"
     ]
    },
    {
     "name": "stderr",
     "output_type": "stream",
     "text": [
      "Insertando registros:  58%|█████▊    | 899/1560 [29:59<20:17,  1.84s/it]"
     ]
    },
    {
     "name": "stdout",
     "output_type": "stream",
     "text": [
      "Query ejecutada correctamente.\n",
      "Query ejecutada correctamente.\n",
      "Query ejecutada correctamente.\n"
     ]
    },
    {
     "name": "stderr",
     "output_type": "stream",
     "text": [
      "Insertando registros:  58%|█████▊    | 900/1560 [30:02<21:44,  1.98s/it]"
     ]
    },
    {
     "name": "stdout",
     "output_type": "stream",
     "text": [
      "Query ejecutada correctamente.\n"
     ]
    },
    {
     "name": "stderr",
     "output_type": "stream",
     "text": [
      "Insertando registros:  58%|█████▊    | 901/1560 [30:03<17:43,  1.61s/it]"
     ]
    },
    {
     "name": "stdout",
     "output_type": "stream",
     "text": [
      "Query ejecutada correctamente.\n",
      "Query ejecutada correctamente.\n",
      "Query ejecutada correctamente.\n"
     ]
    },
    {
     "name": "stderr",
     "output_type": "stream",
     "text": [
      "Insertando registros:  58%|█████▊    | 902/1560 [30:05<19:56,  1.82s/it]"
     ]
    },
    {
     "name": "stdout",
     "output_type": "stream",
     "text": [
      "Query ejecutada correctamente.\n"
     ]
    },
    {
     "name": "stderr",
     "output_type": "stream",
     "text": [
      "Insertando registros:  58%|█████▊    | 903/1560 [30:06<16:28,  1.50s/it]"
     ]
    },
    {
     "name": "stdout",
     "output_type": "stream",
     "text": [
      "Query ejecutada correctamente.\n",
      "Query ejecutada correctamente.\n",
      "Query ejecutada correctamente.\n"
     ]
    },
    {
     "name": "stderr",
     "output_type": "stream",
     "text": [
      "Insertando registros:  58%|█████▊    | 904/1560 [30:08<19:02,  1.74s/it]"
     ]
    },
    {
     "name": "stdout",
     "output_type": "stream",
     "text": [
      "Query ejecutada correctamente.\n"
     ]
    },
    {
     "name": "stderr",
     "output_type": "stream",
     "text": [
      "Insertando registros:  58%|█████▊    | 905/1560 [30:09<15:51,  1.45s/it]"
     ]
    },
    {
     "name": "stdout",
     "output_type": "stream",
     "text": [
      "Query ejecutada correctamente.\n"
     ]
    },
    {
     "name": "stderr",
     "output_type": "stream",
     "text": [
      "Insertando registros:  58%|█████▊    | 906/1560 [30:09<13:34,  1.24s/it]"
     ]
    },
    {
     "name": "stdout",
     "output_type": "stream",
     "text": [
      "Query ejecutada correctamente.\n",
      "Query ejecutada correctamente.\n",
      "Query ejecutada correctamente.\n"
     ]
    },
    {
     "name": "stderr",
     "output_type": "stream",
     "text": [
      "Insertando registros:  58%|█████▊    | 907/1560 [30:12<16:56,  1.56s/it]"
     ]
    },
    {
     "name": "stdout",
     "output_type": "stream",
     "text": [
      "Query ejecutada correctamente.\n",
      "Query ejecutada correctamente.\n",
      "Query ejecutada correctamente.\n"
     ]
    },
    {
     "name": "stderr",
     "output_type": "stream",
     "text": [
      "Insertando registros:  58%|█████▊    | 908/1560 [30:14<19:26,  1.79s/it]"
     ]
    },
    {
     "name": "stdout",
     "output_type": "stream",
     "text": [
      "Query ejecutada correctamente.\n"
     ]
    },
    {
     "name": "stderr",
     "output_type": "stream",
     "text": [
      "Insertando registros:  58%|█████▊    | 909/1560 [30:15<16:04,  1.48s/it]"
     ]
    },
    {
     "name": "stdout",
     "output_type": "stream",
     "text": [
      "Query ejecutada correctamente.\n",
      "Query ejecutada correctamente.\n",
      "Query ejecutada correctamente.\n"
     ]
    },
    {
     "name": "stderr",
     "output_type": "stream",
     "text": [
      "Insertando registros:  58%|█████▊    | 910/1560 [30:17<18:42,  1.73s/it]"
     ]
    },
    {
     "name": "stdout",
     "output_type": "stream",
     "text": [
      "Query ejecutada correctamente.\n",
      "Query ejecutada correctamente.\n",
      "Query ejecutada correctamente.\n"
     ]
    },
    {
     "name": "stderr",
     "output_type": "stream",
     "text": [
      "Insertando registros:  58%|█████▊    | 911/1560 [30:19<20:35,  1.90s/it]"
     ]
    },
    {
     "name": "stdout",
     "output_type": "stream",
     "text": [
      "Query ejecutada correctamente.\n",
      "Query ejecutada correctamente.\n",
      "Query ejecutada correctamente.\n"
     ]
    },
    {
     "name": "stderr",
     "output_type": "stream",
     "text": [
      "Insertando registros:  58%|█████▊    | 912/1560 [30:22<21:46,  2.02s/it]"
     ]
    },
    {
     "name": "stdout",
     "output_type": "stream",
     "text": [
      "Query ejecutada correctamente.\n",
      "Query ejecutada correctamente.\n",
      "Query ejecutada correctamente.\n"
     ]
    },
    {
     "name": "stderr",
     "output_type": "stream",
     "text": [
      "Insertando registros:  59%|█████▊    | 913/1560 [30:24<23:03,  2.14s/it]"
     ]
    },
    {
     "name": "stdout",
     "output_type": "stream",
     "text": [
      "Query ejecutada correctamente.\n",
      "Query ejecutada correctamente.\n",
      "Query ejecutada correctamente.\n"
     ]
    },
    {
     "name": "stderr",
     "output_type": "stream",
     "text": [
      "Insertando registros:  59%|█████▊    | 914/1560 [30:27<24:09,  2.24s/it]"
     ]
    },
    {
     "name": "stdout",
     "output_type": "stream",
     "text": [
      "Query ejecutada correctamente.\n",
      "Query ejecutada correctamente.\n",
      "Query ejecutada correctamente.\n"
     ]
    },
    {
     "name": "stderr",
     "output_type": "stream",
     "text": [
      "Insertando registros:  59%|█████▊    | 915/1560 [30:29<24:21,  2.27s/it]"
     ]
    },
    {
     "name": "stdout",
     "output_type": "stream",
     "text": [
      "Query ejecutada correctamente.\n",
      "Query ejecutada correctamente.\n",
      "Query ejecutada correctamente.\n"
     ]
    },
    {
     "name": "stderr",
     "output_type": "stream",
     "text": [
      "Insertando registros:  59%|█████▊    | 916/1560 [30:31<24:25,  2.28s/it]"
     ]
    },
    {
     "name": "stdout",
     "output_type": "stream",
     "text": [
      "Query ejecutada correctamente.\n",
      "Query ejecutada correctamente.\n",
      "Query ejecutada correctamente.\n"
     ]
    },
    {
     "name": "stderr",
     "output_type": "stream",
     "text": [
      "Insertando registros:  59%|█████▉    | 917/1560 [30:34<24:29,  2.28s/it]"
     ]
    },
    {
     "name": "stdout",
     "output_type": "stream",
     "text": [
      "Query ejecutada correctamente.\n",
      "Query ejecutada correctamente.\n",
      "Query ejecutada correctamente.\n"
     ]
    },
    {
     "name": "stderr",
     "output_type": "stream",
     "text": [
      "Insertando registros:  59%|█████▉    | 918/1560 [30:36<24:30,  2.29s/it]"
     ]
    },
    {
     "name": "stdout",
     "output_type": "stream",
     "text": [
      "Query ejecutada correctamente.\n",
      "Query ejecutada correctamente.\n",
      "Query ejecutada correctamente.\n"
     ]
    },
    {
     "name": "stderr",
     "output_type": "stream",
     "text": [
      "Insertando registros:  59%|█████▉    | 919/1560 [30:38<24:28,  2.29s/it]"
     ]
    },
    {
     "name": "stdout",
     "output_type": "stream",
     "text": [
      "Query ejecutada correctamente.\n",
      "Query ejecutada correctamente.\n",
      "Query ejecutada correctamente.\n"
     ]
    },
    {
     "name": "stderr",
     "output_type": "stream",
     "text": [
      "Insertando registros:  59%|█████▉    | 920/1560 [30:40<24:24,  2.29s/it]"
     ]
    },
    {
     "name": "stdout",
     "output_type": "stream",
     "text": [
      "Query ejecutada correctamente.\n"
     ]
    },
    {
     "name": "stderr",
     "output_type": "stream",
     "text": [
      "Insertando registros:  59%|█████▉    | 921/1560 [30:41<19:29,  1.83s/it]"
     ]
    },
    {
     "name": "stdout",
     "output_type": "stream",
     "text": [
      "Query ejecutada correctamente.\n",
      "Query ejecutada correctamente.\n",
      "Query ejecutada correctamente.\n"
     ]
    },
    {
     "name": "stderr",
     "output_type": "stream",
     "text": [
      "Insertando registros:  59%|█████▉    | 922/1560 [30:44<20:59,  1.97s/it]"
     ]
    },
    {
     "name": "stdout",
     "output_type": "stream",
     "text": [
      "Query ejecutada correctamente.\n",
      "Query ejecutada correctamente.\n",
      "Query ejecutada correctamente.\n"
     ]
    },
    {
     "name": "stderr",
     "output_type": "stream",
     "text": [
      "Insertando registros:  59%|█████▉    | 923/1560 [30:46<21:57,  2.07s/it]"
     ]
    },
    {
     "name": "stdout",
     "output_type": "stream",
     "text": [
      "Query ejecutada correctamente.\n",
      "Query ejecutada correctamente.\n",
      "Query ejecutada correctamente.\n"
     ]
    },
    {
     "name": "stderr",
     "output_type": "stream",
     "text": [
      "Insertando registros:  59%|█████▉    | 924/1560 [30:48<22:37,  2.13s/it]"
     ]
    },
    {
     "name": "stdout",
     "output_type": "stream",
     "text": [
      "Query ejecutada correctamente.\n",
      "Query ejecutada correctamente.\n",
      "Query ejecutada correctamente.\n"
     ]
    },
    {
     "name": "stderr",
     "output_type": "stream",
     "text": [
      "Insertando registros:  59%|█████▉    | 925/1560 [30:50<23:04,  2.18s/it]"
     ]
    },
    {
     "name": "stdout",
     "output_type": "stream",
     "text": [
      "Query ejecutada correctamente.\n"
     ]
    },
    {
     "name": "stderr",
     "output_type": "stream",
     "text": [
      "Insertando registros:  59%|█████▉    | 926/1560 [30:51<18:34,  1.76s/it]"
     ]
    },
    {
     "name": "stdout",
     "output_type": "stream",
     "text": [
      "Query ejecutada correctamente.\n",
      "Query ejecutada correctamente.\n",
      "Query ejecutada correctamente.\n"
     ]
    },
    {
     "name": "stderr",
     "output_type": "stream",
     "text": [
      "Insertando registros:  59%|█████▉    | 927/1560 [30:53<20:13,  1.92s/it]"
     ]
    },
    {
     "name": "stdout",
     "output_type": "stream",
     "text": [
      "Query ejecutada correctamente.\n",
      "Query ejecutada correctamente.\n",
      "Query ejecutada correctamente.\n"
     ]
    },
    {
     "name": "stderr",
     "output_type": "stream",
     "text": [
      "Insertando registros:  59%|█████▉    | 928/1560 [30:56<21:22,  2.03s/it]"
     ]
    },
    {
     "name": "stdout",
     "output_type": "stream",
     "text": [
      "Query ejecutada correctamente.\n",
      "Query ejecutada correctamente.\n",
      "Query ejecutada correctamente.\n"
     ]
    },
    {
     "name": "stderr",
     "output_type": "stream",
     "text": [
      "Insertando registros:  60%|█████▉    | 929/1560 [30:58<22:09,  2.11s/it]"
     ]
    },
    {
     "name": "stdout",
     "output_type": "stream",
     "text": [
      "Query ejecutada correctamente.\n"
     ]
    },
    {
     "name": "stderr",
     "output_type": "stream",
     "text": [
      "Insertando registros:  60%|█████▉    | 930/1560 [30:59<17:55,  1.71s/it]"
     ]
    },
    {
     "name": "stdout",
     "output_type": "stream",
     "text": [
      "Query ejecutada correctamente.\n",
      "Query ejecutada correctamente.\n",
      "Query ejecutada correctamente.\n"
     ]
    },
    {
     "name": "stderr",
     "output_type": "stream",
     "text": [
      "Insertando registros:  60%|█████▉    | 931/1560 [31:01<19:42,  1.88s/it]"
     ]
    },
    {
     "name": "stdout",
     "output_type": "stream",
     "text": [
      "Query ejecutada correctamente.\n",
      "Query ejecutada correctamente.\n",
      "Query ejecutada correctamente.\n"
     ]
    },
    {
     "name": "stderr",
     "output_type": "stream",
     "text": [
      "Insertando registros:  60%|█████▉    | 932/1560 [31:03<20:59,  2.01s/it]"
     ]
    },
    {
     "name": "stdout",
     "output_type": "stream",
     "text": [
      "Query ejecutada correctamente.\n",
      "Query ejecutada correctamente.\n",
      "Query ejecutada correctamente.\n"
     ]
    },
    {
     "name": "stderr",
     "output_type": "stream",
     "text": [
      "Insertando registros:  60%|█████▉    | 933/1560 [31:06<21:52,  2.09s/it]"
     ]
    },
    {
     "name": "stdout",
     "output_type": "stream",
     "text": [
      "Query ejecutada correctamente.\n",
      "Query ejecutada correctamente.\n",
      "Query ejecutada correctamente.\n"
     ]
    },
    {
     "name": "stderr",
     "output_type": "stream",
     "text": [
      "Insertando registros:  60%|█████▉    | 934/1560 [31:08<22:29,  2.16s/it]"
     ]
    },
    {
     "name": "stdout",
     "output_type": "stream",
     "text": [
      "Query ejecutada correctamente.\n",
      "Query ejecutada correctamente.\n",
      "Query ejecutada correctamente.\n"
     ]
    },
    {
     "name": "stderr",
     "output_type": "stream",
     "text": [
      "Insertando registros:  60%|█████▉    | 935/1560 [31:10<22:53,  2.20s/it]"
     ]
    },
    {
     "name": "stdout",
     "output_type": "stream",
     "text": [
      "Query ejecutada correctamente.\n",
      "Query ejecutada correctamente.\n",
      "Query ejecutada correctamente.\n"
     ]
    },
    {
     "name": "stderr",
     "output_type": "stream",
     "text": [
      "Insertando registros:  60%|██████    | 936/1560 [31:13<23:11,  2.23s/it]"
     ]
    },
    {
     "name": "stdout",
     "output_type": "stream",
     "text": [
      "Query ejecutada correctamente.\n"
     ]
    },
    {
     "name": "stderr",
     "output_type": "stream",
     "text": [
      "Insertando registros:  60%|██████    | 937/1560 [31:13<18:33,  1.79s/it]"
     ]
    },
    {
     "name": "stdout",
     "output_type": "stream",
     "text": [
      "Query ejecutada correctamente.\n"
     ]
    },
    {
     "name": "stderr",
     "output_type": "stream",
     "text": [
      "Insertando registros:  60%|██████    | 938/1560 [31:14<15:24,  1.49s/it]"
     ]
    },
    {
     "name": "stdout",
     "output_type": "stream",
     "text": [
      "Query ejecutada correctamente.\n",
      "Query ejecutada correctamente.\n",
      "Query ejecutada correctamente.\n"
     ]
    },
    {
     "name": "stderr",
     "output_type": "stream",
     "text": [
      "Insertando registros:  60%|██████    | 939/1560 [31:16<17:52,  1.73s/it]"
     ]
    },
    {
     "name": "stdout",
     "output_type": "stream",
     "text": [
      "Query ejecutada correctamente.\n"
     ]
    },
    {
     "name": "stderr",
     "output_type": "stream",
     "text": [
      "Insertando registros:  60%|██████    | 940/1560 [31:17<14:52,  1.44s/it]"
     ]
    },
    {
     "name": "stdout",
     "output_type": "stream",
     "text": [
      "Query ejecutada correctamente.\n"
     ]
    },
    {
     "name": "stderr",
     "output_type": "stream",
     "text": [
      "Insertando registros:  60%|██████    | 941/1560 [31:18<12:46,  1.24s/it]"
     ]
    },
    {
     "name": "stdout",
     "output_type": "stream",
     "text": [
      "Query ejecutada correctamente.\n",
      "Query ejecutada correctamente.\n",
      "Query ejecutada correctamente.\n"
     ]
    },
    {
     "name": "stderr",
     "output_type": "stream",
     "text": [
      "Insertando registros:  60%|██████    | 942/1560 [31:20<16:00,  1.55s/it]"
     ]
    },
    {
     "name": "stdout",
     "output_type": "stream",
     "text": [
      "Query ejecutada correctamente.\n",
      "Query ejecutada correctamente.\n",
      "Query ejecutada correctamente.\n"
     ]
    },
    {
     "name": "stderr",
     "output_type": "stream",
     "text": [
      "Insertando registros:  60%|██████    | 943/1560 [31:23<18:21,  1.79s/it]"
     ]
    },
    {
     "name": "stdout",
     "output_type": "stream",
     "text": [
      "Query ejecutada correctamente.\n",
      "Query ejecutada correctamente.\n",
      "Query ejecutada correctamente.\n"
     ]
    },
    {
     "name": "stderr",
     "output_type": "stream",
     "text": [
      "Insertando registros:  61%|██████    | 944/1560 [31:25<19:57,  1.94s/it]"
     ]
    },
    {
     "name": "stdout",
     "output_type": "stream",
     "text": [
      "Query ejecutada correctamente.\n"
     ]
    },
    {
     "name": "stderr",
     "output_type": "stream",
     "text": [
      "Insertando registros:  61%|██████    | 945/1560 [31:26<16:20,  1.59s/it]"
     ]
    },
    {
     "name": "stdout",
     "output_type": "stream",
     "text": [
      "Query ejecutada correctamente.\n",
      "Query ejecutada correctamente.\n",
      "Query ejecutada correctamente.\n"
     ]
    },
    {
     "name": "stderr",
     "output_type": "stream",
     "text": [
      "Insertando registros:  61%|██████    | 946/1560 [31:28<18:31,  1.81s/it]"
     ]
    },
    {
     "name": "stdout",
     "output_type": "stream",
     "text": [
      "Query ejecutada correctamente.\n"
     ]
    },
    {
     "name": "stderr",
     "output_type": "stream",
     "text": [
      "Insertando registros:  61%|██████    | 947/1560 [31:29<15:18,  1.50s/it]"
     ]
    },
    {
     "name": "stdout",
     "output_type": "stream",
     "text": [
      "Query ejecutada correctamente.\n",
      "Query ejecutada correctamente.\n",
      "Query ejecutada correctamente.\n"
     ]
    },
    {
     "name": "stderr",
     "output_type": "stream",
     "text": [
      "Insertando registros:  61%|██████    | 948/1560 [31:31<17:42,  1.74s/it]"
     ]
    },
    {
     "name": "stdout",
     "output_type": "stream",
     "text": [
      "Query ejecutada correctamente.\n",
      "Query ejecutada correctamente.\n",
      "Query ejecutada correctamente.\n"
     ]
    },
    {
     "name": "stderr",
     "output_type": "stream",
     "text": [
      "Insertando registros:  61%|██████    | 949/1560 [31:33<19:24,  1.91s/it]"
     ]
    },
    {
     "name": "stdout",
     "output_type": "stream",
     "text": [
      "Query ejecutada correctamente.\n"
     ]
    },
    {
     "name": "stderr",
     "output_type": "stream",
     "text": [
      "Insertando registros:  61%|██████    | 950/1560 [31:34<15:56,  1.57s/it]"
     ]
    },
    {
     "name": "stdout",
     "output_type": "stream",
     "text": [
      "Query ejecutada correctamente.\n"
     ]
    },
    {
     "name": "stderr",
     "output_type": "stream",
     "text": [
      "Insertando registros:  61%|██████    | 951/1560 [31:35<13:27,  1.33s/it]"
     ]
    },
    {
     "name": "stdout",
     "output_type": "stream",
     "text": [
      "Query ejecutada correctamente.\n"
     ]
    },
    {
     "name": "stderr",
     "output_type": "stream",
     "text": [
      "Insertando registros:  61%|██████    | 952/1560 [31:36<11:42,  1.16s/it]"
     ]
    },
    {
     "name": "stdout",
     "output_type": "stream",
     "text": [
      "Query ejecutada correctamente.\n",
      "Query ejecutada correctamente.\n",
      "Query ejecutada correctamente.\n"
     ]
    },
    {
     "name": "stderr",
     "output_type": "stream",
     "text": [
      "Insertando registros:  61%|██████    | 953/1560 [31:38<15:10,  1.50s/it]"
     ]
    },
    {
     "name": "stdout",
     "output_type": "stream",
     "text": [
      "Query ejecutada correctamente.\n",
      "Query ejecutada correctamente.\n",
      "Query ejecutada correctamente.\n"
     ]
    },
    {
     "name": "stderr",
     "output_type": "stream",
     "text": [
      "Insertando registros:  61%|██████    | 954/1560 [31:40<17:35,  1.74s/it]"
     ]
    },
    {
     "name": "stdout",
     "output_type": "stream",
     "text": [
      "Query ejecutada correctamente.\n",
      "Query ejecutada correctamente.\n",
      "Query ejecutada correctamente.\n"
     ]
    },
    {
     "name": "stderr",
     "output_type": "stream",
     "text": [
      "Insertando registros:  61%|██████    | 955/1560 [31:43<19:20,  1.92s/it]"
     ]
    },
    {
     "name": "stdout",
     "output_type": "stream",
     "text": [
      "Query ejecutada correctamente.\n",
      "Query ejecutada correctamente.\n",
      "Query ejecutada correctamente.\n"
     ]
    },
    {
     "name": "stderr",
     "output_type": "stream",
     "text": [
      "Insertando registros:  61%|██████▏   | 956/1560 [31:45<20:26,  2.03s/it]"
     ]
    },
    {
     "name": "stdout",
     "output_type": "stream",
     "text": [
      "Query ejecutada correctamente.\n"
     ]
    },
    {
     "name": "stderr",
     "output_type": "stream",
     "text": [
      "Insertando registros:  61%|██████▏   | 957/1560 [31:46<16:37,  1.65s/it]"
     ]
    },
    {
     "name": "stdout",
     "output_type": "stream",
     "text": [
      "Query ejecutada correctamente.\n",
      "Query ejecutada correctamente.\n",
      "Query ejecutada correctamente.\n"
     ]
    },
    {
     "name": "stderr",
     "output_type": "stream",
     "text": [
      "Insertando registros:  61%|██████▏   | 958/1560 [31:48<18:33,  1.85s/it]"
     ]
    },
    {
     "name": "stdout",
     "output_type": "stream",
     "text": [
      "Query ejecutada correctamente.\n",
      "Query ejecutada correctamente.\n",
      "Query ejecutada correctamente.\n"
     ]
    },
    {
     "name": "stderr",
     "output_type": "stream",
     "text": [
      "Insertando registros:  61%|██████▏   | 959/1560 [31:50<19:59,  2.00s/it]"
     ]
    },
    {
     "name": "stdout",
     "output_type": "stream",
     "text": [
      "Query ejecutada correctamente.\n",
      "Query ejecutada correctamente.\n",
      "Query ejecutada correctamente.\n"
     ]
    },
    {
     "name": "stderr",
     "output_type": "stream",
     "text": [
      "Insertando registros:  62%|██████▏   | 960/1560 [31:53<20:52,  2.09s/it]"
     ]
    },
    {
     "name": "stdout",
     "output_type": "stream",
     "text": [
      "Query ejecutada correctamente.\n",
      "Query ejecutada correctamente.\n",
      "Query ejecutada correctamente.\n"
     ]
    },
    {
     "name": "stderr",
     "output_type": "stream",
     "text": [
      "Insertando registros:  62%|██████▏   | 961/1560 [31:55<21:27,  2.15s/it]"
     ]
    },
    {
     "name": "stdout",
     "output_type": "stream",
     "text": [
      "Query ejecutada correctamente.\n"
     ]
    },
    {
     "name": "stderr",
     "output_type": "stream",
     "text": [
      "Insertando registros:  62%|██████▏   | 962/1560 [31:56<17:20,  1.74s/it]"
     ]
    },
    {
     "name": "stdout",
     "output_type": "stream",
     "text": [
      "Query ejecutada correctamente.\n",
      "Query ejecutada correctamente.\n",
      "Query ejecutada correctamente.\n"
     ]
    },
    {
     "name": "stderr",
     "output_type": "stream",
     "text": [
      "Insertando registros:  62%|██████▏   | 963/1560 [31:58<19:05,  1.92s/it]"
     ]
    },
    {
     "name": "stdout",
     "output_type": "stream",
     "text": [
      "Query ejecutada correctamente.\n",
      "Query ejecutada correctamente.\n",
      "Query ejecutada correctamente.\n"
     ]
    },
    {
     "name": "stderr",
     "output_type": "stream",
     "text": [
      "Insertando registros:  62%|██████▏   | 964/1560 [32:00<20:14,  2.04s/it]"
     ]
    },
    {
     "name": "stdout",
     "output_type": "stream",
     "text": [
      "Query ejecutada correctamente.\n",
      "Query ejecutada correctamente.\n",
      "Query ejecutada correctamente.\n"
     ]
    },
    {
     "name": "stderr",
     "output_type": "stream",
     "text": [
      "Insertando registros:  62%|██████▏   | 965/1560 [32:03<20:59,  2.12s/it]"
     ]
    },
    {
     "name": "stdout",
     "output_type": "stream",
     "text": [
      "Query ejecutada correctamente.\n",
      "Query ejecutada correctamente.\n",
      "Query ejecutada correctamente.\n"
     ]
    },
    {
     "name": "stderr",
     "output_type": "stream",
     "text": [
      "Insertando registros:  62%|██████▏   | 966/1560 [32:05<21:31,  2.17s/it]"
     ]
    },
    {
     "name": "stdout",
     "output_type": "stream",
     "text": [
      "Query ejecutada correctamente.\n",
      "Query ejecutada correctamente.\n",
      "Query ejecutada correctamente.\n"
     ]
    },
    {
     "name": "stderr",
     "output_type": "stream",
     "text": [
      "Insertando registros:  62%|██████▏   | 967/1560 [32:07<21:57,  2.22s/it]"
     ]
    },
    {
     "name": "stdout",
     "output_type": "stream",
     "text": [
      "Query ejecutada correctamente.\n",
      "Query ejecutada correctamente.\n",
      "Query ejecutada correctamente.\n"
     ]
    },
    {
     "name": "stderr",
     "output_type": "stream",
     "text": [
      "Insertando registros:  62%|██████▏   | 968/1560 [32:10<22:12,  2.25s/it]"
     ]
    },
    {
     "name": "stdout",
     "output_type": "stream",
     "text": [
      "Query ejecutada correctamente.\n",
      "Query ejecutada correctamente.\n",
      "Query ejecutada correctamente.\n"
     ]
    },
    {
     "name": "stderr",
     "output_type": "stream",
     "text": [
      "Insertando registros:  62%|██████▏   | 969/1560 [32:12<22:20,  2.27s/it]"
     ]
    },
    {
     "name": "stdout",
     "output_type": "stream",
     "text": [
      "Query ejecutada correctamente.\n"
     ]
    },
    {
     "name": "stderr",
     "output_type": "stream",
     "text": [
      "Insertando registros:  62%|██████▏   | 970/1560 [32:13<17:56,  1.82s/it]"
     ]
    },
    {
     "name": "stdout",
     "output_type": "stream",
     "text": [
      "Query ejecutada correctamente.\n",
      "Query ejecutada correctamente.\n",
      "Query ejecutada correctamente.\n"
     ]
    },
    {
     "name": "stderr",
     "output_type": "stream",
     "text": [
      "Insertando registros:  62%|██████▏   | 971/1560 [32:15<19:21,  1.97s/it]"
     ]
    },
    {
     "name": "stdout",
     "output_type": "stream",
     "text": [
      "Query ejecutada correctamente.\n"
     ]
    },
    {
     "name": "stderr",
     "output_type": "stream",
     "text": [
      "Insertando registros:  62%|██████▏   | 972/1560 [32:16<15:48,  1.61s/it]"
     ]
    },
    {
     "name": "stdout",
     "output_type": "stream",
     "text": [
      "Query ejecutada correctamente.\n",
      "Query ejecutada correctamente.\n",
      "Query ejecutada correctamente.\n"
     ]
    },
    {
     "name": "stderr",
     "output_type": "stream",
     "text": [
      "Insertando registros:  62%|██████▏   | 973/1560 [32:18<17:48,  1.82s/it]"
     ]
    },
    {
     "name": "stdout",
     "output_type": "stream",
     "text": [
      "Query ejecutada correctamente.\n"
     ]
    },
    {
     "name": "stderr",
     "output_type": "stream",
     "text": [
      "Insertando registros:  62%|██████▏   | 974/1560 [32:19<14:42,  1.51s/it]"
     ]
    },
    {
     "name": "stdout",
     "output_type": "stream",
     "text": [
      "Query ejecutada correctamente.\n",
      "Query ejecutada correctamente.\n",
      "Query ejecutada correctamente.\n"
     ]
    },
    {
     "name": "stderr",
     "output_type": "stream",
     "text": [
      "Insertando registros:  62%|██████▎   | 975/1560 [32:21<17:10,  1.76s/it]"
     ]
    },
    {
     "name": "stdout",
     "output_type": "stream",
     "text": [
      "Query ejecutada correctamente.\n",
      "Query ejecutada correctamente.\n",
      "Query ejecutada correctamente.\n"
     ]
    },
    {
     "name": "stderr",
     "output_type": "stream",
     "text": [
      "Insertando registros:  63%|██████▎   | 976/1560 [32:24<18:51,  1.94s/it]"
     ]
    },
    {
     "name": "stdout",
     "output_type": "stream",
     "text": [
      "Query ejecutada correctamente.\n",
      "Query ejecutada correctamente.\n",
      "Query ejecutada correctamente.\n"
     ]
    },
    {
     "name": "stderr",
     "output_type": "stream",
     "text": [
      "Insertando registros:  63%|██████▎   | 977/1560 [32:26<19:54,  2.05s/it]"
     ]
    },
    {
     "name": "stdout",
     "output_type": "stream",
     "text": [
      "Query ejecutada correctamente.\n",
      "Query ejecutada correctamente.\n",
      "Query ejecutada correctamente.\n"
     ]
    },
    {
     "name": "stderr",
     "output_type": "stream",
     "text": [
      "Insertando registros:  63%|██████▎   | 978/1560 [32:28<20:41,  2.13s/it]"
     ]
    },
    {
     "name": "stdout",
     "output_type": "stream",
     "text": [
      "Query ejecutada correctamente.\n"
     ]
    },
    {
     "name": "stderr",
     "output_type": "stream",
     "text": [
      "Insertando registros:  63%|██████▎   | 979/1560 [32:29<16:46,  1.73s/it]"
     ]
    },
    {
     "name": "stdout",
     "output_type": "stream",
     "text": [
      "Query ejecutada correctamente.\n"
     ]
    },
    {
     "name": "stderr",
     "output_type": "stream",
     "text": [
      "Insertando registros:  63%|██████▎   | 980/1560 [32:30<13:59,  1.45s/it]"
     ]
    },
    {
     "name": "stdout",
     "output_type": "stream",
     "text": [
      "Query ejecutada correctamente.\n",
      "Query ejecutada correctamente.\n",
      "Query ejecutada correctamente.\n"
     ]
    },
    {
     "name": "stderr",
     "output_type": "stream",
     "text": [
      "Insertando registros:  63%|██████▎   | 981/1560 [32:32<16:26,  1.70s/it]"
     ]
    },
    {
     "name": "stdout",
     "output_type": "stream",
     "text": [
      "Query ejecutada correctamente.\n",
      "Query ejecutada correctamente.\n",
      "Query ejecutada correctamente.\n"
     ]
    },
    {
     "name": "stderr",
     "output_type": "stream",
     "text": [
      "Insertando registros:  63%|██████▎   | 982/1560 [32:34<18:16,  1.90s/it]"
     ]
    },
    {
     "name": "stdout",
     "output_type": "stream",
     "text": [
      "Query ejecutada correctamente.\n",
      "Query ejecutada correctamente.\n",
      "Query ejecutada correctamente.\n"
     ]
    },
    {
     "name": "stderr",
     "output_type": "stream",
     "text": [
      "Insertando registros:  63%|██████▎   | 983/1560 [32:37<19:25,  2.02s/it]"
     ]
    },
    {
     "name": "stdout",
     "output_type": "stream",
     "text": [
      "Query ejecutada correctamente.\n"
     ]
    },
    {
     "name": "stderr",
     "output_type": "stream",
     "text": [
      "Insertando registros:  63%|██████▎   | 984/1560 [32:37<15:44,  1.64s/it]"
     ]
    },
    {
     "name": "stdout",
     "output_type": "stream",
     "text": [
      "Query ejecutada correctamente.\n",
      "Query ejecutada correctamente.\n",
      "Query ejecutada correctamente.\n"
     ]
    },
    {
     "name": "stderr",
     "output_type": "stream",
     "text": [
      "Insertando registros:  63%|██████▎   | 985/1560 [32:40<17:34,  1.83s/it]"
     ]
    },
    {
     "name": "stdout",
     "output_type": "stream",
     "text": [
      "Query ejecutada correctamente.\n",
      "Query ejecutada correctamente.\n",
      "Query ejecutada correctamente.\n"
     ]
    },
    {
     "name": "stderr",
     "output_type": "stream",
     "text": [
      "Insertando registros:  63%|██████▎   | 986/1560 [32:42<18:57,  1.98s/it]"
     ]
    },
    {
     "name": "stdout",
     "output_type": "stream",
     "text": [
      "Query ejecutada correctamente.\n",
      "Query ejecutada correctamente.\n",
      "Query ejecutada correctamente.\n"
     ]
    },
    {
     "name": "stderr",
     "output_type": "stream",
     "text": [
      "Insertando registros:  63%|██████▎   | 987/1560 [32:44<20:00,  2.09s/it]"
     ]
    },
    {
     "name": "stdout",
     "output_type": "stream",
     "text": [
      "Query ejecutada correctamente.\n",
      "Query ejecutada correctamente.\n",
      "Query ejecutada correctamente.\n"
     ]
    },
    {
     "name": "stderr",
     "output_type": "stream",
     "text": [
      "Insertando registros:  63%|██████▎   | 988/1560 [32:47<20:31,  2.15s/it]"
     ]
    },
    {
     "name": "stdout",
     "output_type": "stream",
     "text": [
      "Query ejecutada correctamente.\n",
      "Query ejecutada correctamente.\n",
      "Query ejecutada correctamente.\n"
     ]
    },
    {
     "name": "stderr",
     "output_type": "stream",
     "text": [
      "Insertando registros:  63%|██████▎   | 989/1560 [32:49<21:02,  2.21s/it]"
     ]
    },
    {
     "name": "stdout",
     "output_type": "stream",
     "text": [
      "Query ejecutada correctamente.\n"
     ]
    },
    {
     "name": "stderr",
     "output_type": "stream",
     "text": [
      "Insertando registros:  63%|██████▎   | 990/1560 [32:50<16:54,  1.78s/it]"
     ]
    },
    {
     "name": "stdout",
     "output_type": "stream",
     "text": [
      "Query ejecutada correctamente.\n",
      "Query ejecutada correctamente.\n",
      "Query ejecutada correctamente.\n"
     ]
    },
    {
     "name": "stderr",
     "output_type": "stream",
     "text": [
      "Insertando registros:  64%|██████▎   | 991/1560 [32:52<18:25,  1.94s/it]"
     ]
    },
    {
     "name": "stdout",
     "output_type": "stream",
     "text": [
      "Query ejecutada correctamente.\n",
      "Query ejecutada correctamente.\n",
      "Query ejecutada correctamente.\n"
     ]
    },
    {
     "name": "stderr",
     "output_type": "stream",
     "text": [
      "Insertando registros:  64%|██████▎   | 992/1560 [32:55<19:34,  2.07s/it]"
     ]
    },
    {
     "name": "stdout",
     "output_type": "stream",
     "text": [
      "Query ejecutada correctamente.\n",
      "Query ejecutada correctamente.\n",
      "Query ejecutada correctamente.\n"
     ]
    },
    {
     "name": "stderr",
     "output_type": "stream",
     "text": [
      "Insertando registros:  64%|██████▎   | 993/1560 [32:57<20:17,  2.15s/it]"
     ]
    },
    {
     "name": "stdout",
     "output_type": "stream",
     "text": [
      "Query ejecutada correctamente.\n",
      "Query ejecutada correctamente.\n",
      "Query ejecutada correctamente.\n"
     ]
    },
    {
     "name": "stderr",
     "output_type": "stream",
     "text": [
      "Insertando registros:  64%|██████▎   | 994/1560 [32:59<20:46,  2.20s/it]"
     ]
    },
    {
     "name": "stdout",
     "output_type": "stream",
     "text": [
      "Query ejecutada correctamente.\n",
      "Query ejecutada correctamente.\n",
      "Query ejecutada correctamente.\n"
     ]
    },
    {
     "name": "stderr",
     "output_type": "stream",
     "text": [
      "Insertando registros:  64%|██████▍   | 995/1560 [33:02<21:09,  2.25s/it]"
     ]
    },
    {
     "name": "stdout",
     "output_type": "stream",
     "text": [
      "Query ejecutada correctamente.\n",
      "Query ejecutada correctamente.\n",
      "Query ejecutada correctamente.\n"
     ]
    },
    {
     "name": "stderr",
     "output_type": "stream",
     "text": [
      "Insertando registros:  64%|██████▍   | 996/1560 [33:04<21:19,  2.27s/it]"
     ]
    },
    {
     "name": "stdout",
     "output_type": "stream",
     "text": [
      "Query ejecutada correctamente.\n",
      "Query ejecutada correctamente.\n",
      "Query ejecutada correctamente.\n"
     ]
    },
    {
     "name": "stderr",
     "output_type": "stream",
     "text": [
      "Insertando registros:  64%|██████▍   | 997/1560 [33:06<21:25,  2.28s/it]"
     ]
    },
    {
     "name": "stdout",
     "output_type": "stream",
     "text": [
      "Query ejecutada correctamente.\n",
      "Query ejecutada correctamente.\n",
      "Query ejecutada correctamente.\n"
     ]
    },
    {
     "name": "stderr",
     "output_type": "stream",
     "text": [
      "Insertando registros:  64%|██████▍   | 998/1560 [33:08<21:28,  2.29s/it]"
     ]
    },
    {
     "name": "stdout",
     "output_type": "stream",
     "text": [
      "Query ejecutada correctamente.\n",
      "Query ejecutada correctamente.\n",
      "Query ejecutada correctamente.\n"
     ]
    },
    {
     "name": "stderr",
     "output_type": "stream",
     "text": [
      "Insertando registros:  64%|██████▍   | 999/1560 [33:11<21:35,  2.31s/it]"
     ]
    },
    {
     "name": "stdout",
     "output_type": "stream",
     "text": [
      "Query ejecutada correctamente.\n",
      "Query ejecutada correctamente.\n",
      "Query ejecutada correctamente.\n"
     ]
    },
    {
     "name": "stderr",
     "output_type": "stream",
     "text": [
      "Insertando registros:  64%|██████▍   | 1000/1560 [33:13<21:36,  2.32s/it]"
     ]
    },
    {
     "name": "stdout",
     "output_type": "stream",
     "text": [
      "Query ejecutada correctamente.\n",
      "Query ejecutada correctamente.\n",
      "Query ejecutada correctamente.\n"
     ]
    },
    {
     "name": "stderr",
     "output_type": "stream",
     "text": [
      "Insertando registros:  64%|██████▍   | 1001/1560 [33:15<21:33,  2.31s/it]"
     ]
    },
    {
     "name": "stdout",
     "output_type": "stream",
     "text": [
      "Query ejecutada correctamente.\n",
      "Query ejecutada correctamente.\n",
      "Query ejecutada correctamente.\n"
     ]
    },
    {
     "name": "stderr",
     "output_type": "stream",
     "text": [
      "Insertando registros:  64%|██████▍   | 1002/1560 [33:18<21:29,  2.31s/it]"
     ]
    },
    {
     "name": "stdout",
     "output_type": "stream",
     "text": [
      "Query ejecutada correctamente.\n"
     ]
    },
    {
     "name": "stderr",
     "output_type": "stream",
     "text": [
      "Insertando registros:  64%|██████▍   | 1003/1560 [33:19<17:11,  1.85s/it]"
     ]
    },
    {
     "name": "stdout",
     "output_type": "stream",
     "text": [
      "Query ejecutada correctamente.\n",
      "Query ejecutada correctamente.\n",
      "Query ejecutada correctamente.\n"
     ]
    },
    {
     "name": "stderr",
     "output_type": "stream",
     "text": [
      "Insertando registros:  64%|██████▍   | 1004/1560 [33:21<18:22,  1.98s/it]"
     ]
    },
    {
     "name": "stdout",
     "output_type": "stream",
     "text": [
      "Query ejecutada correctamente.\n",
      "Query ejecutada correctamente.\n",
      "Query ejecutada correctamente.\n"
     ]
    },
    {
     "name": "stderr",
     "output_type": "stream",
     "text": [
      "Insertando registros:  64%|██████▍   | 1005/1560 [33:23<19:20,  2.09s/it]"
     ]
    },
    {
     "name": "stdout",
     "output_type": "stream",
     "text": [
      "Query ejecutada correctamente.\n",
      "Query ejecutada correctamente.\n",
      "Query ejecutada correctamente.\n"
     ]
    },
    {
     "name": "stderr",
     "output_type": "stream",
     "text": [
      "Insertando registros:  64%|██████▍   | 1006/1560 [33:26<19:56,  2.16s/it]"
     ]
    },
    {
     "name": "stdout",
     "output_type": "stream",
     "text": [
      "Query ejecutada correctamente.\n",
      "Query ejecutada correctamente.\n",
      "Query ejecutada correctamente.\n"
     ]
    },
    {
     "name": "stderr",
     "output_type": "stream",
     "text": [
      "Insertando registros:  65%|██████▍   | 1007/1560 [33:28<20:17,  2.20s/it]"
     ]
    },
    {
     "name": "stdout",
     "output_type": "stream",
     "text": [
      "Query ejecutada correctamente.\n",
      "Query ejecutada correctamente.\n",
      "Query ejecutada correctamente.\n"
     ]
    },
    {
     "name": "stderr",
     "output_type": "stream",
     "text": [
      "Insertando registros:  65%|██████▍   | 1008/1560 [33:30<20:30,  2.23s/it]"
     ]
    },
    {
     "name": "stdout",
     "output_type": "stream",
     "text": [
      "Query ejecutada correctamente.\n",
      "Query ejecutada correctamente.\n",
      "Query ejecutada correctamente.\n"
     ]
    },
    {
     "name": "stderr",
     "output_type": "stream",
     "text": [
      "Insertando registros:  65%|██████▍   | 1009/1560 [33:32<20:43,  2.26s/it]"
     ]
    },
    {
     "name": "stdout",
     "output_type": "stream",
     "text": [
      "Query ejecutada correctamente.\n"
     ]
    },
    {
     "name": "stderr",
     "output_type": "stream",
     "text": [
      "Insertando registros:  65%|██████▍   | 1010/1560 [33:33<16:36,  1.81s/it]"
     ]
    },
    {
     "name": "stdout",
     "output_type": "stream",
     "text": [
      "Query ejecutada correctamente.\n",
      "Query ejecutada correctamente.\n",
      "Query ejecutada correctamente.\n"
     ]
    },
    {
     "name": "stderr",
     "output_type": "stream",
     "text": [
      "Insertando registros:  65%|██████▍   | 1011/1560 [33:36<17:56,  1.96s/it]"
     ]
    },
    {
     "name": "stdout",
     "output_type": "stream",
     "text": [
      "Query ejecutada correctamente.\n"
     ]
    },
    {
     "name": "stderr",
     "output_type": "stream",
     "text": [
      "Insertando registros:  65%|██████▍   | 1012/1560 [33:36<14:38,  1.60s/it]"
     ]
    },
    {
     "name": "stdout",
     "output_type": "stream",
     "text": [
      "Query ejecutada correctamente.\n"
     ]
    },
    {
     "name": "stderr",
     "output_type": "stream",
     "text": [
      "Insertando registros:  65%|██████▍   | 1013/1560 [33:37<12:21,  1.36s/it]"
     ]
    },
    {
     "name": "stdout",
     "output_type": "stream",
     "text": [
      "Query ejecutada correctamente.\n",
      "Query ejecutada correctamente.\n",
      "Query ejecutada correctamente.\n"
     ]
    },
    {
     "name": "stderr",
     "output_type": "stream",
     "text": [
      "Insertando registros:  65%|██████▌   | 1014/1560 [33:39<14:58,  1.65s/it]"
     ]
    },
    {
     "name": "stdout",
     "output_type": "stream",
     "text": [
      "Query ejecutada correctamente.\n",
      "Query ejecutada correctamente.\n",
      "Query ejecutada correctamente.\n"
     ]
    },
    {
     "name": "stderr",
     "output_type": "stream",
     "text": [
      "Insertando registros:  65%|██████▌   | 1015/1560 [33:42<16:51,  1.86s/it]"
     ]
    },
    {
     "name": "stdout",
     "output_type": "stream",
     "text": [
      "Query ejecutada correctamente.\n"
     ]
    },
    {
     "name": "stderr",
     "output_type": "stream",
     "text": [
      "Insertando registros:  65%|██████▌   | 1016/1560 [33:42<13:54,  1.53s/it]"
     ]
    },
    {
     "name": "stdout",
     "output_type": "stream",
     "text": [
      "Query ejecutada correctamente.\n"
     ]
    },
    {
     "name": "stderr",
     "output_type": "stream",
     "text": [
      "Insertando registros:  65%|██████▌   | 1017/1560 [33:43<11:47,  1.30s/it]"
     ]
    },
    {
     "name": "stdout",
     "output_type": "stream",
     "text": [
      "Query ejecutada correctamente.\n"
     ]
    },
    {
     "name": "stderr",
     "output_type": "stream",
     "text": [
      "Insertando registros:  65%|██████▌   | 1018/1560 [33:44<10:20,  1.14s/it]"
     ]
    },
    {
     "name": "stdout",
     "output_type": "stream",
     "text": [
      "Query ejecutada correctamente.\n"
     ]
    },
    {
     "name": "stderr",
     "output_type": "stream",
     "text": [
      "Insertando registros:  65%|██████▌   | 1019/1560 [33:45<09:20,  1.04s/it]"
     ]
    },
    {
     "name": "stdout",
     "output_type": "stream",
     "text": [
      "Query ejecutada correctamente.\n",
      "Query ejecutada correctamente.\n",
      "Query ejecutada correctamente.\n"
     ]
    },
    {
     "name": "stderr",
     "output_type": "stream",
     "text": [
      "Insertando registros:  65%|██████▌   | 1020/1560 [33:47<12:52,  1.43s/it]"
     ]
    },
    {
     "name": "stdout",
     "output_type": "stream",
     "text": [
      "Query ejecutada correctamente.\n",
      "Query ejecutada correctamente.\n",
      "Query ejecutada correctamente.\n"
     ]
    },
    {
     "name": "stderr",
     "output_type": "stream",
     "text": [
      "Insertando registros:  65%|██████▌   | 1021/1560 [33:49<15:08,  1.69s/it]"
     ]
    },
    {
     "name": "stdout",
     "output_type": "stream",
     "text": [
      "Query ejecutada correctamente.\n"
     ]
    },
    {
     "name": "stderr",
     "output_type": "stream",
     "text": [
      "Insertando registros:  66%|██████▌   | 1022/1560 [33:50<12:39,  1.41s/it]"
     ]
    },
    {
     "name": "stdout",
     "output_type": "stream",
     "text": [
      "Query ejecutada correctamente.\n",
      "Query ejecutada correctamente.\n",
      "Query ejecutada correctamente.\n"
     ]
    },
    {
     "name": "stderr",
     "output_type": "stream",
     "text": [
      "Insertando registros:  66%|██████▌   | 1023/1560 [33:53<15:01,  1.68s/it]"
     ]
    },
    {
     "name": "stdout",
     "output_type": "stream",
     "text": [
      "Query ejecutada correctamente.\n",
      "Query ejecutada correctamente.\n",
      "Query ejecutada correctamente.\n"
     ]
    },
    {
     "name": "stderr",
     "output_type": "stream",
     "text": [
      "Insertando registros:  66%|██████▌   | 1024/1560 [33:55<16:42,  1.87s/it]"
     ]
    },
    {
     "name": "stdout",
     "output_type": "stream",
     "text": [
      "Query ejecutada correctamente.\n",
      "Query ejecutada correctamente.\n",
      "Query ejecutada correctamente.\n"
     ]
    },
    {
     "name": "stderr",
     "output_type": "stream",
     "text": [
      "Insertando registros:  66%|██████▌   | 1025/1560 [33:57<17:51,  2.00s/it]"
     ]
    },
    {
     "name": "stdout",
     "output_type": "stream",
     "text": [
      "Query ejecutada correctamente.\n"
     ]
    },
    {
     "name": "stderr",
     "output_type": "stream",
     "text": [
      "Insertando registros:  66%|██████▌   | 1026/1560 [33:58<14:32,  1.63s/it]"
     ]
    },
    {
     "name": "stdout",
     "output_type": "stream",
     "text": [
      "Query ejecutada correctamente.\n",
      "Query ejecutada correctamente.\n",
      "Query ejecutada correctamente.\n"
     ]
    },
    {
     "name": "stderr",
     "output_type": "stream",
     "text": [
      "Insertando registros:  66%|██████▌   | 1027/1560 [34:00<16:22,  1.84s/it]"
     ]
    },
    {
     "name": "stdout",
     "output_type": "stream",
     "text": [
      "Query ejecutada correctamente.\n",
      "Query ejecutada correctamente.\n",
      "Query ejecutada correctamente.\n"
     ]
    },
    {
     "name": "stderr",
     "output_type": "stream",
     "text": [
      "Insertando registros:  66%|██████▌   | 1028/1560 [34:03<17:35,  1.98s/it]"
     ]
    },
    {
     "name": "stdout",
     "output_type": "stream",
     "text": [
      "Query ejecutada correctamente.\n",
      "Query ejecutada correctamente.\n",
      "Query ejecutada correctamente.\n"
     ]
    },
    {
     "name": "stderr",
     "output_type": "stream",
     "text": [
      "Insertando registros:  66%|██████▌   | 1029/1560 [34:05<18:30,  2.09s/it]"
     ]
    },
    {
     "name": "stdout",
     "output_type": "stream",
     "text": [
      "Query ejecutada correctamente.\n",
      "Query ejecutada correctamente.\n",
      "Query ejecutada correctamente.\n"
     ]
    },
    {
     "name": "stderr",
     "output_type": "stream",
     "text": [
      "Insertando registros:  66%|██████▌   | 1030/1560 [34:07<19:08,  2.17s/it]"
     ]
    },
    {
     "name": "stdout",
     "output_type": "stream",
     "text": [
      "Query ejecutada correctamente.\n",
      "Query ejecutada correctamente.\n",
      "Query ejecutada correctamente.\n"
     ]
    },
    {
     "name": "stderr",
     "output_type": "stream",
     "text": [
      "Insertando registros:  66%|██████▌   | 1031/1560 [34:10<19:27,  2.21s/it]"
     ]
    },
    {
     "name": "stdout",
     "output_type": "stream",
     "text": [
      "Query ejecutada correctamente.\n"
     ]
    },
    {
     "name": "stderr",
     "output_type": "stream",
     "text": [
      "Insertando registros:  66%|██████▌   | 1032/1560 [34:10<15:40,  1.78s/it]"
     ]
    },
    {
     "name": "stdout",
     "output_type": "stream",
     "text": [
      "Query ejecutada correctamente.\n",
      "Query ejecutada correctamente.\n",
      "Query ejecutada correctamente.\n"
     ]
    },
    {
     "name": "stderr",
     "output_type": "stream",
     "text": [
      "Insertando registros:  66%|██████▌   | 1033/1560 [34:13<17:04,  1.94s/it]"
     ]
    },
    {
     "name": "stdout",
     "output_type": "stream",
     "text": [
      "Query ejecutada correctamente.\n",
      "Query ejecutada correctamente.\n",
      "Query ejecutada correctamente.\n"
     ]
    },
    {
     "name": "stderr",
     "output_type": "stream",
     "text": [
      "Insertando registros:  66%|██████▋   | 1034/1560 [34:15<18:01,  2.06s/it]"
     ]
    },
    {
     "name": "stdout",
     "output_type": "stream",
     "text": [
      "Query ejecutada correctamente.\n"
     ]
    },
    {
     "name": "stderr",
     "output_type": "stream",
     "text": [
      "Insertando registros:  66%|██████▋   | 1035/1560 [34:16<14:38,  1.67s/it]"
     ]
    },
    {
     "name": "stdout",
     "output_type": "stream",
     "text": [
      "Query ejecutada correctamente.\n",
      "Query ejecutada correctamente.\n",
      "Query ejecutada correctamente.\n"
     ]
    },
    {
     "name": "stderr",
     "output_type": "stream",
     "text": [
      "Insertando registros:  66%|██████▋   | 1036/1560 [34:18<16:25,  1.88s/it]"
     ]
    },
    {
     "name": "stdout",
     "output_type": "stream",
     "text": [
      "Query ejecutada correctamente.\n",
      "Query ejecutada correctamente.\n",
      "Query ejecutada correctamente.\n"
     ]
    },
    {
     "name": "stderr",
     "output_type": "stream",
     "text": [
      "Insertando registros:  66%|██████▋   | 1037/1560 [34:20<17:35,  2.02s/it]"
     ]
    },
    {
     "name": "stdout",
     "output_type": "stream",
     "text": [
      "Query ejecutada correctamente.\n"
     ]
    },
    {
     "name": "stderr",
     "output_type": "stream",
     "text": [
      "Insertando registros:  67%|██████▋   | 1038/1560 [34:21<14:19,  1.65s/it]"
     ]
    },
    {
     "name": "stdout",
     "output_type": "stream",
     "text": [
      "Query ejecutada correctamente.\n",
      "Query ejecutada correctamente.\n",
      "Query ejecutada correctamente.\n"
     ]
    },
    {
     "name": "stderr",
     "output_type": "stream",
     "text": [
      "Insertando registros:  67%|██████▋   | 1039/1560 [34:24<16:02,  1.85s/it]"
     ]
    },
    {
     "name": "stdout",
     "output_type": "stream",
     "text": [
      "Query ejecutada correctamente.\n"
     ]
    },
    {
     "name": "stderr",
     "output_type": "stream",
     "text": [
      "Insertando registros:  67%|██████▋   | 1040/1560 [34:24<13:17,  1.53s/it]"
     ]
    },
    {
     "name": "stdout",
     "output_type": "stream",
     "text": [
      "Query ejecutada correctamente.\n",
      "Query ejecutada correctamente.\n",
      "Query ejecutada correctamente.\n"
     ]
    },
    {
     "name": "stderr",
     "output_type": "stream",
     "text": [
      "Insertando registros:  67%|██████▋   | 1041/1560 [34:27<15:18,  1.77s/it]"
     ]
    },
    {
     "name": "stdout",
     "output_type": "stream",
     "text": [
      "Query ejecutada correctamente.\n",
      "Query ejecutada correctamente.\n",
      "Query ejecutada correctamente.\n"
     ]
    },
    {
     "name": "stderr",
     "output_type": "stream",
     "text": [
      "Insertando registros:  67%|██████▋   | 1042/1560 [34:29<16:42,  1.94s/it]"
     ]
    },
    {
     "name": "stdout",
     "output_type": "stream",
     "text": [
      "Query ejecutada correctamente.\n"
     ]
    },
    {
     "name": "stderr",
     "output_type": "stream",
     "text": [
      "Insertando registros:  67%|██████▋   | 1043/1560 [34:30<13:40,  1.59s/it]"
     ]
    },
    {
     "name": "stdout",
     "output_type": "stream",
     "text": [
      "Query ejecutada correctamente.\n",
      "Query ejecutada correctamente.\n",
      "Query ejecutada correctamente.\n"
     ]
    },
    {
     "name": "stderr",
     "output_type": "stream",
     "text": [
      "Insertando registros:  67%|██████▋   | 1044/1560 [34:32<15:42,  1.83s/it]"
     ]
    },
    {
     "name": "stdout",
     "output_type": "stream",
     "text": [
      "Query ejecutada correctamente.\n",
      "Query ejecutada correctamente.\n",
      "Query ejecutada correctamente.\n"
     ]
    },
    {
     "name": "stderr",
     "output_type": "stream",
     "text": [
      "Insertando registros:  67%|██████▋   | 1045/1560 [34:35<17:01,  1.98s/it]"
     ]
    },
    {
     "name": "stdout",
     "output_type": "stream",
     "text": [
      "Query ejecutada correctamente.\n",
      "Query ejecutada correctamente.\n",
      "Query ejecutada correctamente.\n"
     ]
    },
    {
     "name": "stderr",
     "output_type": "stream",
     "text": [
      "Insertando registros:  67%|██████▋   | 1046/1560 [34:37<17:52,  2.09s/it]"
     ]
    },
    {
     "name": "stdout",
     "output_type": "stream",
     "text": [
      "Query ejecutada correctamente.\n",
      "Query ejecutada correctamente.\n",
      "Query ejecutada correctamente.\n"
     ]
    },
    {
     "name": "stderr",
     "output_type": "stream",
     "text": [
      "Insertando registros:  67%|██████▋   | 1047/1560 [34:39<18:28,  2.16s/it]"
     ]
    },
    {
     "name": "stdout",
     "output_type": "stream",
     "text": [
      "Query ejecutada correctamente.\n",
      "Query ejecutada correctamente.\n",
      "Query ejecutada correctamente.\n"
     ]
    },
    {
     "name": "stderr",
     "output_type": "stream",
     "text": [
      "Insertando registros:  67%|██████▋   | 1048/1560 [34:42<18:54,  2.22s/it]"
     ]
    },
    {
     "name": "stdout",
     "output_type": "stream",
     "text": [
      "Query ejecutada correctamente.\n",
      "Query ejecutada correctamente.\n",
      "Query ejecutada correctamente.\n"
     ]
    },
    {
     "name": "stderr",
     "output_type": "stream",
     "text": [
      "Insertando registros:  67%|██████▋   | 1049/1560 [34:44<19:08,  2.25s/it]"
     ]
    },
    {
     "name": "stdout",
     "output_type": "stream",
     "text": [
      "Query ejecutada correctamente.\n"
     ]
    },
    {
     "name": "stderr",
     "output_type": "stream",
     "text": [
      "Insertando registros:  67%|██████▋   | 1050/1560 [34:45<15:22,  1.81s/it]"
     ]
    },
    {
     "name": "stdout",
     "output_type": "stream",
     "text": [
      "Query ejecutada correctamente.\n",
      "Query ejecutada correctamente.\n",
      "Query ejecutada correctamente.\n"
     ]
    },
    {
     "name": "stderr",
     "output_type": "stream",
     "text": [
      "Insertando registros:  67%|██████▋   | 1051/1560 [34:47<16:39,  1.96s/it]"
     ]
    },
    {
     "name": "stdout",
     "output_type": "stream",
     "text": [
      "Query ejecutada correctamente.\n",
      "Query ejecutada correctamente.\n",
      "Query ejecutada correctamente.\n"
     ]
    },
    {
     "name": "stderr",
     "output_type": "stream",
     "text": [
      "Insertando registros:  67%|██████▋   | 1052/1560 [34:49<17:37,  2.08s/it]"
     ]
    },
    {
     "name": "stdout",
     "output_type": "stream",
     "text": [
      "Query ejecutada correctamente.\n",
      "Query ejecutada correctamente.\n",
      "Query ejecutada correctamente.\n"
     ]
    },
    {
     "name": "stderr",
     "output_type": "stream",
     "text": [
      "Insertando registros:  68%|██████▊   | 1053/1560 [34:52<18:15,  2.16s/it]"
     ]
    },
    {
     "name": "stdout",
     "output_type": "stream",
     "text": [
      "Query ejecutada correctamente.\n",
      "Query ejecutada correctamente.\n",
      "Query ejecutada correctamente.\n"
     ]
    },
    {
     "name": "stderr",
     "output_type": "stream",
     "text": [
      "Insertando registros:  68%|██████▊   | 1054/1560 [34:54<18:38,  2.21s/it]"
     ]
    },
    {
     "name": "stdout",
     "output_type": "stream",
     "text": [
      "Query ejecutada correctamente.\n"
     ]
    },
    {
     "name": "stderr",
     "output_type": "stream",
     "text": [
      "Insertando registros:  68%|██████▊   | 1055/1560 [34:55<14:59,  1.78s/it]"
     ]
    },
    {
     "name": "stdout",
     "output_type": "stream",
     "text": [
      "Query ejecutada correctamente.\n",
      "Query ejecutada correctamente.\n",
      "Query ejecutada correctamente.\n"
     ]
    },
    {
     "name": "stderr",
     "output_type": "stream",
     "text": [
      "Insertando registros:  68%|██████▊   | 1056/1560 [34:57<16:24,  1.95s/it]"
     ]
    },
    {
     "name": "stdout",
     "output_type": "stream",
     "text": [
      "Query ejecutada correctamente.\n",
      "Query ejecutada correctamente.\n",
      "Query ejecutada correctamente.\n"
     ]
    },
    {
     "name": "stderr",
     "output_type": "stream",
     "text": [
      "Insertando registros:  68%|██████▊   | 1057/1560 [34:59<17:17,  2.06s/it]"
     ]
    },
    {
     "name": "stdout",
     "output_type": "stream",
     "text": [
      "Query ejecutada correctamente.\n",
      "Query ejecutada correctamente.\n",
      "Query ejecutada correctamente.\n"
     ]
    },
    {
     "name": "stderr",
     "output_type": "stream",
     "text": [
      "Insertando registros:  68%|██████▊   | 1058/1560 [35:02<17:53,  2.14s/it]"
     ]
    },
    {
     "name": "stdout",
     "output_type": "stream",
     "text": [
      "Query ejecutada correctamente.\n",
      "Query ejecutada correctamente.\n",
      "Query ejecutada correctamente.\n"
     ]
    },
    {
     "name": "stderr",
     "output_type": "stream",
     "text": [
      "Insertando registros:  68%|██████▊   | 1059/1560 [35:04<18:19,  2.20s/it]"
     ]
    },
    {
     "name": "stdout",
     "output_type": "stream",
     "text": [
      "Query ejecutada correctamente.\n",
      "Query ejecutada correctamente.\n",
      "Query ejecutada correctamente.\n"
     ]
    },
    {
     "name": "stderr",
     "output_type": "stream",
     "text": [
      "Insertando registros:  68%|██████▊   | 1060/1560 [35:06<18:40,  2.24s/it]"
     ]
    },
    {
     "name": "stdout",
     "output_type": "stream",
     "text": [
      "Query ejecutada correctamente.\n",
      "Query ejecutada correctamente.\n",
      "Query ejecutada correctamente.\n"
     ]
    },
    {
     "name": "stderr",
     "output_type": "stream",
     "text": [
      "Insertando registros:  68%|██████▊   | 1061/1560 [35:09<18:51,  2.27s/it]"
     ]
    },
    {
     "name": "stdout",
     "output_type": "stream",
     "text": [
      "Query ejecutada correctamente.\n",
      "Query ejecutada correctamente.\n",
      "Query ejecutada correctamente.\n"
     ]
    },
    {
     "name": "stderr",
     "output_type": "stream",
     "text": [
      "Insertando registros:  68%|██████▊   | 1062/1560 [35:11<18:58,  2.29s/it]"
     ]
    },
    {
     "name": "stdout",
     "output_type": "stream",
     "text": [
      "Query ejecutada correctamente.\n"
     ]
    },
    {
     "name": "stderr",
     "output_type": "stream",
     "text": [
      "Insertando registros:  68%|██████▊   | 1063/1560 [35:12<15:10,  1.83s/it]"
     ]
    },
    {
     "name": "stdout",
     "output_type": "stream",
     "text": [
      "Query ejecutada correctamente.\n"
     ]
    },
    {
     "name": "stderr",
     "output_type": "stream",
     "text": [
      "Insertando registros:  68%|██████▊   | 1064/1560 [35:13<12:37,  1.53s/it]"
     ]
    },
    {
     "name": "stdout",
     "output_type": "stream",
     "text": [
      "Query ejecutada correctamente.\n",
      "Query ejecutada correctamente.\n",
      "Query ejecutada correctamente.\n"
     ]
    },
    {
     "name": "stderr",
     "output_type": "stream",
     "text": [
      "Insertando registros:  68%|██████▊   | 1065/1560 [35:15<14:32,  1.76s/it]"
     ]
    },
    {
     "name": "stdout",
     "output_type": "stream",
     "text": [
      "Query ejecutada correctamente.\n",
      "Query ejecutada correctamente.\n",
      "Query ejecutada correctamente.\n"
     ]
    },
    {
     "name": "stderr",
     "output_type": "stream",
     "text": [
      "Insertando registros:  68%|██████▊   | 1066/1560 [35:17<15:54,  1.93s/it]"
     ]
    },
    {
     "name": "stdout",
     "output_type": "stream",
     "text": [
      "Query ejecutada correctamente.\n",
      "Query ejecutada correctamente.\n",
      "Query ejecutada correctamente.\n"
     ]
    },
    {
     "name": "stderr",
     "output_type": "stream",
     "text": [
      "Insertando registros:  68%|██████▊   | 1067/1560 [35:20<16:50,  2.05s/it]"
     ]
    },
    {
     "name": "stdout",
     "output_type": "stream",
     "text": [
      "Query ejecutada correctamente.\n",
      "Query ejecutada correctamente.\n",
      "Query ejecutada correctamente.\n"
     ]
    },
    {
     "name": "stderr",
     "output_type": "stream",
     "text": [
      "Insertando registros:  68%|██████▊   | 1068/1560 [35:22<17:30,  2.14s/it]"
     ]
    },
    {
     "name": "stdout",
     "output_type": "stream",
     "text": [
      "Query ejecutada correctamente.\n",
      "Query ejecutada correctamente.\n",
      "Query ejecutada correctamente.\n"
     ]
    },
    {
     "name": "stderr",
     "output_type": "stream",
     "text": [
      "Insertando registros:  69%|██████▊   | 1069/1560 [35:24<17:56,  2.19s/it]"
     ]
    },
    {
     "name": "stdout",
     "output_type": "stream",
     "text": [
      "Query ejecutada correctamente.\n",
      "Query ejecutada correctamente.\n",
      "Query ejecutada correctamente.\n"
     ]
    },
    {
     "name": "stderr",
     "output_type": "stream",
     "text": [
      "Insertando registros:  69%|██████▊   | 1070/1560 [35:27<18:13,  2.23s/it]"
     ]
    },
    {
     "name": "stdout",
     "output_type": "stream",
     "text": [
      "Query ejecutada correctamente.\n"
     ]
    },
    {
     "name": "stderr",
     "output_type": "stream",
     "text": [
      "Insertando registros:  69%|██████▊   | 1071/1560 [35:27<14:38,  1.80s/it]"
     ]
    },
    {
     "name": "stdout",
     "output_type": "stream",
     "text": [
      "Query ejecutada correctamente.\n",
      "Query ejecutada correctamente.\n",
      "Query ejecutada correctamente.\n"
     ]
    },
    {
     "name": "stderr",
     "output_type": "stream",
     "text": [
      "Insertando registros:  69%|██████▊   | 1072/1560 [35:30<16:04,  1.98s/it]"
     ]
    },
    {
     "name": "stdout",
     "output_type": "stream",
     "text": [
      "Query ejecutada correctamente.\n",
      "Query ejecutada correctamente.\n",
      "Query ejecutada correctamente.\n"
     ]
    },
    {
     "name": "stderr",
     "output_type": "stream",
     "text": [
      "Insertando registros:  69%|██████▉   | 1073/1560 [35:32<16:56,  2.09s/it]"
     ]
    },
    {
     "name": "stdout",
     "output_type": "stream",
     "text": [
      "Query ejecutada correctamente.\n",
      "Query ejecutada correctamente.\n",
      "Query ejecutada correctamente.\n"
     ]
    },
    {
     "name": "stderr",
     "output_type": "stream",
     "text": [
      "Insertando registros:  69%|██████▉   | 1074/1560 [35:34<17:28,  2.16s/it]"
     ]
    },
    {
     "name": "stdout",
     "output_type": "stream",
     "text": [
      "Query ejecutada correctamente.\n",
      "Query ejecutada correctamente.\n",
      "Query ejecutada correctamente.\n"
     ]
    },
    {
     "name": "stderr",
     "output_type": "stream",
     "text": [
      "Insertando registros:  69%|██████▉   | 1075/1560 [35:37<17:52,  2.21s/it]"
     ]
    },
    {
     "name": "stdout",
     "output_type": "stream",
     "text": [
      "Query ejecutada correctamente.\n",
      "Query ejecutada correctamente.\n",
      "Query ejecutada correctamente.\n"
     ]
    },
    {
     "name": "stderr",
     "output_type": "stream",
     "text": [
      "Insertando registros:  69%|██████▉   | 1076/1560 [35:39<18:09,  2.25s/it]"
     ]
    },
    {
     "name": "stdout",
     "output_type": "stream",
     "text": [
      "Query ejecutada correctamente.\n",
      "Query ejecutada correctamente.\n",
      "Query ejecutada correctamente.\n"
     ]
    },
    {
     "name": "stderr",
     "output_type": "stream",
     "text": [
      "Insertando registros:  69%|██████▉   | 1077/1560 [35:41<18:17,  2.27s/it]"
     ]
    },
    {
     "name": "stdout",
     "output_type": "stream",
     "text": [
      "Query ejecutada correctamente.\n",
      "Query ejecutada correctamente.\n",
      "Query ejecutada correctamente.\n"
     ]
    },
    {
     "name": "stderr",
     "output_type": "stream",
     "text": [
      "Insertando registros:  69%|██████▉   | 1078/1560 [35:44<18:23,  2.29s/it]"
     ]
    },
    {
     "name": "stdout",
     "output_type": "stream",
     "text": [
      "Query ejecutada correctamente.\n",
      "Query ejecutada correctamente.\n",
      "Query ejecutada correctamente.\n"
     ]
    },
    {
     "name": "stderr",
     "output_type": "stream",
     "text": [
      "Insertando registros:  69%|██████▉   | 1079/1560 [35:46<18:26,  2.30s/it]"
     ]
    },
    {
     "name": "stdout",
     "output_type": "stream",
     "text": [
      "Query ejecutada correctamente.\n",
      "Query ejecutada correctamente.\n",
      "Query ejecutada correctamente.\n"
     ]
    },
    {
     "name": "stderr",
     "output_type": "stream",
     "text": [
      "Insertando registros:  69%|██████▉   | 1080/1560 [35:48<18:29,  2.31s/it]"
     ]
    },
    {
     "name": "stdout",
     "output_type": "stream",
     "text": [
      "Query ejecutada correctamente.\n",
      "Query ejecutada correctamente.\n",
      "Query ejecutada correctamente.\n"
     ]
    },
    {
     "name": "stderr",
     "output_type": "stream",
     "text": [
      "Insertando registros:  69%|██████▉   | 1081/1560 [35:51<18:27,  2.31s/it]"
     ]
    },
    {
     "name": "stdout",
     "output_type": "stream",
     "text": [
      "Query ejecutada correctamente.\n"
     ]
    },
    {
     "name": "stderr",
     "output_type": "stream",
     "text": [
      "Insertando registros:  69%|██████▉   | 1082/1560 [35:52<14:46,  1.85s/it]"
     ]
    },
    {
     "name": "stdout",
     "output_type": "stream",
     "text": [
      "Query ejecutada correctamente.\n",
      "Query ejecutada correctamente.\n",
      "Query ejecutada correctamente.\n"
     ]
    },
    {
     "name": "stderr",
     "output_type": "stream",
     "text": [
      "Insertando registros:  69%|██████▉   | 1083/1560 [35:54<15:57,  2.01s/it]"
     ]
    },
    {
     "name": "stdout",
     "output_type": "stream",
     "text": [
      "Query ejecutada correctamente.\n"
     ]
    },
    {
     "name": "stderr",
     "output_type": "stream",
     "text": [
      "Insertando registros:  69%|██████▉   | 1084/1560 [35:55<12:59,  1.64s/it]"
     ]
    },
    {
     "name": "stdout",
     "output_type": "stream",
     "text": [
      "Query ejecutada correctamente.\n"
     ]
    },
    {
     "name": "stderr",
     "output_type": "stream",
     "text": [
      "Insertando registros:  70%|██████▉   | 1085/1560 [35:55<10:55,  1.38s/it]"
     ]
    },
    {
     "name": "stdout",
     "output_type": "stream",
     "text": [
      "Query ejecutada correctamente.\n",
      "Query ejecutada correctamente.\n",
      "Query ejecutada correctamente.\n"
     ]
    },
    {
     "name": "stderr",
     "output_type": "stream",
     "text": [
      "Insertando registros:  70%|██████▉   | 1086/1560 [35:58<13:13,  1.67s/it]"
     ]
    },
    {
     "name": "stdout",
     "output_type": "stream",
     "text": [
      "Query ejecutada correctamente.\n"
     ]
    },
    {
     "name": "stderr",
     "output_type": "stream",
     "text": [
      "Insertando registros:  70%|██████▉   | 1087/1560 [35:59<11:10,  1.42s/it]"
     ]
    },
    {
     "name": "stdout",
     "output_type": "stream",
     "text": [
      "Query ejecutada correctamente.\n"
     ]
    },
    {
     "name": "stderr",
     "output_type": "stream",
     "text": [
      "Insertando registros:  70%|██████▉   | 1088/1560 [35:59<09:39,  1.23s/it]"
     ]
    },
    {
     "name": "stdout",
     "output_type": "stream",
     "text": [
      "Query ejecutada correctamente.\n",
      "Query ejecutada correctamente.\n",
      "Query ejecutada correctamente.\n"
     ]
    },
    {
     "name": "stderr",
     "output_type": "stream",
     "text": [
      "Insertando registros:  70%|██████▉   | 1089/1560 [36:02<12:20,  1.57s/it]"
     ]
    },
    {
     "name": "stdout",
     "output_type": "stream",
     "text": [
      "Query ejecutada correctamente.\n",
      "Query ejecutada correctamente.\n",
      "Query ejecutada correctamente.\n"
     ]
    },
    {
     "name": "stderr",
     "output_type": "stream",
     "text": [
      "Insertando registros:  70%|██████▉   | 1090/1560 [36:04<14:08,  1.80s/it]"
     ]
    },
    {
     "name": "stdout",
     "output_type": "stream",
     "text": [
      "Query ejecutada correctamente.\n",
      "Query ejecutada correctamente.\n",
      "Query ejecutada correctamente.\n"
     ]
    },
    {
     "name": "stderr",
     "output_type": "stream",
     "text": [
      "Insertando registros:  70%|██████▉   | 1091/1560 [36:06<15:18,  1.96s/it]"
     ]
    },
    {
     "name": "stdout",
     "output_type": "stream",
     "text": [
      "Query ejecutada correctamente.\n",
      "Query ejecutada correctamente.\n",
      "Query ejecutada correctamente.\n"
     ]
    },
    {
     "name": "stderr",
     "output_type": "stream",
     "text": [
      "Insertando registros:  70%|███████   | 1092/1560 [36:09<16:10,  2.07s/it]"
     ]
    },
    {
     "name": "stdout",
     "output_type": "stream",
     "text": [
      "Query ejecutada correctamente.\n",
      "Query ejecutada correctamente.\n",
      "Query ejecutada correctamente.\n"
     ]
    },
    {
     "name": "stderr",
     "output_type": "stream",
     "text": [
      "Insertando registros:  70%|███████   | 1093/1560 [36:11<16:49,  2.16s/it]"
     ]
    },
    {
     "name": "stdout",
     "output_type": "stream",
     "text": [
      "Query ejecutada correctamente.\n"
     ]
    },
    {
     "name": "stderr",
     "output_type": "stream",
     "text": [
      "Insertando registros:  70%|███████   | 1094/1560 [36:12<13:40,  1.76s/it]"
     ]
    },
    {
     "name": "stdout",
     "output_type": "stream",
     "text": [
      "Query ejecutada correctamente.\n"
     ]
    },
    {
     "name": "stderr",
     "output_type": "stream",
     "text": [
      "Insertando registros:  70%|███████   | 1095/1560 [36:13<11:35,  1.50s/it]"
     ]
    },
    {
     "name": "stdout",
     "output_type": "stream",
     "text": [
      "Query ejecutada correctamente.\n",
      "Query ejecutada correctamente.\n",
      "Query ejecutada correctamente.\n"
     ]
    },
    {
     "name": "stderr",
     "output_type": "stream",
     "text": [
      "Insertando registros:  70%|███████   | 1096/1560 [36:15<13:46,  1.78s/it]"
     ]
    },
    {
     "name": "stdout",
     "output_type": "stream",
     "text": [
      "Query ejecutada correctamente.\n",
      "Query ejecutada correctamente.\n",
      "Query ejecutada correctamente.\n"
     ]
    },
    {
     "name": "stderr",
     "output_type": "stream",
     "text": [
      "Insertando registros:  70%|███████   | 1097/1560 [36:18<15:04,  1.95s/it]"
     ]
    },
    {
     "name": "stdout",
     "output_type": "stream",
     "text": [
      "Query ejecutada correctamente.\n",
      "Query ejecutada correctamente.\n",
      "Query ejecutada correctamente.\n"
     ]
    },
    {
     "name": "stderr",
     "output_type": "stream",
     "text": [
      "Insertando registros:  70%|███████   | 1098/1560 [36:20<16:02,  2.08s/it]"
     ]
    },
    {
     "name": "stdout",
     "output_type": "stream",
     "text": [
      "Query ejecutada correctamente.\n",
      "Query ejecutada correctamente.\n",
      "Query ejecutada correctamente.\n"
     ]
    },
    {
     "name": "stderr",
     "output_type": "stream",
     "text": [
      "Insertando registros:  70%|███████   | 1099/1560 [36:23<17:01,  2.22s/it]"
     ]
    },
    {
     "name": "stdout",
     "output_type": "stream",
     "text": [
      "Query ejecutada correctamente.\n",
      "Query ejecutada correctamente.\n",
      "Query ejecutada correctamente.\n"
     ]
    },
    {
     "name": "stderr",
     "output_type": "stream",
     "text": [
      "Insertando registros:  71%|███████   | 1100/1560 [36:25<17:18,  2.26s/it]"
     ]
    },
    {
     "name": "stdout",
     "output_type": "stream",
     "text": [
      "Query ejecutada correctamente.\n",
      "Query ejecutada correctamente.\n",
      "Query ejecutada correctamente.\n"
     ]
    },
    {
     "name": "stderr",
     "output_type": "stream",
     "text": [
      "Insertando registros:  71%|███████   | 1101/1560 [36:27<17:28,  2.28s/it]"
     ]
    },
    {
     "name": "stdout",
     "output_type": "stream",
     "text": [
      "Query ejecutada correctamente.\n"
     ]
    },
    {
     "name": "stderr",
     "output_type": "stream",
     "text": [
      "Insertando registros:  71%|███████   | 1102/1560 [36:28<13:59,  1.83s/it]"
     ]
    },
    {
     "name": "stdout",
     "output_type": "stream",
     "text": [
      "Query ejecutada correctamente.\n"
     ]
    },
    {
     "name": "stderr",
     "output_type": "stream",
     "text": [
      "Insertando registros:  71%|███████   | 1103/1560 [36:29<11:37,  1.53s/it]"
     ]
    },
    {
     "name": "stdout",
     "output_type": "stream",
     "text": [
      "Query ejecutada correctamente.\n",
      "Query ejecutada correctamente.\n",
      "Query ejecutada correctamente.\n"
     ]
    },
    {
     "name": "stderr",
     "output_type": "stream",
     "text": [
      "Insertando registros:  71%|███████   | 1104/1560 [36:31<13:26,  1.77s/it]"
     ]
    },
    {
     "name": "stdout",
     "output_type": "stream",
     "text": [
      "Query ejecutada correctamente.\n",
      "Query ejecutada correctamente.\n",
      "Query ejecutada correctamente.\n"
     ]
    },
    {
     "name": "stderr",
     "output_type": "stream",
     "text": [
      "Insertando registros:  71%|███████   | 1105/1560 [36:34<14:43,  1.94s/it]"
     ]
    },
    {
     "name": "stdout",
     "output_type": "stream",
     "text": [
      "Query ejecutada correctamente.\n",
      "Query ejecutada correctamente.\n",
      "Query ejecutada correctamente.\n"
     ]
    },
    {
     "name": "stderr",
     "output_type": "stream",
     "text": [
      "Insertando registros:  71%|███████   | 1106/1560 [36:36<15:30,  2.05s/it]"
     ]
    },
    {
     "name": "stdout",
     "output_type": "stream",
     "text": [
      "Query ejecutada correctamente.\n",
      "Query ejecutada correctamente.\n",
      "Query ejecutada correctamente.\n"
     ]
    },
    {
     "name": "stderr",
     "output_type": "stream",
     "text": [
      "Insertando registros:  71%|███████   | 1107/1560 [36:38<16:06,  2.13s/it]"
     ]
    },
    {
     "name": "stdout",
     "output_type": "stream",
     "text": [
      "Query ejecutada correctamente.\n"
     ]
    },
    {
     "name": "stderr",
     "output_type": "stream",
     "text": [
      "Insertando registros:  71%|███████   | 1108/1560 [36:39<12:59,  1.73s/it]"
     ]
    },
    {
     "name": "stdout",
     "output_type": "stream",
     "text": [
      "Query ejecutada correctamente.\n"
     ]
    },
    {
     "name": "stderr",
     "output_type": "stream",
     "text": [
      "Insertando registros:  71%|███████   | 1109/1560 [36:40<10:50,  1.44s/it]"
     ]
    },
    {
     "name": "stdout",
     "output_type": "stream",
     "text": [
      "Query ejecutada correctamente.\n",
      "Query ejecutada correctamente.\n",
      "Query ejecutada correctamente.\n"
     ]
    },
    {
     "name": "stderr",
     "output_type": "stream",
     "text": [
      "Insertando registros:  71%|███████   | 1110/1560 [36:42<12:47,  1.70s/it]"
     ]
    },
    {
     "name": "stdout",
     "output_type": "stream",
     "text": [
      "Query ejecutada correctamente.\n",
      "Query ejecutada correctamente.\n",
      "Query ejecutada correctamente.\n"
     ]
    },
    {
     "name": "stderr",
     "output_type": "stream",
     "text": [
      "Insertando registros:  71%|███████   | 1111/1560 [36:44<14:14,  1.90s/it]"
     ]
    },
    {
     "name": "stdout",
     "output_type": "stream",
     "text": [
      "Query ejecutada correctamente.\n"
     ]
    },
    {
     "name": "stderr",
     "output_type": "stream",
     "text": [
      "Insertando registros:  71%|███████▏  | 1112/1560 [36:45<11:42,  1.57s/it]"
     ]
    },
    {
     "name": "stdout",
     "output_type": "stream",
     "text": [
      "Query ejecutada correctamente.\n",
      "Query ejecutada correctamente.\n",
      "Query ejecutada correctamente.\n"
     ]
    },
    {
     "name": "stderr",
     "output_type": "stream",
     "text": [
      "Insertando registros:  71%|███████▏  | 1113/1560 [36:48<13:23,  1.80s/it]"
     ]
    },
    {
     "name": "stdout",
     "output_type": "stream",
     "text": [
      "Query ejecutada correctamente.\n",
      "Query ejecutada correctamente.\n",
      "Query ejecutada correctamente.\n"
     ]
    },
    {
     "name": "stderr",
     "output_type": "stream",
     "text": [
      "Insertando registros:  71%|███████▏  | 1114/1560 [36:50<14:32,  1.96s/it]"
     ]
    },
    {
     "name": "stdout",
     "output_type": "stream",
     "text": [
      "Query ejecutada correctamente.\n",
      "Query ejecutada correctamente.\n",
      "Query ejecutada correctamente.\n"
     ]
    },
    {
     "name": "stderr",
     "output_type": "stream",
     "text": [
      "Insertando registros:  71%|███████▏  | 1115/1560 [36:52<15:20,  2.07s/it]"
     ]
    },
    {
     "name": "stdout",
     "output_type": "stream",
     "text": [
      "Query ejecutada correctamente.\n"
     ]
    },
    {
     "name": "stderr",
     "output_type": "stream",
     "text": [
      "Insertando registros:  72%|███████▏  | 1116/1560 [36:53<12:27,  1.68s/it]"
     ]
    },
    {
     "name": "stdout",
     "output_type": "stream",
     "text": [
      "Query ejecutada correctamente.\n"
     ]
    },
    {
     "name": "stderr",
     "output_type": "stream",
     "text": [
      "Insertando registros:  72%|███████▏  | 1117/1560 [36:54<10:27,  1.42s/it]"
     ]
    },
    {
     "name": "stdout",
     "output_type": "stream",
     "text": [
      "Query ejecutada correctamente.\n",
      "Query ejecutada correctamente.\n",
      "Query ejecutada correctamente.\n"
     ]
    },
    {
     "name": "stderr",
     "output_type": "stream",
     "text": [
      "Insertando registros:  72%|███████▏  | 1118/1560 [36:56<12:28,  1.69s/it]"
     ]
    },
    {
     "name": "stdout",
     "output_type": "stream",
     "text": [
      "Query ejecutada correctamente.\n"
     ]
    },
    {
     "name": "stderr",
     "output_type": "stream",
     "text": [
      "Insertando registros:  72%|███████▏  | 1119/1560 [36:57<10:25,  1.42s/it]"
     ]
    },
    {
     "name": "stdout",
     "output_type": "stream",
     "text": [
      "Query ejecutada correctamente.\n",
      "Query ejecutada correctamente.\n",
      "Query ejecutada correctamente.\n"
     ]
    },
    {
     "name": "stderr",
     "output_type": "stream",
     "text": [
      "Insertando registros:  72%|███████▏  | 1120/1560 [36:59<12:20,  1.68s/it]"
     ]
    },
    {
     "name": "stdout",
     "output_type": "stream",
     "text": [
      "Query ejecutada correctamente.\n"
     ]
    },
    {
     "name": "stderr",
     "output_type": "stream",
     "text": [
      "Insertando registros:  72%|███████▏  | 1121/1560 [37:00<10:19,  1.41s/it]"
     ]
    },
    {
     "name": "stdout",
     "output_type": "stream",
     "text": [
      "Query ejecutada correctamente.\n"
     ]
    },
    {
     "name": "stderr",
     "output_type": "stream",
     "text": [
      "Insertando registros:  72%|███████▏  | 1122/1560 [37:01<08:55,  1.22s/it]"
     ]
    },
    {
     "name": "stdout",
     "output_type": "stream",
     "text": [
      "Query ejecutada correctamente.\n"
     ]
    },
    {
     "name": "stderr",
     "output_type": "stream",
     "text": [
      "Insertando registros:  72%|███████▏  | 1123/1560 [37:02<07:57,  1.09s/it]"
     ]
    },
    {
     "name": "stdout",
     "output_type": "stream",
     "text": [
      "Query ejecutada correctamente.\n",
      "Query ejecutada correctamente.\n",
      "Query ejecutada correctamente.\n"
     ]
    },
    {
     "name": "stderr",
     "output_type": "stream",
     "text": [
      "Insertando registros:  72%|███████▏  | 1124/1560 [37:04<10:41,  1.47s/it]"
     ]
    },
    {
     "name": "stdout",
     "output_type": "stream",
     "text": [
      "Query ejecutada correctamente.\n",
      "Query ejecutada correctamente.\n",
      "Query ejecutada correctamente.\n"
     ]
    },
    {
     "name": "stderr",
     "output_type": "stream",
     "text": [
      "Insertando registros:  72%|███████▏  | 1125/1560 [37:06<12:32,  1.73s/it]"
     ]
    },
    {
     "name": "stdout",
     "output_type": "stream",
     "text": [
      "Query ejecutada correctamente.\n",
      "Query ejecutada correctamente.\n",
      "Query ejecutada correctamente.\n"
     ]
    },
    {
     "name": "stderr",
     "output_type": "stream",
     "text": [
      "Insertando registros:  72%|███████▏  | 1126/1560 [37:09<13:49,  1.91s/it]"
     ]
    },
    {
     "name": "stdout",
     "output_type": "stream",
     "text": [
      "Query ejecutada correctamente.\n",
      "Query ejecutada correctamente.\n",
      "Query ejecutada correctamente.\n"
     ]
    },
    {
     "name": "stderr",
     "output_type": "stream",
     "text": [
      "Insertando registros:  72%|███████▏  | 1127/1560 [37:11<14:42,  2.04s/it]"
     ]
    },
    {
     "name": "stdout",
     "output_type": "stream",
     "text": [
      "Query ejecutada correctamente.\n",
      "Query ejecutada correctamente.\n",
      "Query ejecutada correctamente.\n"
     ]
    },
    {
     "name": "stderr",
     "output_type": "stream",
     "text": [
      "Insertando registros:  72%|███████▏  | 1128/1560 [37:13<15:19,  2.13s/it]"
     ]
    },
    {
     "name": "stdout",
     "output_type": "stream",
     "text": [
      "Query ejecutada correctamente.\n",
      "Query ejecutada correctamente.\n",
      "Query ejecutada correctamente.\n"
     ]
    },
    {
     "name": "stderr",
     "output_type": "stream",
     "text": [
      "Insertando registros:  72%|███████▏  | 1129/1560 [37:16<15:43,  2.19s/it]"
     ]
    },
    {
     "name": "stdout",
     "output_type": "stream",
     "text": [
      "Query ejecutada correctamente.\n",
      "Query ejecutada correctamente.\n",
      "Query ejecutada correctamente.\n"
     ]
    },
    {
     "name": "stderr",
     "output_type": "stream",
     "text": [
      "Insertando registros:  72%|███████▏  | 1130/1560 [37:18<16:01,  2.24s/it]"
     ]
    },
    {
     "name": "stdout",
     "output_type": "stream",
     "text": [
      "Query ejecutada correctamente.\n",
      "Query ejecutada correctamente.\n",
      "Query ejecutada correctamente.\n"
     ]
    },
    {
     "name": "stderr",
     "output_type": "stream",
     "text": [
      "Insertando registros:  72%|███████▎  | 1131/1560 [37:20<16:07,  2.26s/it]"
     ]
    },
    {
     "name": "stdout",
     "output_type": "stream",
     "text": [
      "Query ejecutada correctamente.\n",
      "Query ejecutada correctamente.\n",
      "Query ejecutada correctamente.\n"
     ]
    },
    {
     "name": "stderr",
     "output_type": "stream",
     "text": [
      "Insertando registros:  73%|███████▎  | 1132/1560 [37:23<16:19,  2.29s/it]"
     ]
    },
    {
     "name": "stdout",
     "output_type": "stream",
     "text": [
      "Query ejecutada correctamente.\n",
      "Query ejecutada correctamente.\n",
      "Query ejecutada correctamente.\n"
     ]
    },
    {
     "name": "stderr",
     "output_type": "stream",
     "text": [
      "Insertando registros:  73%|███████▎  | 1133/1560 [37:25<16:21,  2.30s/it]"
     ]
    },
    {
     "name": "stdout",
     "output_type": "stream",
     "text": [
      "Query ejecutada correctamente.\n",
      "Query ejecutada correctamente.\n",
      "Query ejecutada correctamente.\n"
     ]
    },
    {
     "name": "stderr",
     "output_type": "stream",
     "text": [
      "Insertando registros:  73%|███████▎  | 1134/1560 [37:27<16:23,  2.31s/it]"
     ]
    },
    {
     "name": "stdout",
     "output_type": "stream",
     "text": [
      "Query ejecutada correctamente.\n"
     ]
    },
    {
     "name": "stderr",
     "output_type": "stream",
     "text": [
      "Insertando registros:  73%|███████▎  | 1135/1560 [37:28<13:06,  1.85s/it]"
     ]
    },
    {
     "name": "stdout",
     "output_type": "stream",
     "text": [
      "Query ejecutada correctamente.\n"
     ]
    },
    {
     "name": "stderr",
     "output_type": "stream",
     "text": [
      "Insertando registros:  73%|███████▎  | 1136/1560 [37:29<10:49,  1.53s/it]"
     ]
    },
    {
     "name": "stdout",
     "output_type": "stream",
     "text": [
      "Query ejecutada correctamente.\n",
      "Query ejecutada correctamente.\n",
      "Query ejecutada correctamente.\n"
     ]
    },
    {
     "name": "stderr",
     "output_type": "stream",
     "text": [
      "Insertando registros:  73%|███████▎  | 1137/1560 [37:31<12:31,  1.78s/it]"
     ]
    },
    {
     "name": "stdout",
     "output_type": "stream",
     "text": [
      "Query ejecutada correctamente.\n",
      "Query ejecutada correctamente.\n",
      "Query ejecutada correctamente.\n"
     ]
    },
    {
     "name": "stderr",
     "output_type": "stream",
     "text": [
      "Insertando registros:  73%|███████▎  | 1138/1560 [37:34<13:41,  1.95s/it]"
     ]
    },
    {
     "name": "stdout",
     "output_type": "stream",
     "text": [
      "Query ejecutada correctamente.\n",
      "Query ejecutada correctamente.\n",
      "Query ejecutada correctamente.\n"
     ]
    },
    {
     "name": "stderr",
     "output_type": "stream",
     "text": [
      "Insertando registros:  73%|███████▎  | 1139/1560 [37:36<14:29,  2.07s/it]"
     ]
    },
    {
     "name": "stdout",
     "output_type": "stream",
     "text": [
      "Query ejecutada correctamente.\n",
      "Query ejecutada correctamente.\n",
      "Query ejecutada correctamente.\n"
     ]
    },
    {
     "name": "stderr",
     "output_type": "stream",
     "text": [
      "Insertando registros:  73%|███████▎  | 1140/1560 [37:38<15:03,  2.15s/it]"
     ]
    },
    {
     "name": "stdout",
     "output_type": "stream",
     "text": [
      "Query ejecutada correctamente.\n",
      "Query ejecutada correctamente.\n",
      "Query ejecutada correctamente.\n"
     ]
    },
    {
     "name": "stderr",
     "output_type": "stream",
     "text": [
      "Insertando registros:  73%|███████▎  | 1141/1560 [37:41<15:24,  2.21s/it]"
     ]
    },
    {
     "name": "stdout",
     "output_type": "stream",
     "text": [
      "Query ejecutada correctamente.\n",
      "Query ejecutada correctamente.\n",
      "Query ejecutada correctamente.\n"
     ]
    },
    {
     "name": "stderr",
     "output_type": "stream",
     "text": [
      "Insertando registros:  73%|███████▎  | 1142/1560 [37:43<15:40,  2.25s/it]"
     ]
    },
    {
     "name": "stdout",
     "output_type": "stream",
     "text": [
      "Query ejecutada correctamente.\n"
     ]
    },
    {
     "name": "stderr",
     "output_type": "stream",
     "text": [
      "Insertando registros:  73%|███████▎  | 1143/1560 [37:44<12:34,  1.81s/it]"
     ]
    },
    {
     "name": "stdout",
     "output_type": "stream",
     "text": [
      "Query ejecutada correctamente.\n"
     ]
    },
    {
     "name": "stderr",
     "output_type": "stream",
     "text": [
      "Insertando registros:  73%|███████▎  | 1144/1560 [37:44<10:24,  1.50s/it]"
     ]
    },
    {
     "name": "stdout",
     "output_type": "stream",
     "text": [
      "Query ejecutada correctamente.\n"
     ]
    },
    {
     "name": "stderr",
     "output_type": "stream",
     "text": [
      "Insertando registros:  73%|███████▎  | 1145/1560 [37:45<08:55,  1.29s/it]"
     ]
    },
    {
     "name": "stdout",
     "output_type": "stream",
     "text": [
      "Query ejecutada correctamente.\n",
      "Query ejecutada correctamente.\n",
      "Query ejecutada correctamente.\n"
     ]
    },
    {
     "name": "stderr",
     "output_type": "stream",
     "text": [
      "Insertando registros:  73%|███████▎  | 1146/1560 [37:48<11:03,  1.60s/it]"
     ]
    },
    {
     "name": "stdout",
     "output_type": "stream",
     "text": [
      "Query ejecutada correctamente.\n",
      "Query ejecutada correctamente.\n",
      "Query ejecutada correctamente.\n"
     ]
    },
    {
     "name": "stderr",
     "output_type": "stream",
     "text": [
      "Insertando registros:  74%|███████▎  | 1147/1560 [37:50<12:33,  1.82s/it]"
     ]
    },
    {
     "name": "stdout",
     "output_type": "stream",
     "text": [
      "Query ejecutada correctamente.\n"
     ]
    },
    {
     "name": "stderr",
     "output_type": "stream",
     "text": [
      "Insertando registros:  74%|███████▎  | 1148/1560 [37:51<10:22,  1.51s/it]"
     ]
    },
    {
     "name": "stdout",
     "output_type": "stream",
     "text": [
      "Query ejecutada correctamente.\n",
      "Query ejecutada correctamente.\n",
      "Query ejecutada correctamente.\n"
     ]
    },
    {
     "name": "stderr",
     "output_type": "stream",
     "text": [
      "Insertando registros:  74%|███████▎  | 1149/1560 [37:53<12:03,  1.76s/it]"
     ]
    },
    {
     "name": "stdout",
     "output_type": "stream",
     "text": [
      "Query ejecutada correctamente.\n"
     ]
    },
    {
     "name": "stderr",
     "output_type": "stream",
     "text": [
      "Insertando registros:  74%|███████▎  | 1150/1560 [37:54<10:01,  1.47s/it]"
     ]
    },
    {
     "name": "stdout",
     "output_type": "stream",
     "text": [
      "Query ejecutada correctamente.\n",
      "Query ejecutada correctamente.\n",
      "Query ejecutada correctamente.\n"
     ]
    },
    {
     "name": "stderr",
     "output_type": "stream",
     "text": [
      "Insertando registros:  74%|███████▍  | 1151/1560 [37:56<11:45,  1.73s/it]"
     ]
    },
    {
     "name": "stdout",
     "output_type": "stream",
     "text": [
      "Query ejecutada correctamente.\n",
      "Query ejecutada correctamente.\n",
      "Query ejecutada correctamente.\n"
     ]
    },
    {
     "name": "stderr",
     "output_type": "stream",
     "text": [
      "Insertando registros:  74%|███████▍  | 1152/1560 [37:59<12:59,  1.91s/it]"
     ]
    },
    {
     "name": "stdout",
     "output_type": "stream",
     "text": [
      "Query ejecutada correctamente.\n",
      "Query ejecutada correctamente.\n",
      "Query ejecutada correctamente.\n"
     ]
    },
    {
     "name": "stderr",
     "output_type": "stream",
     "text": [
      "Insertando registros:  74%|███████▍  | 1153/1560 [38:01<13:49,  2.04s/it]"
     ]
    },
    {
     "name": "stdout",
     "output_type": "stream",
     "text": [
      "Query ejecutada correctamente.\n",
      "Query ejecutada correctamente.\n",
      "Query ejecutada correctamente.\n"
     ]
    },
    {
     "name": "stderr",
     "output_type": "stream",
     "text": [
      "Insertando registros:  74%|███████▍  | 1154/1560 [38:03<14:24,  2.13s/it]"
     ]
    },
    {
     "name": "stdout",
     "output_type": "stream",
     "text": [
      "Query ejecutada correctamente.\n",
      "Query ejecutada correctamente.\n",
      "Query ejecutada correctamente.\n"
     ]
    },
    {
     "name": "stderr",
     "output_type": "stream",
     "text": [
      "Insertando registros:  74%|███████▍  | 1155/1560 [38:06<14:47,  2.19s/it]"
     ]
    },
    {
     "name": "stdout",
     "output_type": "stream",
     "text": [
      "Query ejecutada correctamente.\n",
      "Query ejecutada correctamente.\n",
      "Query ejecutada correctamente.\n"
     ]
    },
    {
     "name": "stderr",
     "output_type": "stream",
     "text": [
      "Insertando registros:  74%|███████▍  | 1156/1560 [38:08<15:02,  2.23s/it]"
     ]
    },
    {
     "name": "stdout",
     "output_type": "stream",
     "text": [
      "Query ejecutada correctamente.\n",
      "Query ejecutada correctamente.\n",
      "Query ejecutada correctamente.\n"
     ]
    },
    {
     "name": "stderr",
     "output_type": "stream",
     "text": [
      "Insertando registros:  74%|███████▍  | 1157/1560 [38:10<15:11,  2.26s/it]"
     ]
    },
    {
     "name": "stdout",
     "output_type": "stream",
     "text": [
      "Query ejecutada correctamente.\n",
      "Query ejecutada correctamente.\n",
      "Query ejecutada correctamente.\n"
     ]
    },
    {
     "name": "stderr",
     "output_type": "stream",
     "text": [
      "Insertando registros:  74%|███████▍  | 1158/1560 [38:13<15:17,  2.28s/it]"
     ]
    },
    {
     "name": "stdout",
     "output_type": "stream",
     "text": [
      "Query ejecutada correctamente.\n"
     ]
    },
    {
     "name": "stderr",
     "output_type": "stream",
     "text": [
      "Insertando registros:  74%|███████▍  | 1159/1560 [38:13<12:11,  1.82s/it]"
     ]
    },
    {
     "name": "stdout",
     "output_type": "stream",
     "text": [
      "Query ejecutada correctamente.\n"
     ]
    },
    {
     "name": "stderr",
     "output_type": "stream",
     "text": [
      "Insertando registros:  74%|███████▍  | 1160/1560 [38:14<10:06,  1.52s/it]"
     ]
    },
    {
     "name": "stdout",
     "output_type": "stream",
     "text": [
      "Query ejecutada correctamente.\n"
     ]
    },
    {
     "name": "stderr",
     "output_type": "stream",
     "text": [
      "Insertando registros:  74%|███████▍  | 1161/1560 [38:15<08:40,  1.30s/it]"
     ]
    },
    {
     "name": "stdout",
     "output_type": "stream",
     "text": [
      "Query ejecutada correctamente.\n",
      "Query ejecutada correctamente.\n",
      "Query ejecutada correctamente.\n"
     ]
    },
    {
     "name": "stderr",
     "output_type": "stream",
     "text": [
      "Insertando registros:  74%|███████▍  | 1162/1560 [38:17<10:43,  1.62s/it]"
     ]
    },
    {
     "name": "stdout",
     "output_type": "stream",
     "text": [
      "Query ejecutada correctamente.\n",
      "Query ejecutada correctamente.\n",
      "Query ejecutada correctamente.\n"
     ]
    },
    {
     "name": "stderr",
     "output_type": "stream",
     "text": [
      "Insertando registros:  75%|███████▍  | 1163/1560 [38:20<12:06,  1.83s/it]"
     ]
    },
    {
     "name": "stdout",
     "output_type": "stream",
     "text": [
      "Query ejecutada correctamente.\n",
      "Query ejecutada correctamente.\n",
      "Query ejecutada correctamente.\n"
     ]
    },
    {
     "name": "stderr",
     "output_type": "stream",
     "text": [
      "Insertando registros:  75%|███████▍  | 1164/1560 [38:22<13:04,  1.98s/it]"
     ]
    },
    {
     "name": "stdout",
     "output_type": "stream",
     "text": [
      "Query ejecutada correctamente.\n"
     ]
    },
    {
     "name": "stderr",
     "output_type": "stream",
     "text": [
      "Insertando registros:  75%|███████▍  | 1165/1560 [38:23<10:40,  1.62s/it]"
     ]
    },
    {
     "name": "stdout",
     "output_type": "stream",
     "text": [
      "Query ejecutada correctamente.\n",
      "Query ejecutada correctamente.\n",
      "Query ejecutada correctamente.\n"
     ]
    },
    {
     "name": "stderr",
     "output_type": "stream",
     "text": [
      "Insertando registros:  75%|███████▍  | 1166/1560 [38:25<12:03,  1.84s/it]"
     ]
    },
    {
     "name": "stdout",
     "output_type": "stream",
     "text": [
      "Query ejecutada correctamente.\n",
      "Query ejecutada correctamente.\n",
      "Query ejecutada correctamente.\n"
     ]
    },
    {
     "name": "stderr",
     "output_type": "stream",
     "text": [
      "Insertando registros:  75%|███████▍  | 1167/1560 [38:27<13:00,  1.99s/it]"
     ]
    },
    {
     "name": "stdout",
     "output_type": "stream",
     "text": [
      "Query ejecutada correctamente.\n",
      "Query ejecutada correctamente.\n",
      "Query ejecutada correctamente.\n"
     ]
    },
    {
     "name": "stderr",
     "output_type": "stream",
     "text": [
      "Insertando registros:  75%|███████▍  | 1168/1560 [38:30<13:42,  2.10s/it]"
     ]
    },
    {
     "name": "stdout",
     "output_type": "stream",
     "text": [
      "Query ejecutada correctamente.\n",
      "Query ejecutada correctamente.\n",
      "Query ejecutada correctamente.\n"
     ]
    },
    {
     "name": "stderr",
     "output_type": "stream",
     "text": [
      "Insertando registros:  75%|███████▍  | 1169/1560 [38:32<14:10,  2.17s/it]"
     ]
    },
    {
     "name": "stdout",
     "output_type": "stream",
     "text": [
      "Query ejecutada correctamente.\n",
      "Query ejecutada correctamente.\n",
      "Query ejecutada correctamente.\n"
     ]
    },
    {
     "name": "stderr",
     "output_type": "stream",
     "text": [
      "Insertando registros:  75%|███████▌  | 1170/1560 [38:34<14:28,  2.23s/it]"
     ]
    },
    {
     "name": "stdout",
     "output_type": "stream",
     "text": [
      "Query ejecutada correctamente.\n",
      "Query ejecutada correctamente.\n",
      "Query ejecutada correctamente.\n"
     ]
    },
    {
     "name": "stderr",
     "output_type": "stream",
     "text": [
      "Insertando registros:  75%|███████▌  | 1171/1560 [38:37<14:40,  2.26s/it]"
     ]
    },
    {
     "name": "stdout",
     "output_type": "stream",
     "text": [
      "Query ejecutada correctamente.\n",
      "Query ejecutada correctamente.\n",
      "Query ejecutada correctamente.\n"
     ]
    },
    {
     "name": "stderr",
     "output_type": "stream",
     "text": [
      "Insertando registros:  75%|███████▌  | 1172/1560 [38:39<14:46,  2.29s/it]"
     ]
    },
    {
     "name": "stdout",
     "output_type": "stream",
     "text": [
      "Query ejecutada correctamente.\n",
      "Query ejecutada correctamente.\n",
      "Query ejecutada correctamente.\n"
     ]
    },
    {
     "name": "stderr",
     "output_type": "stream",
     "text": [
      "Insertando registros:  75%|███████▌  | 1173/1560 [38:41<14:53,  2.31s/it]"
     ]
    },
    {
     "name": "stdout",
     "output_type": "stream",
     "text": [
      "Query ejecutada correctamente.\n",
      "Query ejecutada correctamente.\n",
      "Query ejecutada correctamente.\n"
     ]
    },
    {
     "name": "stderr",
     "output_type": "stream",
     "text": [
      "Insertando registros:  75%|███████▌  | 1174/1560 [38:44<14:53,  2.32s/it]"
     ]
    },
    {
     "name": "stdout",
     "output_type": "stream",
     "text": [
      "Query ejecutada correctamente.\n",
      "Query ejecutada correctamente.\n",
      "Query ejecutada correctamente.\n"
     ]
    },
    {
     "name": "stderr",
     "output_type": "stream",
     "text": [
      "Insertando registros:  75%|███████▌  | 1175/1560 [38:46<14:59,  2.34s/it]"
     ]
    },
    {
     "name": "stdout",
     "output_type": "stream",
     "text": [
      "Query ejecutada correctamente.\n",
      "Query ejecutada correctamente.\n",
      "Query ejecutada correctamente.\n"
     ]
    },
    {
     "name": "stderr",
     "output_type": "stream",
     "text": [
      "Insertando registros:  75%|███████▌  | 1176/1560 [38:49<14:59,  2.34s/it]"
     ]
    },
    {
     "name": "stdout",
     "output_type": "stream",
     "text": [
      "Query ejecutada correctamente.\n",
      "Query ejecutada correctamente.\n",
      "Query ejecutada correctamente.\n"
     ]
    },
    {
     "name": "stderr",
     "output_type": "stream",
     "text": [
      "Insertando registros:  75%|███████▌  | 1177/1560 [38:51<15:00,  2.35s/it]"
     ]
    },
    {
     "name": "stdout",
     "output_type": "stream",
     "text": [
      "Query ejecutada correctamente.\n"
     ]
    },
    {
     "name": "stderr",
     "output_type": "stream",
     "text": [
      "Insertando registros:  76%|███████▌  | 1178/1560 [38:52<12:02,  1.89s/it]"
     ]
    },
    {
     "name": "stdout",
     "output_type": "stream",
     "text": [
      "Query ejecutada correctamente.\n"
     ]
    },
    {
     "name": "stderr",
     "output_type": "stream",
     "text": [
      "Insertando registros:  76%|███████▌  | 1179/1560 [38:53<09:55,  1.56s/it]"
     ]
    },
    {
     "name": "stdout",
     "output_type": "stream",
     "text": [
      "Query ejecutada correctamente.\n",
      "Query ejecutada correctamente.\n",
      "Query ejecutada correctamente.\n"
     ]
    },
    {
     "name": "stderr",
     "output_type": "stream",
     "text": [
      "Insertando registros:  76%|███████▌  | 1180/1560 [38:55<11:22,  1.80s/it]"
     ]
    },
    {
     "name": "stdout",
     "output_type": "stream",
     "text": [
      "Query ejecutada correctamente.\n",
      "Query ejecutada correctamente.\n",
      "Query ejecutada correctamente.\n"
     ]
    },
    {
     "name": "stderr",
     "output_type": "stream",
     "text": [
      "Insertando registros:  76%|███████▌  | 1181/1560 [38:57<12:24,  1.96s/it]"
     ]
    },
    {
     "name": "stdout",
     "output_type": "stream",
     "text": [
      "Query ejecutada correctamente.\n",
      "Query ejecutada correctamente.\n",
      "Query ejecutada correctamente.\n"
     ]
    },
    {
     "name": "stderr",
     "output_type": "stream",
     "text": [
      "Insertando registros:  76%|███████▌  | 1182/1560 [39:00<13:06,  2.08s/it]"
     ]
    },
    {
     "name": "stdout",
     "output_type": "stream",
     "text": [
      "Query ejecutada correctamente.\n",
      "Query ejecutada correctamente.\n",
      "Query ejecutada correctamente.\n"
     ]
    },
    {
     "name": "stderr",
     "output_type": "stream",
     "text": [
      "Insertando registros:  76%|███████▌  | 1183/1560 [39:02<13:37,  2.17s/it]"
     ]
    },
    {
     "name": "stdout",
     "output_type": "stream",
     "text": [
      "Query ejecutada correctamente.\n",
      "Query ejecutada correctamente.\n",
      "Query ejecutada correctamente.\n"
     ]
    },
    {
     "name": "stderr",
     "output_type": "stream",
     "text": [
      "Insertando registros:  76%|███████▌  | 1184/1560 [39:04<13:52,  2.21s/it]"
     ]
    },
    {
     "name": "stdout",
     "output_type": "stream",
     "text": [
      "Query ejecutada correctamente.\n",
      "Query ejecutada correctamente.\n",
      "Query ejecutada correctamente.\n"
     ]
    },
    {
     "name": "stderr",
     "output_type": "stream",
     "text": [
      "Insertando registros:  76%|███████▌  | 1185/1560 [39:07<14:04,  2.25s/it]"
     ]
    },
    {
     "name": "stdout",
     "output_type": "stream",
     "text": [
      "Query ejecutada correctamente.\n",
      "Query ejecutada correctamente.\n",
      "Query ejecutada correctamente.\n"
     ]
    },
    {
     "name": "stderr",
     "output_type": "stream",
     "text": [
      "Insertando registros:  76%|███████▌  | 1186/1560 [39:09<14:14,  2.28s/it]"
     ]
    },
    {
     "name": "stdout",
     "output_type": "stream",
     "text": [
      "Query ejecutada correctamente.\n",
      "Query ejecutada correctamente.\n",
      "Query ejecutada correctamente.\n"
     ]
    },
    {
     "name": "stderr",
     "output_type": "stream",
     "text": [
      "Insertando registros:  76%|███████▌  | 1187/1560 [39:11<14:18,  2.30s/it]"
     ]
    },
    {
     "name": "stdout",
     "output_type": "stream",
     "text": [
      "Query ejecutada correctamente.\n"
     ]
    },
    {
     "name": "stderr",
     "output_type": "stream",
     "text": [
      "Insertando registros:  76%|███████▌  | 1188/1560 [39:12<11:26,  1.85s/it]"
     ]
    },
    {
     "name": "stdout",
     "output_type": "stream",
     "text": [
      "Query ejecutada correctamente.\n",
      "Query ejecutada correctamente.\n",
      "Query ejecutada correctamente.\n"
     ]
    },
    {
     "name": "stderr",
     "output_type": "stream",
     "text": [
      "Insertando registros:  76%|███████▌  | 1189/1560 [39:14<12:18,  1.99s/it]"
     ]
    },
    {
     "name": "stdout",
     "output_type": "stream",
     "text": [
      "Query ejecutada correctamente.\n",
      "Query ejecutada correctamente.\n",
      "Query ejecutada correctamente.\n"
     ]
    },
    {
     "name": "stderr",
     "output_type": "stream",
     "text": [
      "Insertando registros:  76%|███████▋  | 1190/1560 [39:17<12:54,  2.09s/it]"
     ]
    },
    {
     "name": "stdout",
     "output_type": "stream",
     "text": [
      "Query ejecutada correctamente.\n"
     ]
    },
    {
     "name": "stderr",
     "output_type": "stream",
     "text": [
      "Insertando registros:  76%|███████▋  | 1191/1560 [39:18<10:27,  1.70s/it]"
     ]
    },
    {
     "name": "stdout",
     "output_type": "stream",
     "text": [
      "Query ejecutada correctamente.\n",
      "Query ejecutada correctamente.\n",
      "Query ejecutada correctamente.\n"
     ]
    },
    {
     "name": "stderr",
     "output_type": "stream",
     "text": [
      "Insertando registros:  76%|███████▋  | 1192/1560 [39:20<11:37,  1.90s/it]"
     ]
    },
    {
     "name": "stdout",
     "output_type": "stream",
     "text": [
      "Query ejecutada correctamente.\n",
      "Query ejecutada correctamente.\n",
      "Query ejecutada correctamente.\n"
     ]
    },
    {
     "name": "stderr",
     "output_type": "stream",
     "text": [
      "Insertando registros:  76%|███████▋  | 1193/1560 [39:22<12:25,  2.03s/it]"
     ]
    },
    {
     "name": "stdout",
     "output_type": "stream",
     "text": [
      "Query ejecutada correctamente.\n"
     ]
    },
    {
     "name": "stderr",
     "output_type": "stream",
     "text": [
      "Insertando registros:  77%|███████▋  | 1194/1560 [39:23<10:09,  1.67s/it]"
     ]
    },
    {
     "name": "stdout",
     "output_type": "stream",
     "text": [
      "Query ejecutada correctamente.\n",
      "Query ejecutada correctamente.\n",
      "Query ejecutada correctamente.\n"
     ]
    },
    {
     "name": "stderr",
     "output_type": "stream",
     "text": [
      "Insertando registros:  77%|███████▋  | 1195/1560 [39:25<11:19,  1.86s/it]"
     ]
    },
    {
     "name": "stdout",
     "output_type": "stream",
     "text": [
      "Query ejecutada correctamente.\n"
     ]
    },
    {
     "name": "stderr",
     "output_type": "stream",
     "text": [
      "Insertando registros:  77%|███████▋  | 1196/1560 [39:26<09:19,  1.54s/it]"
     ]
    },
    {
     "name": "stdout",
     "output_type": "stream",
     "text": [
      "Query ejecutada correctamente.\n",
      "Query ejecutada correctamente.\n",
      "Query ejecutada correctamente.\n"
     ]
    },
    {
     "name": "stderr",
     "output_type": "stream",
     "text": [
      "Insertando registros:  77%|███████▋  | 1197/1560 [39:28<10:45,  1.78s/it]"
     ]
    },
    {
     "name": "stdout",
     "output_type": "stream",
     "text": [
      "Query ejecutada correctamente.\n",
      "Query ejecutada correctamente.\n",
      "Query ejecutada correctamente.\n"
     ]
    },
    {
     "name": "stderr",
     "output_type": "stream",
     "text": [
      "Insertando registros:  77%|███████▋  | 1198/1560 [39:31<11:46,  1.95s/it]"
     ]
    },
    {
     "name": "stdout",
     "output_type": "stream",
     "text": [
      "Query ejecutada correctamente.\n",
      "Query ejecutada correctamente.\n",
      "Query ejecutada correctamente.\n"
     ]
    },
    {
     "name": "stderr",
     "output_type": "stream",
     "text": [
      "Insertando registros:  77%|███████▋  | 1199/1560 [39:33<12:27,  2.07s/it]"
     ]
    },
    {
     "name": "stdout",
     "output_type": "stream",
     "text": [
      "Query ejecutada correctamente.\n"
     ]
    },
    {
     "name": "stderr",
     "output_type": "stream",
     "text": [
      "Insertando registros:  77%|███████▋  | 1200/1560 [39:34<10:06,  1.68s/it]"
     ]
    },
    {
     "name": "stdout",
     "output_type": "stream",
     "text": [
      "Query ejecutada correctamente.\n"
     ]
    },
    {
     "name": "stderr",
     "output_type": "stream",
     "text": [
      "Insertando registros:  77%|███████▋  | 1201/1560 [39:35<08:30,  1.42s/it]"
     ]
    },
    {
     "name": "stdout",
     "output_type": "stream",
     "text": [
      "Query ejecutada correctamente.\n",
      "Query ejecutada correctamente.\n",
      "Query ejecutada correctamente.\n"
     ]
    },
    {
     "name": "stderr",
     "output_type": "stream",
     "text": [
      "Insertando registros:  77%|███████▋  | 1202/1560 [39:37<10:09,  1.70s/it]"
     ]
    },
    {
     "name": "stdout",
     "output_type": "stream",
     "text": [
      "Query ejecutada correctamente.\n",
      "Query ejecutada correctamente.\n",
      "Query ejecutada correctamente.\n"
     ]
    },
    {
     "name": "stderr",
     "output_type": "stream",
     "text": [
      "Insertando registros:  77%|███████▋  | 1203/1560 [39:39<11:15,  1.89s/it]"
     ]
    },
    {
     "name": "stdout",
     "output_type": "stream",
     "text": [
      "Query ejecutada correctamente.\n",
      "Query ejecutada correctamente.\n",
      "Query ejecutada correctamente.\n"
     ]
    },
    {
     "name": "stderr",
     "output_type": "stream",
     "text": [
      "Insertando registros:  77%|███████▋  | 1204/1560 [39:42<12:00,  2.02s/it]"
     ]
    },
    {
     "name": "stdout",
     "output_type": "stream",
     "text": [
      "Query ejecutada correctamente.\n"
     ]
    },
    {
     "name": "stderr",
     "output_type": "stream",
     "text": [
      "Insertando registros:  77%|███████▋  | 1205/1560 [39:43<09:46,  1.65s/it]"
     ]
    },
    {
     "name": "stdout",
     "output_type": "stream",
     "text": [
      "Query ejecutada correctamente.\n"
     ]
    },
    {
     "name": "stderr",
     "output_type": "stream",
     "text": [
      "Insertando registros:  77%|███████▋  | 1206/1560 [39:43<08:14,  1.40s/it]"
     ]
    },
    {
     "name": "stdout",
     "output_type": "stream",
     "text": [
      "Query ejecutada correctamente.\n",
      "Query ejecutada correctamente.\n",
      "Query ejecutada correctamente.\n"
     ]
    },
    {
     "name": "stderr",
     "output_type": "stream",
     "text": [
      "Insertando registros:  77%|███████▋  | 1207/1560 [39:46<09:49,  1.67s/it]"
     ]
    },
    {
     "name": "stdout",
     "output_type": "stream",
     "text": [
      "Query ejecutada correctamente.\n",
      "Query ejecutada correctamente.\n",
      "Query ejecutada correctamente.\n"
     ]
    },
    {
     "name": "stderr",
     "output_type": "stream",
     "text": [
      "Insertando registros:  77%|███████▋  | 1208/1560 [39:48<10:59,  1.87s/it]"
     ]
    },
    {
     "name": "stdout",
     "output_type": "stream",
     "text": [
      "Query ejecutada correctamente.\n",
      "Query ejecutada correctamente.\n",
      "Query ejecutada correctamente.\n"
     ]
    },
    {
     "name": "stderr",
     "output_type": "stream",
     "text": [
      "Insertando registros:  78%|███████▊  | 1209/1560 [39:50<11:45,  2.01s/it]"
     ]
    },
    {
     "name": "stdout",
     "output_type": "stream",
     "text": [
      "Query ejecutada correctamente.\n"
     ]
    },
    {
     "name": "stderr",
     "output_type": "stream",
     "text": [
      "Insertando registros:  78%|███████▊  | 1210/1560 [39:51<09:39,  1.66s/it]"
     ]
    },
    {
     "name": "stdout",
     "output_type": "stream",
     "text": [
      "Query ejecutada correctamente.\n",
      "Query ejecutada correctamente.\n",
      "Query ejecutada correctamente.\n"
     ]
    },
    {
     "name": "stderr",
     "output_type": "stream",
     "text": [
      "Insertando registros:  78%|███████▊  | 1211/1560 [39:54<10:54,  1.88s/it]"
     ]
    },
    {
     "name": "stdout",
     "output_type": "stream",
     "text": [
      "Query ejecutada correctamente.\n",
      "Query ejecutada correctamente.\n",
      "Query ejecutada correctamente.\n"
     ]
    },
    {
     "name": "stderr",
     "output_type": "stream",
     "text": [
      "Insertando registros:  78%|███████▊  | 1212/1560 [39:56<11:41,  2.02s/it]"
     ]
    },
    {
     "name": "stdout",
     "output_type": "stream",
     "text": [
      "Query ejecutada correctamente.\n",
      "Query ejecutada correctamente.\n",
      "Query ejecutada correctamente.\n"
     ]
    },
    {
     "name": "stderr",
     "output_type": "stream",
     "text": [
      "Insertando registros:  78%|███████▊  | 1213/1560 [39:58<12:13,  2.11s/it]"
     ]
    },
    {
     "name": "stdout",
     "output_type": "stream",
     "text": [
      "Query ejecutada correctamente.\n",
      "Query ejecutada correctamente.\n",
      "Query ejecutada correctamente.\n"
     ]
    },
    {
     "name": "stderr",
     "output_type": "stream",
     "text": [
      "Insertando registros:  78%|███████▊  | 1214/1560 [40:01<12:35,  2.18s/it]"
     ]
    },
    {
     "name": "stdout",
     "output_type": "stream",
     "text": [
      "Query ejecutada correctamente.\n",
      "Query ejecutada correctamente.\n",
      "Query ejecutada correctamente.\n"
     ]
    },
    {
     "name": "stderr",
     "output_type": "stream",
     "text": [
      "Insertando registros:  78%|███████▊  | 1215/1560 [40:03<12:47,  2.23s/it]"
     ]
    },
    {
     "name": "stdout",
     "output_type": "stream",
     "text": [
      "Query ejecutada correctamente.\n",
      "Query ejecutada correctamente.\n",
      "Query ejecutada correctamente.\n"
     ]
    },
    {
     "name": "stderr",
     "output_type": "stream",
     "text": [
      "Insertando registros:  78%|███████▊  | 1216/1560 [40:05<12:55,  2.25s/it]"
     ]
    },
    {
     "name": "stdout",
     "output_type": "stream",
     "text": [
      "Query ejecutada correctamente.\n",
      "Query ejecutada correctamente.\n",
      "Query ejecutada correctamente.\n"
     ]
    },
    {
     "name": "stderr",
     "output_type": "stream",
     "text": [
      "Insertando registros:  78%|███████▊  | 1217/1560 [40:08<13:02,  2.28s/it]"
     ]
    },
    {
     "name": "stdout",
     "output_type": "stream",
     "text": [
      "Query ejecutada correctamente.\n",
      "Query ejecutada correctamente.\n",
      "Query ejecutada correctamente.\n"
     ]
    },
    {
     "name": "stderr",
     "output_type": "stream",
     "text": [
      "Insertando registros:  78%|███████▊  | 1218/1560 [40:10<13:10,  2.31s/it]"
     ]
    },
    {
     "name": "stdout",
     "output_type": "stream",
     "text": [
      "Query ejecutada correctamente.\n",
      "Query ejecutada correctamente.\n",
      "Query ejecutada correctamente.\n"
     ]
    },
    {
     "name": "stderr",
     "output_type": "stream",
     "text": [
      "Insertando registros:  78%|███████▊  | 1219/1560 [40:12<13:14,  2.33s/it]"
     ]
    },
    {
     "name": "stdout",
     "output_type": "stream",
     "text": [
      "Query ejecutada correctamente.\n",
      "Query ejecutada correctamente.\n",
      "Query ejecutada correctamente.\n"
     ]
    },
    {
     "name": "stderr",
     "output_type": "stream",
     "text": [
      "Insertando registros:  78%|███████▊  | 1220/1560 [40:15<13:13,  2.33s/it]"
     ]
    },
    {
     "name": "stdout",
     "output_type": "stream",
     "text": [
      "Query ejecutada correctamente.\n",
      "Query ejecutada correctamente.\n",
      "Query ejecutada correctamente.\n"
     ]
    },
    {
     "name": "stderr",
     "output_type": "stream",
     "text": [
      "Insertando registros:  78%|███████▊  | 1221/1560 [40:17<13:13,  2.34s/it]"
     ]
    },
    {
     "name": "stdout",
     "output_type": "stream",
     "text": [
      "Query ejecutada correctamente.\n",
      "Query ejecutada correctamente.\n",
      "Query ejecutada correctamente.\n"
     ]
    },
    {
     "name": "stderr",
     "output_type": "stream",
     "text": [
      "Insertando registros:  78%|███████▊  | 1222/1560 [40:19<13:12,  2.35s/it]"
     ]
    },
    {
     "name": "stdout",
     "output_type": "stream",
     "text": [
      "Query ejecutada correctamente.\n",
      "Query ejecutada correctamente.\n",
      "Query ejecutada correctamente.\n"
     ]
    },
    {
     "name": "stderr",
     "output_type": "stream",
     "text": [
      "Insertando registros:  78%|███████▊  | 1223/1560 [40:22<13:09,  2.34s/it]"
     ]
    },
    {
     "name": "stdout",
     "output_type": "stream",
     "text": [
      "Query ejecutada correctamente.\n"
     ]
    },
    {
     "name": "stderr",
     "output_type": "stream",
     "text": [
      "Insertando registros:  78%|███████▊  | 1224/1560 [40:23<10:29,  1.87s/it]"
     ]
    },
    {
     "name": "stdout",
     "output_type": "stream",
     "text": [
      "Query ejecutada correctamente.\n"
     ]
    },
    {
     "name": "stderr",
     "output_type": "stream",
     "text": [
      "Insertando registros:  79%|███████▊  | 1225/1560 [40:23<08:38,  1.55s/it]"
     ]
    },
    {
     "name": "stdout",
     "output_type": "stream",
     "text": [
      "Query ejecutada correctamente.\n",
      "Query ejecutada correctamente.\n",
      "Query ejecutada correctamente.\n"
     ]
    },
    {
     "name": "stderr",
     "output_type": "stream",
     "text": [
      "Insertando registros:  79%|███████▊  | 1226/1560 [40:26<09:57,  1.79s/it]"
     ]
    },
    {
     "name": "stdout",
     "output_type": "stream",
     "text": [
      "Query ejecutada correctamente.\n",
      "Query ejecutada correctamente.\n",
      "Query ejecutada correctamente.\n"
     ]
    },
    {
     "name": "stderr",
     "output_type": "stream",
     "text": [
      "Insertando registros:  79%|███████▊  | 1227/1560 [40:28<10:51,  1.96s/it]"
     ]
    },
    {
     "name": "stdout",
     "output_type": "stream",
     "text": [
      "Query ejecutada correctamente.\n",
      "Query ejecutada correctamente.\n",
      "Query ejecutada correctamente.\n"
     ]
    },
    {
     "name": "stderr",
     "output_type": "stream",
     "text": [
      "Insertando registros:  79%|███████▊  | 1228/1560 [40:30<11:27,  2.07s/it]"
     ]
    },
    {
     "name": "stdout",
     "output_type": "stream",
     "text": [
      "Query ejecutada correctamente.\n"
     ]
    },
    {
     "name": "stderr",
     "output_type": "stream",
     "text": [
      "Insertando registros:  79%|███████▉  | 1229/1560 [40:31<09:21,  1.70s/it]"
     ]
    },
    {
     "name": "stdout",
     "output_type": "stream",
     "text": [
      "Query ejecutada correctamente.\n"
     ]
    },
    {
     "name": "stderr",
     "output_type": "stream",
     "text": [
      "Insertando registros:  79%|███████▉  | 1230/1560 [40:32<07:48,  1.42s/it]"
     ]
    },
    {
     "name": "stdout",
     "output_type": "stream",
     "text": [
      "Query ejecutada correctamente.\n",
      "Query ejecutada correctamente.\n",
      "Query ejecutada correctamente.\n"
     ]
    },
    {
     "name": "stderr",
     "output_type": "stream",
     "text": [
      "Insertando registros:  79%|███████▉  | 1231/1560 [40:34<09:19,  1.70s/it]"
     ]
    },
    {
     "name": "stdout",
     "output_type": "stream",
     "text": [
      "Query ejecutada correctamente.\n",
      "Query ejecutada correctamente.\n",
      "Query ejecutada correctamente.\n"
     ]
    },
    {
     "name": "stderr",
     "output_type": "stream",
     "text": [
      "Insertando registros:  79%|███████▉  | 1232/1560 [40:37<10:18,  1.88s/it]"
     ]
    },
    {
     "name": "stdout",
     "output_type": "stream",
     "text": [
      "Query ejecutada correctamente.\n",
      "Query ejecutada correctamente.\n",
      "Query ejecutada correctamente.\n"
     ]
    },
    {
     "name": "stderr",
     "output_type": "stream",
     "text": [
      "Insertando registros:  79%|███████▉  | 1233/1560 [40:39<10:59,  2.02s/it]"
     ]
    },
    {
     "name": "stdout",
     "output_type": "stream",
     "text": [
      "Query ejecutada correctamente.\n"
     ]
    },
    {
     "name": "stderr",
     "output_type": "stream",
     "text": [
      "Insertando registros:  79%|███████▉  | 1234/1560 [40:40<08:56,  1.65s/it]"
     ]
    },
    {
     "name": "stdout",
     "output_type": "stream",
     "text": [
      "Query ejecutada correctamente.\n",
      "Query ejecutada correctamente.\n",
      "Query ejecutada correctamente.\n"
     ]
    },
    {
     "name": "stderr",
     "output_type": "stream",
     "text": [
      "Insertando registros:  79%|███████▉  | 1235/1560 [40:42<09:58,  1.84s/it]"
     ]
    },
    {
     "name": "stdout",
     "output_type": "stream",
     "text": [
      "Query ejecutada correctamente.\n",
      "Query ejecutada correctamente.\n",
      "Query ejecutada correctamente.\n"
     ]
    },
    {
     "name": "stderr",
     "output_type": "stream",
     "text": [
      "Insertando registros:  79%|███████▉  | 1236/1560 [40:44<10:46,  2.00s/it]"
     ]
    },
    {
     "name": "stdout",
     "output_type": "stream",
     "text": [
      "Query ejecutada correctamente.\n",
      "Query ejecutada correctamente.\n",
      "Query ejecutada correctamente.\n"
     ]
    },
    {
     "name": "stderr",
     "output_type": "stream",
     "text": [
      "Insertando registros:  79%|███████▉  | 1237/1560 [40:47<11:19,  2.10s/it]"
     ]
    },
    {
     "name": "stdout",
     "output_type": "stream",
     "text": [
      "Query ejecutada correctamente.\n"
     ]
    },
    {
     "name": "stderr",
     "output_type": "stream",
     "text": [
      "Insertando registros:  79%|███████▉  | 1238/1560 [40:48<09:15,  1.73s/it]"
     ]
    },
    {
     "name": "stdout",
     "output_type": "stream",
     "text": [
      "Query ejecutada correctamente.\n"
     ]
    },
    {
     "name": "stderr",
     "output_type": "stream",
     "text": [
      "Insertando registros:  79%|███████▉  | 1239/1560 [40:48<07:43,  1.44s/it]"
     ]
    },
    {
     "name": "stdout",
     "output_type": "stream",
     "text": [
      "Query ejecutada correctamente.\n",
      "Query ejecutada correctamente.\n",
      "Query ejecutada correctamente.\n"
     ]
    },
    {
     "name": "stderr",
     "output_type": "stream",
     "text": [
      "Insertando registros:  79%|███████▉  | 1240/1560 [40:51<09:14,  1.73s/it]"
     ]
    },
    {
     "name": "stdout",
     "output_type": "stream",
     "text": [
      "Query ejecutada correctamente.\n",
      "Query ejecutada correctamente.\n",
      "Query ejecutada correctamente.\n"
     ]
    },
    {
     "name": "stderr",
     "output_type": "stream",
     "text": [
      "Insertando registros:  80%|███████▉  | 1241/1560 [40:53<10:15,  1.93s/it]"
     ]
    },
    {
     "name": "stdout",
     "output_type": "stream",
     "text": [
      "Query ejecutada correctamente.\n",
      "Query ejecutada correctamente.\n",
      "Query ejecutada correctamente.\n"
     ]
    },
    {
     "name": "stderr",
     "output_type": "stream",
     "text": [
      "Insertando registros:  80%|███████▉  | 1242/1560 [40:56<10:58,  2.07s/it]"
     ]
    },
    {
     "name": "stdout",
     "output_type": "stream",
     "text": [
      "Query ejecutada correctamente.\n"
     ]
    },
    {
     "name": "stderr",
     "output_type": "stream",
     "text": [
      "Insertando registros:  80%|███████▉  | 1243/1560 [40:56<08:55,  1.69s/it]"
     ]
    },
    {
     "name": "stdout",
     "output_type": "stream",
     "text": [
      "Query ejecutada correctamente.\n"
     ]
    },
    {
     "name": "stderr",
     "output_type": "stream",
     "text": [
      "Insertando registros:  80%|███████▉  | 1244/1560 [40:57<07:35,  1.44s/it]"
     ]
    },
    {
     "name": "stdout",
     "output_type": "stream",
     "text": [
      "Query ejecutada correctamente.\n",
      "Query ejecutada correctamente.\n",
      "Query ejecutada correctamente.\n"
     ]
    },
    {
     "name": "stderr",
     "output_type": "stream",
     "text": [
      "Insertando registros:  80%|███████▉  | 1245/1560 [41:00<09:09,  1.75s/it]"
     ]
    },
    {
     "name": "stdout",
     "output_type": "stream",
     "text": [
      "Query ejecutada correctamente.\n"
     ]
    },
    {
     "name": "stderr",
     "output_type": "stream",
     "text": [
      "Insertando registros:  80%|███████▉  | 1246/1560 [41:00<07:40,  1.47s/it]"
     ]
    },
    {
     "name": "stdout",
     "output_type": "stream",
     "text": [
      "Query ejecutada correctamente.\n",
      "Query ejecutada correctamente.\n",
      "Query ejecutada correctamente.\n"
     ]
    },
    {
     "name": "stderr",
     "output_type": "stream",
     "text": [
      "Insertando registros:  80%|███████▉  | 1247/1560 [41:03<09:02,  1.73s/it]"
     ]
    },
    {
     "name": "stdout",
     "output_type": "stream",
     "text": [
      "Query ejecutada correctamente.\n",
      "Query ejecutada correctamente.\n",
      "Query ejecutada correctamente.\n"
     ]
    },
    {
     "name": "stderr",
     "output_type": "stream",
     "text": [
      "Insertando registros:  80%|████████  | 1248/1560 [41:05<10:01,  1.93s/it]"
     ]
    },
    {
     "name": "stdout",
     "output_type": "stream",
     "text": [
      "Query ejecutada correctamente.\n"
     ]
    },
    {
     "name": "stderr",
     "output_type": "stream",
     "text": [
      "Insertando registros:  80%|████████  | 1249/1560 [41:06<08:12,  1.58s/it]"
     ]
    },
    {
     "name": "stdout",
     "output_type": "stream",
     "text": [
      "Query ejecutada correctamente.\n",
      "Query ejecutada correctamente.\n",
      "Query ejecutada correctamente.\n"
     ]
    },
    {
     "name": "stderr",
     "output_type": "stream",
     "text": [
      "Insertando registros:  80%|████████  | 1250/1560 [41:08<09:21,  1.81s/it]"
     ]
    },
    {
     "name": "stdout",
     "output_type": "stream",
     "text": [
      "Query ejecutada correctamente.\n",
      "Query ejecutada correctamente.\n",
      "Query ejecutada correctamente.\n"
     ]
    },
    {
     "name": "stderr",
     "output_type": "stream",
     "text": [
      "Insertando registros:  80%|████████  | 1251/1560 [41:11<10:13,  1.98s/it]"
     ]
    },
    {
     "name": "stdout",
     "output_type": "stream",
     "text": [
      "Query ejecutada correctamente.\n",
      "Query ejecutada correctamente.\n",
      "Query ejecutada correctamente.\n"
     ]
    },
    {
     "name": "stderr",
     "output_type": "stream",
     "text": [
      "Insertando registros:  80%|████████  | 1252/1560 [41:13<10:43,  2.09s/it]"
     ]
    },
    {
     "name": "stdout",
     "output_type": "stream",
     "text": [
      "Query ejecutada correctamente.\n"
     ]
    },
    {
     "name": "stderr",
     "output_type": "stream",
     "text": [
      "Insertando registros:  80%|████████  | 1253/1560 [41:14<08:41,  1.70s/it]"
     ]
    },
    {
     "name": "stdout",
     "output_type": "stream",
     "text": [
      "Query ejecutada correctamente.\n",
      "Query ejecutada correctamente.\n",
      "Query ejecutada correctamente.\n"
     ]
    },
    {
     "name": "stderr",
     "output_type": "stream",
     "text": [
      "Insertando registros:  80%|████████  | 1254/1560 [41:16<09:40,  1.90s/it]"
     ]
    },
    {
     "name": "stdout",
     "output_type": "stream",
     "text": [
      "Query ejecutada correctamente.\n",
      "Query ejecutada correctamente.\n",
      "Query ejecutada correctamente.\n"
     ]
    },
    {
     "name": "stderr",
     "output_type": "stream",
     "text": [
      "Insertando registros:  80%|████████  | 1255/1560 [41:19<10:20,  2.03s/it]"
     ]
    },
    {
     "name": "stdout",
     "output_type": "stream",
     "text": [
      "Query ejecutada correctamente.\n",
      "Query ejecutada correctamente.\n",
      "Query ejecutada correctamente.\n"
     ]
    },
    {
     "name": "stderr",
     "output_type": "stream",
     "text": [
      "Insertando registros:  81%|████████  | 1256/1560 [41:21<10:44,  2.12s/it]"
     ]
    },
    {
     "name": "stdout",
     "output_type": "stream",
     "text": [
      "Query ejecutada correctamente.\n",
      "Query ejecutada correctamente.\n",
      "Query ejecutada correctamente.\n"
     ]
    },
    {
     "name": "stderr",
     "output_type": "stream",
     "text": [
      "Insertando registros:  81%|████████  | 1257/1560 [41:23<11:02,  2.19s/it]"
     ]
    },
    {
     "name": "stdout",
     "output_type": "stream",
     "text": [
      "Query ejecutada correctamente.\n",
      "Query ejecutada correctamente.\n",
      "Query ejecutada correctamente.\n"
     ]
    },
    {
     "name": "stderr",
     "output_type": "stream",
     "text": [
      "Insertando registros:  81%|████████  | 1258/1560 [41:26<11:17,  2.24s/it]"
     ]
    },
    {
     "name": "stdout",
     "output_type": "stream",
     "text": [
      "Query ejecutada correctamente.\n",
      "Query ejecutada correctamente.\n",
      "Query ejecutada correctamente.\n"
     ]
    },
    {
     "name": "stderr",
     "output_type": "stream",
     "text": [
      "Insertando registros:  81%|████████  | 1259/1560 [41:28<11:23,  2.27s/it]"
     ]
    },
    {
     "name": "stdout",
     "output_type": "stream",
     "text": [
      "Query ejecutada correctamente.\n"
     ]
    },
    {
     "name": "stderr",
     "output_type": "stream",
     "text": [
      "Insertando registros:  81%|████████  | 1260/1560 [41:29<09:06,  1.82s/it]"
     ]
    },
    {
     "name": "stdout",
     "output_type": "stream",
     "text": [
      "Query ejecutada correctamente.\n",
      "Query ejecutada correctamente.\n",
      "Query ejecutada correctamente.\n"
     ]
    },
    {
     "name": "stderr",
     "output_type": "stream",
     "text": [
      "Insertando registros:  81%|████████  | 1261/1560 [41:31<09:51,  1.98s/it]"
     ]
    },
    {
     "name": "stdout",
     "output_type": "stream",
     "text": [
      "Query ejecutada correctamente.\n"
     ]
    },
    {
     "name": "stderr",
     "output_type": "stream",
     "text": [
      "Insertando registros:  81%|████████  | 1262/1560 [41:32<08:08,  1.64s/it]"
     ]
    },
    {
     "name": "stdout",
     "output_type": "stream",
     "text": [
      "Query ejecutada correctamente.\n",
      "Query ejecutada correctamente.\n",
      "Query ejecutada correctamente.\n"
     ]
    },
    {
     "name": "stderr",
     "output_type": "stream",
     "text": [
      "Insertando registros:  81%|████████  | 1263/1560 [41:34<09:07,  1.84s/it]"
     ]
    },
    {
     "name": "stdout",
     "output_type": "stream",
     "text": [
      "Query ejecutada correctamente.\n",
      "Query ejecutada correctamente.\n",
      "Query ejecutada correctamente.\n"
     ]
    },
    {
     "name": "stderr",
     "output_type": "stream",
     "text": [
      "Insertando registros:  81%|████████  | 1264/1560 [41:37<09:49,  1.99s/it]"
     ]
    },
    {
     "name": "stdout",
     "output_type": "stream",
     "text": [
      "Query ejecutada correctamente.\n"
     ]
    },
    {
     "name": "stderr",
     "output_type": "stream",
     "text": [
      "Insertando registros:  81%|████████  | 1265/1560 [41:37<07:57,  1.62s/it]"
     ]
    },
    {
     "name": "stdout",
     "output_type": "stream",
     "text": [
      "Query ejecutada correctamente.\n",
      "Query ejecutada correctamente.\n",
      "Query ejecutada correctamente.\n"
     ]
    },
    {
     "name": "stderr",
     "output_type": "stream",
     "text": [
      "Insertando registros:  81%|████████  | 1266/1560 [41:40<08:57,  1.83s/it]"
     ]
    },
    {
     "name": "stdout",
     "output_type": "stream",
     "text": [
      "Query ejecutada correctamente.\n",
      "Query ejecutada correctamente.\n",
      "Query ejecutada correctamente.\n"
     ]
    },
    {
     "name": "stderr",
     "output_type": "stream",
     "text": [
      "Insertando registros:  81%|████████  | 1267/1560 [41:42<09:39,  1.98s/it]"
     ]
    },
    {
     "name": "stdout",
     "output_type": "stream",
     "text": [
      "Query ejecutada correctamente.\n",
      "Query ejecutada correctamente.\n",
      "Query ejecutada correctamente.\n"
     ]
    },
    {
     "name": "stderr",
     "output_type": "stream",
     "text": [
      "Insertando registros:  81%|████████▏ | 1268/1560 [41:44<10:09,  2.09s/it]"
     ]
    },
    {
     "name": "stdout",
     "output_type": "stream",
     "text": [
      "Query ejecutada correctamente.\n"
     ]
    },
    {
     "name": "stderr",
     "output_type": "stream",
     "text": [
      "Insertando registros:  81%|████████▏ | 1269/1560 [41:45<08:13,  1.69s/it]"
     ]
    },
    {
     "name": "stdout",
     "output_type": "stream",
     "text": [
      "Query ejecutada correctamente.\n",
      "Query ejecutada correctamente.\n",
      "Query ejecutada correctamente.\n"
     ]
    },
    {
     "name": "stderr",
     "output_type": "stream",
     "text": [
      "Insertando registros:  81%|████████▏ | 1270/1560 [41:47<09:08,  1.89s/it]"
     ]
    },
    {
     "name": "stdout",
     "output_type": "stream",
     "text": [
      "Query ejecutada correctamente.\n"
     ]
    },
    {
     "name": "stderr",
     "output_type": "stream",
     "text": [
      "Insertando registros:  81%|████████▏ | 1271/1560 [41:48<07:30,  1.56s/it]"
     ]
    },
    {
     "name": "stdout",
     "output_type": "stream",
     "text": [
      "Query ejecutada correctamente.\n",
      "Query ejecutada correctamente.\n",
      "Query ejecutada correctamente.\n"
     ]
    },
    {
     "name": "stderr",
     "output_type": "stream",
     "text": [
      "Insertando registros:  82%|████████▏ | 1272/1560 [41:51<08:36,  1.79s/it]"
     ]
    },
    {
     "name": "stdout",
     "output_type": "stream",
     "text": [
      "Query ejecutada correctamente.\n"
     ]
    },
    {
     "name": "stderr",
     "output_type": "stream",
     "text": [
      "Insertando registros:  82%|████████▏ | 1273/1560 [41:51<07:07,  1.49s/it]"
     ]
    },
    {
     "name": "stdout",
     "output_type": "stream",
     "text": [
      "Query ejecutada correctamente.\n",
      "Query ejecutada correctamente.\n",
      "Query ejecutada correctamente.\n"
     ]
    },
    {
     "name": "stderr",
     "output_type": "stream",
     "text": [
      "Insertando registros:  82%|████████▏ | 1274/1560 [41:54<08:18,  1.74s/it]"
     ]
    },
    {
     "name": "stdout",
     "output_type": "stream",
     "text": [
      "Query ejecutada correctamente.\n"
     ]
    },
    {
     "name": "stderr",
     "output_type": "stream",
     "text": [
      "Insertando registros:  82%|████████▏ | 1275/1560 [41:54<06:55,  1.46s/it]"
     ]
    },
    {
     "name": "stdout",
     "output_type": "stream",
     "text": [
      "Query ejecutada correctamente.\n",
      "Query ejecutada correctamente.\n",
      "Query ejecutada correctamente.\n"
     ]
    },
    {
     "name": "stderr",
     "output_type": "stream",
     "text": [
      "Insertando registros:  82%|████████▏ | 1276/1560 [41:57<08:09,  1.72s/it]"
     ]
    },
    {
     "name": "stdout",
     "output_type": "stream",
     "text": [
      "Query ejecutada correctamente.\n",
      "Query ejecutada correctamente.\n",
      "Query ejecutada correctamente.\n"
     ]
    },
    {
     "name": "stderr",
     "output_type": "stream",
     "text": [
      "Insertando registros:  82%|████████▏ | 1277/1560 [41:59<08:58,  1.90s/it]"
     ]
    },
    {
     "name": "stdout",
     "output_type": "stream",
     "text": [
      "Query ejecutada correctamente.\n"
     ]
    },
    {
     "name": "stderr",
     "output_type": "stream",
     "text": [
      "Insertando registros:  82%|████████▏ | 1278/1560 [42:00<07:23,  1.57s/it]"
     ]
    },
    {
     "name": "stdout",
     "output_type": "stream",
     "text": [
      "Query ejecutada correctamente.\n",
      "Query ejecutada correctamente.\n",
      "Query ejecutada correctamente.\n"
     ]
    },
    {
     "name": "stderr",
     "output_type": "stream",
     "text": [
      "Insertando registros:  82%|████████▏ | 1279/1560 [42:02<08:25,  1.80s/it]"
     ]
    },
    {
     "name": "stdout",
     "output_type": "stream",
     "text": [
      "Query ejecutada correctamente.\n"
     ]
    },
    {
     "name": "stderr",
     "output_type": "stream",
     "text": [
      "Insertando registros:  82%|████████▏ | 1280/1560 [42:03<06:58,  1.49s/it]"
     ]
    },
    {
     "name": "stdout",
     "output_type": "stream",
     "text": [
      "Query ejecutada correctamente.\n",
      "Query ejecutada correctamente.\n",
      "Query ejecutada correctamente.\n"
     ]
    },
    {
     "name": "stderr",
     "output_type": "stream",
     "text": [
      "Insertando registros:  82%|████████▏ | 1281/1560 [42:05<08:10,  1.76s/it]"
     ]
    },
    {
     "name": "stdout",
     "output_type": "stream",
     "text": [
      "Query ejecutada correctamente.\n"
     ]
    },
    {
     "name": "stderr",
     "output_type": "stream",
     "text": [
      "Insertando registros:  82%|████████▏ | 1282/1560 [42:06<06:50,  1.48s/it]"
     ]
    },
    {
     "name": "stdout",
     "output_type": "stream",
     "text": [
      "Query ejecutada correctamente.\n"
     ]
    },
    {
     "name": "stderr",
     "output_type": "stream",
     "text": [
      "Insertando registros:  82%|████████▏ | 1283/1560 [42:07<05:52,  1.27s/it]"
     ]
    },
    {
     "name": "stdout",
     "output_type": "stream",
     "text": [
      "Query ejecutada correctamente.\n",
      "Query ejecutada correctamente.\n",
      "Query ejecutada correctamente.\n"
     ]
    },
    {
     "name": "stderr",
     "output_type": "stream",
     "text": [
      "Insertando registros:  82%|████████▏ | 1284/1560 [42:09<07:20,  1.60s/it]"
     ]
    },
    {
     "name": "stdout",
     "output_type": "stream",
     "text": [
      "Query ejecutada correctamente.\n",
      "Query ejecutada correctamente.\n",
      "Query ejecutada correctamente.\n"
     ]
    },
    {
     "name": "stderr",
     "output_type": "stream",
     "text": [
      "Insertando registros:  82%|████████▏ | 1285/1560 [42:12<08:24,  1.83s/it]"
     ]
    },
    {
     "name": "stdout",
     "output_type": "stream",
     "text": [
      "Query ejecutada correctamente.\n",
      "Query ejecutada correctamente.\n",
      "Query ejecutada correctamente.\n"
     ]
    },
    {
     "name": "stderr",
     "output_type": "stream",
     "text": [
      "Insertando registros:  82%|████████▏ | 1286/1560 [42:14<09:07,  2.00s/it]"
     ]
    },
    {
     "name": "stdout",
     "output_type": "stream",
     "text": [
      "Query ejecutada correctamente.\n",
      "Query ejecutada correctamente.\n",
      "Query ejecutada correctamente.\n"
     ]
    },
    {
     "name": "stderr",
     "output_type": "stream",
     "text": [
      "Insertando registros:  82%|████████▎ | 1287/1560 [42:16<09:32,  2.10s/it]"
     ]
    },
    {
     "name": "stdout",
     "output_type": "stream",
     "text": [
      "Query ejecutada correctamente.\n",
      "Query ejecutada correctamente.\n",
      "Query ejecutada correctamente.\n"
     ]
    },
    {
     "name": "stderr",
     "output_type": "stream",
     "text": [
      "Insertando registros:  83%|████████▎ | 1288/1560 [42:19<09:49,  2.17s/it]"
     ]
    },
    {
     "name": "stdout",
     "output_type": "stream",
     "text": [
      "Query ejecutada correctamente.\n",
      "Query ejecutada correctamente.\n",
      "Query ejecutada correctamente.\n"
     ]
    },
    {
     "name": "stderr",
     "output_type": "stream",
     "text": [
      "Insertando registros:  83%|████████▎ | 1289/1560 [42:21<10:00,  2.22s/it]"
     ]
    },
    {
     "name": "stdout",
     "output_type": "stream",
     "text": [
      "Query ejecutada correctamente.\n",
      "Query ejecutada correctamente.\n",
      "Query ejecutada correctamente.\n"
     ]
    },
    {
     "name": "stderr",
     "output_type": "stream",
     "text": [
      "Insertando registros:  83%|████████▎ | 1290/1560 [42:23<10:09,  2.26s/it]"
     ]
    },
    {
     "name": "stdout",
     "output_type": "stream",
     "text": [
      "Query ejecutada correctamente.\n",
      "Query ejecutada correctamente.\n",
      "Query ejecutada correctamente.\n"
     ]
    },
    {
     "name": "stderr",
     "output_type": "stream",
     "text": [
      "Insertando registros:  83%|████████▎ | 1291/1560 [42:26<10:12,  2.28s/it]"
     ]
    },
    {
     "name": "stdout",
     "output_type": "stream",
     "text": [
      "Query ejecutada correctamente.\n",
      "Query ejecutada correctamente.\n",
      "Query ejecutada correctamente.\n"
     ]
    },
    {
     "name": "stderr",
     "output_type": "stream",
     "text": [
      "Insertando registros:  83%|████████▎ | 1292/1560 [42:28<10:14,  2.29s/it]"
     ]
    },
    {
     "name": "stdout",
     "output_type": "stream",
     "text": [
      "Query ejecutada correctamente.\n",
      "Query ejecutada correctamente.\n",
      "Query ejecutada correctamente.\n"
     ]
    },
    {
     "name": "stderr",
     "output_type": "stream",
     "text": [
      "Insertando registros:  83%|████████▎ | 1293/1560 [42:30<10:15,  2.31s/it]"
     ]
    },
    {
     "name": "stdout",
     "output_type": "stream",
     "text": [
      "Query ejecutada correctamente.\n",
      "Query ejecutada correctamente.\n",
      "Query ejecutada correctamente.\n"
     ]
    },
    {
     "name": "stderr",
     "output_type": "stream",
     "text": [
      "Insertando registros:  83%|████████▎ | 1294/1560 [42:33<10:17,  2.32s/it]"
     ]
    },
    {
     "name": "stdout",
     "output_type": "stream",
     "text": [
      "Query ejecutada correctamente.\n"
     ]
    },
    {
     "name": "stderr",
     "output_type": "stream",
     "text": [
      "Insertando registros:  83%|████████▎ | 1295/1560 [42:34<08:13,  1.86s/it]"
     ]
    },
    {
     "name": "stdout",
     "output_type": "stream",
     "text": [
      "Query ejecutada correctamente.\n"
     ]
    },
    {
     "name": "stderr",
     "output_type": "stream",
     "text": [
      "Insertando registros:  83%|████████▎ | 1296/1560 [42:34<06:46,  1.54s/it]"
     ]
    },
    {
     "name": "stdout",
     "output_type": "stream",
     "text": [
      "Query ejecutada correctamente.\n",
      "Query ejecutada correctamente.\n",
      "Query ejecutada correctamente.\n"
     ]
    },
    {
     "name": "stderr",
     "output_type": "stream",
     "text": [
      "Insertando registros:  83%|████████▎ | 1297/1560 [42:37<07:47,  1.78s/it]"
     ]
    },
    {
     "name": "stdout",
     "output_type": "stream",
     "text": [
      "Query ejecutada correctamente.\n",
      "Query ejecutada correctamente.\n",
      "Query ejecutada correctamente.\n"
     ]
    },
    {
     "name": "stderr",
     "output_type": "stream",
     "text": [
      "Insertando registros:  83%|████████▎ | 1298/1560 [42:39<08:31,  1.95s/it]"
     ]
    },
    {
     "name": "stdout",
     "output_type": "stream",
     "text": [
      "Query ejecutada correctamente.\n",
      "Query ejecutada correctamente.\n",
      "Query ejecutada correctamente.\n"
     ]
    },
    {
     "name": "stderr",
     "output_type": "stream",
     "text": [
      "Insertando registros:  83%|████████▎ | 1299/1560 [42:41<09:00,  2.07s/it]"
     ]
    },
    {
     "name": "stdout",
     "output_type": "stream",
     "text": [
      "Query ejecutada correctamente.\n"
     ]
    },
    {
     "name": "stderr",
     "output_type": "stream",
     "text": [
      "Insertando registros:  83%|████████▎ | 1300/1560 [42:42<07:18,  1.69s/it]"
     ]
    },
    {
     "name": "stdout",
     "output_type": "stream",
     "text": [
      "Query ejecutada correctamente.\n"
     ]
    },
    {
     "name": "stderr",
     "output_type": "stream",
     "text": [
      "Insertando registros:  83%|████████▎ | 1301/1560 [42:43<06:06,  1.42s/it]"
     ]
    },
    {
     "name": "stdout",
     "output_type": "stream",
     "text": [
      "Query ejecutada correctamente.\n"
     ]
    },
    {
     "name": "stderr",
     "output_type": "stream",
     "text": [
      "Insertando registros:  83%|████████▎ | 1302/1560 [42:44<05:15,  1.22s/it]"
     ]
    },
    {
     "name": "stdout",
     "output_type": "stream",
     "text": [
      "Query ejecutada correctamente.\n",
      "Query ejecutada correctamente.\n",
      "Query ejecutada correctamente.\n"
     ]
    },
    {
     "name": "stderr",
     "output_type": "stream",
     "text": [
      "Insertando registros:  84%|████████▎ | 1303/1560 [42:46<06:38,  1.55s/it]"
     ]
    },
    {
     "name": "stdout",
     "output_type": "stream",
     "text": [
      "Query ejecutada correctamente.\n",
      "Query ejecutada correctamente.\n",
      "Query ejecutada correctamente.\n"
     ]
    },
    {
     "name": "stderr",
     "output_type": "stream",
     "text": [
      "Insertando registros:  84%|████████▎ | 1304/1560 [42:48<07:39,  1.79s/it]"
     ]
    },
    {
     "name": "stdout",
     "output_type": "stream",
     "text": [
      "Query ejecutada correctamente.\n"
     ]
    },
    {
     "name": "stderr",
     "output_type": "stream",
     "text": [
      "Insertando registros:  84%|████████▎ | 1305/1560 [42:49<06:18,  1.49s/it]"
     ]
    },
    {
     "name": "stdout",
     "output_type": "stream",
     "text": [
      "Query ejecutada correctamente.\n",
      "Query ejecutada correctamente.\n",
      "Query ejecutada correctamente.\n"
     ]
    },
    {
     "name": "stderr",
     "output_type": "stream",
     "text": [
      "Insertando registros:  84%|████████▎ | 1306/1560 [42:52<07:22,  1.74s/it]"
     ]
    },
    {
     "name": "stdout",
     "output_type": "stream",
     "text": [
      "Query ejecutada correctamente.\n"
     ]
    },
    {
     "name": "stderr",
     "output_type": "stream",
     "text": [
      "Insertando registros:  84%|████████▍ | 1307/1560 [42:52<06:08,  1.46s/it]"
     ]
    },
    {
     "name": "stdout",
     "output_type": "stream",
     "text": [
      "Query ejecutada correctamente.\n",
      "Query ejecutada correctamente.\n",
      "Query ejecutada correctamente.\n"
     ]
    },
    {
     "name": "stderr",
     "output_type": "stream",
     "text": [
      "Insertando registros:  84%|████████▍ | 1308/1560 [42:55<07:14,  1.73s/it]"
     ]
    },
    {
     "name": "stdout",
     "output_type": "stream",
     "text": [
      "Query ejecutada correctamente.\n",
      "Query ejecutada correctamente.\n",
      "Query ejecutada correctamente.\n"
     ]
    },
    {
     "name": "stderr",
     "output_type": "stream",
     "text": [
      "Insertando registros:  84%|████████▍ | 1309/1560 [42:57<07:59,  1.91s/it]"
     ]
    },
    {
     "name": "stdout",
     "output_type": "stream",
     "text": [
      "Query ejecutada correctamente.\n",
      "Query ejecutada correctamente.\n",
      "Query ejecutada correctamente.\n"
     ]
    },
    {
     "name": "stderr",
     "output_type": "stream",
     "text": [
      "Insertando registros:  84%|████████▍ | 1310/1560 [42:59<08:31,  2.05s/it]"
     ]
    },
    {
     "name": "stdout",
     "output_type": "stream",
     "text": [
      "Query ejecutada correctamente.\n",
      "Query ejecutada correctamente.\n",
      "Query ejecutada correctamente.\n"
     ]
    },
    {
     "name": "stderr",
     "output_type": "stream",
     "text": [
      "Insertando registros:  84%|████████▍ | 1311/1560 [43:02<08:50,  2.13s/it]"
     ]
    },
    {
     "name": "stdout",
     "output_type": "stream",
     "text": [
      "Query ejecutada correctamente.\n",
      "Query ejecutada correctamente.\n",
      "Query ejecutada correctamente.\n"
     ]
    },
    {
     "name": "stderr",
     "output_type": "stream",
     "text": [
      "Insertando registros:  84%|████████▍ | 1312/1560 [43:04<09:04,  2.20s/it]"
     ]
    },
    {
     "name": "stdout",
     "output_type": "stream",
     "text": [
      "Query ejecutada correctamente.\n",
      "Query ejecutada correctamente.\n",
      "Query ejecutada correctamente.\n"
     ]
    },
    {
     "name": "stderr",
     "output_type": "stream",
     "text": [
      "Insertando registros:  84%|████████▍ | 1313/1560 [43:06<09:13,  2.24s/it]"
     ]
    },
    {
     "name": "stdout",
     "output_type": "stream",
     "text": [
      "Query ejecutada correctamente.\n"
     ]
    },
    {
     "name": "stderr",
     "output_type": "stream",
     "text": [
      "Insertando registros:  84%|████████▍ | 1314/1560 [43:07<07:23,  1.80s/it]"
     ]
    },
    {
     "name": "stdout",
     "output_type": "stream",
     "text": [
      "Query ejecutada correctamente.\n"
     ]
    },
    {
     "name": "stderr",
     "output_type": "stream",
     "text": [
      "Insertando registros:  84%|████████▍ | 1315/1560 [43:08<06:06,  1.49s/it]"
     ]
    },
    {
     "name": "stdout",
     "output_type": "stream",
     "text": [
      "Query ejecutada correctamente.\n",
      "Query ejecutada correctamente.\n",
      "Query ejecutada correctamente.\n"
     ]
    },
    {
     "name": "stderr",
     "output_type": "stream",
     "text": [
      "Insertando registros:  84%|████████▍ | 1316/1560 [43:10<07:06,  1.75s/it]"
     ]
    },
    {
     "name": "stdout",
     "output_type": "stream",
     "text": [
      "Query ejecutada correctamente.\n",
      "Query ejecutada correctamente.\n",
      "Query ejecutada correctamente.\n"
     ]
    },
    {
     "name": "stderr",
     "output_type": "stream",
     "text": [
      "Insertando registros:  84%|████████▍ | 1317/1560 [43:13<07:46,  1.92s/it]"
     ]
    },
    {
     "name": "stdout",
     "output_type": "stream",
     "text": [
      "Query ejecutada correctamente.\n",
      "Query ejecutada correctamente.\n",
      "Query ejecutada correctamente.\n"
     ]
    },
    {
     "name": "stderr",
     "output_type": "stream",
     "text": [
      "Insertando registros:  84%|████████▍ | 1318/1560 [43:15<08:14,  2.04s/it]"
     ]
    },
    {
     "name": "stdout",
     "output_type": "stream",
     "text": [
      "Query ejecutada correctamente.\n",
      "Query ejecutada correctamente.\n",
      "Query ejecutada correctamente.\n"
     ]
    },
    {
     "name": "stderr",
     "output_type": "stream",
     "text": [
      "Insertando registros:  85%|████████▍ | 1319/1560 [43:17<08:32,  2.13s/it]"
     ]
    },
    {
     "name": "stdout",
     "output_type": "stream",
     "text": [
      "Query ejecutada correctamente.\n",
      "Query ejecutada correctamente.\n",
      "Query ejecutada correctamente.\n"
     ]
    },
    {
     "name": "stderr",
     "output_type": "stream",
     "text": [
      "Insertando registros:  85%|████████▍ | 1320/1560 [43:20<08:45,  2.19s/it]"
     ]
    },
    {
     "name": "stdout",
     "output_type": "stream",
     "text": [
      "Query ejecutada correctamente.\n",
      "Query ejecutada correctamente.\n",
      "Query ejecutada correctamente.\n"
     ]
    },
    {
     "name": "stderr",
     "output_type": "stream",
     "text": [
      "Insertando registros:  85%|████████▍ | 1321/1560 [43:22<08:52,  2.23s/it]"
     ]
    },
    {
     "name": "stdout",
     "output_type": "stream",
     "text": [
      "Query ejecutada correctamente.\n"
     ]
    },
    {
     "name": "stderr",
     "output_type": "stream",
     "text": [
      "Insertando registros:  85%|████████▍ | 1322/1560 [43:23<07:07,  1.79s/it]"
     ]
    },
    {
     "name": "stdout",
     "output_type": "stream",
     "text": [
      "Query ejecutada correctamente.\n",
      "Query ejecutada correctamente.\n",
      "Query ejecutada correctamente.\n"
     ]
    },
    {
     "name": "stderr",
     "output_type": "stream",
     "text": [
      "Insertando registros:  85%|████████▍ | 1323/1560 [43:25<07:44,  1.96s/it]"
     ]
    },
    {
     "name": "stdout",
     "output_type": "stream",
     "text": [
      "Query ejecutada correctamente.\n",
      "Query ejecutada correctamente.\n",
      "Query ejecutada correctamente.\n"
     ]
    },
    {
     "name": "stderr",
     "output_type": "stream",
     "text": [
      "Insertando registros:  85%|████████▍ | 1324/1560 [43:27<08:11,  2.08s/it]"
     ]
    },
    {
     "name": "stdout",
     "output_type": "stream",
     "text": [
      "Query ejecutada correctamente.\n",
      "Query ejecutada correctamente.\n",
      "Query ejecutada correctamente.\n"
     ]
    },
    {
     "name": "stderr",
     "output_type": "stream",
     "text": [
      "Insertando registros:  85%|████████▍ | 1325/1560 [43:30<08:25,  2.15s/it]"
     ]
    },
    {
     "name": "stdout",
     "output_type": "stream",
     "text": [
      "Query ejecutada correctamente.\n",
      "Query ejecutada correctamente.\n",
      "Query ejecutada correctamente.\n"
     ]
    },
    {
     "name": "stderr",
     "output_type": "stream",
     "text": [
      "Insertando registros:  85%|████████▌ | 1326/1560 [43:32<08:35,  2.20s/it]"
     ]
    },
    {
     "name": "stdout",
     "output_type": "stream",
     "text": [
      "Query ejecutada correctamente.\n",
      "Query ejecutada correctamente.\n",
      "Query ejecutada correctamente.\n"
     ]
    },
    {
     "name": "stderr",
     "output_type": "stream",
     "text": [
      "Insertando registros:  85%|████████▌ | 1327/1560 [43:34<08:41,  2.24s/it]"
     ]
    },
    {
     "name": "stdout",
     "output_type": "stream",
     "text": [
      "Query ejecutada correctamente.\n",
      "Query ejecutada correctamente.\n",
      "Query ejecutada correctamente.\n"
     ]
    },
    {
     "name": "stderr",
     "output_type": "stream",
     "text": [
      "Insertando registros:  85%|████████▌ | 1328/1560 [43:37<08:46,  2.27s/it]"
     ]
    },
    {
     "name": "stdout",
     "output_type": "stream",
     "text": [
      "Query ejecutada correctamente.\n",
      "Query ejecutada correctamente.\n",
      "Query ejecutada correctamente.\n"
     ]
    },
    {
     "name": "stderr",
     "output_type": "stream",
     "text": [
      "Insertando registros:  85%|████████▌ | 1329/1560 [43:39<08:48,  2.29s/it]"
     ]
    },
    {
     "name": "stdout",
     "output_type": "stream",
     "text": [
      "Query ejecutada correctamente.\n",
      "Query ejecutada correctamente.\n",
      "Query ejecutada correctamente.\n"
     ]
    },
    {
     "name": "stderr",
     "output_type": "stream",
     "text": [
      "Insertando registros:  85%|████████▌ | 1330/1560 [43:41<08:49,  2.30s/it]"
     ]
    },
    {
     "name": "stdout",
     "output_type": "stream",
     "text": [
      "Query ejecutada correctamente.\n"
     ]
    },
    {
     "name": "stderr",
     "output_type": "stream",
     "text": [
      "Insertando registros:  85%|████████▌ | 1331/1560 [43:42<07:05,  1.86s/it]"
     ]
    },
    {
     "name": "stdout",
     "output_type": "stream",
     "text": [
      "Query ejecutada correctamente.\n"
     ]
    },
    {
     "name": "stderr",
     "output_type": "stream",
     "text": [
      "Insertando registros:  85%|████████▌ | 1332/1560 [43:43<05:49,  1.53s/it]"
     ]
    },
    {
     "name": "stdout",
     "output_type": "stream",
     "text": [
      "Query ejecutada correctamente.\n"
     ]
    },
    {
     "name": "stderr",
     "output_type": "stream",
     "text": [
      "Insertando registros:  85%|████████▌ | 1333/1560 [43:44<04:57,  1.31s/it]"
     ]
    },
    {
     "name": "stdout",
     "output_type": "stream",
     "text": [
      "Query ejecutada correctamente.\n",
      "Query ejecutada correctamente.\n",
      "Query ejecutada correctamente.\n"
     ]
    },
    {
     "name": "stderr",
     "output_type": "stream",
     "text": [
      "Insertando registros:  86%|████████▌ | 1334/1560 [43:46<06:02,  1.60s/it]"
     ]
    },
    {
     "name": "stdout",
     "output_type": "stream",
     "text": [
      "Query ejecutada correctamente.\n",
      "Query ejecutada correctamente.\n",
      "Query ejecutada correctamente.\n"
     ]
    },
    {
     "name": "stderr",
     "output_type": "stream",
     "text": [
      "Insertando registros:  86%|████████▌ | 1335/1560 [43:48<06:52,  1.83s/it]"
     ]
    },
    {
     "name": "stdout",
     "output_type": "stream",
     "text": [
      "Query ejecutada correctamente.\n",
      "Query ejecutada correctamente.\n",
      "Query ejecutada correctamente.\n"
     ]
    },
    {
     "name": "stderr",
     "output_type": "stream",
     "text": [
      "Insertando registros:  86%|████████▌ | 1336/1560 [43:51<07:24,  1.98s/it]"
     ]
    },
    {
     "name": "stdout",
     "output_type": "stream",
     "text": [
      "Query ejecutada correctamente.\n",
      "Query ejecutada correctamente.\n",
      "Query ejecutada correctamente.\n"
     ]
    },
    {
     "name": "stderr",
     "output_type": "stream",
     "text": [
      "Insertando registros:  86%|████████▌ | 1337/1560 [43:53<07:46,  2.09s/it]"
     ]
    },
    {
     "name": "stdout",
     "output_type": "stream",
     "text": [
      "Query ejecutada correctamente.\n"
     ]
    },
    {
     "name": "stderr",
     "output_type": "stream",
     "text": [
      "Insertando registros:  86%|████████▌ | 1338/1560 [43:54<06:16,  1.70s/it]"
     ]
    },
    {
     "name": "stdout",
     "output_type": "stream",
     "text": [
      "Query ejecutada correctamente.\n",
      "Query ejecutada correctamente.\n",
      "Query ejecutada correctamente.\n"
     ]
    },
    {
     "name": "stderr",
     "output_type": "stream",
     "text": [
      "Insertando registros:  86%|████████▌ | 1339/1560 [43:56<06:59,  1.90s/it]"
     ]
    },
    {
     "name": "stdout",
     "output_type": "stream",
     "text": [
      "Query ejecutada correctamente.\n",
      "Query ejecutada correctamente.\n",
      "Query ejecutada correctamente.\n"
     ]
    },
    {
     "name": "stderr",
     "output_type": "stream",
     "text": [
      "Insertando registros:  86%|████████▌ | 1340/1560 [43:59<07:25,  2.03s/it]"
     ]
    },
    {
     "name": "stdout",
     "output_type": "stream",
     "text": [
      "Query ejecutada correctamente.\n",
      "Query ejecutada correctamente.\n",
      "Query ejecutada correctamente.\n"
     ]
    },
    {
     "name": "stderr",
     "output_type": "stream",
     "text": [
      "Insertando registros:  86%|████████▌ | 1341/1560 [44:01<07:40,  2.10s/it]"
     ]
    },
    {
     "name": "stdout",
     "output_type": "stream",
     "text": [
      "Query ejecutada correctamente.\n",
      "Query ejecutada correctamente.\n",
      "Query ejecutada correctamente.\n"
     ]
    },
    {
     "name": "stderr",
     "output_type": "stream",
     "text": [
      "Insertando registros:  86%|████████▌ | 1342/1560 [44:03<07:54,  2.18s/it]"
     ]
    },
    {
     "name": "stdout",
     "output_type": "stream",
     "text": [
      "Query ejecutada correctamente.\n",
      "Query ejecutada correctamente.\n",
      "Query ejecutada correctamente.\n"
     ]
    },
    {
     "name": "stderr",
     "output_type": "stream",
     "text": [
      "Insertando registros:  86%|████████▌ | 1343/1560 [44:06<08:04,  2.23s/it]"
     ]
    },
    {
     "name": "stdout",
     "output_type": "stream",
     "text": [
      "Query ejecutada correctamente.\n",
      "Query ejecutada correctamente.\n",
      "Query ejecutada correctamente.\n"
     ]
    },
    {
     "name": "stderr",
     "output_type": "stream",
     "text": [
      "Insertando registros:  86%|████████▌ | 1344/1560 [44:08<08:09,  2.27s/it]"
     ]
    },
    {
     "name": "stdout",
     "output_type": "stream",
     "text": [
      "Query ejecutada correctamente.\n",
      "Query ejecutada correctamente.\n",
      "Query ejecutada correctamente.\n"
     ]
    },
    {
     "name": "stderr",
     "output_type": "stream",
     "text": [
      "Insertando registros:  86%|████████▌ | 1345/1560 [44:10<08:11,  2.29s/it]"
     ]
    },
    {
     "name": "stdout",
     "output_type": "stream",
     "text": [
      "Query ejecutada correctamente.\n",
      "Query ejecutada correctamente.\n",
      "Query ejecutada correctamente.\n"
     ]
    },
    {
     "name": "stderr",
     "output_type": "stream",
     "text": [
      "Insertando registros:  86%|████████▋ | 1346/1560 [44:13<08:11,  2.30s/it]"
     ]
    },
    {
     "name": "stdout",
     "output_type": "stream",
     "text": [
      "Query ejecutada correctamente.\n"
     ]
    },
    {
     "name": "stderr",
     "output_type": "stream",
     "text": [
      "Insertando registros:  86%|████████▋ | 1347/1560 [44:13<06:32,  1.84s/it]"
     ]
    },
    {
     "name": "stdout",
     "output_type": "stream",
     "text": [
      "Query ejecutada correctamente.\n"
     ]
    },
    {
     "name": "stderr",
     "output_type": "stream",
     "text": [
      "Insertando registros:  86%|████████▋ | 1348/1560 [44:14<05:23,  1.53s/it]"
     ]
    },
    {
     "name": "stdout",
     "output_type": "stream",
     "text": [
      "Query ejecutada correctamente.\n"
     ]
    },
    {
     "name": "stderr",
     "output_type": "stream",
     "text": [
      "Insertando registros:  86%|████████▋ | 1349/1560 [44:15<04:35,  1.30s/it]"
     ]
    },
    {
     "name": "stdout",
     "output_type": "stream",
     "text": [
      "Query ejecutada correctamente.\n",
      "Query ejecutada correctamente.\n",
      "Query ejecutada correctamente.\n"
     ]
    },
    {
     "name": "stderr",
     "output_type": "stream",
     "text": [
      "Insertando registros:  87%|████████▋ | 1350/1560 [44:17<05:41,  1.62s/it]"
     ]
    },
    {
     "name": "stdout",
     "output_type": "stream",
     "text": [
      "Query ejecutada correctamente.\n",
      "Query ejecutada correctamente.\n",
      "Query ejecutada correctamente.\n"
     ]
    },
    {
     "name": "stderr",
     "output_type": "stream",
     "text": [
      "Insertando registros:  87%|████████▋ | 1351/1560 [44:20<06:24,  1.84s/it]"
     ]
    },
    {
     "name": "stdout",
     "output_type": "stream",
     "text": [
      "Query ejecutada correctamente.\n",
      "Query ejecutada correctamente.\n",
      "Query ejecutada correctamente.\n"
     ]
    },
    {
     "name": "stderr",
     "output_type": "stream",
     "text": [
      "Insertando registros:  87%|████████▋ | 1352/1560 [44:22<06:54,  1.99s/it]"
     ]
    },
    {
     "name": "stdout",
     "output_type": "stream",
     "text": [
      "Query ejecutada correctamente.\n",
      "Query ejecutada correctamente.\n",
      "Query ejecutada correctamente.\n"
     ]
    },
    {
     "name": "stderr",
     "output_type": "stream",
     "text": [
      "Insertando registros:  87%|████████▋ | 1353/1560 [44:24<07:14,  2.10s/it]"
     ]
    },
    {
     "name": "stdout",
     "output_type": "stream",
     "text": [
      "Query ejecutada correctamente.\n"
     ]
    },
    {
     "name": "stderr",
     "output_type": "stream",
     "text": [
      "Insertando registros:  87%|████████▋ | 1354/1560 [44:25<05:53,  1.71s/it]"
     ]
    },
    {
     "name": "stdout",
     "output_type": "stream",
     "text": [
      "Query ejecutada correctamente.\n",
      "Query ejecutada correctamente.\n",
      "Query ejecutada correctamente.\n"
     ]
    },
    {
     "name": "stderr",
     "output_type": "stream",
     "text": [
      "Insertando registros:  87%|████████▋ | 1355/1560 [44:28<06:28,  1.89s/it]"
     ]
    },
    {
     "name": "stdout",
     "output_type": "stream",
     "text": [
      "Query ejecutada correctamente.\n"
     ]
    },
    {
     "name": "stderr",
     "output_type": "stream",
     "text": [
      "Insertando registros:  87%|████████▋ | 1356/1560 [44:28<05:18,  1.56s/it]"
     ]
    },
    {
     "name": "stdout",
     "output_type": "stream",
     "text": [
      "Query ejecutada correctamente.\n",
      "Query ejecutada correctamente.\n",
      "Query ejecutada correctamente.\n"
     ]
    },
    {
     "name": "stderr",
     "output_type": "stream",
     "text": [
      "Insertando registros:  87%|████████▋ | 1357/1560 [44:31<06:05,  1.80s/it]"
     ]
    },
    {
     "name": "stdout",
     "output_type": "stream",
     "text": [
      "Query ejecutada correctamente.\n"
     ]
    },
    {
     "name": "stderr",
     "output_type": "stream",
     "text": [
      "Insertando registros:  87%|████████▋ | 1358/1560 [44:31<05:01,  1.49s/it]"
     ]
    },
    {
     "name": "stdout",
     "output_type": "stream",
     "text": [
      "Query ejecutada correctamente.\n",
      "Query ejecutada correctamente.\n",
      "Query ejecutada correctamente.\n"
     ]
    },
    {
     "name": "stderr",
     "output_type": "stream",
     "text": [
      "Insertando registros:  87%|████████▋ | 1359/1560 [44:34<05:50,  1.75s/it]"
     ]
    },
    {
     "name": "stdout",
     "output_type": "stream",
     "text": [
      "Query ejecutada correctamente.\n",
      "Query ejecutada correctamente.\n",
      "Query ejecutada correctamente.\n"
     ]
    },
    {
     "name": "stderr",
     "output_type": "stream",
     "text": [
      "Insertando registros:  87%|████████▋ | 1360/1560 [44:36<06:26,  1.93s/it]"
     ]
    },
    {
     "name": "stdout",
     "output_type": "stream",
     "text": [
      "Query ejecutada correctamente.\n",
      "Query ejecutada correctamente.\n",
      "Query ejecutada correctamente.\n"
     ]
    },
    {
     "name": "stderr",
     "output_type": "stream",
     "text": [
      "Insertando registros:  87%|████████▋ | 1361/1560 [44:39<06:51,  2.07s/it]"
     ]
    },
    {
     "name": "stdout",
     "output_type": "stream",
     "text": [
      "Query ejecutada correctamente.\n",
      "Query ejecutada correctamente.\n",
      "Query ejecutada correctamente.\n"
     ]
    },
    {
     "name": "stderr",
     "output_type": "stream",
     "text": [
      "Insertando registros:  87%|████████▋ | 1362/1560 [44:41<07:05,  2.15s/it]"
     ]
    },
    {
     "name": "stdout",
     "output_type": "stream",
     "text": [
      "Query ejecutada correctamente.\n",
      "Query ejecutada correctamente.\n",
      "Query ejecutada correctamente.\n"
     ]
    },
    {
     "name": "stderr",
     "output_type": "stream",
     "text": [
      "Insertando registros:  87%|████████▋ | 1363/1560 [44:43<07:16,  2.22s/it]"
     ]
    },
    {
     "name": "stdout",
     "output_type": "stream",
     "text": [
      "Query ejecutada correctamente.\n",
      "Query ejecutada correctamente.\n",
      "Query ejecutada correctamente.\n"
     ]
    },
    {
     "name": "stderr",
     "output_type": "stream",
     "text": [
      "Insertando registros:  87%|████████▋ | 1364/1560 [44:46<07:34,  2.32s/it]"
     ]
    },
    {
     "name": "stdout",
     "output_type": "stream",
     "text": [
      "Query ejecutada correctamente.\n",
      "Query ejecutada correctamente.\n",
      "Query ejecutada correctamente.\n"
     ]
    },
    {
     "name": "stderr",
     "output_type": "stream",
     "text": [
      "Insertando registros:  88%|████████▊ | 1365/1560 [44:48<07:40,  2.36s/it]"
     ]
    },
    {
     "name": "stdout",
     "output_type": "stream",
     "text": [
      "Query ejecutada correctamente.\n",
      "Query ejecutada correctamente.\n",
      "Query ejecutada correctamente.\n"
     ]
    },
    {
     "name": "stderr",
     "output_type": "stream",
     "text": [
      "Insertando registros:  88%|████████▊ | 1366/1560 [44:51<07:40,  2.37s/it]"
     ]
    },
    {
     "name": "stdout",
     "output_type": "stream",
     "text": [
      "Query ejecutada correctamente.\n",
      "Query ejecutada correctamente.\n",
      "Query ejecutada correctamente.\n"
     ]
    },
    {
     "name": "stderr",
     "output_type": "stream",
     "text": [
      "Insertando registros:  88%|████████▊ | 1367/1560 [44:53<07:40,  2.39s/it]"
     ]
    },
    {
     "name": "stdout",
     "output_type": "stream",
     "text": [
      "Query ejecutada correctamente.\n",
      "Query ejecutada correctamente.\n",
      "Query ejecutada correctamente.\n"
     ]
    },
    {
     "name": "stderr",
     "output_type": "stream",
     "text": [
      "Insertando registros:  88%|████████▊ | 1368/1560 [44:55<07:38,  2.39s/it]"
     ]
    },
    {
     "name": "stdout",
     "output_type": "stream",
     "text": [
      "Query ejecutada correctamente.\n"
     ]
    },
    {
     "name": "stderr",
     "output_type": "stream",
     "text": [
      "Insertando registros:  88%|████████▊ | 1369/1560 [44:56<06:06,  1.92s/it]"
     ]
    },
    {
     "name": "stdout",
     "output_type": "stream",
     "text": [
      "Query ejecutada correctamente.\n",
      "Query ejecutada correctamente.\n",
      "Query ejecutada correctamente.\n"
     ]
    },
    {
     "name": "stderr",
     "output_type": "stream",
     "text": [
      "Insertando registros:  88%|████████▊ | 1370/1560 [44:59<06:33,  2.07s/it]"
     ]
    },
    {
     "name": "stdout",
     "output_type": "stream",
     "text": [
      "Query ejecutada correctamente.\n",
      "Query ejecutada correctamente.\n",
      "Query ejecutada correctamente.\n"
     ]
    },
    {
     "name": "stderr",
     "output_type": "stream",
     "text": [
      "Insertando registros:  88%|████████▊ | 1371/1560 [45:01<06:50,  2.17s/it]"
     ]
    },
    {
     "name": "stdout",
     "output_type": "stream",
     "text": [
      "Query ejecutada correctamente.\n",
      "Query ejecutada correctamente.\n",
      "Query ejecutada correctamente.\n"
     ]
    },
    {
     "name": "stderr",
     "output_type": "stream",
     "text": [
      "Insertando registros:  88%|████████▊ | 1372/1560 [45:04<07:03,  2.25s/it]"
     ]
    },
    {
     "name": "stdout",
     "output_type": "stream",
     "text": [
      "Query ejecutada correctamente.\n",
      "Query ejecutada correctamente.\n",
      "Query ejecutada correctamente.\n"
     ]
    },
    {
     "name": "stderr",
     "output_type": "stream",
     "text": [
      "Insertando registros:  88%|████████▊ | 1373/1560 [45:06<07:12,  2.31s/it]"
     ]
    },
    {
     "name": "stdout",
     "output_type": "stream",
     "text": [
      "Query ejecutada correctamente.\n"
     ]
    },
    {
     "name": "stderr",
     "output_type": "stream",
     "text": [
      "Insertando registros:  88%|████████▊ | 1374/1560 [45:07<05:46,  1.86s/it]"
     ]
    },
    {
     "name": "stdout",
     "output_type": "stream",
     "text": [
      "Query ejecutada correctamente.\n",
      "Query ejecutada correctamente.\n",
      "Query ejecutada correctamente.\n"
     ]
    },
    {
     "name": "stderr",
     "output_type": "stream",
     "text": [
      "Insertando registros:  88%|████████▊ | 1375/1560 [45:09<06:15,  2.03s/it]"
     ]
    },
    {
     "name": "stdout",
     "output_type": "stream",
     "text": [
      "Query ejecutada correctamente.\n",
      "Query ejecutada correctamente.\n",
      "Query ejecutada correctamente.\n"
     ]
    },
    {
     "name": "stderr",
     "output_type": "stream",
     "text": [
      "Insertando registros:  88%|████████▊ | 1376/1560 [45:12<06:33,  2.14s/it]"
     ]
    },
    {
     "name": "stdout",
     "output_type": "stream",
     "text": [
      "Query ejecutada correctamente.\n"
     ]
    },
    {
     "name": "stderr",
     "output_type": "stream",
     "text": [
      "Insertando registros:  88%|████████▊ | 1377/1560 [45:13<05:20,  1.75s/it]"
     ]
    },
    {
     "name": "stdout",
     "output_type": "stream",
     "text": [
      "Query ejecutada correctamente.\n"
     ]
    },
    {
     "name": "stderr",
     "output_type": "stream",
     "text": [
      "Insertando registros:  88%|████████▊ | 1378/1560 [45:13<04:30,  1.48s/it]"
     ]
    },
    {
     "name": "stdout",
     "output_type": "stream",
     "text": [
      "Query ejecutada correctamente.\n",
      "Query ejecutada correctamente.\n",
      "Query ejecutada correctamente.\n"
     ]
    },
    {
     "name": "stderr",
     "output_type": "stream",
     "text": [
      "Insertando registros:  88%|████████▊ | 1379/1560 [45:16<05:21,  1.78s/it]"
     ]
    },
    {
     "name": "stdout",
     "output_type": "stream",
     "text": [
      "Query ejecutada correctamente.\n",
      "Query ejecutada correctamente.\n",
      "Query ejecutada correctamente.\n"
     ]
    },
    {
     "name": "stderr",
     "output_type": "stream",
     "text": [
      "Insertando registros:  88%|████████▊ | 1380/1560 [45:18<05:52,  1.96s/it]"
     ]
    },
    {
     "name": "stdout",
     "output_type": "stream",
     "text": [
      "Query ejecutada correctamente.\n",
      "Query ejecutada correctamente.\n",
      "Query ejecutada correctamente.\n"
     ]
    },
    {
     "name": "stderr",
     "output_type": "stream",
     "text": [
      "Insertando registros:  89%|████████▊ | 1381/1560 [45:21<06:13,  2.09s/it]"
     ]
    },
    {
     "name": "stdout",
     "output_type": "stream",
     "text": [
      "Query ejecutada correctamente.\n",
      "Query ejecutada correctamente.\n",
      "Query ejecutada correctamente.\n"
     ]
    },
    {
     "name": "stderr",
     "output_type": "stream",
     "text": [
      "Insertando registros:  89%|████████▊ | 1382/1560 [45:23<06:26,  2.17s/it]"
     ]
    },
    {
     "name": "stdout",
     "output_type": "stream",
     "text": [
      "Query ejecutada correctamente.\n",
      "Query ejecutada correctamente.\n",
      "Query ejecutada correctamente.\n"
     ]
    },
    {
     "name": "stderr",
     "output_type": "stream",
     "text": [
      "Insertando registros:  89%|████████▊ | 1383/1560 [45:25<06:39,  2.26s/it]"
     ]
    },
    {
     "name": "stdout",
     "output_type": "stream",
     "text": [
      "Query ejecutada correctamente.\n"
     ]
    },
    {
     "name": "stderr",
     "output_type": "stream",
     "text": [
      "Insertando registros:  89%|████████▊ | 1384/1560 [45:26<05:20,  1.82s/it]"
     ]
    },
    {
     "name": "stdout",
     "output_type": "stream",
     "text": [
      "Query ejecutada correctamente.\n",
      "Query ejecutada correctamente.\n",
      "Query ejecutada correctamente.\n"
     ]
    },
    {
     "name": "stderr",
     "output_type": "stream",
     "text": [
      "Insertando registros:  89%|████████▉ | 1385/1560 [45:29<05:46,  1.98s/it]"
     ]
    },
    {
     "name": "stdout",
     "output_type": "stream",
     "text": [
      "Query ejecutada correctamente.\n",
      "Query ejecutada correctamente.\n",
      "Query ejecutada correctamente.\n"
     ]
    },
    {
     "name": "stderr",
     "output_type": "stream",
     "text": [
      "Insertando registros:  89%|████████▉ | 1386/1560 [45:31<06:05,  2.10s/it]"
     ]
    },
    {
     "name": "stdout",
     "output_type": "stream",
     "text": [
      "Query ejecutada correctamente.\n",
      "Query ejecutada correctamente.\n",
      "Query ejecutada correctamente.\n"
     ]
    },
    {
     "name": "stderr",
     "output_type": "stream",
     "text": [
      "Insertando registros:  89%|████████▉ | 1387/1560 [45:33<06:19,  2.19s/it]"
     ]
    },
    {
     "name": "stdout",
     "output_type": "stream",
     "text": [
      "Query ejecutada correctamente.\n"
     ]
    },
    {
     "name": "stderr",
     "output_type": "stream",
     "text": [
      "Insertando registros:  89%|████████▉ | 1388/1560 [45:34<05:04,  1.77s/it]"
     ]
    },
    {
     "name": "stdout",
     "output_type": "stream",
     "text": [
      "Query ejecutada correctamente.\n"
     ]
    },
    {
     "name": "stderr",
     "output_type": "stream",
     "text": [
      "Insertando registros:  89%|████████▉ | 1389/1560 [45:35<04:13,  1.48s/it]"
     ]
    },
    {
     "name": "stdout",
     "output_type": "stream",
     "text": [
      "Query ejecutada correctamente.\n",
      "Query ejecutada correctamente.\n",
      "Query ejecutada correctamente.\n"
     ]
    },
    {
     "name": "stderr",
     "output_type": "stream",
     "text": [
      "Insertando registros:  89%|████████▉ | 1390/1560 [45:37<04:57,  1.75s/it]"
     ]
    },
    {
     "name": "stdout",
     "output_type": "stream",
     "text": [
      "Query ejecutada correctamente.\n",
      "Query ejecutada correctamente.\n",
      "Query ejecutada correctamente.\n"
     ]
    },
    {
     "name": "stderr",
     "output_type": "stream",
     "text": [
      "Insertando registros:  89%|████████▉ | 1391/1560 [45:40<05:30,  1.95s/it]"
     ]
    },
    {
     "name": "stdout",
     "output_type": "stream",
     "text": [
      "Query ejecutada correctamente.\n",
      "Query ejecutada correctamente.\n",
      "Query ejecutada correctamente.\n"
     ]
    },
    {
     "name": "stderr",
     "output_type": "stream",
     "text": [
      "Insertando registros:  89%|████████▉ | 1392/1560 [45:42<05:49,  2.08s/it]"
     ]
    },
    {
     "name": "stdout",
     "output_type": "stream",
     "text": [
      "Query ejecutada correctamente.\n",
      "Query ejecutada correctamente.\n",
      "Query ejecutada correctamente.\n"
     ]
    },
    {
     "name": "stderr",
     "output_type": "stream",
     "text": [
      "Insertando registros:  89%|████████▉ | 1393/1560 [45:44<06:01,  2.16s/it]"
     ]
    },
    {
     "name": "stdout",
     "output_type": "stream",
     "text": [
      "Query ejecutada correctamente.\n",
      "Query ejecutada correctamente.\n",
      "Query ejecutada correctamente.\n"
     ]
    },
    {
     "name": "stderr",
     "output_type": "stream",
     "text": [
      "Insertando registros:  89%|████████▉ | 1394/1560 [45:47<06:12,  2.24s/it]"
     ]
    },
    {
     "name": "stdout",
     "output_type": "stream",
     "text": [
      "Query ejecutada correctamente.\n",
      "Query ejecutada correctamente.\n",
      "Query ejecutada correctamente.\n"
     ]
    },
    {
     "name": "stderr",
     "output_type": "stream",
     "text": [
      "Insertando registros:  89%|████████▉ | 1395/1560 [45:49<06:25,  2.33s/it]"
     ]
    },
    {
     "name": "stdout",
     "output_type": "stream",
     "text": [
      "Query ejecutada correctamente.\n",
      "Query ejecutada correctamente.\n",
      "Query ejecutada correctamente.\n"
     ]
    },
    {
     "name": "stderr",
     "output_type": "stream",
     "text": [
      "Insertando registros:  89%|████████▉ | 1396/1560 [45:52<06:27,  2.36s/it]"
     ]
    },
    {
     "name": "stdout",
     "output_type": "stream",
     "text": [
      "Query ejecutada correctamente.\n",
      "Query ejecutada correctamente.\n",
      "Query ejecutada correctamente.\n"
     ]
    },
    {
     "name": "stderr",
     "output_type": "stream",
     "text": [
      "Insertando registros:  90%|████████▉ | 1397/1560 [45:54<06:27,  2.38s/it]"
     ]
    },
    {
     "name": "stdout",
     "output_type": "stream",
     "text": [
      "Query ejecutada correctamente.\n",
      "Query ejecutada correctamente.\n",
      "Query ejecutada correctamente.\n"
     ]
    },
    {
     "name": "stderr",
     "output_type": "stream",
     "text": [
      "Insertando registros:  90%|████████▉ | 1398/1560 [45:57<06:29,  2.41s/it]"
     ]
    },
    {
     "name": "stdout",
     "output_type": "stream",
     "text": [
      "Query ejecutada correctamente.\n",
      "Query ejecutada correctamente.\n",
      "Query ejecutada correctamente.\n"
     ]
    },
    {
     "name": "stderr",
     "output_type": "stream",
     "text": [
      "Insertando registros:  90%|████████▉ | 1399/1560 [45:59<06:27,  2.40s/it]"
     ]
    },
    {
     "name": "stdout",
     "output_type": "stream",
     "text": [
      "Query ejecutada correctamente.\n"
     ]
    },
    {
     "name": "stderr",
     "output_type": "stream",
     "text": [
      "Insertando registros:  90%|████████▉ | 1400/1560 [46:00<05:06,  1.91s/it]"
     ]
    },
    {
     "name": "stdout",
     "output_type": "stream",
     "text": [
      "Query ejecutada correctamente.\n",
      "Query ejecutada correctamente.\n",
      "Query ejecutada correctamente.\n"
     ]
    },
    {
     "name": "stderr",
     "output_type": "stream",
     "text": [
      "Insertando registros:  90%|████████▉ | 1401/1560 [46:02<05:27,  2.06s/it]"
     ]
    },
    {
     "name": "stdout",
     "output_type": "stream",
     "text": [
      "Query ejecutada correctamente.\n"
     ]
    },
    {
     "name": "stderr",
     "output_type": "stream",
     "text": [
      "Insertando registros:  90%|████████▉ | 1402/1560 [46:03<04:26,  1.69s/it]"
     ]
    },
    {
     "name": "stdout",
     "output_type": "stream",
     "text": [
      "Query ejecutada correctamente.\n",
      "Query ejecutada correctamente.\n",
      "Query ejecutada correctamente.\n"
     ]
    },
    {
     "name": "stderr",
     "output_type": "stream",
     "text": [
      "Insertando registros:  90%|████████▉ | 1403/1560 [46:06<04:58,  1.90s/it]"
     ]
    },
    {
     "name": "stdout",
     "output_type": "stream",
     "text": [
      "Query ejecutada correctamente.\n"
     ]
    },
    {
     "name": "stderr",
     "output_type": "stream",
     "text": [
      "Insertando registros:  90%|█████████ | 1404/1560 [46:06<04:05,  1.57s/it]"
     ]
    },
    {
     "name": "stdout",
     "output_type": "stream",
     "text": [
      "Query ejecutada correctamente.\n",
      "Query ejecutada correctamente.\n",
      "Query ejecutada correctamente.\n"
     ]
    },
    {
     "name": "stderr",
     "output_type": "stream",
     "text": [
      "Insertando registros:  90%|█████████ | 1405/1560 [46:09<04:41,  1.82s/it]"
     ]
    },
    {
     "name": "stdout",
     "output_type": "stream",
     "text": [
      "Query ejecutada correctamente.\n",
      "Query ejecutada correctamente.\n",
      "Query ejecutada correctamente.\n"
     ]
    },
    {
     "name": "stderr",
     "output_type": "stream",
     "text": [
      "Insertando registros:  90%|█████████ | 1406/1560 [46:11<05:09,  2.01s/it]"
     ]
    },
    {
     "name": "stdout",
     "output_type": "stream",
     "text": [
      "Query ejecutada correctamente.\n",
      "Query ejecutada correctamente.\n",
      "Query ejecutada correctamente.\n"
     ]
    },
    {
     "name": "stderr",
     "output_type": "stream",
     "text": [
      "Insertando registros:  90%|█████████ | 1407/1560 [46:14<05:24,  2.12s/it]"
     ]
    },
    {
     "name": "stdout",
     "output_type": "stream",
     "text": [
      "Query ejecutada correctamente.\n",
      "Query ejecutada correctamente.\n",
      "Query ejecutada correctamente.\n"
     ]
    },
    {
     "name": "stderr",
     "output_type": "stream",
     "text": [
      "Insertando registros:  90%|█████████ | 1408/1560 [46:16<05:36,  2.21s/it]"
     ]
    },
    {
     "name": "stdout",
     "output_type": "stream",
     "text": [
      "Query ejecutada correctamente.\n",
      "Query ejecutada correctamente.\n",
      "Query ejecutada correctamente.\n"
     ]
    },
    {
     "name": "stderr",
     "output_type": "stream",
     "text": [
      "Insertando registros:  90%|█████████ | 1409/1560 [46:18<05:43,  2.27s/it]"
     ]
    },
    {
     "name": "stdout",
     "output_type": "stream",
     "text": [
      "Query ejecutada correctamente.\n"
     ]
    },
    {
     "name": "stderr",
     "output_type": "stream",
     "text": [
      "Insertando registros:  90%|█████████ | 1410/1560 [46:19<04:34,  1.83s/it]"
     ]
    },
    {
     "name": "stdout",
     "output_type": "stream",
     "text": [
      "Query ejecutada correctamente.\n",
      "Query ejecutada correctamente.\n",
      "Query ejecutada correctamente.\n"
     ]
    },
    {
     "name": "stderr",
     "output_type": "stream",
     "text": [
      "Insertando registros:  90%|█████████ | 1411/1560 [46:22<05:00,  2.02s/it]"
     ]
    },
    {
     "name": "stdout",
     "output_type": "stream",
     "text": [
      "Query ejecutada correctamente.\n",
      "Query ejecutada correctamente.\n",
      "Query ejecutada correctamente.\n"
     ]
    },
    {
     "name": "stderr",
     "output_type": "stream",
     "text": [
      "Insertando registros:  91%|█████████ | 1412/1560 [46:24<05:16,  2.14s/it]"
     ]
    },
    {
     "name": "stdout",
     "output_type": "stream",
     "text": [
      "Query ejecutada correctamente.\n"
     ]
    },
    {
     "name": "stderr",
     "output_type": "stream",
     "text": [
      "Insertando registros:  91%|█████████ | 1413/1560 [46:25<04:15,  1.74s/it]"
     ]
    },
    {
     "name": "stdout",
     "output_type": "stream",
     "text": [
      "Query ejecutada correctamente.\n",
      "Query ejecutada correctamente.\n",
      "Query ejecutada correctamente.\n"
     ]
    },
    {
     "name": "stderr",
     "output_type": "stream",
     "text": [
      "Insertando registros:  91%|█████████ | 1414/1560 [46:27<04:40,  1.92s/it]"
     ]
    },
    {
     "name": "stdout",
     "output_type": "stream",
     "text": [
      "Query ejecutada correctamente.\n"
     ]
    },
    {
     "name": "stderr",
     "output_type": "stream",
     "text": [
      "Insertando registros:  91%|█████████ | 1415/1560 [46:28<03:50,  1.59s/it]"
     ]
    },
    {
     "name": "stdout",
     "output_type": "stream",
     "text": [
      "Query ejecutada correctamente.\n",
      "Query ejecutada correctamente.\n",
      "Query ejecutada correctamente.\n"
     ]
    },
    {
     "name": "stderr",
     "output_type": "stream",
     "text": [
      "Insertando registros:  91%|█████████ | 1416/1560 [46:30<04:23,  1.83s/it]"
     ]
    },
    {
     "name": "stdout",
     "output_type": "stream",
     "text": [
      "Query ejecutada correctamente.\n",
      "Query ejecutada correctamente.\n",
      "Query ejecutada correctamente.\n"
     ]
    },
    {
     "name": "stderr",
     "output_type": "stream",
     "text": [
      "Insertando registros:  91%|█████████ | 1417/1560 [46:33<04:44,  1.99s/it]"
     ]
    },
    {
     "name": "stdout",
     "output_type": "stream",
     "text": [
      "Query ejecutada correctamente.\n",
      "Query ejecutada correctamente.\n",
      "Query ejecutada correctamente.\n"
     ]
    },
    {
     "name": "stderr",
     "output_type": "stream",
     "text": [
      "Insertando registros:  91%|█████████ | 1418/1560 [46:35<05:00,  2.11s/it]"
     ]
    },
    {
     "name": "stdout",
     "output_type": "stream",
     "text": [
      "Query ejecutada correctamente.\n",
      "Query ejecutada correctamente.\n",
      "Query ejecutada correctamente.\n"
     ]
    },
    {
     "name": "stderr",
     "output_type": "stream",
     "text": [
      "Insertando registros:  91%|█████████ | 1419/1560 [46:38<05:09,  2.20s/it]"
     ]
    },
    {
     "name": "stdout",
     "output_type": "stream",
     "text": [
      "Query ejecutada correctamente.\n",
      "Query ejecutada correctamente.\n",
      "Query ejecutada correctamente.\n"
     ]
    },
    {
     "name": "stderr",
     "output_type": "stream",
     "text": [
      "Insertando registros:  91%|█████████ | 1420/1560 [46:40<05:15,  2.26s/it]"
     ]
    },
    {
     "name": "stdout",
     "output_type": "stream",
     "text": [
      "Query ejecutada correctamente.\n",
      "Query ejecutada correctamente.\n",
      "Query ejecutada correctamente.\n"
     ]
    },
    {
     "name": "stderr",
     "output_type": "stream",
     "text": [
      "Insertando registros:  91%|█████████ | 1421/1560 [46:42<05:18,  2.29s/it]"
     ]
    },
    {
     "name": "stdout",
     "output_type": "stream",
     "text": [
      "Query ejecutada correctamente.\n"
     ]
    },
    {
     "name": "stderr",
     "output_type": "stream",
     "text": [
      "Insertando registros:  91%|█████████ | 1422/1560 [46:43<04:13,  1.84s/it]"
     ]
    },
    {
     "name": "stdout",
     "output_type": "stream",
     "text": [
      "Query ejecutada correctamente.\n"
     ]
    },
    {
     "name": "stderr",
     "output_type": "stream",
     "text": [
      "Insertando registros:  91%|█████████ | 1423/1560 [46:44<03:28,  1.53s/it]"
     ]
    },
    {
     "name": "stdout",
     "output_type": "stream",
     "text": [
      "Query ejecutada correctamente.\n",
      "Query ejecutada correctamente.\n",
      "Query ejecutada correctamente.\n"
     ]
    },
    {
     "name": "stderr",
     "output_type": "stream",
     "text": [
      "Insertando registros:  91%|█████████▏| 1424/1560 [46:46<04:02,  1.78s/it]"
     ]
    },
    {
     "name": "stdout",
     "output_type": "stream",
     "text": [
      "Query ejecutada correctamente.\n",
      "Query ejecutada correctamente.\n",
      "Query ejecutada correctamente.\n"
     ]
    },
    {
     "name": "stderr",
     "output_type": "stream",
     "text": [
      "Insertando registros:  91%|█████████▏| 1425/1560 [46:49<04:26,  1.97s/it]"
     ]
    },
    {
     "name": "stdout",
     "output_type": "stream",
     "text": [
      "Query ejecutada correctamente.\n",
      "Query ejecutada correctamente.\n",
      "Query ejecutada correctamente.\n"
     ]
    },
    {
     "name": "stderr",
     "output_type": "stream",
     "text": [
      "Insertando registros:  91%|█████████▏| 1426/1560 [46:51<04:40,  2.09s/it]"
     ]
    },
    {
     "name": "stdout",
     "output_type": "stream",
     "text": [
      "Query ejecutada correctamente.\n"
     ]
    },
    {
     "name": "stderr",
     "output_type": "stream",
     "text": [
      "Insertando registros:  91%|█████████▏| 1427/1560 [46:52<03:46,  1.71s/it]"
     ]
    },
    {
     "name": "stdout",
     "output_type": "stream",
     "text": [
      "Query ejecutada correctamente.\n",
      "Query ejecutada correctamente.\n",
      "Query ejecutada correctamente.\n"
     ]
    },
    {
     "name": "stderr",
     "output_type": "stream",
     "text": [
      "Insertando registros:  92%|█████████▏| 1428/1560 [46:54<04:11,  1.91s/it]"
     ]
    },
    {
     "name": "stdout",
     "output_type": "stream",
     "text": [
      "Query ejecutada correctamente.\n"
     ]
    },
    {
     "name": "stderr",
     "output_type": "stream",
     "text": [
      "Insertando registros:  92%|█████████▏| 1429/1560 [46:55<03:26,  1.58s/it]"
     ]
    },
    {
     "name": "stdout",
     "output_type": "stream",
     "text": [
      "Query ejecutada correctamente.\n",
      "Query ejecutada correctamente.\n",
      "Query ejecutada correctamente.\n"
     ]
    },
    {
     "name": "stderr",
     "output_type": "stream",
     "text": [
      "Insertando registros:  92%|█████████▏| 1430/1560 [46:58<03:57,  1.83s/it]"
     ]
    },
    {
     "name": "stdout",
     "output_type": "stream",
     "text": [
      "Query ejecutada correctamente.\n",
      "Query ejecutada correctamente.\n",
      "Query ejecutada correctamente.\n"
     ]
    },
    {
     "name": "stderr",
     "output_type": "stream",
     "text": [
      "Insertando registros:  92%|█████████▏| 1431/1560 [47:00<04:17,  2.00s/it]"
     ]
    },
    {
     "name": "stdout",
     "output_type": "stream",
     "text": [
      "Query ejecutada correctamente.\n",
      "Query ejecutada correctamente.\n",
      "Query ejecutada correctamente.\n"
     ]
    },
    {
     "name": "stderr",
     "output_type": "stream",
     "text": [
      "Insertando registros:  92%|█████████▏| 1432/1560 [47:02<04:29,  2.11s/it]"
     ]
    },
    {
     "name": "stdout",
     "output_type": "stream",
     "text": [
      "Query ejecutada correctamente.\n",
      "Query ejecutada correctamente.\n",
      "Query ejecutada correctamente.\n"
     ]
    },
    {
     "name": "stderr",
     "output_type": "stream",
     "text": [
      "Insertando registros:  92%|█████████▏| 1433/1560 [47:05<04:38,  2.19s/it]"
     ]
    },
    {
     "name": "stdout",
     "output_type": "stream",
     "text": [
      "Query ejecutada correctamente.\n"
     ]
    },
    {
     "name": "stderr",
     "output_type": "stream",
     "text": [
      "Insertando registros:  92%|█████████▏| 1434/1560 [47:05<03:43,  1.77s/it]"
     ]
    },
    {
     "name": "stdout",
     "output_type": "stream",
     "text": [
      "Query ejecutada correctamente.\n",
      "Query ejecutada correctamente.\n",
      "Query ejecutada correctamente.\n"
     ]
    },
    {
     "name": "stderr",
     "output_type": "stream",
     "text": [
      "Insertando registros:  92%|█████████▏| 1435/1560 [47:08<04:04,  1.96s/it]"
     ]
    },
    {
     "name": "stdout",
     "output_type": "stream",
     "text": [
      "Query ejecutada correctamente.\n",
      "Query ejecutada correctamente.\n",
      "Query ejecutada correctamente.\n"
     ]
    },
    {
     "name": "stderr",
     "output_type": "stream",
     "text": [
      "Insertando registros:  92%|█████████▏| 1436/1560 [47:10<04:21,  2.11s/it]"
     ]
    },
    {
     "name": "stdout",
     "output_type": "stream",
     "text": [
      "Query ejecutada correctamente.\n"
     ]
    },
    {
     "name": "stderr",
     "output_type": "stream",
     "text": [
      "Insertando registros:  92%|█████████▏| 1437/1560 [47:11<03:31,  1.72s/it]"
     ]
    },
    {
     "name": "stdout",
     "output_type": "stream",
     "text": [
      "Query ejecutada correctamente.\n"
     ]
    },
    {
     "name": "stderr",
     "output_type": "stream",
     "text": [
      "Insertando registros:  92%|█████████▏| 1438/1560 [47:12<02:55,  1.44s/it]"
     ]
    },
    {
     "name": "stdout",
     "output_type": "stream",
     "text": [
      "Query ejecutada correctamente.\n"
     ]
    },
    {
     "name": "stderr",
     "output_type": "stream",
     "text": [
      "Insertando registros:  92%|█████████▏| 1439/1560 [47:13<02:30,  1.25s/it]"
     ]
    },
    {
     "name": "stdout",
     "output_type": "stream",
     "text": [
      "Query ejecutada correctamente.\n",
      "Query ejecutada correctamente.\n",
      "Query ejecutada correctamente.\n"
     ]
    },
    {
     "name": "stderr",
     "output_type": "stream",
     "text": [
      "Insertando registros:  92%|█████████▏| 1440/1560 [47:15<03:08,  1.57s/it]"
     ]
    },
    {
     "name": "stdout",
     "output_type": "stream",
     "text": [
      "Query ejecutada correctamente.\n"
     ]
    },
    {
     "name": "stderr",
     "output_type": "stream",
     "text": [
      "Insertando registros:  92%|█████████▏| 1441/1560 [47:16<02:39,  1.34s/it]"
     ]
    },
    {
     "name": "stdout",
     "output_type": "stream",
     "text": [
      "Query ejecutada correctamente.\n"
     ]
    },
    {
     "name": "stderr",
     "output_type": "stream",
     "text": [
      "Insertando registros:  92%|█████████▏| 1442/1560 [47:17<02:18,  1.18s/it]"
     ]
    },
    {
     "name": "stdout",
     "output_type": "stream",
     "text": [
      "Query ejecutada correctamente.\n",
      "Query ejecutada correctamente.\n",
      "Query ejecutada correctamente.\n"
     ]
    },
    {
     "name": "stderr",
     "output_type": "stream",
     "text": [
      "Insertando registros:  92%|█████████▎| 1443/1560 [47:19<02:59,  1.54s/it]"
     ]
    },
    {
     "name": "stdout",
     "output_type": "stream",
     "text": [
      "Query ejecutada correctamente.\n",
      "Query ejecutada correctamente.\n",
      "Query ejecutada correctamente.\n"
     ]
    },
    {
     "name": "stderr",
     "output_type": "stream",
     "text": [
      "Insertando registros:  93%|█████████▎| 1444/1560 [47:21<03:26,  1.78s/it]"
     ]
    },
    {
     "name": "stdout",
     "output_type": "stream",
     "text": [
      "Query ejecutada correctamente.\n",
      "Query ejecutada correctamente.\n",
      "Query ejecutada correctamente.\n"
     ]
    },
    {
     "name": "stderr",
     "output_type": "stream",
     "text": [
      "Insertando registros:  93%|█████████▎| 1445/1560 [47:24<03:44,  1.96s/it]"
     ]
    },
    {
     "name": "stdout",
     "output_type": "stream",
     "text": [
      "Query ejecutada correctamente.\n",
      "Query ejecutada correctamente.\n",
      "Query ejecutada correctamente.\n"
     ]
    },
    {
     "name": "stderr",
     "output_type": "stream",
     "text": [
      "Insertando registros:  93%|█████████▎| 1446/1560 [47:26<03:56,  2.08s/it]"
     ]
    },
    {
     "name": "stdout",
     "output_type": "stream",
     "text": [
      "Query ejecutada correctamente.\n"
     ]
    },
    {
     "name": "stderr",
     "output_type": "stream",
     "text": [
      "Insertando registros:  93%|█████████▎| 1447/1560 [47:27<03:12,  1.70s/it]"
     ]
    },
    {
     "name": "stdout",
     "output_type": "stream",
     "text": [
      "Query ejecutada correctamente.\n",
      "Query ejecutada correctamente.\n",
      "Query ejecutada correctamente.\n"
     ]
    },
    {
     "name": "stderr",
     "output_type": "stream",
     "text": [
      "Insertando registros:  93%|█████████▎| 1448/1560 [47:29<03:31,  1.89s/it]"
     ]
    },
    {
     "name": "stdout",
     "output_type": "stream",
     "text": [
      "Query ejecutada correctamente.\n",
      "Query ejecutada correctamente.\n",
      "Query ejecutada correctamente.\n"
     ]
    },
    {
     "name": "stderr",
     "output_type": "stream",
     "text": [
      "Insertando registros:  93%|█████████▎| 1449/1560 [47:32<03:46,  2.04s/it]"
     ]
    },
    {
     "name": "stdout",
     "output_type": "stream",
     "text": [
      "Query ejecutada correctamente.\n"
     ]
    },
    {
     "name": "stderr",
     "output_type": "stream",
     "text": [
      "Insertando registros:  93%|█████████▎| 1450/1560 [47:32<03:04,  1.67s/it]"
     ]
    },
    {
     "name": "stdout",
     "output_type": "stream",
     "text": [
      "Query ejecutada correctamente.\n",
      "Query ejecutada correctamente.\n",
      "Query ejecutada correctamente.\n"
     ]
    },
    {
     "name": "stderr",
     "output_type": "stream",
     "text": [
      "Insertando registros:  93%|█████████▎| 1451/1560 [47:35<03:26,  1.89s/it]"
     ]
    },
    {
     "name": "stdout",
     "output_type": "stream",
     "text": [
      "Query ejecutada correctamente.\n",
      "Query ejecutada correctamente.\n",
      "Query ejecutada correctamente.\n"
     ]
    },
    {
     "name": "stderr",
     "output_type": "stream",
     "text": [
      "Insertando registros:  93%|█████████▎| 1452/1560 [47:37<03:45,  2.09s/it]"
     ]
    },
    {
     "name": "stdout",
     "output_type": "stream",
     "text": [
      "Query ejecutada correctamente.\n"
     ]
    },
    {
     "name": "stderr",
     "output_type": "stream",
     "text": [
      "Insertando registros:  93%|█████████▎| 1453/1560 [47:38<03:02,  1.70s/it]"
     ]
    },
    {
     "name": "stdout",
     "output_type": "stream",
     "text": [
      "Query ejecutada correctamente.\n",
      "Query ejecutada correctamente.\n",
      "Query ejecutada correctamente.\n"
     ]
    },
    {
     "name": "stderr",
     "output_type": "stream",
     "text": [
      "Insertando registros:  93%|█████████▎| 1454/1560 [47:41<03:21,  1.91s/it]"
     ]
    },
    {
     "name": "stdout",
     "output_type": "stream",
     "text": [
      "Query ejecutada correctamente.\n",
      "Query ejecutada correctamente.\n",
      "Query ejecutada correctamente.\n"
     ]
    },
    {
     "name": "stderr",
     "output_type": "stream",
     "text": [
      "Insertando registros:  93%|█████████▎| 1455/1560 [47:43<03:36,  2.06s/it]"
     ]
    },
    {
     "name": "stdout",
     "output_type": "stream",
     "text": [
      "Query ejecutada correctamente.\n",
      "Query ejecutada correctamente.\n",
      "Query ejecutada correctamente.\n"
     ]
    },
    {
     "name": "stderr",
     "output_type": "stream",
     "text": [
      "Insertando registros:  93%|█████████▎| 1456/1560 [47:45<03:43,  2.15s/it]"
     ]
    },
    {
     "name": "stdout",
     "output_type": "stream",
     "text": [
      "Query ejecutada correctamente.\n",
      "Query ejecutada correctamente.\n",
      "Query ejecutada correctamente.\n"
     ]
    },
    {
     "name": "stderr",
     "output_type": "stream",
     "text": [
      "Insertando registros:  93%|█████████▎| 1457/1560 [47:48<03:47,  2.21s/it]"
     ]
    },
    {
     "name": "stdout",
     "output_type": "stream",
     "text": [
      "Query ejecutada correctamente.\n",
      "Query ejecutada correctamente.\n",
      "Query ejecutada correctamente.\n"
     ]
    },
    {
     "name": "stderr",
     "output_type": "stream",
     "text": [
      "Insertando registros:  93%|█████████▎| 1458/1560 [47:50<03:50,  2.26s/it]"
     ]
    },
    {
     "name": "stdout",
     "output_type": "stream",
     "text": [
      "Query ejecutada correctamente.\n",
      "Query ejecutada correctamente.\n",
      "Query ejecutada correctamente.\n"
     ]
    },
    {
     "name": "stderr",
     "output_type": "stream",
     "text": [
      "Insertando registros:  94%|█████████▎| 1459/1560 [47:53<03:52,  2.30s/it]"
     ]
    },
    {
     "name": "stdout",
     "output_type": "stream",
     "text": [
      "Query ejecutada correctamente.\n",
      "Query ejecutada correctamente.\n",
      "Query ejecutada correctamente.\n"
     ]
    },
    {
     "name": "stderr",
     "output_type": "stream",
     "text": [
      "Insertando registros:  94%|█████████▎| 1460/1560 [47:55<03:53,  2.34s/it]"
     ]
    },
    {
     "name": "stdout",
     "output_type": "stream",
     "text": [
      "Query ejecutada correctamente.\n",
      "Query ejecutada correctamente.\n",
      "Query ejecutada correctamente.\n"
     ]
    },
    {
     "name": "stderr",
     "output_type": "stream",
     "text": [
      "Insertando registros:  94%|█████████▎| 1461/1560 [47:57<03:52,  2.35s/it]"
     ]
    },
    {
     "name": "stdout",
     "output_type": "stream",
     "text": [
      "Query ejecutada correctamente.\n",
      "Query ejecutada correctamente.\n",
      "Query ejecutada correctamente.\n"
     ]
    },
    {
     "name": "stderr",
     "output_type": "stream",
     "text": [
      "Insertando registros:  94%|█████████▎| 1462/1560 [48:00<03:51,  2.37s/it]"
     ]
    },
    {
     "name": "stdout",
     "output_type": "stream",
     "text": [
      "Query ejecutada correctamente.\n",
      "Query ejecutada correctamente.\n",
      "Query ejecutada correctamente.\n"
     ]
    },
    {
     "name": "stderr",
     "output_type": "stream",
     "text": [
      "Insertando registros:  94%|█████████▍| 1463/1560 [48:02<03:48,  2.36s/it]"
     ]
    },
    {
     "name": "stdout",
     "output_type": "stream",
     "text": [
      "Query ejecutada correctamente.\n",
      "Query ejecutada correctamente.\n",
      "Query ejecutada correctamente.\n"
     ]
    },
    {
     "name": "stderr",
     "output_type": "stream",
     "text": [
      "Insertando registros:  94%|█████████▍| 1464/1560 [48:04<03:47,  2.37s/it]"
     ]
    },
    {
     "name": "stdout",
     "output_type": "stream",
     "text": [
      "Query ejecutada correctamente.\n",
      "Query ejecutada correctamente.\n",
      "Query ejecutada correctamente.\n"
     ]
    },
    {
     "name": "stderr",
     "output_type": "stream",
     "text": [
      "Insertando registros:  94%|█████████▍| 1465/1560 [48:07<03:44,  2.37s/it]"
     ]
    },
    {
     "name": "stdout",
     "output_type": "stream",
     "text": [
      "Query ejecutada correctamente.\n"
     ]
    },
    {
     "name": "stderr",
     "output_type": "stream",
     "text": [
      "Insertando registros:  94%|█████████▍| 1466/1560 [48:08<02:58,  1.90s/it]"
     ]
    },
    {
     "name": "stdout",
     "output_type": "stream",
     "text": [
      "Query ejecutada correctamente.\n",
      "Query ejecutada correctamente.\n",
      "Query ejecutada correctamente.\n"
     ]
    },
    {
     "name": "stderr",
     "output_type": "stream",
     "text": [
      "Insertando registros:  94%|█████████▍| 1467/1560 [48:10<03:10,  2.05s/it]"
     ]
    },
    {
     "name": "stdout",
     "output_type": "stream",
     "text": [
      "Query ejecutada correctamente.\n"
     ]
    },
    {
     "name": "stderr",
     "output_type": "stream",
     "text": [
      "Insertando registros:  94%|█████████▍| 1468/1560 [48:11<02:33,  1.67s/it]"
     ]
    },
    {
     "name": "stdout",
     "output_type": "stream",
     "text": [
      "Query ejecutada correctamente.\n",
      "Query ejecutada correctamente.\n",
      "Query ejecutada correctamente.\n"
     ]
    },
    {
     "name": "stderr",
     "output_type": "stream",
     "text": [
      "Insertando registros:  94%|█████████▍| 1469/1560 [48:13<02:53,  1.91s/it]"
     ]
    },
    {
     "name": "stdout",
     "output_type": "stream",
     "text": [
      "Query ejecutada correctamente.\n",
      "Query ejecutada correctamente.\n",
      "Query ejecutada correctamente.\n"
     ]
    },
    {
     "name": "stderr",
     "output_type": "stream",
     "text": [
      "Insertando registros:  94%|█████████▍| 1470/1560 [48:16<03:07,  2.08s/it]"
     ]
    },
    {
     "name": "stdout",
     "output_type": "stream",
     "text": [
      "Query ejecutada correctamente.\n"
     ]
    },
    {
     "name": "stderr",
     "output_type": "stream",
     "text": [
      "Insertando registros:  94%|█████████▍| 1471/1560 [48:17<02:31,  1.70s/it]"
     ]
    },
    {
     "name": "stdout",
     "output_type": "stream",
     "text": [
      "Query ejecutada correctamente.\n"
     ]
    },
    {
     "name": "stderr",
     "output_type": "stream",
     "text": [
      "Insertando registros:  94%|█████████▍| 1472/1560 [48:17<02:07,  1.44s/it]"
     ]
    },
    {
     "name": "stdout",
     "output_type": "stream",
     "text": [
      "Query ejecutada correctamente.\n"
     ]
    },
    {
     "name": "stderr",
     "output_type": "stream",
     "text": [
      "Insertando registros:  94%|█████████▍| 1473/1560 [48:18<01:50,  1.27s/it]"
     ]
    },
    {
     "name": "stdout",
     "output_type": "stream",
     "text": [
      "Query ejecutada correctamente.\n"
     ]
    },
    {
     "name": "stderr",
     "output_type": "stream",
     "text": [
      "Insertando registros:  94%|█████████▍| 1474/1560 [48:19<01:37,  1.13s/it]"
     ]
    },
    {
     "name": "stdout",
     "output_type": "stream",
     "text": [
      "Query ejecutada correctamente.\n"
     ]
    },
    {
     "name": "stderr",
     "output_type": "stream",
     "text": [
      "Insertando registros:  95%|█████████▍| 1475/1560 [48:20<01:27,  1.03s/it]"
     ]
    },
    {
     "name": "stdout",
     "output_type": "stream",
     "text": [
      "Query ejecutada correctamente.\n"
     ]
    },
    {
     "name": "stderr",
     "output_type": "stream",
     "text": [
      "Insertando registros:  95%|█████████▍| 1476/1560 [48:21<01:20,  1.04it/s]"
     ]
    },
    {
     "name": "stdout",
     "output_type": "stream",
     "text": [
      "Query ejecutada correctamente.\n"
     ]
    },
    {
     "name": "stderr",
     "output_type": "stream",
     "text": [
      "Insertando registros:  95%|█████████▍| 1477/1560 [48:21<01:14,  1.11it/s]"
     ]
    },
    {
     "name": "stdout",
     "output_type": "stream",
     "text": [
      "Query ejecutada correctamente.\n"
     ]
    },
    {
     "name": "stderr",
     "output_type": "stream",
     "text": [
      "Insertando registros:  95%|█████████▍| 1478/1560 [48:22<01:11,  1.15it/s]"
     ]
    },
    {
     "name": "stdout",
     "output_type": "stream",
     "text": [
      "Query ejecutada correctamente.\n"
     ]
    },
    {
     "name": "stderr",
     "output_type": "stream",
     "text": [
      "Insertando registros:  95%|█████████▍| 1479/1560 [48:23<01:08,  1.18it/s]"
     ]
    },
    {
     "name": "stdout",
     "output_type": "stream",
     "text": [
      "Query ejecutada correctamente.\n"
     ]
    },
    {
     "name": "stderr",
     "output_type": "stream",
     "text": [
      "Insertando registros:  95%|█████████▍| 1480/1560 [48:24<01:06,  1.20it/s]"
     ]
    },
    {
     "name": "stdout",
     "output_type": "stream",
     "text": [
      "Query ejecutada correctamente.\n"
     ]
    },
    {
     "name": "stderr",
     "output_type": "stream",
     "text": [
      "Insertando registros:  95%|█████████▍| 1481/1560 [48:25<01:04,  1.22it/s]"
     ]
    },
    {
     "name": "stdout",
     "output_type": "stream",
     "text": [
      "Query ejecutada correctamente.\n"
     ]
    },
    {
     "name": "stderr",
     "output_type": "stream",
     "text": [
      "Insertando registros:  95%|█████████▌| 1482/1560 [48:25<01:03,  1.23it/s]"
     ]
    },
    {
     "name": "stdout",
     "output_type": "stream",
     "text": [
      "Query ejecutada correctamente.\n"
     ]
    },
    {
     "name": "stderr",
     "output_type": "stream",
     "text": [
      "Insertando registros:  95%|█████████▌| 1483/1560 [48:26<01:03,  1.22it/s]"
     ]
    },
    {
     "name": "stdout",
     "output_type": "stream",
     "text": [
      "Query ejecutada correctamente.\n"
     ]
    },
    {
     "name": "stderr",
     "output_type": "stream",
     "text": [
      "Insertando registros:  95%|█████████▌| 1484/1560 [48:27<01:03,  1.20it/s]"
     ]
    },
    {
     "name": "stdout",
     "output_type": "stream",
     "text": [
      "Query ejecutada correctamente.\n"
     ]
    },
    {
     "name": "stderr",
     "output_type": "stream",
     "text": [
      "Insertando registros:  95%|█████████▌| 1485/1560 [48:28<01:01,  1.22it/s]"
     ]
    },
    {
     "name": "stdout",
     "output_type": "stream",
     "text": [
      "Query ejecutada correctamente.\n"
     ]
    },
    {
     "name": "stderr",
     "output_type": "stream",
     "text": [
      "Insertando registros:  95%|█████████▌| 1486/1560 [48:29<01:00,  1.22it/s]"
     ]
    },
    {
     "name": "stdout",
     "output_type": "stream",
     "text": [
      "Query ejecutada correctamente.\n"
     ]
    },
    {
     "name": "stderr",
     "output_type": "stream",
     "text": [
      "Insertando registros:  95%|█████████▌| 1487/1560 [48:30<00:59,  1.23it/s]"
     ]
    },
    {
     "name": "stdout",
     "output_type": "stream",
     "text": [
      "Query ejecutada correctamente.\n"
     ]
    },
    {
     "name": "stderr",
     "output_type": "stream",
     "text": [
      "Insertando registros:  95%|█████████▌| 1488/1560 [48:30<00:58,  1.24it/s]"
     ]
    },
    {
     "name": "stdout",
     "output_type": "stream",
     "text": [
      "Query ejecutada correctamente.\n"
     ]
    },
    {
     "name": "stderr",
     "output_type": "stream",
     "text": [
      "Insertando registros:  95%|█████████▌| 1489/1560 [48:31<00:57,  1.24it/s]"
     ]
    },
    {
     "name": "stdout",
     "output_type": "stream",
     "text": [
      "Query ejecutada correctamente.\n"
     ]
    },
    {
     "name": "stderr",
     "output_type": "stream",
     "text": [
      "Insertando registros:  96%|█████████▌| 1490/1560 [48:32<00:56,  1.25it/s]"
     ]
    },
    {
     "name": "stdout",
     "output_type": "stream",
     "text": [
      "Query ejecutada correctamente.\n"
     ]
    },
    {
     "name": "stderr",
     "output_type": "stream",
     "text": [
      "Insertando registros:  96%|█████████▌| 1491/1560 [48:33<00:55,  1.25it/s]"
     ]
    },
    {
     "name": "stdout",
     "output_type": "stream",
     "text": [
      "Query ejecutada correctamente.\n"
     ]
    },
    {
     "name": "stderr",
     "output_type": "stream",
     "text": [
      "Insertando registros:  96%|█████████▌| 1492/1560 [48:33<00:54,  1.26it/s]"
     ]
    },
    {
     "name": "stdout",
     "output_type": "stream",
     "text": [
      "Query ejecutada correctamente.\n"
     ]
    },
    {
     "name": "stderr",
     "output_type": "stream",
     "text": [
      "Insertando registros:  96%|█████████▌| 1493/1560 [48:34<00:53,  1.24it/s]"
     ]
    },
    {
     "name": "stdout",
     "output_type": "stream",
     "text": [
      "Query ejecutada correctamente.\n"
     ]
    },
    {
     "name": "stderr",
     "output_type": "stream",
     "text": [
      "Insertando registros:  96%|█████████▌| 1494/1560 [48:35<00:52,  1.25it/s]"
     ]
    },
    {
     "name": "stdout",
     "output_type": "stream",
     "text": [
      "Query ejecutada correctamente.\n"
     ]
    },
    {
     "name": "stderr",
     "output_type": "stream",
     "text": [
      "Insertando registros:  96%|█████████▌| 1495/1560 [48:36<00:52,  1.25it/s]"
     ]
    },
    {
     "name": "stdout",
     "output_type": "stream",
     "text": [
      "Query ejecutada correctamente.\n"
     ]
    },
    {
     "name": "stderr",
     "output_type": "stream",
     "text": [
      "Insertando registros:  96%|█████████▌| 1496/1560 [48:37<00:51,  1.24it/s]"
     ]
    },
    {
     "name": "stdout",
     "output_type": "stream",
     "text": [
      "Query ejecutada correctamente.\n"
     ]
    },
    {
     "name": "stderr",
     "output_type": "stream",
     "text": [
      "Insertando registros:  96%|█████████▌| 1497/1560 [48:38<00:50,  1.25it/s]"
     ]
    },
    {
     "name": "stdout",
     "output_type": "stream",
     "text": [
      "Query ejecutada correctamente.\n"
     ]
    },
    {
     "name": "stderr",
     "output_type": "stream",
     "text": [
      "Insertando registros:  96%|█████████▌| 1498/1560 [48:38<00:49,  1.25it/s]"
     ]
    },
    {
     "name": "stdout",
     "output_type": "stream",
     "text": [
      "Query ejecutada correctamente.\n"
     ]
    },
    {
     "name": "stderr",
     "output_type": "stream",
     "text": [
      "Insertando registros:  96%|█████████▌| 1499/1560 [48:39<00:48,  1.25it/s]"
     ]
    },
    {
     "name": "stdout",
     "output_type": "stream",
     "text": [
      "Query ejecutada correctamente.\n"
     ]
    },
    {
     "name": "stderr",
     "output_type": "stream",
     "text": [
      "Insertando registros:  96%|█████████▌| 1500/1560 [48:40<00:47,  1.26it/s]"
     ]
    },
    {
     "name": "stdout",
     "output_type": "stream",
     "text": [
      "Query ejecutada correctamente.\n"
     ]
    },
    {
     "name": "stderr",
     "output_type": "stream",
     "text": [
      "Insertando registros:  96%|█████████▌| 1501/1560 [48:41<00:47,  1.24it/s]"
     ]
    },
    {
     "name": "stdout",
     "output_type": "stream",
     "text": [
      "Query ejecutada correctamente.\n"
     ]
    },
    {
     "name": "stderr",
     "output_type": "stream",
     "text": [
      "Insertando registros:  96%|█████████▋| 1502/1560 [48:42<00:46,  1.25it/s]"
     ]
    },
    {
     "name": "stdout",
     "output_type": "stream",
     "text": [
      "Query ejecutada correctamente.\n"
     ]
    },
    {
     "name": "stderr",
     "output_type": "stream",
     "text": [
      "Insertando registros:  96%|█████████▋| 1503/1560 [48:42<00:45,  1.25it/s]"
     ]
    },
    {
     "name": "stdout",
     "output_type": "stream",
     "text": [
      "Query ejecutada correctamente.\n"
     ]
    },
    {
     "name": "stderr",
     "output_type": "stream",
     "text": [
      "Insertando registros:  96%|█████████▋| 1504/1560 [48:43<00:44,  1.25it/s]"
     ]
    },
    {
     "name": "stdout",
     "output_type": "stream",
     "text": [
      "Query ejecutada correctamente.\n"
     ]
    },
    {
     "name": "stderr",
     "output_type": "stream",
     "text": [
      "Insertando registros:  96%|█████████▋| 1505/1560 [48:44<00:43,  1.26it/s]"
     ]
    },
    {
     "name": "stdout",
     "output_type": "stream",
     "text": [
      "Query ejecutada correctamente.\n"
     ]
    },
    {
     "name": "stderr",
     "output_type": "stream",
     "text": [
      "Insertando registros:  97%|█████████▋| 1506/1560 [48:45<00:42,  1.26it/s]"
     ]
    },
    {
     "name": "stdout",
     "output_type": "stream",
     "text": [
      "Query ejecutada correctamente.\n"
     ]
    },
    {
     "name": "stderr",
     "output_type": "stream",
     "text": [
      "Insertando registros:  97%|█████████▋| 1507/1560 [48:45<00:41,  1.26it/s]"
     ]
    },
    {
     "name": "stdout",
     "output_type": "stream",
     "text": [
      "Query ejecutada correctamente.\n"
     ]
    },
    {
     "name": "stderr",
     "output_type": "stream",
     "text": [
      "Insertando registros:  97%|█████████▋| 1508/1560 [48:46<00:41,  1.27it/s]"
     ]
    },
    {
     "name": "stdout",
     "output_type": "stream",
     "text": [
      "Query ejecutada correctamente.\n"
     ]
    },
    {
     "name": "stderr",
     "output_type": "stream",
     "text": [
      "Insertando registros:  97%|█████████▋| 1509/1560 [48:47<00:39,  1.28it/s]"
     ]
    },
    {
     "name": "stdout",
     "output_type": "stream",
     "text": [
      "Query ejecutada correctamente.\n"
     ]
    },
    {
     "name": "stderr",
     "output_type": "stream",
     "text": [
      "Insertando registros:  97%|█████████▋| 1510/1560 [48:48<00:39,  1.28it/s]"
     ]
    },
    {
     "name": "stdout",
     "output_type": "stream",
     "text": [
      "Query ejecutada correctamente.\n"
     ]
    },
    {
     "name": "stderr",
     "output_type": "stream",
     "text": [
      "Insertando registros:  97%|█████████▋| 1511/1560 [48:49<00:38,  1.27it/s]"
     ]
    },
    {
     "name": "stdout",
     "output_type": "stream",
     "text": [
      "Query ejecutada correctamente.\n"
     ]
    },
    {
     "name": "stderr",
     "output_type": "stream",
     "text": [
      "Insertando registros:  97%|█████████▋| 1512/1560 [48:49<00:37,  1.27it/s]"
     ]
    },
    {
     "name": "stdout",
     "output_type": "stream",
     "text": [
      "Query ejecutada correctamente.\n"
     ]
    },
    {
     "name": "stderr",
     "output_type": "stream",
     "text": [
      "Insertando registros:  97%|█████████▋| 1513/1560 [48:50<00:37,  1.27it/s]"
     ]
    },
    {
     "name": "stdout",
     "output_type": "stream",
     "text": [
      "Query ejecutada correctamente.\n"
     ]
    },
    {
     "name": "stderr",
     "output_type": "stream",
     "text": [
      "Insertando registros:  97%|█████████▋| 1514/1560 [48:51<00:36,  1.27it/s]"
     ]
    },
    {
     "name": "stdout",
     "output_type": "stream",
     "text": [
      "Query ejecutada correctamente.\n"
     ]
    },
    {
     "name": "stderr",
     "output_type": "stream",
     "text": [
      "Insertando registros:  97%|█████████▋| 1515/1560 [48:52<00:35,  1.26it/s]"
     ]
    },
    {
     "name": "stdout",
     "output_type": "stream",
     "text": [
      "Query ejecutada correctamente.\n"
     ]
    },
    {
     "name": "stderr",
     "output_type": "stream",
     "text": [
      "Insertando registros:  97%|█████████▋| 1516/1560 [48:53<00:34,  1.26it/s]"
     ]
    },
    {
     "name": "stdout",
     "output_type": "stream",
     "text": [
      "Query ejecutada correctamente.\n"
     ]
    },
    {
     "name": "stderr",
     "output_type": "stream",
     "text": [
      "Insertando registros:  97%|█████████▋| 1517/1560 [48:53<00:34,  1.25it/s]"
     ]
    },
    {
     "name": "stdout",
     "output_type": "stream",
     "text": [
      "Query ejecutada correctamente.\n"
     ]
    },
    {
     "name": "stderr",
     "output_type": "stream",
     "text": [
      "Insertando registros:  97%|█████████▋| 1518/1560 [48:54<00:34,  1.23it/s]"
     ]
    },
    {
     "name": "stdout",
     "output_type": "stream",
     "text": [
      "Query ejecutada correctamente.\n"
     ]
    },
    {
     "name": "stderr",
     "output_type": "stream",
     "text": [
      "Insertando registros:  97%|█████████▋| 1519/1560 [48:55<00:33,  1.24it/s]"
     ]
    },
    {
     "name": "stdout",
     "output_type": "stream",
     "text": [
      "Query ejecutada correctamente.\n"
     ]
    },
    {
     "name": "stderr",
     "output_type": "stream",
     "text": [
      "Insertando registros:  97%|█████████▋| 1520/1560 [48:56<00:32,  1.25it/s]"
     ]
    },
    {
     "name": "stdout",
     "output_type": "stream",
     "text": [
      "Query ejecutada correctamente.\n"
     ]
    },
    {
     "name": "stderr",
     "output_type": "stream",
     "text": [
      "Insertando registros:  98%|█████████▊| 1521/1560 [48:57<00:31,  1.23it/s]"
     ]
    },
    {
     "name": "stdout",
     "output_type": "stream",
     "text": [
      "Query ejecutada correctamente.\n"
     ]
    },
    {
     "name": "stderr",
     "output_type": "stream",
     "text": [
      "Insertando registros:  98%|█████████▊| 1522/1560 [48:57<00:30,  1.24it/s]"
     ]
    },
    {
     "name": "stdout",
     "output_type": "stream",
     "text": [
      "Query ejecutada correctamente.\n"
     ]
    },
    {
     "name": "stderr",
     "output_type": "stream",
     "text": [
      "Insertando registros:  98%|█████████▊| 1523/1560 [48:58<00:29,  1.24it/s]"
     ]
    },
    {
     "name": "stdout",
     "output_type": "stream",
     "text": [
      "Query ejecutada correctamente.\n"
     ]
    },
    {
     "name": "stderr",
     "output_type": "stream",
     "text": [
      "Insertando registros:  98%|█████████▊| 1524/1560 [48:59<00:29,  1.23it/s]"
     ]
    },
    {
     "name": "stdout",
     "output_type": "stream",
     "text": [
      "Query ejecutada correctamente.\n"
     ]
    },
    {
     "name": "stderr",
     "output_type": "stream",
     "text": [
      "Insertando registros:  98%|█████████▊| 1525/1560 [49:00<00:28,  1.23it/s]"
     ]
    },
    {
     "name": "stdout",
     "output_type": "stream",
     "text": [
      "Query ejecutada correctamente.\n"
     ]
    },
    {
     "name": "stderr",
     "output_type": "stream",
     "text": [
      "Insertando registros:  98%|█████████▊| 1526/1560 [49:01<00:27,  1.23it/s]"
     ]
    },
    {
     "name": "stdout",
     "output_type": "stream",
     "text": [
      "Query ejecutada correctamente.\n"
     ]
    },
    {
     "name": "stderr",
     "output_type": "stream",
     "text": [
      "Insertando registros:  98%|█████████▊| 1527/1560 [49:02<00:26,  1.24it/s]"
     ]
    },
    {
     "name": "stdout",
     "output_type": "stream",
     "text": [
      "Query ejecutada correctamente.\n"
     ]
    },
    {
     "name": "stderr",
     "output_type": "stream",
     "text": [
      "Insertando registros:  98%|█████████▊| 1528/1560 [49:02<00:25,  1.26it/s]"
     ]
    },
    {
     "name": "stdout",
     "output_type": "stream",
     "text": [
      "Query ejecutada correctamente.\n"
     ]
    },
    {
     "name": "stderr",
     "output_type": "stream",
     "text": [
      "Insertando registros:  98%|█████████▊| 1529/1560 [49:03<00:24,  1.25it/s]"
     ]
    },
    {
     "name": "stdout",
     "output_type": "stream",
     "text": [
      "Query ejecutada correctamente.\n"
     ]
    },
    {
     "name": "stderr",
     "output_type": "stream",
     "text": [
      "Insertando registros:  98%|█████████▊| 1530/1560 [49:04<00:23,  1.25it/s]"
     ]
    },
    {
     "name": "stdout",
     "output_type": "stream",
     "text": [
      "Query ejecutada correctamente.\n"
     ]
    },
    {
     "name": "stderr",
     "output_type": "stream",
     "text": [
      "Insertando registros:  98%|█████████▊| 1531/1560 [49:05<00:23,  1.25it/s]"
     ]
    },
    {
     "name": "stdout",
     "output_type": "stream",
     "text": [
      "Query ejecutada correctamente.\n"
     ]
    },
    {
     "name": "stderr",
     "output_type": "stream",
     "text": [
      "Insertando registros:  98%|█████████▊| 1532/1560 [49:05<00:22,  1.26it/s]"
     ]
    },
    {
     "name": "stdout",
     "output_type": "stream",
     "text": [
      "Query ejecutada correctamente.\n"
     ]
    },
    {
     "name": "stderr",
     "output_type": "stream",
     "text": [
      "Insertando registros:  98%|█████████▊| 1533/1560 [49:06<00:21,  1.25it/s]"
     ]
    },
    {
     "name": "stdout",
     "output_type": "stream",
     "text": [
      "Query ejecutada correctamente.\n"
     ]
    },
    {
     "name": "stderr",
     "output_type": "stream",
     "text": [
      "Insertando registros:  98%|█████████▊| 1534/1560 [49:07<00:20,  1.25it/s]"
     ]
    },
    {
     "name": "stdout",
     "output_type": "stream",
     "text": [
      "Query ejecutada correctamente.\n"
     ]
    },
    {
     "name": "stderr",
     "output_type": "stream",
     "text": [
      "Insertando registros:  98%|█████████▊| 1535/1560 [49:08<00:19,  1.26it/s]"
     ]
    },
    {
     "name": "stdout",
     "output_type": "stream",
     "text": [
      "Query ejecutada correctamente.\n"
     ]
    },
    {
     "name": "stderr",
     "output_type": "stream",
     "text": [
      "Insertando registros:  98%|█████████▊| 1536/1560 [49:09<00:19,  1.24it/s]"
     ]
    },
    {
     "name": "stdout",
     "output_type": "stream",
     "text": [
      "Query ejecutada correctamente.\n"
     ]
    },
    {
     "name": "stderr",
     "output_type": "stream",
     "text": [
      "Insertando registros:  99%|█████████▊| 1537/1560 [49:09<00:18,  1.25it/s]"
     ]
    },
    {
     "name": "stdout",
     "output_type": "stream",
     "text": [
      "Query ejecutada correctamente.\n"
     ]
    },
    {
     "name": "stderr",
     "output_type": "stream",
     "text": [
      "Insertando registros:  99%|█████████▊| 1538/1560 [49:10<00:17,  1.25it/s]"
     ]
    },
    {
     "name": "stdout",
     "output_type": "stream",
     "text": [
      "Query ejecutada correctamente.\n"
     ]
    },
    {
     "name": "stderr",
     "output_type": "stream",
     "text": [
      "Insertando registros:  99%|█████████▊| 1539/1560 [49:11<00:16,  1.25it/s]"
     ]
    },
    {
     "name": "stdout",
     "output_type": "stream",
     "text": [
      "Query ejecutada correctamente.\n"
     ]
    },
    {
     "name": "stderr",
     "output_type": "stream",
     "text": [
      "Insertando registros:  99%|█████████▊| 1540/1560 [49:12<00:15,  1.25it/s]"
     ]
    },
    {
     "name": "stdout",
     "output_type": "stream",
     "text": [
      "Query ejecutada correctamente.\n"
     ]
    },
    {
     "name": "stderr",
     "output_type": "stream",
     "text": [
      "Insertando registros:  99%|█████████▉| 1541/1560 [49:13<00:15,  1.24it/s]"
     ]
    },
    {
     "name": "stdout",
     "output_type": "stream",
     "text": [
      "Query ejecutada correctamente.\n"
     ]
    },
    {
     "name": "stderr",
     "output_type": "stream",
     "text": [
      "Insertando registros:  99%|█████████▉| 1542/1560 [49:13<00:14,  1.25it/s]"
     ]
    },
    {
     "name": "stdout",
     "output_type": "stream",
     "text": [
      "Query ejecutada correctamente.\n"
     ]
    },
    {
     "name": "stderr",
     "output_type": "stream",
     "text": [
      "Insertando registros:  99%|█████████▉| 1543/1560 [49:14<00:13,  1.25it/s]"
     ]
    },
    {
     "name": "stdout",
     "output_type": "stream",
     "text": [
      "Query ejecutada correctamente.\n"
     ]
    },
    {
     "name": "stderr",
     "output_type": "stream",
     "text": [
      "Insertando registros:  99%|█████████▉| 1544/1560 [49:15<00:12,  1.24it/s]"
     ]
    },
    {
     "name": "stdout",
     "output_type": "stream",
     "text": [
      "Query ejecutada correctamente.\n"
     ]
    },
    {
     "name": "stderr",
     "output_type": "stream",
     "text": [
      "Insertando registros:  99%|█████████▉| 1545/1560 [49:16<00:12,  1.25it/s]"
     ]
    },
    {
     "name": "stdout",
     "output_type": "stream",
     "text": [
      "Query ejecutada correctamente.\n"
     ]
    },
    {
     "name": "stderr",
     "output_type": "stream",
     "text": [
      "Insertando registros:  99%|█████████▉| 1546/1560 [49:17<00:11,  1.23it/s]"
     ]
    },
    {
     "name": "stdout",
     "output_type": "stream",
     "text": [
      "Query ejecutada correctamente.\n"
     ]
    },
    {
     "name": "stderr",
     "output_type": "stream",
     "text": [
      "Insertando registros:  99%|█████████▉| 1547/1560 [49:18<00:10,  1.24it/s]"
     ]
    },
    {
     "name": "stdout",
     "output_type": "stream",
     "text": [
      "Query ejecutada correctamente.\n"
     ]
    },
    {
     "name": "stderr",
     "output_type": "stream",
     "text": [
      "Insertando registros:  99%|█████████▉| 1548/1560 [49:18<00:09,  1.25it/s]"
     ]
    },
    {
     "name": "stdout",
     "output_type": "stream",
     "text": [
      "Query ejecutada correctamente.\n"
     ]
    },
    {
     "name": "stderr",
     "output_type": "stream",
     "text": [
      "Insertando registros:  99%|█████████▉| 1549/1560 [49:19<00:08,  1.25it/s]"
     ]
    },
    {
     "name": "stdout",
     "output_type": "stream",
     "text": [
      "Query ejecutada correctamente.\n"
     ]
    },
    {
     "name": "stderr",
     "output_type": "stream",
     "text": [
      "Insertando registros:  99%|█████████▉| 1550/1560 [49:20<00:07,  1.25it/s]"
     ]
    },
    {
     "name": "stdout",
     "output_type": "stream",
     "text": [
      "Query ejecutada correctamente.\n"
     ]
    },
    {
     "name": "stderr",
     "output_type": "stream",
     "text": [
      "Insertando registros:  99%|█████████▉| 1551/1560 [49:21<00:07,  1.25it/s]"
     ]
    },
    {
     "name": "stdout",
     "output_type": "stream",
     "text": [
      "Query ejecutada correctamente.\n"
     ]
    },
    {
     "name": "stderr",
     "output_type": "stream",
     "text": [
      "Insertando registros:  99%|█████████▉| 1552/1560 [49:21<00:06,  1.26it/s]"
     ]
    },
    {
     "name": "stdout",
     "output_type": "stream",
     "text": [
      "Query ejecutada correctamente.\n"
     ]
    },
    {
     "name": "stderr",
     "output_type": "stream",
     "text": [
      "Insertando registros: 100%|█████████▉| 1553/1560 [49:22<00:05,  1.24it/s]"
     ]
    },
    {
     "name": "stdout",
     "output_type": "stream",
     "text": [
      "Query ejecutada correctamente.\n"
     ]
    },
    {
     "name": "stderr",
     "output_type": "stream",
     "text": [
      "Insertando registros: 100%|█████████▉| 1554/1560 [49:23<00:04,  1.24it/s]"
     ]
    },
    {
     "name": "stdout",
     "output_type": "stream",
     "text": [
      "Query ejecutada correctamente.\n"
     ]
    },
    {
     "name": "stderr",
     "output_type": "stream",
     "text": [
      "Insertando registros: 100%|█████████▉| 1555/1560 [49:24<00:04,  1.25it/s]"
     ]
    },
    {
     "name": "stdout",
     "output_type": "stream",
     "text": [
      "Query ejecutada correctamente.\n"
     ]
    },
    {
     "name": "stderr",
     "output_type": "stream",
     "text": [
      "Insertando registros: 100%|█████████▉| 1556/1560 [49:25<00:03,  1.25it/s]"
     ]
    },
    {
     "name": "stdout",
     "output_type": "stream",
     "text": [
      "Query ejecutada correctamente.\n"
     ]
    },
    {
     "name": "stderr",
     "output_type": "stream",
     "text": [
      "Insertando registros: 100%|█████████▉| 1557/1560 [49:26<00:02,  1.25it/s]"
     ]
    },
    {
     "name": "stdout",
     "output_type": "stream",
     "text": [
      "Query ejecutada correctamente.\n"
     ]
    },
    {
     "name": "stderr",
     "output_type": "stream",
     "text": [
      "Insertando registros: 100%|█████████▉| 1558/1560 [49:26<00:01,  1.25it/s]"
     ]
    },
    {
     "name": "stdout",
     "output_type": "stream",
     "text": [
      "Query ejecutada correctamente.\n"
     ]
    },
    {
     "name": "stderr",
     "output_type": "stream",
     "text": [
      "Insertando registros: 100%|█████████▉| 1559/1560 [49:27<00:00,  1.26it/s]"
     ]
    },
    {
     "name": "stdout",
     "output_type": "stream",
     "text": [
      "Query ejecutada correctamente.\n"
     ]
    },
    {
     "name": "stderr",
     "output_type": "stream",
     "text": [
      "Insertando registros: 100%|██████████| 1560/1560 [49:28<00:00,  1.90s/it]"
     ]
    },
    {
     "name": "stdout",
     "output_type": "stream",
     "text": [
      "Query ejecutada correctamente.\n"
     ]
    },
    {
     "name": "stderr",
     "output_type": "stream",
     "text": [
      "\n"
     ]
    }
   ],
   "source": [
    "employe_number= []\n",
    "\n",
    "inicio = 0\n",
    "fin = len(df)-1\n",
    "\n",
    "for index in tqdm(range(inicio, fin), desc=\"Insertando registros\"):\n",
    "    row = df.iloc[index]  # Obtén la fila en el índice actual\n",
    "\n",
    "    if row['EMPLOYEENUMBER'] not in employe_number:\n",
    "        employe_number.append(row['EMPLOYEENUMBER'])\n",
    "\n",
    "       \n",
    "        sql = \"INSERT INTO empleado (EMPLOYEE_NUMBER, AGE, EDUCATION, EDUCATION_FIELD, GENDER, MARITAL_STATUS, WORK_LIFE_BALANCE, NUM_COMPANIES_WORKED, RELATIONSHIP_SATISFACTION, TOTAL_WORKING_YEARS) VALUES (%s, %s, %s, %s, %s, %s, %s, %s, %s, %s)\"\n",
    "        val = (procesamiento_valor(row,'EMPLOYEENUMBER'), procesamiento_valor(row,'AGE'), procesamiento_valor(row,'EDUCATION'), procesamiento_valor(row,'EDUCATIONFIELD'), procesamiento_valor(row,'GENDER'), procesamiento_valor(row,'MARITALSTATUS'), procesamiento_valor(row,'WORKLIFEBALANCE'), procesamiento_valor(row,'NUMCOMPANIESWORKED'), procesamiento_valor(row,'RELATIONSHIPSATISFACTION'), procesamiento_valor(row,'TOTALWORKINGYEARS'))\n",
    "\n",
    "        ejecutar_query(sql,val)\n",
    "\n",
    "\n",
    "        sql = \"INSERT INTO empleado_empresa (EMPLOYEE_NUMBER, DEPARTMENT, BUSINESS_TRAVEL, JOB_INVOLVEMENT, JOB_ROLE, JOB_SATISFACTION, ATTRITION, YEARS_AT_COMPANY, MONTHLY_RATE, PERCENT_SALARY_HIKE, STOCK_OPTION_LEVEL, TRAINING_TIMES_LAST_YEAR, YEARS_SINCE_LAST_PROMOTION, YEARS_WITH_CURRENT_MANAGER, DAILY_RATE, PERFORMANCE_RATING) VALUES (%s, %s, %s, %s, %s, %s, %s, %s, %s, %s, %s, %s, %s, %s, %s, %s)\"\n",
    "        val = (procesamiento_valor(row,'EMPLOYEENUMBER'), procesamiento_valor(row,'DEPARTMENT'), procesamiento_valor(row,'BUSINESSTRAVEL'), procesamiento_valor(row,'JOBINVOLVEMENT'), procesamiento_valor(row,'JOBROLE'), procesamiento_valor(row,'JOBSATISFACTION'), procesamiento_valor(row,'ATTRITION'), procesamiento_valor(row,'YEARSATCOMPANY'), procesamiento_valor(row,'MONTHLYRATE'), procesamiento_valor(row,'PERCENTSALARYHIKE'), procesamiento_valor(row,'STOCKOPTIONLEVEL'), procesamiento_valor(row,'TRAININGTIMESLASTYEAR'), procesamiento_valor(row,'YEARSSINCELASTPROMOTION'), procesamiento_valor(row,'YEARSWITHCURRMANAGER'),  procesamiento_valor(row,'DAILYRATE'), procesamiento_valor(row,'PERFORMANCERATING'))\n",
    "\n",
    "        ejecutar_query(sql,val)\n",
    "\n",
    "\n",
    "    sql = \"INSERT INTO registro (EMPLOYEE_NUMBER, DISTANCE_FROM_HOME, REMOTE_WORK, MONTHLY_INCOME, HOURLY_RATE, OVER_TIME, ENVIRONMENT_SATISFACTION) VALUES (%s, %s, %s, %s, %s, %s, %s)\"\n",
    "    val = (procesamiento_valor(row,'EMPLOYEENUMBER'), procesamiento_valor(row,'DISTANCEFROMHOME'), procesamiento_valor(row,'REMOTEWORK'), procesamiento_valor(row,'MONTHLYINCOME'), procesamiento_valor(row,'HOURLYRATE'), procesamiento_valor(row,'OVERTIME'), procesamiento_valor(row,'ENVIRONMENTSATISFACTION'))\n",
    "\n",
    "    ejecutar_query(sql,val)\n"
   ]
  }
 ],
 "metadata": {
  "kernelspec": {
   "display_name": "Python 3",
   "language": "python",
   "name": "python3"
  },
  "language_info": {
   "codemirror_mode": {
    "name": "ipython",
    "version": 3
   },
   "file_extension": ".py",
   "mimetype": "text/x-python",
   "name": "python",
   "nbconvert_exporter": "python",
   "pygments_lexer": "ipython3",
   "version": "3.11.5"
  }
 },
 "nbformat": 4,
 "nbformat_minor": 2
}
