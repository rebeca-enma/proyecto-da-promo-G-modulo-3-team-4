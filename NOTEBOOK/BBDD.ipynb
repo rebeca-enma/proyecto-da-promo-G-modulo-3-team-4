{
 "cells": [
  {
   "cell_type": "code",
   "execution_count": 1,
   "metadata": {},
   "outputs": [],
   "source": [
    "# Importar librería para la conexión con MySQL\n",
    "# -----------------------------------------------------------------------\n",
    "import mysql.connector\n",
    "from mysql.connector import errorcode\n",
    "\n",
    "\n",
    "# Importar librerías para manipulación y análisis de datos\n",
    "# -----------------------------------------------------------------------\n",
    "import pandas as pd\n",
    "import numpy as np\n",
    "\n",
    "from tqdm import tqdm"
   ]
  },
  {
   "cell_type": "code",
   "execution_count": null,
   "metadata": {},
   "outputs": [],
   "source": [
    "#Creo la BBDD:\n",
    "\n",
    "cnx = mysql.connector.connect(user='root', password='AlumnaAdalab',\n",
    "                              host='127.0.0.1')\n",
    "\n",
    "\n",
    "mycursor = cnx.cursor()\n",
    "try:\n",
    "    mycursor.execute(\"CREATE DATABASE ABC_corporation\")\n",
    "    print(mycursor)\n",
    "except mysql.connector.Error as err:\n",
    "    print(err)\n",
    "    print(\"Error Code:\", err.errno)\n",
    "    print(\"SQLSTATE\", err.sqlstate)\n",
    "    print(\"Message\", err.msg)"
   ]
  },
  {
   "cell_type": "markdown",
   "metadata": {},
   "source": [
    "----\n",
    "**Employee**"
   ]
  },
  {
   "cell_type": "code",
   "execution_count": 3,
   "metadata": {},
   "outputs": [],
   "source": [
    "\n",
    "df = pd.read_csv('')\n"
   ]
  },
  {
   "cell_type": "code",
   "execution_count": 6,
   "metadata": {},
   "outputs": [
    {
     "name": "stdout",
     "output_type": "stream",
     "text": [
      "Tabla creada correctamente.\n"
     ]
    }
   ],
   "source": [
    "# Creo la tabla para las employees\n",
    "\n",
    "cnx = mysql.connector.connect(\n",
    "    user='root', password='AlumnaAdalab',\n",
    "    host='127.0.0.1', database='ABC_corporation'\n",
    ")\n",
    "\n",
    "mycursor = cnx.cursor()\n",
    "\n",
    "\n",
    "crear_tabla = \"\"\"\n",
    "CREATE TABLE IF NOT EXISTS employees (\n",
    "    AGE int DEFAULT NULL,\n",
    "    GENDER VARCHAR(50) DEFAULT NULL,\n",
    "    MARITAL_STATUS VARCHAR(50) DEFAULT NULL,\n",
    "    EDUCATION INT DEFAULT NULL,\n",
    "    EDUCATION_FIELD VARCHAR(100) DEFAULT NULL,\n",
    "    EMPLOYEE_NUMBER INT NOT NULL PRIMARY KEY\n",
    "    )\n",
    "    \"\"\"\n",
    "\n",
    "# Ejecuta la instrucción SQL para crear la tabla\n",
    "try:\n",
    "    mycursor.execute(crear_tabla)\n",
    "    print(\"Tabla creada correctamente.\")\n",
    "except mysql.connector.Error as err:\n",
    "    print(\"Error al crear la tabla:\", err)\n",
    "\n",
    "# Cierra el cursor y la conexión a la base de datos\n",
    "mycursor.close()\n",
    "cnx.close()"
   ]
  },
  {
   "cell_type": "code",
   "execution_count": 7,
   "metadata": {},
   "outputs": [
    {
     "name": "stderr",
     "output_type": "stream",
     "text": [
      "Insertando registros:  13%|█▎        | 66578/524321 [01:44<11:20, 672.79it/s]"
     ]
    },
    {
     "name": "stdout",
     "output_type": "stream",
     "text": [
      "Error al insertar registro: 1406 (22001): Data too long for column 'Titulo' at row 1\n"
     ]
    },
    {
     "name": "stderr",
     "output_type": "stream",
     "text": [
      "Insertando registros: 100%|█████████▉| 524320/524321 [13:19<00:00, 655.49it/s]\n"
     ]
    },
    {
     "ename": "IndexError",
     "evalue": "single positional indexer is out-of-bounds",
     "output_type": "error",
     "traceback": [
      "\u001b[1;31m---------------------------------------------------------------------------\u001b[0m",
      "\u001b[1;31mIndexError\u001b[0m                                Traceback (most recent call last)",
      "Cell \u001b[1;32mIn[7], line 20\u001b[0m\n\u001b[0;32m     18\u001b[0m \u001b[38;5;66;03m# Itera sobre el rango de filas especificado del DataFrame\u001b[39;00m\n\u001b[0;32m     19\u001b[0m \u001b[38;5;28;01mfor\u001b[39;00m index \u001b[38;5;129;01min\u001b[39;00m tqdm(\u001b[38;5;28mrange\u001b[39m(inicio, fin), desc\u001b[38;5;241m=\u001b[39m\u001b[38;5;124m\"\u001b[39m\u001b[38;5;124mInsertando registros\u001b[39m\u001b[38;5;124m\"\u001b[39m):\n\u001b[1;32m---> 20\u001b[0m     row \u001b[38;5;241m=\u001b[39m \u001b[43mdf\u001b[49m\u001b[38;5;241;43m.\u001b[39;49m\u001b[43miloc\u001b[49m\u001b[43m[\u001b[49m\u001b[43mindex\u001b[49m\u001b[43m]\u001b[49m  \u001b[38;5;66;03m# Obtén la fila en el índice actual\u001b[39;00m\n\u001b[0;32m     21\u001b[0m     sql \u001b[38;5;241m=\u001b[39m \u001b[38;5;124m\"\u001b[39m\u001b[38;5;124mINSERT INTO peliculas (Genero, Tipo, Titulo, Anio_de_estreno, Mes_de_estreno, ID) VALUES (\u001b[39m\u001b[38;5;132;01m%s\u001b[39;00m\u001b[38;5;124m, \u001b[39m\u001b[38;5;132;01m%s\u001b[39;00m\u001b[38;5;124m, \u001b[39m\u001b[38;5;132;01m%s\u001b[39;00m\u001b[38;5;124m, \u001b[39m\u001b[38;5;132;01m%s\u001b[39;00m\u001b[38;5;124m, \u001b[39m\u001b[38;5;132;01m%s\u001b[39;00m\u001b[38;5;124m, \u001b[39m\u001b[38;5;132;01m%s\u001b[39;00m\u001b[38;5;124m)\u001b[39m\u001b[38;5;124m\"\u001b[39m\n\u001b[0;32m     22\u001b[0m     \u001b[38;5;66;03m# Convierte el año de estreno y el mes a tipo int\u001b[39;00m\n",
      "File \u001b[1;32m~\\AppData\\Local\\Packages\\PythonSoftwareFoundation.Python.3.11_qbz5n2kfra8p0\\LocalCache\\local-packages\\Python311\\site-packages\\pandas\\core\\indexing.py:1192\u001b[0m, in \u001b[0;36m_LocationIndexer.__getitem__\u001b[1;34m(self, key)\u001b[0m\n\u001b[0;32m   1190\u001b[0m maybe_callable \u001b[38;5;241m=\u001b[39m com\u001b[38;5;241m.\u001b[39mapply_if_callable(key, \u001b[38;5;28mself\u001b[39m\u001b[38;5;241m.\u001b[39mobj)\n\u001b[0;32m   1191\u001b[0m maybe_callable \u001b[38;5;241m=\u001b[39m \u001b[38;5;28mself\u001b[39m\u001b[38;5;241m.\u001b[39m_check_deprecated_callable_usage(key, maybe_callable)\n\u001b[1;32m-> 1192\u001b[0m \u001b[38;5;28;01mreturn\u001b[39;00m \u001b[38;5;28;43mself\u001b[39;49m\u001b[38;5;241;43m.\u001b[39;49m\u001b[43m_getitem_axis\u001b[49m\u001b[43m(\u001b[49m\u001b[43mmaybe_callable\u001b[49m\u001b[43m,\u001b[49m\u001b[43m \u001b[49m\u001b[43maxis\u001b[49m\u001b[38;5;241;43m=\u001b[39;49m\u001b[43maxis\u001b[49m\u001b[43m)\u001b[49m\n",
      "File \u001b[1;32m~\\AppData\\Local\\Packages\\PythonSoftwareFoundation.Python.3.11_qbz5n2kfra8p0\\LocalCache\\local-packages\\Python311\\site-packages\\pandas\\core\\indexing.py:1753\u001b[0m, in \u001b[0;36m_iLocIndexer._getitem_axis\u001b[1;34m(self, key, axis)\u001b[0m\n\u001b[0;32m   1750\u001b[0m     \u001b[38;5;28;01mraise\u001b[39;00m \u001b[38;5;167;01mTypeError\u001b[39;00m(\u001b[38;5;124m\"\u001b[39m\u001b[38;5;124mCannot index by location index with a non-integer key\u001b[39m\u001b[38;5;124m\"\u001b[39m)\n\u001b[0;32m   1752\u001b[0m \u001b[38;5;66;03m# validate the location\u001b[39;00m\n\u001b[1;32m-> 1753\u001b[0m \u001b[38;5;28;43mself\u001b[39;49m\u001b[38;5;241;43m.\u001b[39;49m\u001b[43m_validate_integer\u001b[49m\u001b[43m(\u001b[49m\u001b[43mkey\u001b[49m\u001b[43m,\u001b[49m\u001b[43m \u001b[49m\u001b[43maxis\u001b[49m\u001b[43m)\u001b[49m\n\u001b[0;32m   1755\u001b[0m \u001b[38;5;28;01mreturn\u001b[39;00m \u001b[38;5;28mself\u001b[39m\u001b[38;5;241m.\u001b[39mobj\u001b[38;5;241m.\u001b[39m_ixs(key, axis\u001b[38;5;241m=\u001b[39maxis)\n",
      "File \u001b[1;32m~\\AppData\\Local\\Packages\\PythonSoftwareFoundation.Python.3.11_qbz5n2kfra8p0\\LocalCache\\local-packages\\Python311\\site-packages\\pandas\\core\\indexing.py:1686\u001b[0m, in \u001b[0;36m_iLocIndexer._validate_integer\u001b[1;34m(self, key, axis)\u001b[0m\n\u001b[0;32m   1684\u001b[0m len_axis \u001b[38;5;241m=\u001b[39m \u001b[38;5;28mlen\u001b[39m(\u001b[38;5;28mself\u001b[39m\u001b[38;5;241m.\u001b[39mobj\u001b[38;5;241m.\u001b[39m_get_axis(axis))\n\u001b[0;32m   1685\u001b[0m \u001b[38;5;28;01mif\u001b[39;00m key \u001b[38;5;241m>\u001b[39m\u001b[38;5;241m=\u001b[39m len_axis \u001b[38;5;129;01mor\u001b[39;00m key \u001b[38;5;241m<\u001b[39m \u001b[38;5;241m-\u001b[39mlen_axis:\n\u001b[1;32m-> 1686\u001b[0m     \u001b[38;5;28;01mraise\u001b[39;00m \u001b[38;5;167;01mIndexError\u001b[39;00m(\u001b[38;5;124m\"\u001b[39m\u001b[38;5;124msingle positional indexer is out-of-bounds\u001b[39m\u001b[38;5;124m\"\u001b[39m)\n",
      "\u001b[1;31mIndexError\u001b[0m: single positional indexer is out-of-bounds"
     ]
    }
   ],
   "source": [
    "# Insertar información de las employees\n",
    "\n",
    "cnx = mysql.connector.connect(\n",
    "    user='root', password='AlumnaAdalab',\n",
    "    host='127.0.0.1', database='ABC_corporation'\n",
    ")\n",
    "\n",
    "mycursor = cnx.cursor()\n",
    "\n",
    "# Lee el archivo CSV\n",
    "df = pd.read_csv(\"\")\n",
    "\n",
    "# Define el rango de filas sobre el cual iterar\n",
    "inicio =   \n",
    "fin = \n",
    "\n",
    "# Itera sobre el rango de filas especificado del DataFrame\n",
    "for index in tqdm(range(inicio, fin), desc=\"Insertando registros\"):\n",
    "    row = df.iloc[index]  # Obtén la fila en el índice actual\n",
    "    sql = \"INSERT INTO employees (AGE, GENDER, MARITAL_STATUS, EDUCATION, EDUCATION_FIELD, EMPLOYEE_NUMBER) VALUES (%s, %s, %s, %s, %s, %s)\"\n",
    "\n",
    "    val = (row['AGE'], row['GENDER'], row['MARITAL_STATUS'], row['EDUCATION'], row['EDUCATION_FIELD'], row['EMPLOYEE_NUMBER'])\n",
    "\n",
    "    try:\n",
    "        mycursor.execute(sql, val)\n",
    "        cnx.commit()  # Confirma la transacción\n",
    "    except mysql.connector.Error as err:\n",
    "        cnx.rollback()  # Revierte la transacción si hay un error\n",
    "        print(\"Error al insertar registro:\", err)\n",
    "\n",
    "# Cierra el cursor y la conexión a la base de datos\n",
    "mycursor.close()\n",
    "cnx.close()"
   ]
  },
  {
   "cell_type": "markdown",
   "metadata": {},
   "source": [
    "----\n",
    "**Employees_job**"
   ]
  },
  {
   "cell_type": "code",
   "execution_count": 9,
   "metadata": {},
   "outputs": [],
   "source": [
    "df = pd.read_csv('')"
   ]
  },
  {
   "cell_type": "code",
   "execution_count": 11,
   "metadata": {},
   "outputs": [
    {
     "name": "stdout",
     "output_type": "stream",
     "text": [
      "Tabla creada correctamente.\n"
     ]
    }
   ],
   "source": [
    "# Creo la tabla para employees_job\n",
    "\n",
    "cnx = mysql.connector.connect(\n",
    "    user='root', password='AlumnaAdalab',\n",
    "    host='127.0.0.1', database='ABC_corporation'\n",
    ")\n",
    "\n",
    "mycursor = cnx.cursor()\n",
    "\n",
    "\n",
    "crear_tabla = \"\"\"\n",
    "CREATE TABLE IF NOT EXISTS employees_job (\n",
    "    EMPLOYEE_NUMBER INT NOT NULL,\n",
    "    NUM_COMPANIES_WORKED INT DEFAULT NULL,\n",
    "    RELATIONSHIP_SATISFACTION INT DEFAULT NULL,\n",
    "    STOCK_OPTION_LEVEL INT DEFAULT NULL,\n",
    "    TOTAL_WORKING_YEARS INT DEFAULT NULL,\n",
    "    TRAINING_TIMES_LAST_YEAR INT DEFAULT NULL,\n",
    "    WORK_LIFE_BALANCE INT DEFAULT NULL,\n",
    "    YEARS_AT_COMPANY INT DEFAULT NULL,\n",
    "    YEARS_SINCE_LAST_PROMOTION INT DEFAULT NULL,\n",
    "    YEARS_WITH_CURRENT_MANAGER INT DEFAULT NULL,\n",
    "    REMOTE_WORK INT(1) DEFAULT NULL,\n",
    "    PRIMARY KEY (`EMPLOYEE_NUMBER`),\n",
    "    FOREIGN KEY (EMPLOYEE_NUMBER) REFERENCES employees (EMPLOYEE_NUMBER) ON DELETE CASCADE ON UPDATE CASCADE\n",
    ")\n",
    "\"\"\"\n",
    "# Puntuacion_IMDB, Direccion, Guionistas, Argumento, Duracion, Nombre_de_la_pelicula\n",
    "\n",
    "try:\n",
    "    mycursor.execute(crear_tabla)\n",
    "    print(\"Tabla creada correctamente.\")\n",
    "except mysql.connector.Error as err:\n",
    "    print(\"Error al crear la tabla:\", err)\n",
    "\n",
    "\n",
    "mycursor.close()\n",
    "cnx.close()"
   ]
  },
  {
   "cell_type": "code",
   "execution_count": 16,
   "metadata": {},
   "outputs": [
    {
     "name": "stderr",
     "output_type": "stream",
     "text": [
      "Insertando registros:  13%|█▎        | 66536/524320 [02:18<17:13, 442.83it/s]"
     ]
    },
    {
     "name": "stdout",
     "output_type": "stream",
     "text": [
      "Error al insertar registro: 1406 (22001): Data too long for column 'Titulo' at row 1\n"
     ]
    },
    {
     "name": "stderr",
     "output_type": "stream",
     "text": [
      "Insertando registros: 100%|██████████| 524320/524320 [15:19<00:00, 570.39it/s]\n"
     ]
    }
   ],
   "source": [
    "#Insertar información employees_job\n",
    "\n",
    "# Lee el archivo CSV\n",
    "df = pd.read_csv(\"\")\n",
    "\n",
    "# Define el rango de filas sobre el cual iterar\n",
    "inicio =   \n",
    "fin = \n",
    "\n",
    "# Itera sobre el rango de filas especificado del DataFrame\n",
    "for index in tqdm(range(inicio, fin), desc=\"Insertando registros\"):\n",
    "    row = df.iloc[index]  # Obtén la fila en el índice actual\n",
    "    sql = \"INSERT INTO employees (EMPLOYEE_NUMBER, NUM_COMPANIES_WORKED, RELATIONSHIP_SATISFACTION, STOCK_OPTION_LEVEL,TOTAL_WORKING_YEARS, TRAINING_TIMES_LAST_YEAR, WORK_LIFE_BALANCE, YEARS_AT_COMPANY, YEARS_SINCE_LAST_PROMOTION, YEARS_WITH_CURRENT_MANAGER, REMOTE_WORK) VALUES (%s, %s, %s, %s, %s, %s, %s, %s, %s, %s, %s)\"\n",
    "\n",
    "   \n",
    "\n",
    "    val = (row['EMPLOYEE_NUMBER'],row['NUM_COMPANIES_WORKED'] ,row['RELATIONSHIP_SATISFACTION'], row['STOCK_OPTION_LEVEL'], row['TOTAL_WORKING_YEARS'], row['TRAINING_TIMES_LAST_YEAR'], row['WORK_LIFE_BALANCE'], row['YEARS_AT_COMPANY'],  row['YEARS_SINCE_LAST_PROMOTION'], row['YEARS_WITH_CURRENT_MANAGER'], row['REMOTE_WORK'])\n",
    "\n",
    "    try:\n",
    "        mycursor.execute(sql, val)\n",
    "        cnx.commit()  # Confirma la transacción\n",
    "    except mysql.connector.Error as err:\n",
    "        cnx.rollback()  # Revierte la transacción si hay un error\n",
    "        print(\"Error al insertar registro:\", err)\n",
    "\n",
    "# Cierra el cursor y la conexión a la base de datos\n",
    "mycursor.close()\n",
    "cnx.close()"
   ]
  },
  {
   "cell_type": "markdown",
   "metadata": {},
   "source": [
    "-----\n",
    "**ACTORES**"
   ]
  },
  {
   "cell_type": "code",
   "execution_count": 18,
   "metadata": {},
   "outputs": [],
   "source": [
    "#quitar duplicados de actores\n",
    "\n",
    "df = pd.read_csv('union_actores_unicos.csv')\n",
    "\n",
    "# Eliminar duplicados\n",
    "new_df_no_duplicate = df.drop_duplicates()\n",
    "\n",
    "# Guardar el DataFrame modificado en un nuevo archivo CSV\n",
    "new_df_no_duplicate.to_csv('actores_sin_duplicados.csv', index=False)"
   ]
  },
  {
   "cell_type": "code",
   "execution_count": 17,
   "metadata": {},
   "outputs": [
    {
     "name": "stdout",
     "output_type": "stream",
     "text": [
      "Tabla creada correctamente.\n"
     ]
    }
   ],
   "source": [
    "# Creo la tabla actores\n",
    "\n",
    "cnx = mysql.connector.connect(\n",
    "    user='root', password='AlumnaAdalab',\n",
    "    host='127.0.0.1', database='proyecto_cine'\n",
    ")\n",
    "\n",
    "mycursor = cnx.cursor()\n",
    "\n",
    "\n",
    "crear_tabla = \"\"\"\n",
    "CREATE TABLE IF NOT EXISTS info_actores (\n",
    "    Nombre VARCHAR(255),\n",
    "    Nacimiento VARCHAR(255),\n",
    "    Conocido VARCHAR(255),\n",
    "    Que_hace TEXT,\n",
    "    Premios VARCHAR(255),\n",
    "    Oscar VARCHAR(255)\n",
    ")\n",
    "\"\"\"\n",
    "# Nombre,Nacimiento,Conocido,Que hace,Premios,Oscar\n",
    "\n",
    "try:\n",
    "    mycursor.execute(crear_tabla)\n",
    "    print(\"Tabla creada correctamente.\")\n",
    "except mysql.connector.Error as err:\n",
    "    print(\"Error al crear la tabla:\", err)\n",
    "\n",
    "\n",
    "mycursor.close()\n",
    "cnx.close()"
   ]
  },
  {
   "cell_type": "code",
   "execution_count": 20,
   "metadata": {},
   "outputs": [
    {
     "name": "stderr",
     "output_type": "stream",
     "text": [
      " 95%|█████████▌| 35303/36981 [01:18<00:02, 710.90it/s]"
     ]
    },
    {
     "name": "stdout",
     "output_type": "stream",
     "text": [
      "Error al insertar registro: 1406 (22001): Data too long for column 'Conocido' at row 1\n"
     ]
    },
    {
     "name": "stderr",
     "output_type": "stream",
     "text": [
      "100%|██████████| 36981/36981 [01:21<00:00, 454.77it/s]\n"
     ]
    }
   ],
   "source": [
    "#Insertar información IMDB\n",
    "\n",
    "cnx = mysql.connector.connect(\n",
    "    user='root', password='AlumnaAdalab',\n",
    "    host='127.0.0.1', database='proyecto_cine'\n",
    ")\n",
    "\n",
    "mycursor = cnx.cursor()\n",
    "\n",
    "\n",
    "df = pd.read_csv(\"actores_sin_duplicados.csv\")\n",
    "df.drop(df.columns[0], axis=1, inplace=True)\n",
    "\n",
    "inicio = 0\n",
    "fin = 36981\n",
    "\n",
    "\n",
    "for index in tqdm(range(inicio, fin)):\n",
    "   \n",
    "    row = df.iloc[index]\n",
    "    \n",
    "    sql = \"INSERT INTO info_actores (Nombre, Nacimiento, Conocido, Que_hace, Premios, Oscar) VALUES (%s, %s, %s, %s, %s, %s)\"\n",
    "    \n",
    "    try:\n",
    "        mycursor.execute(sql, (str(row['Nombre']), str(row['Nacimiento']), str(row['Conocido']), str(row['Que hace']), str(row['Premios']), str(row['Oscar'])))\n",
    "        cnx.commit() \n",
    "    except mysql.connector.Error as err:\n",
    "        cnx.rollback()  \n",
    "        print(\"Error al insertar registro:\", err)\n",
    "\n",
    "\n",
    "mycursor.close()\n",
    "cnx.close()"
   ]
  }
 ],
 "metadata": {
  "kernelspec": {
   "display_name": "Python 3",
   "language": "python",
   "name": "python3"
  },
  "language_info": {
   "codemirror_mode": {
    "name": "ipython",
    "version": 3
   },
   "file_extension": ".py",
   "mimetype": "text/x-python",
   "name": "python",
   "nbconvert_exporter": "python",
   "pygments_lexer": "ipython3",
   "version": "3.11.5"
  }
 },
 "nbformat": 4,
 "nbformat_minor": 2
}
