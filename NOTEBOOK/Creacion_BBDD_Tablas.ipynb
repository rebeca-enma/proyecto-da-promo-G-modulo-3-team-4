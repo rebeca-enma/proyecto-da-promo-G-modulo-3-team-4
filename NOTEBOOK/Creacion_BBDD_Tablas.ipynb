{
 "cells": [
  {
   "cell_type": "code",
   "execution_count": 6,
   "metadata": {},
   "outputs": [],
   "source": [
    "# Importar librería para la conexión con MySQL\n",
    "# -----------------------------------------------------------------------\n",
    "import mysql.connector\n",
    "from mysql.connector import errorcode\n",
    "\n",
    "\n",
    "# Importar librerías para manipulación y análisis de datos\n",
    "# -----------------------------------------------------------------------\n",
    "import pandas as pd\n",
    "import numpy as np\n"
   ]
  },
  {
   "cell_type": "code",
   "execution_count": 7,
   "metadata": {},
   "outputs": [],
   "source": [
    "def creacion_bbdd (usuario, contrasenya):\n",
    "    \n",
    "    cnx = mysql.connector.connect(user=usuario, password=contrasenya,\n",
    "                                host='127.0.0.1')\n",
    "\n",
    "\n",
    "    mycursor = cnx.cursor()\n",
    "    query = \"CREATE SCHEMA RAW_DATA\"\n",
    "\n",
    "    try: \n",
    "        mycursor.execute(query)\n",
    "    \n",
    "        print(\"BBDD creada\")\n",
    "\n",
    "    except mysql.connector.Error as err:\n",
    "        print(err)\n",
    "        print(\"Error Code:\", err.errno)\n",
    "        print(\"SQLSTATE\", err.sqlstate)\n",
    "        print(\"Message\", err.msg)"
   ]
  },
  {
   "cell_type": "code",
   "execution_count": 8,
   "metadata": {},
   "outputs": [
    {
     "name": "stdout",
     "output_type": "stream",
     "text": [
      "BBDD creada\n"
     ]
    }
   ],
   "source": [
    "creacion_bbdd(\"root\", \"AlumnaAdalab\")"
   ]
  },
  {
   "cell_type": "code",
   "execution_count": 9,
   "metadata": {},
   "outputs": [],
   "source": [
    "def creacion_tablas (usuario, contrasenya, bbdd):\n",
    "    \n",
    "    cnx = mysql.connector.connect(user=usuario, password=contrasenya,\n",
    "                                host='127.0.0.1', database= bbdd)\n",
    "\n",
    "\n",
    "    # tabla empleado: campos relacionados con el empleados que no varian en los distintos registros\n",
    "    mycursor = cnx.cursor()\n",
    "    query = \"CREATE TABLE `empleado` (`EMPLOYEE_NUMBER` int NOT NULL,`AGE` int DEFAULT NULL,`EDUCATION` int DEFAULT NULL,`EDUCATION_FIELD` varchar(100) DEFAULT NULL,`GENDER` varchar(50) DEFAULT NULL,`MARITAL_STATUS` varchar(50) DEFAULT NULL,`WORK_LIFE_BALANCE` int DEFAULT NULL,`NUM_COMPANIES_WORKED` int DEFAULT NULL,`RELATIONSHIP_SATISFACTION` int DEFAULT NULL,`TOTAL_WORKING_YEARS` int DEFAULT NULL,PRIMARY KEY (`EMPLOYEE_NUMBER`))\"\n",
    "    \n",
    "    try: \n",
    "        mycursor.execute(query)\n",
    "    \n",
    "        print(\"Tabla empleado creada\")\n",
    "\n",
    "    except mysql.connector.Error as err:\n",
    "        print(err)\n",
    "        print(\"Error Code:\", err.errno)\n",
    "        print(\"SQLSTATE\", err.sqlstate)\n",
    "        print(\"Message\", err.msg)\n",
    "\n",
    "    # tabla empleado_empresa: campos que relacionan al empleado con la empresa que no varian en los distintos registros\n",
    "    mycursor = cnx.cursor()\n",
    "    query = \"CREATE TABLE `empleado_empresa` (`EMPLOYEE_NUMBER` int NOT NULL,`DEPARTMENT` varchar(100) DEFAULT NULL,`BUSINESS_TRAVEL` varchar(100) DEFAULT NULL,`JOB_INVOLVEMENT` int DEFAULT NULL,`JOB_ROLE` varchar(100) DEFAULT NULL,`JOB_SATISFACTION` int DEFAULT NULL,`ATTRITION` tinyint(1) DEFAULT NULL,`YEARS_AT_COMPANY` int DEFAULT NULL,`MONTHLY_RATE` int DEFAULT NULL,`PERCENT_SALARY_HIKE` int DEFAULT NULL,`STOCK_OPTION_LEVEL` int DEFAULT NULL,`TRAINING_TIMES_LAST_YEAR` int DEFAULT NULL,`YEARS_SINCE_LAST_PROMOTION` int DEFAULT NULL,`YEARS_WITH_CURRENT_MANAGER` int DEFAULT NULL,`DAILY_RATE` int DEFAULT NULL,`PERFORMANCE_RATING` int DEFAULT NULL,PRIMARY KEY (`EMPLOYEE_NUMBER`),CONSTRAINT `empleado_empresa_ibfk_1` FOREIGN KEY (`EMPLOYEE_NUMBER`) REFERENCES `empleado` (`EMPLOYEE_NUMBER`))\"\n",
    "    \n",
    "    try: \n",
    "        mycursor.execute(query)\n",
    "    \n",
    "        print(\"Tabla empleado_empresa creada\")\n",
    "\n",
    "    except mysql.connector.Error as err:\n",
    "        print(err)\n",
    "        print(\"Error Code:\", err.errno)\n",
    "        print(\"SQLSTATE\", err.sqlstate)\n",
    "        print(\"Message\", err.msg)\n",
    "\n",
    "    # tabla registro: campos que varian en los distintos registros que hay para cada employee number\n",
    "    mycursor = cnx.cursor()\n",
    "    query = \"CREATE TABLE `registro` (`ID_REGISTRO` int NOT NULL AUTO_INCREMENT,`EMPLOYEE_NUMBER` int NOT NULL,`DISTANCE_FROM_HOME` int DEFAULT NULL,`REMOTE_WORK` tinyint(1) DEFAULT NULL,`MONTHLY_INCOME` int DEFAULT NULL,`HOURLY_RATE` int DEFAULT NULL,`OVER_TIME` tinyint(1) DEFAULT NULL,`ENVIRONMENT_SATISFACTION` int DEFAULT NULL,PRIMARY KEY (`ID_REGISTRO`),KEY `EMPLOYEE_NUMBER` (`EMPLOYEE_NUMBER`),CONSTRAINT `registro_ibfk_1` FOREIGN KEY (`EMPLOYEE_NUMBER`) REFERENCES `empleado` (`EMPLOYEE_NUMBER`))\"\n",
    "    \n",
    "    try: \n",
    "        mycursor.execute(query)\n",
    "    \n",
    "        print(\"Tabla registro creada\")\n",
    "\n",
    "    except mysql.connector.Error as err:\n",
    "        print(err)\n",
    "        print(\"Error Code:\", err.errno)\n",
    "        print(\"SQLSTATE\", err.sqlstate)\n",
    "        print(\"Message\", err.msg)\n",
    "\n",
    "   \n",
    "    cnx.close()"
   ]
  },
  {
   "cell_type": "code",
   "execution_count": 10,
   "metadata": {},
   "outputs": [
    {
     "name": "stdout",
     "output_type": "stream",
     "text": [
      "Tabla empleado creada\n",
      "Tabla empleado_empresa creada\n",
      "Tabla registro creada\n"
     ]
    }
   ],
   "source": [
    "creacion_tablas(\"root\", \"AlumnaAdalab\", \"raw_data\")"
   ]
  }
 ],
 "metadata": {
  "kernelspec": {
   "display_name": "base",
   "language": "python",
   "name": "python3"
  },
  "language_info": {
   "codemirror_mode": {
    "name": "ipython",
    "version": 3
   },
   "file_extension": ".py",
   "mimetype": "text/x-python",
   "name": "python",
   "nbconvert_exporter": "python",
   "pygments_lexer": "ipython3",
   "version": "3.11.8"
  }
 },
 "nbformat": 4,
 "nbformat_minor": 2
}
